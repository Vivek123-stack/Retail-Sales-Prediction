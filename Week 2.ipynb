{
 "cells": [
  {
   "cell_type": "markdown",
   "metadata": {
    "colab_type": "text",
    "id": "L4ShTMGpTAJE"
   },
   "source": [
    "***Project Owner : Sujay Torvi , Email me at sujay.torvi@gmail.com\n",
    "Copyright © 2019***"
   ]
  },
  {
   "cell_type": "markdown",
   "metadata": {
    "colab_type": "text",
    "id": "g7xEkPjfTAWW"
   },
   "source": [
    "# AI Capstone Project\n",
    "## Domain: Retail\n",
    "## Problem Statement\n",
    "\n",
    "***Demand Forecast is one of the key tasks in Supply Chain and Retail Domain in general. It is key in effective operation and optimization of retail supply chain. Effectively solving this problem requires knowledge about a wide range of tricks in Data Sciences and good understanding of ensemble techniques.***\n",
    "***You are required to predict sales for each Store-Day level for one month. All the features will be provided and actual sales that happened during that month will also be provided for model evaluation.***"
   ]
  },
  {
   "cell_type": "markdown",
   "metadata": {
    "colab_type": "text",
    "id": "ze7R6tozTn8_"
   },
   "source": [
    "## Agenda for Week 2\n",
    "### Other Regression Techniques\n",
    "### 1. When store is closed, sales = 0. Can this insight be used for Data Cleaning? Perform this and retrain the model. Any benefits of this step?\n",
    "### 2. Use Non-Linear Regressors like Random Forest or other Tree-based Regressors.\n",
    "#### a) Train a single model for all stores, where storeId can be a feature.\n",
    "#### b) Train separate models for each store.\n",
    "#### Note: Dimensional Reduction techniques like, PCA and Tree’s Hyperparameter Tuning will be required. Cross-validate to find the best parameters. Infer the performance of both the models. \n",
    "### 3 Compare the performance of Linear Model and Non-Linear Model from the previous observations. Which performs better and why?\n",
    "### 4. Train a Time-series model on the data taking time as the only feature. This will be a store-level training.\n",
    "#### a)    Identify yearly trends and seasonal months"
   ]
  },
  {
   "cell_type": "code",
   "execution_count": 0,
   "metadata": {
    "colab": {},
    "colab_type": "code",
    "id": "tMqt186tS16w"
   },
   "outputs": [],
   "source": [
    "#Import libraries"
   ]
  },
  {
   "cell_type": "code",
   "execution_count": 94,
   "metadata": {
    "colab": {},
    "colab_type": "code",
    "id": "4OiYrepHaiDr"
   },
   "outputs": [],
   "source": [
    "import numpy as np\n",
    "import pandas as pd"
   ]
  },
  {
   "cell_type": "code",
   "execution_count": 0,
   "metadata": {
    "colab": {
     "base_uri": "https://localhost:8080/",
     "height": 71
    },
    "colab_type": "code",
    "id": "-Bw6ql_rUVKI",
    "outputId": "32034d48-0cf2-42b8-94e9-e7034cef9e33"
   },
   "outputs": [
    {
     "name": "stderr",
     "output_type": "stream",
     "text": [
      "/usr/local/lib/python3.6/dist-packages/IPython/core/interactiveshell.py:2718: DtypeWarning: Columns (7) have mixed types. Specify dtype option on import or set low_memory=False.\n",
      "  interactivity=interactivity, compiler=compiler, result=result)\n"
     ]
    }
   ],
   "source": [
    "data = pd.read_csv('train_data.csv')"
   ]
  },
  {
   "cell_type": "code",
   "execution_count": 0,
   "metadata": {
    "colab": {
     "base_uri": "https://localhost:8080/",
     "height": 204
    },
    "colab_type": "code",
    "id": "OUU8UbBUbmHN",
    "outputId": "1314eea9-6ebb-4927-8036-912a996198e3"
   },
   "outputs": [
    {
     "data": {
      "text/html": [
       "<div>\n",
       "<style scoped>\n",
       "    .dataframe tbody tr th:only-of-type {\n",
       "        vertical-align: middle;\n",
       "    }\n",
       "\n",
       "    .dataframe tbody tr th {\n",
       "        vertical-align: top;\n",
       "    }\n",
       "\n",
       "    .dataframe thead th {\n",
       "        text-align: right;\n",
       "    }\n",
       "</style>\n",
       "<table border=\"1\" class=\"dataframe\">\n",
       "  <thead>\n",
       "    <tr style=\"text-align: right;\">\n",
       "      <th></th>\n",
       "      <th>Store</th>\n",
       "      <th>DayOfWeek</th>\n",
       "      <th>Date</th>\n",
       "      <th>Sales</th>\n",
       "      <th>Customers</th>\n",
       "      <th>Open</th>\n",
       "      <th>Promo</th>\n",
       "      <th>StateHoliday</th>\n",
       "      <th>SchoolHoliday</th>\n",
       "    </tr>\n",
       "  </thead>\n",
       "  <tbody>\n",
       "    <tr>\n",
       "      <th>0</th>\n",
       "      <td>1</td>\n",
       "      <td>2</td>\n",
       "      <td>2015-06-30</td>\n",
       "      <td>5735</td>\n",
       "      <td>568</td>\n",
       "      <td>1</td>\n",
       "      <td>1</td>\n",
       "      <td>0</td>\n",
       "      <td>0</td>\n",
       "    </tr>\n",
       "    <tr>\n",
       "      <th>1</th>\n",
       "      <td>2</td>\n",
       "      <td>2</td>\n",
       "      <td>2015-06-30</td>\n",
       "      <td>9863</td>\n",
       "      <td>877</td>\n",
       "      <td>1</td>\n",
       "      <td>1</td>\n",
       "      <td>0</td>\n",
       "      <td>0</td>\n",
       "    </tr>\n",
       "    <tr>\n",
       "      <th>2</th>\n",
       "      <td>3</td>\n",
       "      <td>2</td>\n",
       "      <td>2015-06-30</td>\n",
       "      <td>13261</td>\n",
       "      <td>1072</td>\n",
       "      <td>1</td>\n",
       "      <td>1</td>\n",
       "      <td>0</td>\n",
       "      <td>1</td>\n",
       "    </tr>\n",
       "    <tr>\n",
       "      <th>3</th>\n",
       "      <td>4</td>\n",
       "      <td>2</td>\n",
       "      <td>2015-06-30</td>\n",
       "      <td>13106</td>\n",
       "      <td>1488</td>\n",
       "      <td>1</td>\n",
       "      <td>1</td>\n",
       "      <td>0</td>\n",
       "      <td>0</td>\n",
       "    </tr>\n",
       "    <tr>\n",
       "      <th>4</th>\n",
       "      <td>5</td>\n",
       "      <td>2</td>\n",
       "      <td>2015-06-30</td>\n",
       "      <td>6635</td>\n",
       "      <td>645</td>\n",
       "      <td>1</td>\n",
       "      <td>1</td>\n",
       "      <td>0</td>\n",
       "      <td>0</td>\n",
       "    </tr>\n",
       "  </tbody>\n",
       "</table>\n",
       "</div>"
      ],
      "text/plain": [
       "   Store  DayOfWeek        Date  Sales  ...  Open  Promo  StateHoliday SchoolHoliday\n",
       "0      1          2  2015-06-30   5735  ...     1      1             0             0\n",
       "1      2          2  2015-06-30   9863  ...     1      1             0             0\n",
       "2      3          2  2015-06-30  13261  ...     1      1             0             1\n",
       "3      4          2  2015-06-30  13106  ...     1      1             0             0\n",
       "4      5          2  2015-06-30   6635  ...     1      1             0             0\n",
       "\n",
       "[5 rows x 9 columns]"
      ]
     },
     "execution_count": 81,
     "metadata": {
      "tags": []
     },
     "output_type": "execute_result"
    }
   ],
   "source": [
    "#loading data\n",
    "data.head()"
   ]
  },
  {
   "cell_type": "markdown",
   "metadata": {
    "colab_type": "text",
    "id": "mlWIWbP1chFs"
   },
   "source": [
    "### 1. When store is closed, sales = 0. Can this insight be used for Data Cleaning? Perform this and retrain the model. Any benefits of this step?"
   ]
  },
  {
   "cell_type": "code",
   "execution_count": 0,
   "metadata": {
    "colab": {},
    "colab_type": "code",
    "id": "l4jyh8bHccK1"
   },
   "outputs": [],
   "source": [
    "junkdata = data[data.Open == 0]"
   ]
  },
  {
   "cell_type": "code",
   "execution_count": 0,
   "metadata": {
    "colab": {
     "base_uri": "https://localhost:8080/",
     "height": 359
    },
    "colab_type": "code",
    "id": "ENbu49EjceMX",
    "outputId": "fb1974ce-5a6f-4b22-b623-b42e4d79cefa"
   },
   "outputs": [
    {
     "data": {
      "text/html": [
       "<div>\n",
       "<style scoped>\n",
       "    .dataframe tbody tr th:only-of-type {\n",
       "        vertical-align: middle;\n",
       "    }\n",
       "\n",
       "    .dataframe tbody tr th {\n",
       "        vertical-align: top;\n",
       "    }\n",
       "\n",
       "    .dataframe thead th {\n",
       "        text-align: right;\n",
       "    }\n",
       "</style>\n",
       "<table border=\"1\" class=\"dataframe\">\n",
       "  <thead>\n",
       "    <tr style=\"text-align: right;\">\n",
       "      <th></th>\n",
       "      <th>Store</th>\n",
       "      <th>DayOfWeek</th>\n",
       "      <th>Date</th>\n",
       "      <th>Sales</th>\n",
       "      <th>Customers</th>\n",
       "      <th>Open</th>\n",
       "      <th>Promo</th>\n",
       "      <th>StateHoliday</th>\n",
       "      <th>SchoolHoliday</th>\n",
       "    </tr>\n",
       "  </thead>\n",
       "  <tbody>\n",
       "    <tr>\n",
       "      <th>2230</th>\n",
       "      <td>1</td>\n",
       "      <td>7</td>\n",
       "      <td>2015-06-28</td>\n",
       "      <td>0</td>\n",
       "      <td>0</td>\n",
       "      <td>0</td>\n",
       "      <td>0</td>\n",
       "      <td>0</td>\n",
       "      <td>0</td>\n",
       "    </tr>\n",
       "    <tr>\n",
       "      <th>2231</th>\n",
       "      <td>2</td>\n",
       "      <td>7</td>\n",
       "      <td>2015-06-28</td>\n",
       "      <td>0</td>\n",
       "      <td>0</td>\n",
       "      <td>0</td>\n",
       "      <td>0</td>\n",
       "      <td>0</td>\n",
       "      <td>0</td>\n",
       "    </tr>\n",
       "    <tr>\n",
       "      <th>2232</th>\n",
       "      <td>3</td>\n",
       "      <td>7</td>\n",
       "      <td>2015-06-28</td>\n",
       "      <td>0</td>\n",
       "      <td>0</td>\n",
       "      <td>0</td>\n",
       "      <td>0</td>\n",
       "      <td>0</td>\n",
       "      <td>0</td>\n",
       "    </tr>\n",
       "    <tr>\n",
       "      <th>2233</th>\n",
       "      <td>4</td>\n",
       "      <td>7</td>\n",
       "      <td>2015-06-28</td>\n",
       "      <td>0</td>\n",
       "      <td>0</td>\n",
       "      <td>0</td>\n",
       "      <td>0</td>\n",
       "      <td>0</td>\n",
       "      <td>0</td>\n",
       "    </tr>\n",
       "    <tr>\n",
       "      <th>2234</th>\n",
       "      <td>5</td>\n",
       "      <td>7</td>\n",
       "      <td>2015-06-28</td>\n",
       "      <td>0</td>\n",
       "      <td>0</td>\n",
       "      <td>0</td>\n",
       "      <td>0</td>\n",
       "      <td>0</td>\n",
       "      <td>0</td>\n",
       "    </tr>\n",
       "    <tr>\n",
       "      <th>2235</th>\n",
       "      <td>6</td>\n",
       "      <td>7</td>\n",
       "      <td>2015-06-28</td>\n",
       "      <td>0</td>\n",
       "      <td>0</td>\n",
       "      <td>0</td>\n",
       "      <td>0</td>\n",
       "      <td>0</td>\n",
       "      <td>0</td>\n",
       "    </tr>\n",
       "    <tr>\n",
       "      <th>2236</th>\n",
       "      <td>7</td>\n",
       "      <td>7</td>\n",
       "      <td>2015-06-28</td>\n",
       "      <td>0</td>\n",
       "      <td>0</td>\n",
       "      <td>0</td>\n",
       "      <td>0</td>\n",
       "      <td>0</td>\n",
       "      <td>0</td>\n",
       "    </tr>\n",
       "    <tr>\n",
       "      <th>2237</th>\n",
       "      <td>8</td>\n",
       "      <td>7</td>\n",
       "      <td>2015-06-28</td>\n",
       "      <td>0</td>\n",
       "      <td>0</td>\n",
       "      <td>0</td>\n",
       "      <td>0</td>\n",
       "      <td>0</td>\n",
       "      <td>0</td>\n",
       "    </tr>\n",
       "    <tr>\n",
       "      <th>2238</th>\n",
       "      <td>9</td>\n",
       "      <td>7</td>\n",
       "      <td>2015-06-28</td>\n",
       "      <td>0</td>\n",
       "      <td>0</td>\n",
       "      <td>0</td>\n",
       "      <td>0</td>\n",
       "      <td>0</td>\n",
       "      <td>0</td>\n",
       "    </tr>\n",
       "    <tr>\n",
       "      <th>2239</th>\n",
       "      <td>10</td>\n",
       "      <td>7</td>\n",
       "      <td>2015-06-28</td>\n",
       "      <td>0</td>\n",
       "      <td>0</td>\n",
       "      <td>0</td>\n",
       "      <td>0</td>\n",
       "      <td>0</td>\n",
       "      <td>0</td>\n",
       "    </tr>\n",
       "  </tbody>\n",
       "</table>\n",
       "</div>"
      ],
      "text/plain": [
       "      Store  DayOfWeek        Date  ...  Promo  StateHoliday  SchoolHoliday\n",
       "2230      1          7  2015-06-28  ...      0             0              0\n",
       "2231      2          7  2015-06-28  ...      0             0              0\n",
       "2232      3          7  2015-06-28  ...      0             0              0\n",
       "2233      4          7  2015-06-28  ...      0             0              0\n",
       "2234      5          7  2015-06-28  ...      0             0              0\n",
       "2235      6          7  2015-06-28  ...      0             0              0\n",
       "2236      7          7  2015-06-28  ...      0             0              0\n",
       "2237      8          7  2015-06-28  ...      0             0              0\n",
       "2238      9          7  2015-06-28  ...      0             0              0\n",
       "2239     10          7  2015-06-28  ...      0             0              0\n",
       "\n",
       "[10 rows x 9 columns]"
      ]
     },
     "execution_count": 83,
     "metadata": {
      "tags": []
     },
     "output_type": "execute_result"
    }
   ],
   "source": [
    "junkdata.head(10)"
   ]
  },
  {
   "cell_type": "markdown",
   "metadata": {
    "colab_type": "text",
    "id": "XAa2CnMxdEov"
   },
   "source": [
    "### Upon further examininng the dataset we find that the Sales are zero whenever the store is closed. This data is really of no use to the model and such rows of data need to be eliminated from our data."
   ]
  },
  {
   "cell_type": "code",
   "execution_count": 0,
   "metadata": {
    "colab": {},
    "colab_type": "code",
    "id": "pTH4OWLHceRY"
   },
   "outputs": [],
   "source": [
    "train = data[data.Open == 1]"
   ]
  },
  {
   "cell_type": "code",
   "execution_count": 0,
   "metadata": {
    "colab": {
     "base_uri": "https://localhost:8080/",
     "height": 34
    },
    "colab_type": "code",
    "id": "r93wKIyxceVx",
    "outputId": "58bb94bb-cf8a-46f8-d077-13a0febe1fc6"
   },
   "outputs": [
    {
     "name": "stdout",
     "output_type": "stream",
     "text": [
      "168440 records have been eliminated\n"
     ]
    }
   ],
   "source": [
    "print('{} records have been eliminated'.format(len(data)-len(train)))"
   ]
  },
  {
   "cell_type": "code",
   "execution_count": 0,
   "metadata": {
    "colab": {},
    "colab_type": "code",
    "id": "7UUMvyyscebV"
   },
   "outputs": [],
   "source": [
    "from sklearn.linear_model import Ridge\n",
    "from sklearn.pipeline import Pipeline\n",
    "from sklearn.preprocessing import StandardScaler\n",
    "from sklearn.preprocessing import PolynomialFeatures"
   ]
  },
  {
   "cell_type": "code",
   "execution_count": 0,
   "metadata": {
    "colab": {},
    "colab_type": "code",
    "id": "mDkOhpQccc18"
   },
   "outputs": [],
   "source": [
    "test = pd.read_csv('test_data_hidden.csv')\n",
    "test = test[test.Open == 1]"
   ]
  },
  {
   "cell_type": "code",
   "execution_count": 0,
   "metadata": {
    "colab": {
     "base_uri": "https://localhost:8080/",
     "height": 71
    },
    "colab_type": "code",
    "id": "cbCWPXDIgmh-",
    "outputId": "327d2be3-870c-4063-def5-a56ee4d20579"
   },
   "outputs": [
    {
     "name": "stderr",
     "output_type": "stream",
     "text": [
      "/usr/local/lib/python3.6/dist-packages/IPython/core/interactiveshell.py:2718: DtypeWarning: Columns (7) have mixed types. Specify dtype option on import or set low_memory=False.\n",
      "  interactivity=interactivity, compiler=compiler, result=result)\n"
     ]
    }
   ],
   "source": [
    "#map a - 1, b- 2 & c - 3 in the state holiday\n",
    "def cleanHoliday(x):\n",
    "  if(x == 0):\n",
    "    x = '0'\n",
    "  elif(x == 'a'):\n",
    "    x = 1\n",
    "  elif(x == 'b'):\n",
    "    x = 2\n",
    "  elif(x == 'c'):\n",
    "    x = 3\n",
    "  return x\n",
    "train = pd.read_csv('train_data.csv')\n",
    "test = pd.read_csv('test_data_hidden.csv')\n",
    "train.StateHoliday = train.StateHoliday.map(cleanHoliday)\n",
    "test.StateHoliday = test.StateHoliday.map(cleanHoliday)"
   ]
  },
  {
   "cell_type": "code",
   "execution_count": 0,
   "metadata": {
    "colab": {},
    "colab_type": "code",
    "id": "3F1Jyu3ycc5s"
   },
   "outputs": [],
   "source": [
    "X_train = np.asarray(train[['Customers','Promo','StateHoliday','Open','DayOfWeek']])\n",
    "X_test = np.asarray(test[['Customers','Promo','StateHoliday','Open','DayOfWeek']])\n",
    "y_train = np.asarray(train['Sales'])\n",
    "y_test = np.asarray(test['Sales'])\n",
    "y_train = y_train.reshape(-1,1)\n",
    "y_test = y_test.reshape(-1,1)"
   ]
  },
  {
   "cell_type": "code",
   "execution_count": 0,
   "metadata": {
    "colab": {},
    "colab_type": "code",
    "id": "DSL6UPjacdCy"
   },
   "outputs": [],
   "source": [
    "from sklearn.ensemble import RandomForestRegressor"
   ]
  },
  {
   "cell_type": "code",
   "execution_count": 0,
   "metadata": {
    "colab": {},
    "colab_type": "code",
    "id": "4LnyL6JFcdJz"
   },
   "outputs": [],
   "source": [
    "rfg = RandomForestRegressor(n_estimators = 24)"
   ]
  },
  {
   "cell_type": "code",
   "execution_count": 0,
   "metadata": {
    "colab": {
     "base_uri": "https://localhost:8080/",
     "height": 190
    },
    "colab_type": "code",
    "id": "cdo8MlB5cdOP",
    "outputId": "cbbc35b2-bf13-45fe-dff9-32bedbf9b250"
   },
   "outputs": [
    {
     "name": "stderr",
     "output_type": "stream",
     "text": [
      "/usr/local/lib/python3.6/dist-packages/ipykernel_launcher.py:1: DataConversionWarning: A column-vector y was passed when a 1d array was expected. Please change the shape of y to (n_samples,), for example using ravel().\n",
      "  \"\"\"Entry point for launching an IPython kernel.\n"
     ]
    },
    {
     "data": {
      "text/plain": [
       "RandomForestRegressor(bootstrap=True, criterion='mse', max_depth=None,\n",
       "                      max_features='auto', max_leaf_nodes=None,\n",
       "                      min_impurity_decrease=0.0, min_impurity_split=None,\n",
       "                      min_samples_leaf=1, min_samples_split=2,\n",
       "                      min_weight_fraction_leaf=0.0, n_estimators=24,\n",
       "                      n_jobs=None, oob_score=False, random_state=None,\n",
       "                      verbose=0, warm_start=False)"
      ]
     },
     "execution_count": 92,
     "metadata": {
      "tags": []
     },
     "output_type": "execute_result"
    }
   ],
   "source": [
    "rfg.fit(X_train,y_train)"
   ]
  },
  {
   "cell_type": "code",
   "execution_count": 0,
   "metadata": {
    "colab": {},
    "colab_type": "code",
    "id": "jo2sk0I3bnoJ"
   },
   "outputs": [],
   "source": [
    "y_pred_1 = rfg.predict(X_test)"
   ]
  },
  {
   "cell_type": "code",
   "execution_count": 0,
   "metadata": {
    "colab": {},
    "colab_type": "code",
    "id": "ZMLcf2Jme0_g"
   },
   "outputs": [],
   "source": [
    "from sklearn.metrics import mean_squared_error\n",
    "from math import sqrt\n",
    "from sklearn.metrics import mean_absolute_error\n",
    "from sklearn.linear_model import LinearRegression"
   ]
  },
  {
   "cell_type": "code",
   "execution_count": 0,
   "metadata": {
    "colab": {},
    "colab_type": "code",
    "id": "StFTd0wCe--B"
   },
   "outputs": [],
   "source": [
    "rms = sqrt(mean_squared_error(y_test, y_pred_1))\n",
    "mae = mean_absolute_error(y_test,y_pred_1)"
   ]
  },
  {
   "cell_type": "code",
   "execution_count": 0,
   "metadata": {
    "colab": {
     "base_uri": "https://localhost:8080/",
     "height": 51
    },
    "colab_type": "code",
    "id": "aP7N8TtRe32z",
    "outputId": "3979b8cb-0278-4b38-b086-f8e434df03a6"
   },
   "outputs": [
    {
     "name": "stdout",
     "output_type": "stream",
     "text": [
      "Random Forest\n",
      "RMSE is 1465.6706930311402 and MAE is 976.4109331734109\n"
     ]
    }
   ],
   "source": [
    "print('Random Forest\\nRMSE is {} and MAE is {}'.format(rms,mae))"
   ]
  },
  {
   "cell_type": "code",
   "execution_count": 0,
   "metadata": {
    "colab": {
     "base_uri": "https://localhost:8080/",
     "height": 204
    },
    "colab_type": "code",
    "id": "GeldhQjBe5eR",
    "outputId": "c30daf9e-75b2-482e-fb47-62a7c2ef31a0"
   },
   "outputs": [
    {
     "data": {
      "text/html": [
       "<div>\n",
       "<style scoped>\n",
       "    .dataframe tbody tr th:only-of-type {\n",
       "        vertical-align: middle;\n",
       "    }\n",
       "\n",
       "    .dataframe tbody tr th {\n",
       "        vertical-align: top;\n",
       "    }\n",
       "\n",
       "    .dataframe thead th {\n",
       "        text-align: right;\n",
       "    }\n",
       "</style>\n",
       "<table border=\"1\" class=\"dataframe\">\n",
       "  <thead>\n",
       "    <tr style=\"text-align: right;\">\n",
       "      <th></th>\n",
       "      <th>1</th>\n",
       "      <th>2</th>\n",
       "      <th>3</th>\n",
       "      <th>4</th>\n",
       "      <th>5</th>\n",
       "      <th>6</th>\n",
       "      <th>7</th>\n",
       "    </tr>\n",
       "  </thead>\n",
       "  <tbody>\n",
       "    <tr>\n",
       "      <th>0</th>\n",
       "      <td>0</td>\n",
       "      <td>1</td>\n",
       "      <td>0</td>\n",
       "      <td>0</td>\n",
       "      <td>0</td>\n",
       "      <td>0</td>\n",
       "      <td>0</td>\n",
       "    </tr>\n",
       "    <tr>\n",
       "      <th>1</th>\n",
       "      <td>0</td>\n",
       "      <td>1</td>\n",
       "      <td>0</td>\n",
       "      <td>0</td>\n",
       "      <td>0</td>\n",
       "      <td>0</td>\n",
       "      <td>0</td>\n",
       "    </tr>\n",
       "    <tr>\n",
       "      <th>2</th>\n",
       "      <td>0</td>\n",
       "      <td>1</td>\n",
       "      <td>0</td>\n",
       "      <td>0</td>\n",
       "      <td>0</td>\n",
       "      <td>0</td>\n",
       "      <td>0</td>\n",
       "    </tr>\n",
       "    <tr>\n",
       "      <th>3</th>\n",
       "      <td>0</td>\n",
       "      <td>1</td>\n",
       "      <td>0</td>\n",
       "      <td>0</td>\n",
       "      <td>0</td>\n",
       "      <td>0</td>\n",
       "      <td>0</td>\n",
       "    </tr>\n",
       "    <tr>\n",
       "      <th>4</th>\n",
       "      <td>0</td>\n",
       "      <td>1</td>\n",
       "      <td>0</td>\n",
       "      <td>0</td>\n",
       "      <td>0</td>\n",
       "      <td>0</td>\n",
       "      <td>0</td>\n",
       "    </tr>\n",
       "  </tbody>\n",
       "</table>\n",
       "</div>"
      ],
      "text/plain": [
       "   1  2  3  4  5  6  7\n",
       "0  0  1  0  0  0  0  0\n",
       "1  0  1  0  0  0  0  0\n",
       "2  0  1  0  0  0  0  0\n",
       "3  0  1  0  0  0  0  0\n",
       "4  0  1  0  0  0  0  0"
      ]
     },
     "execution_count": 97,
     "metadata": {
      "tags": []
     },
     "output_type": "execute_result"
    }
   ],
   "source": [
    "#onehot encode for DayOfWeek Attribute\n",
    "dummy_1 = pd.get_dummies(train.DayOfWeek)\n",
    "dummy_1.head()\n",
    "#onehot encoded matrix"
   ]
  },
  {
   "cell_type": "code",
   "execution_count": 0,
   "metadata": {
    "colab": {},
    "colab_type": "code",
    "id": "o8NcDR_hfrh2"
   },
   "outputs": [],
   "source": [
    "train = train.join(dummy_1)"
   ]
  },
  {
   "cell_type": "code",
   "execution_count": 0,
   "metadata": {
    "colab": {
     "base_uri": "https://localhost:8080/",
     "height": 204
    },
    "colab_type": "code",
    "id": "D2NwjFRch0_6",
    "outputId": "0da73f00-0488-477b-8aea-e800067e92a1"
   },
   "outputs": [
    {
     "data": {
      "text/html": [
       "<div>\n",
       "<style scoped>\n",
       "    .dataframe tbody tr th:only-of-type {\n",
       "        vertical-align: middle;\n",
       "    }\n",
       "\n",
       "    .dataframe tbody tr th {\n",
       "        vertical-align: top;\n",
       "    }\n",
       "\n",
       "    .dataframe thead th {\n",
       "        text-align: right;\n",
       "    }\n",
       "</style>\n",
       "<table border=\"1\" class=\"dataframe\">\n",
       "  <thead>\n",
       "    <tr style=\"text-align: right;\">\n",
       "      <th></th>\n",
       "      <th>1</th>\n",
       "      <th>2</th>\n",
       "      <th>3</th>\n",
       "      <th>4</th>\n",
       "      <th>5</th>\n",
       "      <th>6</th>\n",
       "      <th>7</th>\n",
       "    </tr>\n",
       "  </thead>\n",
       "  <tbody>\n",
       "    <tr>\n",
       "      <th>0</th>\n",
       "      <td>0</td>\n",
       "      <td>0</td>\n",
       "      <td>0</td>\n",
       "      <td>0</td>\n",
       "      <td>1</td>\n",
       "      <td>0</td>\n",
       "      <td>0</td>\n",
       "    </tr>\n",
       "    <tr>\n",
       "      <th>1</th>\n",
       "      <td>0</td>\n",
       "      <td>0</td>\n",
       "      <td>0</td>\n",
       "      <td>0</td>\n",
       "      <td>1</td>\n",
       "      <td>0</td>\n",
       "      <td>0</td>\n",
       "    </tr>\n",
       "    <tr>\n",
       "      <th>2</th>\n",
       "      <td>0</td>\n",
       "      <td>0</td>\n",
       "      <td>0</td>\n",
       "      <td>0</td>\n",
       "      <td>1</td>\n",
       "      <td>0</td>\n",
       "      <td>0</td>\n",
       "    </tr>\n",
       "    <tr>\n",
       "      <th>3</th>\n",
       "      <td>0</td>\n",
       "      <td>0</td>\n",
       "      <td>0</td>\n",
       "      <td>0</td>\n",
       "      <td>1</td>\n",
       "      <td>0</td>\n",
       "      <td>0</td>\n",
       "    </tr>\n",
       "    <tr>\n",
       "      <th>4</th>\n",
       "      <td>0</td>\n",
       "      <td>0</td>\n",
       "      <td>0</td>\n",
       "      <td>0</td>\n",
       "      <td>1</td>\n",
       "      <td>0</td>\n",
       "      <td>0</td>\n",
       "    </tr>\n",
       "  </tbody>\n",
       "</table>\n",
       "</div>"
      ],
      "text/plain": [
       "   1  2  3  4  5  6  7\n",
       "0  0  0  0  0  1  0  0\n",
       "1  0  0  0  0  1  0  0\n",
       "2  0  0  0  0  1  0  0\n",
       "3  0  0  0  0  1  0  0\n",
       "4  0  0  0  0  1  0  0"
      ]
     },
     "execution_count": 99,
     "metadata": {
      "tags": []
     },
     "output_type": "execute_result"
    }
   ],
   "source": [
    "#onehot encode for DayOfWeek Attribute\n",
    "dummy_2 = pd.get_dummies(test.DayOfWeek)\n",
    "dummy_2.head()\n",
    "#onehot encoded matrix"
   ]
  },
  {
   "cell_type": "code",
   "execution_count": 0,
   "metadata": {
    "colab": {},
    "colab_type": "code",
    "id": "bIq-bV0Ah1I9"
   },
   "outputs": [],
   "source": [
    "test = test.join(dummy_2)"
   ]
  },
  {
   "cell_type": "code",
   "execution_count": 0,
   "metadata": {
    "colab": {
     "base_uri": "https://localhost:8080/",
     "height": 111
    },
    "colab_type": "code",
    "id": "skoGa-2PiNH_",
    "outputId": "0877f55d-cff0-4b6d-dfe3-ec4125b62687"
   },
   "outputs": [
    {
     "data": {
      "text/html": [
       "<div>\n",
       "<style scoped>\n",
       "    .dataframe tbody tr th:only-of-type {\n",
       "        vertical-align: middle;\n",
       "    }\n",
       "\n",
       "    .dataframe tbody tr th {\n",
       "        vertical-align: top;\n",
       "    }\n",
       "\n",
       "    .dataframe thead th {\n",
       "        text-align: right;\n",
       "    }\n",
       "</style>\n",
       "<table border=\"1\" class=\"dataframe\">\n",
       "  <thead>\n",
       "    <tr style=\"text-align: right;\">\n",
       "      <th></th>\n",
       "      <th>Store</th>\n",
       "      <th>DayOfWeek</th>\n",
       "      <th>Date</th>\n",
       "      <th>Sales</th>\n",
       "      <th>Customers</th>\n",
       "      <th>Open</th>\n",
       "      <th>Promo</th>\n",
       "      <th>StateHoliday</th>\n",
       "      <th>SchoolHoliday</th>\n",
       "      <th>1</th>\n",
       "      <th>2</th>\n",
       "      <th>3</th>\n",
       "      <th>4</th>\n",
       "      <th>5</th>\n",
       "      <th>6</th>\n",
       "      <th>7</th>\n",
       "    </tr>\n",
       "  </thead>\n",
       "  <tbody>\n",
       "    <tr>\n",
       "      <th>0</th>\n",
       "      <td>1</td>\n",
       "      <td>2</td>\n",
       "      <td>2015-06-30</td>\n",
       "      <td>5735</td>\n",
       "      <td>568</td>\n",
       "      <td>1</td>\n",
       "      <td>1</td>\n",
       "      <td>0</td>\n",
       "      <td>0</td>\n",
       "      <td>0</td>\n",
       "      <td>1</td>\n",
       "      <td>0</td>\n",
       "      <td>0</td>\n",
       "      <td>0</td>\n",
       "      <td>0</td>\n",
       "      <td>0</td>\n",
       "    </tr>\n",
       "    <tr>\n",
       "      <th>1</th>\n",
       "      <td>2</td>\n",
       "      <td>2</td>\n",
       "      <td>2015-06-30</td>\n",
       "      <td>9863</td>\n",
       "      <td>877</td>\n",
       "      <td>1</td>\n",
       "      <td>1</td>\n",
       "      <td>0</td>\n",
       "      <td>0</td>\n",
       "      <td>0</td>\n",
       "      <td>1</td>\n",
       "      <td>0</td>\n",
       "      <td>0</td>\n",
       "      <td>0</td>\n",
       "      <td>0</td>\n",
       "      <td>0</td>\n",
       "    </tr>\n",
       "  </tbody>\n",
       "</table>\n",
       "</div>"
      ],
      "text/plain": [
       "   Store  DayOfWeek        Date  Sales  Customers  Open  ...  2  3  4  5  6  7\n",
       "0      1          2  2015-06-30   5735        568     1  ...  1  0  0  0  0  0\n",
       "1      2          2  2015-06-30   9863        877     1  ...  1  0  0  0  0  0\n",
       "\n",
       "[2 rows x 16 columns]"
      ]
     },
     "execution_count": 101,
     "metadata": {
      "tags": []
     },
     "output_type": "execute_result"
    }
   ],
   "source": [
    "train.head(2)"
   ]
  },
  {
   "cell_type": "code",
   "execution_count": 0,
   "metadata": {
    "colab": {
     "base_uri": "https://localhost:8080/",
     "height": 111
    },
    "colab_type": "code",
    "id": "0L2q-gByiPap",
    "outputId": "62b70ffc-a4d8-46cc-8541-b50a6df00457"
   },
   "outputs": [
    {
     "data": {
      "text/html": [
       "<div>\n",
       "<style scoped>\n",
       "    .dataframe tbody tr th:only-of-type {\n",
       "        vertical-align: middle;\n",
       "    }\n",
       "\n",
       "    .dataframe tbody tr th {\n",
       "        vertical-align: top;\n",
       "    }\n",
       "\n",
       "    .dataframe thead th {\n",
       "        text-align: right;\n",
       "    }\n",
       "</style>\n",
       "<table border=\"1\" class=\"dataframe\">\n",
       "  <thead>\n",
       "    <tr style=\"text-align: right;\">\n",
       "      <th></th>\n",
       "      <th>Store</th>\n",
       "      <th>DayOfWeek</th>\n",
       "      <th>Date</th>\n",
       "      <th>Sales</th>\n",
       "      <th>Customers</th>\n",
       "      <th>Open</th>\n",
       "      <th>Promo</th>\n",
       "      <th>StateHoliday</th>\n",
       "      <th>SchoolHoliday</th>\n",
       "      <th>1</th>\n",
       "      <th>2</th>\n",
       "      <th>3</th>\n",
       "      <th>4</th>\n",
       "      <th>5</th>\n",
       "      <th>6</th>\n",
       "      <th>7</th>\n",
       "    </tr>\n",
       "  </thead>\n",
       "  <tbody>\n",
       "    <tr>\n",
       "      <th>0</th>\n",
       "      <td>1</td>\n",
       "      <td>5</td>\n",
       "      <td>2015-07-31</td>\n",
       "      <td>5263</td>\n",
       "      <td>555</td>\n",
       "      <td>1</td>\n",
       "      <td>1</td>\n",
       "      <td>0</td>\n",
       "      <td>1</td>\n",
       "      <td>0</td>\n",
       "      <td>0</td>\n",
       "      <td>0</td>\n",
       "      <td>0</td>\n",
       "      <td>1</td>\n",
       "      <td>0</td>\n",
       "      <td>0</td>\n",
       "    </tr>\n",
       "    <tr>\n",
       "      <th>1</th>\n",
       "      <td>2</td>\n",
       "      <td>5</td>\n",
       "      <td>2015-07-31</td>\n",
       "      <td>6064</td>\n",
       "      <td>625</td>\n",
       "      <td>1</td>\n",
       "      <td>1</td>\n",
       "      <td>0</td>\n",
       "      <td>1</td>\n",
       "      <td>0</td>\n",
       "      <td>0</td>\n",
       "      <td>0</td>\n",
       "      <td>0</td>\n",
       "      <td>1</td>\n",
       "      <td>0</td>\n",
       "      <td>0</td>\n",
       "    </tr>\n",
       "  </tbody>\n",
       "</table>\n",
       "</div>"
      ],
      "text/plain": [
       "   Store  DayOfWeek        Date  Sales  Customers  Open  ...  2  3  4  5  6  7\n",
       "0      1          5  2015-07-31   5263        555     1  ...  0  0  0  1  0  0\n",
       "1      2          5  2015-07-31   6064        625     1  ...  0  0  0  1  0  0\n",
       "\n",
       "[2 rows x 16 columns]"
      ]
     },
     "execution_count": 102,
     "metadata": {
      "tags": []
     },
     "output_type": "execute_result"
    }
   ],
   "source": [
    "test.head(2)"
   ]
  },
  {
   "cell_type": "code",
   "execution_count": 0,
   "metadata": {
    "colab": {},
    "colab_type": "code",
    "id": "K4lXcTVAiv3u"
   },
   "outputs": [],
   "source": [
    "train.columns = ['Store','DayOfWeek','Date','Sales','Customers','Open','Promo','StateHoliday','SchoolHoliday','1','2','3','4','5','6','7']\n",
    "test.columns = ['Store','DayOfWeek','Date','Sales','Customers','Open','Promo','StateHoliday','SchoolHoliday','1','2','3','4','5','6','7']"
   ]
  },
  {
   "cell_type": "code",
   "execution_count": 0,
   "metadata": {
    "colab": {},
    "colab_type": "code",
    "id": "bAM-dlwSiQVB"
   },
   "outputs": [],
   "source": [
    "X_train = np.asarray(train[['Customers','Promo','Open','1','2','3','4','5','6','7']])\n",
    "X_test = np.asarray(test[['Customers','Promo','Open','1','2','3','4','5','6','7']])\n",
    "y_train = np.asarray(train['Sales'])\n",
    "y_test = np.asarray(test['Sales'])\n",
    "y_train = y_train.reshape(-1,1)\n",
    "y_test = y_test.reshape(-1,1)"
   ]
  },
  {
   "cell_type": "code",
   "execution_count": 0,
   "metadata": {
    "colab": {
     "base_uri": "https://localhost:8080/",
     "height": 51
    },
    "colab_type": "code",
    "id": "ALsEfqzxioTA",
    "outputId": "614d4579-66eb-4d47-e563-c12e8c81cd40"
   },
   "outputs": [
    {
     "name": "stdout",
     "output_type": "stream",
     "text": [
      "Linear Regression Model 1\n",
      "RMSE is 1522.5963291146713 and MAE is 1015.2718965521611\n"
     ]
    }
   ],
   "source": [
    "linereg1 = LinearRegression()\n",
    "linereg1.fit(X_train,y_train)\n",
    "y_pred_2 = linereg1.predict(X_test)\n",
    "rms = sqrt(mean_squared_error(y_test, y_pred_2))\n",
    "mae = mean_absolute_error(y_test,y_pred_2)\n",
    "print('Linear Regression Model 1\\nRMSE is {} and MAE is {}'.format(rms,mae))"
   ]
  },
  {
   "cell_type": "markdown",
   "metadata": {
    "colab_type": "text",
    "id": "ZsiI40YkkB31"
   },
   "source": [
    "**Lets Draw A Comparision**\n",
    "\n",
    "***Week 1 Results:***\n",
    "\n",
    "| Model | RMSE| MAE|\n",
    "| --- | --- | --- |\n",
    "| Linear Regression(OneHot Encoding)| 1522.596 | 1015.27 |\n",
    "| Random Forest Regression | 1471.019 | 978.179 |\n",
    "\n",
    "***Week 2 Results(After eliminating useless records):***\n",
    "\n",
    "| Model | RMSE| MAE|\n",
    "| --- | --- | --- |\n",
    "| Linear Regression(OneHot Encoding)| 1522.596 | 1015.27 |\n",
    "| Random Forest Regression | 1467.35 | 977.14|\n",
    "\n",
    "### The results remain almost the same , random forest is slightly better than week 1. The change is not noticeable. \n",
    "\n",
    "|      |   Store |   DayOfWeek | Date       |   Sales |   Customers |   Open |   Promo |   StateHoliday |   SchoolHoliday |\n",
    "|-----:|--------:|------------:|:-----------|--------:|------------:|-------:|--------:|---------------:|----------------:|\n",
    "| 2230 |       1 |           7 | 2015-06-28 |       0 |           0 |      0 |       0 |              0 |               0 |\n",
    "| 2231 |       2 |           7 | 2015-06-28 |       0 |           0 |      0 |       0 |              0 |               0 |\n",
    "| 2232 |       3 |           7 | 2015-06-28 |       0 |           0 |      0 |       0 |              0 |               0 |\n",
    "| 2233 |       4 |           7 | 2015-06-28 |       0 |           0 |      0 |       0 |              0 |               0 |\n",
    "| 2234 |       5 |           7 | 2015-06-28 |       0 |           0 |      0 |       0 |              0 |               0 |\n",
    "\n",
    "### As we can see almost every feature(except DayOfWeek, not considering storeid and date) is 0 in this case when the store is closed. This may explain the reason as to why the models did not improve much. Since the data is 0 in most of the features they did not affect the model very much and in the case of linear regression the equation did not change. \n",
    "\n",
    "### From a data analysis perspective this data is bad as it does not provide any significant information and consumes lot of memory."
   ]
  },
  {
   "cell_type": "markdown",
   "metadata": {
    "colab_type": "text",
    "id": "o39v9QQiqVIn"
   },
   "source": [
    "### 2. Use Non-Linear Regressors like Random Forest or other Tree-based Regressors.\n",
    "#### a) Train a single model for all stores, where storeId can be a feature.\n",
    "#### b) Train separate models for each store."
   ]
  },
  {
   "cell_type": "code",
   "execution_count": 0,
   "metadata": {
    "colab": {},
    "colab_type": "code",
    "id": "W0ZR0zbejXXl"
   },
   "outputs": [],
   "source": [
    "from sklearn.model_selection import KFold"
   ]
  },
  {
   "cell_type": "code",
   "execution_count": 0,
   "metadata": {
    "colab": {},
    "colab_type": "code",
    "id": "zl3aE6_lx8X1"
   },
   "outputs": [],
   "source": [
    "from sklearn.model_selection import cross_val_score, cross_val_predict"
   ]
  },
  {
   "cell_type": "code",
   "execution_count": 0,
   "metadata": {
    "colab": {},
    "colab_type": "code",
    "id": "77bIkSeJmP76"
   },
   "outputs": [],
   "source": [
    "# a. using storeid feature\n",
    "X_train = np.asarray(train['Store'])\n",
    "X_test = np.asarray(test['Store'])\n",
    "y_train = np.asarray(train['Sales'])\n",
    "y_test = np.asarray(test['Sales'])\n",
    "y_train = y_train.reshape(-1,1)\n",
    "y_test = y_test.reshape(-1,1)"
   ]
  },
  {
   "cell_type": "code",
   "execution_count": 0,
   "metadata": {
    "colab": {},
    "colab_type": "code",
    "id": "4RiiK7krs1bJ"
   },
   "outputs": [],
   "source": [
    "X_train = X_train.reshape(-1,1)\n",
    "y_train = y_train.reshape(-1,1)"
   ]
  },
  {
   "cell_type": "code",
   "execution_count": 0,
   "metadata": {
    "colab": {
     "base_uri": "https://localhost:8080/",
     "height": 190
    },
    "colab_type": "code",
    "id": "taBGclaqmWQI",
    "outputId": "3930c7f0-1f09-4575-92cd-1ca58391638c"
   },
   "outputs": [
    {
     "name": "stderr",
     "output_type": "stream",
     "text": [
      "/usr/local/lib/python3.6/dist-packages/ipykernel_launcher.py:2: DataConversionWarning: A column-vector y was passed when a 1d array was expected. Please change the shape of y to (n_samples,), for example using ravel().\n",
      "  \n"
     ]
    },
    {
     "data": {
      "text/plain": [
       "RandomForestRegressor(bootstrap=True, criterion='mse', max_depth=None,\n",
       "                      max_features='auto', max_leaf_nodes=None,\n",
       "                      min_impurity_decrease=0.0, min_impurity_split=None,\n",
       "                      min_samples_leaf=1, min_samples_split=2,\n",
       "                      min_weight_fraction_leaf=0.0, n_estimators=12,\n",
       "                      n_jobs=None, oob_score=False, random_state=None,\n",
       "                      verbose=0, warm_start=False)"
      ]
     },
     "execution_count": 110,
     "metadata": {
      "tags": []
     },
     "output_type": "execute_result"
    }
   ],
   "source": [
    "rf_reg = RandomForestRegressor(n_estimators = 12)\n",
    "rf_reg.fit(X_train,y_train)"
   ]
  },
  {
   "cell_type": "code",
   "execution_count": 0,
   "metadata": {
    "colab": {},
    "colab_type": "code",
    "id": "1dmXrVHksPHs"
   },
   "outputs": [],
   "source": [
    "X_test = X_test.reshape(-1,1)\n",
    "y_pred_3 = rf_reg.predict(X_test)"
   ]
  },
  {
   "cell_type": "code",
   "execution_count": 0,
   "metadata": {
    "colab": {
     "base_uri": "https://localhost:8080/",
     "height": 51
    },
    "colab_type": "code",
    "id": "Ryr5UQXisXVm",
    "outputId": "07633a80-b802-405e-bb2d-7babf2239115"
   },
   "outputs": [
    {
     "name": "stdout",
     "output_type": "stream",
     "text": [
      "Random Forest\n",
      "RMSE is 2949.0821040478477 and MAE is 2153.9816481381094\n"
     ]
    }
   ],
   "source": [
    "rms = sqrt(mean_squared_error(y_test, y_pred_3))\n",
    "mae = mean_absolute_error(y_test,y_pred_3)\n",
    "print('Random Forest\\nRMSE is {} and MAE is {}'.format(rms,mae))"
   ]
  },
  {
   "cell_type": "code",
   "execution_count": 0,
   "metadata": {
    "colab": {
     "base_uri": "https://localhost:8080/",
     "height": 51
    },
    "colab_type": "code",
    "id": "NE7gXUV5t--n",
    "outputId": "13157ecc-3947-4ceb-9274-f807fc4667a4"
   },
   "outputs": [
    {
     "name": "stdout",
     "output_type": "stream",
     "text": [
      "Train Score 0.2832815305692066 \n",
      "Test Score 0.3311596288789245\n"
     ]
    }
   ],
   "source": [
    "print('Train Score {} \\nTest Score {}'.format(rf_reg.score(X_train,y_train),rf_reg.score(X_test,y_test)))"
   ]
  },
  {
   "cell_type": "markdown",
   "metadata": {
    "colab_type": "text",
    "id": "WlukpFIsugRz"
   },
   "source": [
    "#### Random Forest rarely underfits, here it is underfitting , why? it got only one feature to train with, which is not suitable for an algorithm which takes multiple features and builds a tree to predict the label."
   ]
  },
  {
   "cell_type": "markdown",
   "metadata": {
    "colab_type": "text",
    "id": "c1eDffBktxLX"
   },
   "source": [
    "### Perform Training using KFold Cross Validation"
   ]
  },
  {
   "cell_type": "code",
   "execution_count": 0,
   "metadata": {
    "colab": {},
    "colab_type": "code",
    "id": "MQ2RRPYXyWr0"
   },
   "outputs": [],
   "source": [
    "kf = KFold(n_splits = 10, shuffle = True)\n",
    "rf_reg = RandomForestRegressor(n_estimators = 12)"
   ]
  },
  {
   "cell_type": "code",
   "execution_count": 0,
   "metadata": {
    "colab": {
     "base_uri": "https://localhost:8080/",
     "height": 462
    },
    "colab_type": "code",
    "id": "IwAOECqMxVL7",
    "outputId": "2ea751b5-2258-4c4b-b2f9-59cb4411fecb"
   },
   "outputs": [
    {
     "name": "stderr",
     "output_type": "stream",
     "text": [
      "/usr/local/lib/python3.6/dist-packages/ipykernel_launcher.py:14: DataConversionWarning: A column-vector y was passed when a 1d array was expected. Please change the shape of y to (n_samples,), for example using ravel().\n",
      "  \n",
      "/usr/local/lib/python3.6/dist-packages/ipykernel_launcher.py:14: DataConversionWarning: A column-vector y was passed when a 1d array was expected. Please change the shape of y to (n_samples,), for example using ravel().\n",
      "  \n",
      "/usr/local/lib/python3.6/dist-packages/ipykernel_launcher.py:14: DataConversionWarning: A column-vector y was passed when a 1d array was expected. Please change the shape of y to (n_samples,), for example using ravel().\n",
      "  \n",
      "/usr/local/lib/python3.6/dist-packages/ipykernel_launcher.py:14: DataConversionWarning: A column-vector y was passed when a 1d array was expected. Please change the shape of y to (n_samples,), for example using ravel().\n",
      "  \n",
      "/usr/local/lib/python3.6/dist-packages/ipykernel_launcher.py:14: DataConversionWarning: A column-vector y was passed when a 1d array was expected. Please change the shape of y to (n_samples,), for example using ravel().\n",
      "  \n",
      "/usr/local/lib/python3.6/dist-packages/ipykernel_launcher.py:14: DataConversionWarning: A column-vector y was passed when a 1d array was expected. Please change the shape of y to (n_samples,), for example using ravel().\n",
      "  \n",
      "/usr/local/lib/python3.6/dist-packages/ipykernel_launcher.py:14: DataConversionWarning: A column-vector y was passed when a 1d array was expected. Please change the shape of y to (n_samples,), for example using ravel().\n",
      "  \n",
      "/usr/local/lib/python3.6/dist-packages/ipykernel_launcher.py:14: DataConversionWarning: A column-vector y was passed when a 1d array was expected. Please change the shape of y to (n_samples,), for example using ravel().\n",
      "  \n",
      "/usr/local/lib/python3.6/dist-packages/ipykernel_launcher.py:14: DataConversionWarning: A column-vector y was passed when a 1d array was expected. Please change the shape of y to (n_samples,), for example using ravel().\n",
      "  \n",
      "/usr/local/lib/python3.6/dist-packages/ipykernel_launcher.py:14: DataConversionWarning: A column-vector y was passed when a 1d array was expected. Please change the shape of y to (n_samples,), for example using ravel().\n",
      "  \n"
     ]
    },
    {
     "name": "stdout",
     "output_type": "stream",
     "text": [
      "Scores from each Iteration:  [0.2832857639917613, 0.2832824646120792, 0.28328582476571396, 0.2832822126271638, 0.2832801416546791, 0.2832897967502963, 0.2832854626035264, 0.2832801028933464, 0.2832866873536366, 0.2832785038496629]\n",
      "Average K-Fold Score : 0.2832836961101866\n",
      "RMSE of each iteration: [3265.7805461580565, 3265.78806312719, 3265.7804076967377, 3265.7886372231314, 3265.7933555053078, 3265.771358310072, 3265.781232810896, 3265.793443814917, 3265.778442461723, 3265.797086900232]\n",
      "MAE of each iteration: [2345.723299950071, 2345.399643860158, 2345.2834210526166, 2345.4031732558847, 2345.179311966303, 2345.352588878939, 2345.343960353011, 2345.58440927593, 2345.3571043022594, 2345.402211265151]\n",
      "Average RMSE = 3265.785257400826 , MAE = 2345.4029124160324\n"
     ]
    }
   ],
   "source": [
    "scores = []\n",
    "rmse = []\n",
    "mae = []\n",
    "for i in range(10):\n",
    "    result = next(kf.split(train), None)\n",
    "    X_train = np.asarray(train['Store'])\n",
    "    X_test = np.asarray(train['Store'])\n",
    "    y_train = np.asarray(train['Sales'])\n",
    "    y_test = np.asarray(train['Sales'])\n",
    "    X_train = X_train.reshape(-1,1)\n",
    "    y_train = y_train.reshape(-1,1)\n",
    "    X_test = X_test.reshape(-1,1)\n",
    "    y_test = y_test.reshape(-1,1)\n",
    "    rf_reg.fit(X_train,y_train)\n",
    "    predictions = rf_reg.predict(X_test)\n",
    "    scores.append(rf_reg.score(X_test,y_test))\n",
    "    rmse.append(sqrt(mean_squared_error(y_test, predictions)))\n",
    "    mae.append(mean_absolute_error(y_test,predictions))\n",
    "print('Scores from each Iteration: ', scores)\n",
    "print('Average K-Fold Score :' , np.mean(scores))\n",
    "print('RMSE of each iteration:', rmse)\n",
    "print('MAE of each iteration:', mae)\n",
    "print('Average RMSE = {} , MAE = {}'.format(np.mean(rmse),np.mean(mae)))"
   ]
  },
  {
   "cell_type": "markdown",
   "metadata": {
    "colab_type": "text",
    "id": "bJztWs4DBY8I"
   },
   "source": [
    "### b. Seperate Models for each store"
   ]
  },
  {
   "cell_type": "code",
   "execution_count": 0,
   "metadata": {
    "colab": {},
    "colab_type": "code",
    "id": "DbpCjPHcxVSs"
   },
   "outputs": [],
   "source": [
    "X_train = np.asarray(train[['Customers','Promo','StateHoliday','Open','DayOfWeek']])\n",
    "X_test = np.asarray(test[['Customers','Promo','StateHoliday','Open','DayOfWeek']])\n",
    "y_train = np.asarray(train['Sales'])\n",
    "y_test = np.asarray(test['Sales'])\n",
    "y_train = y_train.reshape(-1,1)\n",
    "y_test = y_test.reshape(-1,1)"
   ]
  },
  {
   "cell_type": "markdown",
   "metadata": {
    "colab_type": "text",
    "id": "B-G-QlwQCHrB"
   },
   "source": [
    "#### Perhaps RandomForest does not need any OneHot Encoding, from week 1 experience RandomForest without any OneHot encoding was performing better than the linear regression with OneHot encoding"
   ]
  },
  {
   "cell_type": "code",
   "execution_count": 0,
   "metadata": {
    "colab": {
     "base_uri": "https://localhost:8080/",
     "height": 190
    },
    "colab_type": "code",
    "id": "bQSicTPbxVoW",
    "outputId": "15627a47-ba57-4394-fe12-3b06283ff381"
   },
   "outputs": [
    {
     "name": "stderr",
     "output_type": "stream",
     "text": [
      "/usr/local/lib/python3.6/dist-packages/ipykernel_launcher.py:2: DataConversionWarning: A column-vector y was passed when a 1d array was expected. Please change the shape of y to (n_samples,), for example using ravel().\n",
      "  \n"
     ]
    },
    {
     "data": {
      "text/plain": [
       "RandomForestRegressor(bootstrap=True, criterion='mse', max_depth=None,\n",
       "                      max_features='auto', max_leaf_nodes=None,\n",
       "                      min_impurity_decrease=0.0, min_impurity_split=None,\n",
       "                      min_samples_leaf=1, min_samples_split=2,\n",
       "                      min_weight_fraction_leaf=0.0, n_estimators=12,\n",
       "                      n_jobs=None, oob_score=False, random_state=None,\n",
       "                      verbose=0, warm_start=False)"
      ]
     },
     "execution_count": 98,
     "metadata": {
      "tags": []
     },
     "output_type": "execute_result"
    }
   ],
   "source": [
    "rf_reg = RandomForestRegressor(n_estimators = 12)\n",
    "rf_reg.fit(X_train,y_train)"
   ]
  },
  {
   "cell_type": "code",
   "execution_count": 0,
   "metadata": {
    "colab": {},
    "colab_type": "code",
    "id": "uNEjifuptOc9"
   },
   "outputs": [],
   "source": [
    "y_pred_4 = rf_reg.predict(X_test)"
   ]
  },
  {
   "cell_type": "code",
   "execution_count": 0,
   "metadata": {
    "colab": {
     "base_uri": "https://localhost:8080/",
     "height": 85
    },
    "colab_type": "code",
    "id": "Z-oOHAhnC0MN",
    "outputId": "778aeb6a-d299-4e2f-c8cf-dd7cf6a0f127"
   },
   "outputs": [
    {
     "name": "stdout",
     "output_type": "stream",
     "text": [
      "Random Forest\n",
      "RMSE is 1471.8673412111204 and MAE is 978.9612183221069\n",
      "Train Score 0.8894732173417762 \n",
      "Test Score 0.8334239804523793\n"
     ]
    }
   ],
   "source": [
    "rms = sqrt(mean_squared_error(y_test, y_pred_4))\n",
    "mae = mean_absolute_error(y_test,y_pred_4)\n",
    "print('Random Forest\\nRMSE is {} and MAE is {}'.format(rms,mae))\n",
    "print('Train Score {} \\nTest Score {}'.format(rf_reg.score(X_train,y_train),rf_reg.score(X_test,y_test)))"
   ]
  },
  {
   "cell_type": "code",
   "execution_count": 0,
   "metadata": {
    "colab": {},
    "colab_type": "code",
    "id": "DALWqjkJgfoi"
   },
   "outputs": [],
   "source": [
    "X_train = np.asarray(train[['Customers','Promo','Open']])\n",
    "X_test = np.asarray(test[['Customers','Promo','Open']])\n",
    "y_train = np.asarray(train['Sales'])\n",
    "y_test = np.asarray(test['Sales'])\n",
    "y_train = y_train.reshape(-1,1)\n",
    "y_test = y_test.reshape(-1,1)"
   ]
  },
  {
   "cell_type": "code",
   "execution_count": 0,
   "metadata": {
    "colab": {
     "base_uri": "https://localhost:8080/",
     "height": 190
    },
    "colab_type": "code",
    "id": "Uhwk5stUgfz6",
    "outputId": "c408260e-f516-4a3a-be09-c2fcab5d3e97"
   },
   "outputs": [
    {
     "name": "stderr",
     "output_type": "stream",
     "text": [
      "/usr/local/lib/python3.6/dist-packages/ipykernel_launcher.py:2: DataConversionWarning: A column-vector y was passed when a 1d array was expected. Please change the shape of y to (n_samples,), for example using ravel().\n",
      "  \n"
     ]
    },
    {
     "data": {
      "text/plain": [
       "RandomForestRegressor(bootstrap=True, criterion='mse', max_depth=None,\n",
       "                      max_features='auto', max_leaf_nodes=None,\n",
       "                      min_impurity_decrease=0.0, min_impurity_split=None,\n",
       "                      min_samples_leaf=1, min_samples_split=2,\n",
       "                      min_weight_fraction_leaf=0.0, n_estimators=10,\n",
       "                      n_jobs=None, oob_score=False, random_state=None,\n",
       "                      verbose=0, warm_start=False)"
      ]
     },
     "execution_count": 143,
     "metadata": {
      "tags": []
     },
     "output_type": "execute_result"
    }
   ],
   "source": [
    "rf_reg = RandomForestRegressor(n_estimators = 10)\n",
    "rf_reg.fit(X_train,y_train)"
   ]
  },
  {
   "cell_type": "code",
   "execution_count": 0,
   "metadata": {
    "colab": {},
    "colab_type": "code",
    "id": "z5DoAZKhgfwG"
   },
   "outputs": [],
   "source": [
    "y_pred_5 = rf_reg.predict(X_test)"
   ]
  },
  {
   "cell_type": "code",
   "execution_count": 0,
   "metadata": {
    "colab": {
     "base_uri": "https://localhost:8080/",
     "height": 85
    },
    "colab_type": "code",
    "id": "Yu-b4fuLgftl",
    "outputId": "eeaae220-ea43-46aa-d08c-c4e9bea57a15"
   },
   "outputs": [
    {
     "name": "stdout",
     "output_type": "stream",
     "text": [
      "Random Forest\n",
      "RMSE is 1477.63684189601 and MAE is 981.2472084448127\n",
      "Train Score 0.8724957002867018 \n",
      "Test Score 0.8321155146160776\n"
     ]
    }
   ],
   "source": [
    "rms = sqrt(mean_squared_error(y_test, y_pred_5))\n",
    "mae = mean_absolute_error(y_test,y_pred_5)\n",
    "print('Random Forest\\nRMSE is {} and MAE is {}'.format(rms,mae))\n",
    "print('Train Score {} \\nTest Score {}'.format(rf_reg.score(X_train,y_train),rf_reg.score(X_test,y_test)))"
   ]
  },
  {
   "cell_type": "markdown",
   "metadata": {
    "colab_type": "text",
    "id": "zZhrOYjpGekY"
   },
   "source": [
    "### Here As we can see the model is slightly overfitting. As usual with Decision Trees and Random Forests. Tree Based Models likely overfit in this case. To control overfitting lets try using KFold Cross Validation\n",
    "\n",
    "### Perform Training using KFold Cross Validation"
   ]
  },
  {
   "cell_type": "code",
   "execution_count": 0,
   "metadata": {
    "colab": {},
    "colab_type": "code",
    "id": "VdyfsODcC9g6"
   },
   "outputs": [],
   "source": [
    "kf = KFold(n_splits = 8, shuffle = True)\n",
    "rf_reg = RandomForestRegressor(n_estimators = 6)"
   ]
  },
  {
   "cell_type": "code",
   "execution_count": 0,
   "metadata": {
    "colab": {
     "base_uri": "https://localhost:8080/",
     "height": 496
    },
    "colab_type": "code",
    "id": "p3udD00ZDM6V",
    "outputId": "5f3ecd94-1cf8-4730-a320-5e59cd22d15e"
   },
   "outputs": [
    {
     "name": "stderr",
     "output_type": "stream",
     "text": [
      "/usr/local/lib/python3.6/dist-packages/ipykernel_launcher.py:13: DataConversionWarning: A column-vector y was passed when a 1d array was expected. Please change the shape of y to (n_samples,), for example using ravel().\n",
      "  del sys.path[0]\n",
      "/usr/local/lib/python3.6/dist-packages/ipykernel_launcher.py:13: DataConversionWarning: A column-vector y was passed when a 1d array was expected. Please change the shape of y to (n_samples,), for example using ravel().\n",
      "  del sys.path[0]\n",
      "/usr/local/lib/python3.6/dist-packages/ipykernel_launcher.py:13: DataConversionWarning: A column-vector y was passed when a 1d array was expected. Please change the shape of y to (n_samples,), for example using ravel().\n",
      "  del sys.path[0]\n",
      "/usr/local/lib/python3.6/dist-packages/ipykernel_launcher.py:13: DataConversionWarning: A column-vector y was passed when a 1d array was expected. Please change the shape of y to (n_samples,), for example using ravel().\n",
      "  del sys.path[0]\n",
      "/usr/local/lib/python3.6/dist-packages/ipykernel_launcher.py:13: DataConversionWarning: A column-vector y was passed when a 1d array was expected. Please change the shape of y to (n_samples,), for example using ravel().\n",
      "  del sys.path[0]\n",
      "/usr/local/lib/python3.6/dist-packages/ipykernel_launcher.py:13: DataConversionWarning: A column-vector y was passed when a 1d array was expected. Please change the shape of y to (n_samples,), for example using ravel().\n",
      "  del sys.path[0]\n",
      "/usr/local/lib/python3.6/dist-packages/ipykernel_launcher.py:13: DataConversionWarning: A column-vector y was passed when a 1d array was expected. Please change the shape of y to (n_samples,), for example using ravel().\n",
      "  del sys.path[0]\n",
      "/usr/local/lib/python3.6/dist-packages/ipykernel_launcher.py:13: DataConversionWarning: A column-vector y was passed when a 1d array was expected. Please change the shape of y to (n_samples,), for example using ravel().\n",
      "  del sys.path[0]\n",
      "/usr/local/lib/python3.6/dist-packages/ipykernel_launcher.py:13: DataConversionWarning: A column-vector y was passed when a 1d array was expected. Please change the shape of y to (n_samples,), for example using ravel().\n",
      "  del sys.path[0]\n",
      "/usr/local/lib/python3.6/dist-packages/ipykernel_launcher.py:13: DataConversionWarning: A column-vector y was passed when a 1d array was expected. Please change the shape of y to (n_samples,), for example using ravel().\n",
      "  del sys.path[0]\n"
     ]
    },
    {
     "name": "stdout",
     "output_type": "stream",
     "text": [
      "Train Scores from each Iteration:  [0.8885256316089191, 0.8885793611074543, 0.8885754860040433, 0.8885456326931861, 0.8885239910662773, 0.8884886071646035, 0.888546671612561, 0.8884461564138655, 0.8885338443575735, 0.888564780067724]\n",
      "Average K-Fold Train Score : 0.8885330162096208\n",
      "Test Scores from each Iteration:  [0.8885256316089191, 0.8885793611074543, 0.8885754860040433, 0.8885456326931861, 0.8885239910662773, 0.8884886071646035, 0.888546671612561, 0.8884461564138655, 0.8885338443575735, 0.888564780067724]\n",
      "Average K-Fold Test Score : 0.8885330162096208\n",
      "RMSE of each iteration: [1287.957381295775, 1287.6469527828358, 1287.6693441537886, 1287.8418314160099, 1287.9668585471884, 1288.1712508523406, 1287.8358291077075, 1288.4164214665016, 1287.909936016494, 1287.7312038576345]\n",
      "MAE of each iteration: [863.0129110838036, 862.5452656367172, 862.6561148307628, 862.5967063758713, 862.7335801434047, 862.9291475187915, 862.8683251149604, 862.8505324901882, 862.7632224967923, 862.7732418076973]\n",
      "Average RMSE = 1287.9147009496276 , MAE = 862.7729047498988\n"
     ]
    }
   ],
   "source": [
    "scores = []\n",
    "train_scores = []\n",
    "rmse = []\n",
    "mae = []\n",
    "for i in range(10):\n",
    "    result = next(kf.split(train), None)\n",
    "    X_train = np.asarray(train[['Customers','Promo','StateHoliday','Open','DayOfWeek']])\n",
    "    X_test = np.asarray(test[['Customers','Promo','StateHoliday','Open','DayOfWeek']])\n",
    "    y_train = np.asarray(train['Sales'])\n",
    "    y_test = np.asarray(test['Sales'])\n",
    "    y_train = y_train.reshape(-1,1)\n",
    "    y_test = y_test.reshape(-1,1)\n",
    "    rf_reg.fit(X_train,y_train)\n",
    "    predictions = rf_reg.predict(X_test)\n",
    "    scores.append(rf_reg.score(X_test,y_test))\n",
    "    train_scores.append(rf_reg.score(X_train,y_train))\n",
    "    rmse.append(sqrt(mean_squared_error(y_test, predictions)))\n",
    "    mae.append(mean_absolute_error(y_test,predictions))\n",
    "print('Train Scores from each Iteration: ', train_scores)\n",
    "print('Average K-Fold Train Score :' , np.mean(train_scores))\n",
    "print('Test Scores from each Iteration: ', scores)\n",
    "print('Average K-Fold Test Score :' , np.mean(scores))\n",
    "print('RMSE of each iteration:', rmse)\n",
    "print('MAE of each iteration:', mae)\n",
    "print('Average RMSE = {} , MAE = {}'.format(np.mean(rmse),np.mean(mae)))"
   ]
  },
  {
   "cell_type": "code",
   "execution_count": 0,
   "metadata": {
    "colab": {
     "base_uri": "https://localhost:8080/",
     "height": 51
    },
    "colab_type": "code",
    "id": "W_acWExYbOMp",
    "outputId": "e97029f9-7016-4e5d-d253-aebcf3f00dd9"
   },
   "outputs": [
    {
     "name": "stdout",
     "output_type": "stream",
     "text": [
      "0.888564780067724\n",
      "0.888564780067724\n"
     ]
    }
   ],
   "source": [
    "print(rf_reg.score(X_train,y_train))\n",
    "print(rf_reg.score(X_test,y_test))"
   ]
  },
  {
   "cell_type": "markdown",
   "metadata": {
    "colab_type": "text",
    "id": "PPci_91EUAHj"
   },
   "source": [
    "### Hence using KFold the Overfitting of Random Forest Model has been Controlled"
   ]
  },
  {
   "cell_type": "code",
   "execution_count": 0,
   "metadata": {
    "colab": {},
    "colab_type": "code",
    "id": "C3iaBs_PDNAK"
   },
   "outputs": [],
   "source": [
    "### After this point we will use cross validation to Train all the model"
   ]
  },
  {
   "cell_type": "markdown",
   "metadata": {
    "colab_type": "text",
    "id": "y1P4g4oMKMay"
   },
   "source": [
    "### Perform Standardization of data using Standard Scaler"
   ]
  },
  {
   "cell_type": "code",
   "execution_count": 0,
   "metadata": {
    "colab": {},
    "colab_type": "code",
    "id": "51UvIgpKInUa"
   },
   "outputs": [],
   "source": [
    "from sklearn.preprocessing import StandardScaler"
   ]
  },
  {
   "cell_type": "code",
   "execution_count": 0,
   "metadata": {
    "colab": {},
    "colab_type": "code",
    "id": "ZIlzGydXIsGP"
   },
   "outputs": [],
   "source": [
    "train = train[['DayOfWeek','Sales','Customers','Open','Promo','StateHoliday','SchoolHoliday']]\n",
    "test = test[['DayOfWeek','Sales','Customers','Open','Promo','StateHoliday','SchoolHoliday']]"
   ]
  },
  {
   "cell_type": "code",
   "execution_count": 0,
   "metadata": {
    "colab": {},
    "colab_type": "code",
    "id": "fXo0_flCIuoE"
   },
   "outputs": [],
   "source": [
    "X_train = np.asarray(train[['DayOfWeek','Customers','Open','Promo','StateHoliday','SchoolHoliday']])\n",
    "X_test = np.asarray(test[['DayOfWeek','Customers','Open','Promo','StateHoliday','SchoolHoliday']])\n",
    "y_train = np.asarray(train.Sales)\n",
    "y_test = np.asarray(test.Sales)"
   ]
  },
  {
   "cell_type": "code",
   "execution_count": 0,
   "metadata": {
    "colab": {},
    "colab_type": "code",
    "id": "M35bvbYBK0QP"
   },
   "outputs": [],
   "source": [
    "y_train = y_train.reshape(-1,1)\n",
    "y_test = y_test.reshape(-1,1)"
   ]
  },
  {
   "cell_type": "code",
   "execution_count": 0,
   "metadata": {
    "colab": {},
    "colab_type": "code",
    "id": "sko22xI1JqYg"
   },
   "outputs": [],
   "source": [
    "X_train = StandardScaler().fit_transform(X_train)\n",
    "X_test = StandardScaler().fit_transform(X_test)\n",
    "y_train = StandardScaler().fit_transform(y_train)\n",
    "y_test = StandardScaler().fit_transform(y_test)"
   ]
  },
  {
   "cell_type": "markdown",
   "metadata": {
    "colab_type": "text",
    "id": "dMcvFpk9e9v0"
   },
   "source": [
    "### Using Principal Component Analysis "
   ]
  },
  {
   "cell_type": "code",
   "execution_count": 0,
   "metadata": {
    "colab": {},
    "colab_type": "code",
    "id": "2HgqwJ_HKVag"
   },
   "outputs": [],
   "source": [
    "from sklearn.decomposition import PCA"
   ]
  },
  {
   "cell_type": "code",
   "execution_count": 0,
   "metadata": {
    "colab": {},
    "colab_type": "code",
    "id": "SOfVZVaFK_ft"
   },
   "outputs": [],
   "source": [
    "pca = PCA(.95) #will retain 95% variance in the data"
   ]
  },
  {
   "cell_type": "code",
   "execution_count": 0,
   "metadata": {
    "colab": {
     "base_uri": "https://localhost:8080/",
     "height": 51
    },
    "colab_type": "code",
    "id": "bWlb22Sgaa3_",
    "outputId": "7b7adebc-d760-4eee-b39d-09ffbd99a52c"
   },
   "outputs": [
    {
     "data": {
      "text/plain": [
       "PCA(copy=True, iterated_power='auto', n_components=0.95, random_state=None,\n",
       "    svd_solver='auto', tol=0.0, whiten=False)"
      ]
     },
     "execution_count": 120,
     "metadata": {
      "tags": []
     },
     "output_type": "execute_result"
    }
   ],
   "source": [
    "pca.fit(X_train)"
   ]
  },
  {
   "cell_type": "code",
   "execution_count": 0,
   "metadata": {
    "colab": {
     "base_uri": "https://localhost:8080/",
     "height": 34
    },
    "colab_type": "code",
    "id": "cIn-KHPAahT-",
    "outputId": "a2bc23a3-7587-428a-9918-bc7492a1c394"
   },
   "outputs": [
    {
     "data": {
      "text/plain": [
       "5"
      ]
     },
     "execution_count": 121,
     "metadata": {
      "tags": []
     },
     "output_type": "execute_result"
    }
   ],
   "source": [
    "pca.n_components_ #shows how many features pca chose"
   ]
  },
  {
   "cell_type": "code",
   "execution_count": 0,
   "metadata": {
    "colab": {},
    "colab_type": "code",
    "id": "B4UMcVy9apW9"
   },
   "outputs": [],
   "source": [
    "X_train = pca.transform(X_train)\n",
    "X_test = pca.transform(X_test)"
   ]
  },
  {
   "cell_type": "markdown",
   "metadata": {
    "colab_type": "text",
    "id": "5_z6RW8Un-bX"
   },
   "source": [
    "### Linear Regression Model"
   ]
  },
  {
   "cell_type": "code",
   "execution_count": 0,
   "metadata": {
    "colab": {},
    "colab_type": "code",
    "id": "D1efOdY5fNln"
   },
   "outputs": [],
   "source": [
    "linereg = LinearRegression()"
   ]
  },
  {
   "cell_type": "code",
   "execution_count": 0,
   "metadata": {
    "colab": {},
    "colab_type": "code",
    "id": "J7ZyXaiYfi9V"
   },
   "outputs": [],
   "source": [
    "kf = KFold(n_splits = 8, shuffle = True)"
   ]
  },
  {
   "cell_type": "code",
   "execution_count": 0,
   "metadata": {
    "colab": {
     "base_uri": "https://localhost:8080/",
     "height": 156
    },
    "colab_type": "code",
    "id": "kWYoSITffjH9",
    "outputId": "3545eaa2-d175-4a06-8d27-4742678fc598"
   },
   "outputs": [
    {
     "name": "stdout",
     "output_type": "stream",
     "text": [
      "Train Scores from each Iteration:  [0.8443247213348174, 0.8443247213348174, 0.8443247213348174, 0.8443247213348174, 0.8443247213348174, 0.8443247213348174, 0.8443247213348174, 0.8443247213348174]\n",
      "Average K-Fold Train Score : 0.8443247213348174\n",
      "Test Scores from each Iteration:  [0.8142457264062288, 0.8142457264062288, 0.8142457264062288, 0.8142457264062288, 0.8142457264062288, 0.8142457264062288, 0.8142457264062288, 0.8142457264062288]\n",
      "Average K-Fold Test Score : 0.8142457264062288\n",
      "RMSE of each iteration: [0.4309921966738738, 0.4309921966738738, 0.4309921966738738, 0.4309921966738738, 0.4309921966738738, 0.4309921966738738, 0.4309921966738738, 0.4309921966738738]\n",
      "MAE of each iteration: [0.30791260767866935, 0.30791260767866935, 0.30791260767866935, 0.30791260767866935, 0.30791260767866935, 0.30791260767866935, 0.30791260767866935, 0.30791260767866935]\n",
      "Average RMSE = 0.4309921966738738 , MAE = 0.30791260767866935\n"
     ]
    }
   ],
   "source": [
    "scores = []\n",
    "train_scores = []\n",
    "rmse = []\n",
    "mae = []\n",
    "for i in range(8):\n",
    "    result = next(kf.split(X_train), None)\n",
    "    linereg.fit(X_train,y_train)\n",
    "    predictions = linereg.predict(X_test)\n",
    "    scores.append(linereg.score(X_test,y_test))\n",
    "    train_scores.append(linereg.score(X_train,y_train))\n",
    "    rmse.append(sqrt(mean_squared_error(y_test, predictions)))\n",
    "    mae.append(mean_absolute_error(y_test,predictions))\n",
    "print('Train Scores from each Iteration: ', train_scores)\n",
    "print('Average K-Fold Train Score :' , np.mean(train_scores))\n",
    "print('Test Scores from each Iteration: ', scores)\n",
    "print('Average K-Fold Test Score :' , np.mean(scores))\n",
    "print('RMSE of each iteration:', rmse)\n",
    "print('MAE of each iteration:', mae)\n",
    "print('Average RMSE = {} , MAE = {}'.format(np.mean(rmse),np.mean(mae)))"
   ]
  },
  {
   "cell_type": "markdown",
   "metadata": {
    "colab_type": "text",
    "id": "WVqPUAKDoF4w"
   },
   "source": [
    "### Random Forest Model"
   ]
  },
  {
   "cell_type": "code",
   "execution_count": 0,
   "metadata": {
    "colab": {},
    "colab_type": "code",
    "id": "wBxpDICca-SQ"
   },
   "outputs": [],
   "source": [
    "kf = KFold(n_splits = 3, shuffle = True)\n",
    "rf_reg = RandomForestRegressor(n_estimators = 6)"
   ]
  },
  {
   "cell_type": "code",
   "execution_count": 0,
   "metadata": {
    "colab": {
     "base_uri": "https://localhost:8080/",
     "height": 258
    },
    "colab_type": "code",
    "id": "4Jk1MX6pbAA_",
    "outputId": "7f77c236-a544-4be9-bd43-ab9403928ea1"
   },
   "outputs": [
    {
     "name": "stderr",
     "output_type": "stream",
     "text": [
      "/usr/local/lib/python3.6/dist-packages/ipykernel_launcher.py:7: DataConversionWarning: A column-vector y was passed when a 1d array was expected. Please change the shape of y to (n_samples,), for example using ravel().\n",
      "  import sys\n",
      "/usr/local/lib/python3.6/dist-packages/ipykernel_launcher.py:7: DataConversionWarning: A column-vector y was passed when a 1d array was expected. Please change the shape of y to (n_samples,), for example using ravel().\n",
      "  import sys\n",
      "/usr/local/lib/python3.6/dist-packages/ipykernel_launcher.py:7: DataConversionWarning: A column-vector y was passed when a 1d array was expected. Please change the shape of y to (n_samples,), for example using ravel().\n",
      "  import sys\n"
     ]
    },
    {
     "name": "stdout",
     "output_type": "stream",
     "text": [
      "Train Scores from each Iteration:  [0.892744688989555, 0.892790666743154, 0.892806870826633]\n",
      "Average K-Fold Train Score : 0.8927807421864472\n",
      "Test Scores from each Iteration:  [0.7976625182771724, 0.8005515628209294, 0.7995867729234378]\n",
      "Average K-Fold Test Score : 0.7992669513405133\n",
      "RMSE of each iteration: [0.4498193878912154, 0.44659650376942117, 0.4476753590232124]\n",
      "MAE of each iteration: [0.332441676525114, 0.32853717159998674, 0.3304057910646052]\n",
      "Average RMSE = 0.4480304168946163 , MAE = 0.33046154639656866\n"
     ]
    }
   ],
   "source": [
    "scores = []\n",
    "train_scores = []\n",
    "rmse = []\n",
    "mae = []\n",
    "for i in range(3):\n",
    "    result = next(kf.split(X_train), None)\n",
    "    rf_reg.fit(X_train,y_train)\n",
    "    predictions = rf_reg.predict(X_test)\n",
    "    scores.append(rf_reg.score(X_test,y_test))\n",
    "    train_scores.append(rf_reg.score(X_train,y_train))\n",
    "    rmse.append(sqrt(mean_squared_error(y_test, predictions)))\n",
    "    mae.append(mean_absolute_error(y_test,predictions))\n",
    "print('Train Scores from each Iteration: ', train_scores)\n",
    "print('Average K-Fold Train Score :' , np.mean(train_scores))\n",
    "print('Test Scores from each Iteration: ', scores)\n",
    "print('Average K-Fold Test Score :' , np.mean(scores))\n",
    "print('RMSE of each iteration:', rmse)\n",
    "print('MAE of each iteration:', mae)\n",
    "print('Average RMSE = {} , MAE = {}'.format(np.mean(rmse),np.mean(mae)))"
   ]
  },
  {
   "cell_type": "markdown",
   "metadata": {
    "colab_type": "text",
    "id": "mgm0_fe2lQOX"
   },
   "source": [
    "### Tree Hyperparameter Tuning"
   ]
  },
  {
   "cell_type": "code",
   "execution_count": 0,
   "metadata": {
    "colab": {},
    "colab_type": "code",
    "id": "NCsW-UkP8zil"
   },
   "outputs": [],
   "source": [
    "from sklearn.model_selection import RandomizedSearchCV"
   ]
  },
  {
   "cell_type": "code",
   "execution_count": 0,
   "metadata": {
    "colab": {},
    "colab_type": "code",
    "id": "ZdhsPRs0_FYm"
   },
   "outputs": [],
   "source": [
    "from sklearn.model_selection import GridSearchCV"
   ]
  },
  {
   "cell_type": "code",
   "execution_count": 0,
   "metadata": {
    "colab": {},
    "colab_type": "code",
    "id": "cvB-uK0UXUfA"
   },
   "outputs": [],
   "source": [
    "rf = RandomForestRegressor()"
   ]
  },
  {
   "cell_type": "code",
   "execution_count": 0,
   "metadata": {
    "colab": {},
    "colab_type": "code",
    "id": "jhELOdejaT7f"
   },
   "outputs": [],
   "source": [
    "# Number of trees in random forest\n",
    "n_estimators = [int(x) for x in np.linspace(start = 20, stop = 50, num = 10)]\n",
    "# Number of features to consider at every split\n",
    "max_features = ['auto', 'sqrt']\n",
    "# Maximum number of levels in tree\n",
    "max_depth = [int(x) for x in np.linspace(10, 110, num = 11)]\n",
    "max_depth.append(None)\n",
    "# Minimum number of samples required to split a node\n",
    "min_samples_split = [2, 5]\n",
    "# Minimum number of samples required at each leaf node\n",
    "min_samples_leaf = [1, 2, 4]\n",
    "# Method of selecting samples for training each tree\n",
    "bootstrap = [True, False]\n",
    "# Create the random grid\n",
    "random_grid = {'n_estimators': n_estimators,\n",
    "               'max_features': max_features,\n",
    "               'max_depth': max_depth,\n",
    "               'min_samples_split': min_samples_split,\n",
    "               'min_samples_leaf': min_samples_leaf,\n",
    "               'bootstrap': bootstrap}"
   ]
  },
  {
   "cell_type": "code",
   "execution_count": 0,
   "metadata": {
    "colab": {},
    "colab_type": "code",
    "id": "D7B7Jaw9lWuT"
   },
   "outputs": [],
   "source": [
    "param_grid = { \n",
    "    'n_estimators': [5,6,7,8],\n",
    "    'max_features': ['auto', 'sqrt', 'log2'],\n",
    "    'max_depth' : [4,5,6]\n",
    "}"
   ]
  },
  {
   "cell_type": "code",
   "execution_count": 0,
   "metadata": {
    "colab": {},
    "colab_type": "code",
    "id": "tvQbD6qiXQKF"
   },
   "outputs": [],
   "source": [
    "rf_random = RandomizedSearchCV(estimator = rf, param_distributions = param_grid, n_iter = 36, cv = 3, verbose=2, random_state=42, n_jobs = 36)"
   ]
  },
  {
   "cell_type": "code",
   "execution_count": 0,
   "metadata": {
    "colab": {
     "base_uri": "https://localhost:8080/",
     "height": 513
    },
    "colab_type": "code",
    "id": "1-LmhWFyXmJr",
    "outputId": "94968901-3154-47b7-a158-4af9780ed66f"
   },
   "outputs": [
    {
     "name": "stdout",
     "output_type": "stream",
     "text": [
      "Fitting 3 folds for each of 36 candidates, totalling 108 fits\n"
     ]
    },
    {
     "name": "stderr",
     "output_type": "stream",
     "text": [
      "[Parallel(n_jobs=36)]: Using backend LokyBackend with 36 concurrent workers.\n",
      "[Parallel(n_jobs=36)]: Done  92 out of 108 | elapsed:  5.4min remaining:   56.1s\n",
      "[Parallel(n_jobs=36)]: Done 108 out of 108 | elapsed:  5.7min finished\n",
      "/usr/local/lib/python3.6/dist-packages/sklearn/model_selection/_search.py:715: DataConversionWarning: A column-vector y was passed when a 1d array was expected. Please change the shape of y to (n_samples,), for example using ravel().\n",
      "  self.best_estimator_.fit(X, y, **fit_params)\n"
     ]
    },
    {
     "data": {
      "text/plain": [
       "RandomizedSearchCV(cv=3, error_score='raise-deprecating',\n",
       "                   estimator=RandomForestRegressor(bootstrap=True,\n",
       "                                                   criterion='mse',\n",
       "                                                   max_depth=None,\n",
       "                                                   max_features='auto',\n",
       "                                                   max_leaf_nodes=None,\n",
       "                                                   min_impurity_decrease=0.0,\n",
       "                                                   min_impurity_split=None,\n",
       "                                                   min_samples_leaf=1,\n",
       "                                                   min_samples_split=2,\n",
       "                                                   min_weight_fraction_leaf=0.0,\n",
       "                                                   n_estimators='warn',\n",
       "                                                   n_jobs=None, oob_score=False,\n",
       "                                                   random_state=None, verbose=0,\n",
       "                                                   warm_start=False),\n",
       "                   iid='warn', n_iter=36, n_jobs=36,\n",
       "                   param_distributions={'max_depth': [4, 5, 6],\n",
       "                                        'max_features': ['auto', 'sqrt',\n",
       "                                                         'log2'],\n",
       "                                        'n_estimators': [5, 6, 7, 8]},\n",
       "                   pre_dispatch='2*n_jobs', random_state=42, refit=True,\n",
       "                   return_train_score=False, scoring=None, verbose=2)"
      ]
     },
     "execution_count": 68,
     "metadata": {
      "tags": []
     },
     "output_type": "execute_result"
    }
   ],
   "source": [
    "rf_random.fit(X_train,y_train)"
   ]
  },
  {
   "cell_type": "code",
   "execution_count": 0,
   "metadata": {
    "colab": {
     "base_uri": "https://localhost:8080/",
     "height": 34
    },
    "colab_type": "code",
    "id": "9jfp8jmtlDfG",
    "outputId": "a08b7b08-cdd3-42c1-b2ca-47c14fefcea0"
   },
   "outputs": [
    {
     "data": {
      "text/plain": [
       "{'max_depth': 6, 'max_features': 'sqrt', 'n_estimators': 6}"
      ]
     },
     "execution_count": 69,
     "metadata": {
      "tags": []
     },
     "output_type": "execute_result"
    }
   ],
   "source": [
    "rf_random.best_params_"
   ]
  },
  {
   "cell_type": "code",
   "execution_count": 0,
   "metadata": {
    "colab": {
     "base_uri": "https://localhost:8080/",
     "height": 34
    },
    "colab_type": "code",
    "id": "IW7-AgG6lD1r",
    "outputId": "dfdfae64-0f97-4eb5-ff12-d0406d0e58cc"
   },
   "outputs": [
    {
     "name": "stdout",
     "output_type": "stream",
     "text": [
      "Train Score = 0.8446892529987605 , Test Score = 0.703715744211332\n"
     ]
    }
   ],
   "source": [
    "print('Train Score = {} , Test Score = {}'.format(rf_random.score(X_train,y_train),rf_random.score(X_test,y_test)))"
   ]
  },
  {
   "cell_type": "code",
   "execution_count": 0,
   "metadata": {
    "colab": {},
    "colab_type": "code",
    "id": "CVYbmhUdlD9A"
   },
   "outputs": [],
   "source": [
    "rf_random = RandomizedSearchCV(estimator = rf, param_distributions = random_grid, n_iter = 3, cv = 5, verbose=2, random_state=42, n_jobs = 15)"
   ]
  },
  {
   "cell_type": "code",
   "execution_count": 0,
   "metadata": {
    "colab": {
     "base_uri": "https://localhost:8080/",
     "height": 598
    },
    "colab_type": "code",
    "id": "Y4yVma4GlDw7",
    "outputId": "91c923b9-7c23-4831-877d-399c3592ae97"
   },
   "outputs": [
    {
     "name": "stdout",
     "output_type": "stream",
     "text": [
      "Fitting 5 folds for each of 3 candidates, totalling 15 fits\n"
     ]
    },
    {
     "name": "stderr",
     "output_type": "stream",
     "text": [
      "[Parallel(n_jobs=15)]: Using backend LokyBackend with 15 concurrent workers.\n",
      "[Parallel(n_jobs=15)]: Done   2 out of  15 | elapsed:  1.4min remaining:  8.8min\n",
      "[Parallel(n_jobs=15)]: Done  10 out of  15 | elapsed:  6.4min remaining:  3.2min\n",
      "[Parallel(n_jobs=15)]: Done  15 out of  15 | elapsed:  8.9min finished\n",
      "/usr/local/lib/python3.6/dist-packages/sklearn/model_selection/_search.py:715: DataConversionWarning: A column-vector y was passed when a 1d array was expected. Please change the shape of y to (n_samples,), for example using ravel().\n",
      "  self.best_estimator_.fit(X, y, **fit_params)\n"
     ]
    },
    {
     "data": {
      "text/plain": [
       "RandomizedSearchCV(cv=5, error_score='raise-deprecating',\n",
       "                   estimator=RandomForestRegressor(bootstrap=True,\n",
       "                                                   criterion='mse',\n",
       "                                                   max_depth=None,\n",
       "                                                   max_features='auto',\n",
       "                                                   max_leaf_nodes=None,\n",
       "                                                   min_impurity_decrease=0.0,\n",
       "                                                   min_impurity_split=None,\n",
       "                                                   min_samples_leaf=1,\n",
       "                                                   min_samples_split=2,\n",
       "                                                   min_weight_fraction_leaf=0.0,\n",
       "                                                   n_estimators='warn',\n",
       "                                                   n_jobs=None, oob_score=False,\n",
       "                                                   random_sta...\n",
       "                   iid='warn', n_iter=3, n_jobs=15,\n",
       "                   param_distributions={'bootstrap': [True, False],\n",
       "                                        'max_depth': [10, 20, 30, 40, 50, 60,\n",
       "                                                      70, 80, 90, 100, 110,\n",
       "                                                      None],\n",
       "                                        'max_features': ['auto', 'sqrt'],\n",
       "                                        'min_samples_leaf': [1, 2, 4],\n",
       "                                        'min_samples_split': [2, 5, 10],\n",
       "                                        'n_estimators': [20, 23, 26, 30, 33, 36,\n",
       "                                                         40, 43, 46, 50]},\n",
       "                   pre_dispatch='2*n_jobs', random_state=42, refit=True,\n",
       "                   return_train_score=False, scoring=None, verbose=2)"
      ]
     },
     "execution_count": 128,
     "metadata": {
      "tags": []
     },
     "output_type": "execute_result"
    }
   ],
   "source": [
    "rf_random.fit(X_train,y_train)"
   ]
  },
  {
   "cell_type": "code",
   "execution_count": 0,
   "metadata": {
    "colab": {
     "base_uri": "https://localhost:8080/",
     "height": 119
    },
    "colab_type": "code",
    "id": "OMkBlHNiZEes",
    "outputId": "1f4e806c-73bb-4601-b89f-d15372326250"
   },
   "outputs": [
    {
     "data": {
      "text/plain": [
       "{'bootstrap': True,\n",
       " 'max_depth': 50,\n",
       " 'max_features': 'sqrt',\n",
       " 'min_samples_leaf': 2,\n",
       " 'min_samples_split': 10,\n",
       " 'n_estimators': 20}"
      ]
     },
     "execution_count": 129,
     "metadata": {
      "tags": []
     },
     "output_type": "execute_result"
    }
   ],
   "source": [
    "rf_random.best_params_"
   ]
  },
  {
   "cell_type": "code",
   "execution_count": 0,
   "metadata": {
    "colab": {
     "base_uri": "https://localhost:8080/",
     "height": 34
    },
    "colab_type": "code",
    "id": "qhnMXl7pn70r",
    "outputId": "4a71ac4f-239c-49cf-9123-8a3a4f784e90"
   },
   "outputs": [
    {
     "name": "stdout",
     "output_type": "stream",
     "text": [
      "Train Score = 0.889471990631522 , Test Score = 0.8099745132107965\n"
     ]
    }
   ],
   "source": [
    "print('Train Score = {} , Test Score = {}'.format(rf_random.score(X_train,y_train),rf_random.score(X_test,y_test)))"
   ]
  },
  {
   "cell_type": "markdown",
   "metadata": {
    "colab_type": "text",
    "id": "2crwDaUhx5ip"
   },
   "source": [
    "### Hyperparameter Tuning is exhaustive and takes a lot of time and computations. Hence there is a need to restrict choices when it comes to parameters. Here 2 grids have been used, param_grid which has less number of parameters to tune from and a random_grid which has more parameters to choose from. If we make the calculation then for random_grid total 792 possible combination to search from. Given the size of train data and since sklearn does not have GPU support , it will take about almost one day to choose best hyperparameters and train the RandomForest Model. Hence n_iterations has been restricted to 3 to randomly select any 3 parameter combination and rather select 5 folds for cross validation to control overfitting."
   ]
  },
  {
   "cell_type": "markdown",
   "metadata": {
    "colab_type": "text",
    "id": "lYVT1XhYx1Iq"
   },
   "source": [
    "### Observations\n",
    "\n",
    "**Lets Draw A Comparision**\n",
    "\n",
    "**Pincipal Component Analysis**\n",
    "\n",
    "| Model | Training Score | Testing Score |\n",
    "| --- | --- | --- |\n",
    "| Linear Regression| 0.844 | 0.814 |\n",
    "| Random Forest Regression | 0.892 | 0.799 |\n",
    "\n",
    "***Hyperparameter Tuning of Random Forest Model(using PCA Selected Features):***\n",
    "\n",
    "***Model 1 : 36 different hyperparameters with 3 fold cross validation***\n",
    "\n",
    "***Model 2 : 3 different hyperparameters with 5 fold cross validation***\n",
    "\n",
    "| Model | Training Score| Testing Score|\n",
    "| --- | --- | --- |\n",
    "| Model 1| 0.844 | 0.703|\n",
    "| Model 2| 0.889 | 0.809|\n",
    "\n",
    "### Which Model performed best and why\n",
    "\n",
    "### Linear Regression Model has the best testing score of all the model. After the scaling of data, the orders of magnitude are roughly the same across all the features. Hence the model was able to cover maximum amount of points(although it overfits, it is the best model that was achieved).\n",
    "\n",
    "### Random Forest with 5 fold cross validation was close to the Linear Regression Model. From above observation the no. of cross folds has contributed more to the accuracy score than the selection of best hyperparameter. When trained with less combination of hyperparameters and more cross folds it performs better than the one having tested more hyperparameter combinations but less cross folds.\n"
   ]
  },
  {
   "cell_type": "markdown",
   "metadata": {
    "colab_type": "text",
    "id": "CpkesLsd7qVj"
   },
   "source": [
    "### 4. Train a Time-series model on the data taking time as the only feature. \n",
    "#### a)Identify yearly trends and seasonal months\n",
    "\n",
    "### One way to approach this problem is to first take average of sales for all stores for each day(s), and then take the sum of all sales and group them monthly. Then convert the timeseries into a stationary model(if it isnt) and then use AR , MA models and integrate them to get the ARIMA model.\n",
    "\n",
    "### We can then use the test data to judge the ARIMA model. However we will take the RMSE for the whole data (TRAIN + TEST)."
   ]
  },
  {
   "cell_type": "code",
   "execution_count": 95,
   "metadata": {
    "colab": {},
    "colab_type": "code",
    "id": "fGKlqCUmxzwV"
   },
   "outputs": [],
   "source": [
    "train = pd.read_csv('train_data.csv')"
   ]
  },
  {
   "cell_type": "code",
   "execution_count": 96,
   "metadata": {
    "colab": {},
    "colab_type": "code",
    "id": "9dXgpQqXoEkA"
   },
   "outputs": [],
   "source": [
    "test = pd.read_csv('test_data_hidden.csv')"
   ]
  },
  {
   "cell_type": "code",
   "execution_count": 97,
   "metadata": {
    "colab": {},
    "colab_type": "code",
    "id": "EZlRUzuKuMe3"
   },
   "outputs": [],
   "source": [
    "train = train[train.Open == 1]\n",
    "test = test[test.Open == 1]"
   ]
  },
  {
   "cell_type": "code",
   "execution_count": 98,
   "metadata": {
    "colab": {},
    "colab_type": "code",
    "id": "UPhujU8S-8In"
   },
   "outputs": [],
   "source": [
    "#train = train[train.Store == 1]\n",
    "#test = test[test.Store == 1]"
   ]
  },
  {
   "cell_type": "code",
   "execution_count": 99,
   "metadata": {
    "colab": {},
    "colab_type": "code",
    "id": "53o1pYgj8XEX"
   },
   "outputs": [],
   "source": [
    "train = train[['Date','Sales']]\n",
    "test = test[['Date','Sales']]"
   ]
  },
  {
   "cell_type": "code",
   "execution_count": 100,
   "metadata": {
    "colab": {},
    "colab_type": "code",
    "id": "9hBrW51n8ia2"
   },
   "outputs": [],
   "source": [
    "train = train.groupby('Date').mean().reset_index()\n",
    "test = test.groupby('Date').mean().reset_index()"
   ]
  },
  {
   "cell_type": "code",
   "execution_count": 101,
   "metadata": {
    "colab": {},
    "colab_type": "code",
    "id": "eZi9XWpH9z2U"
   },
   "outputs": [],
   "source": [
    "train = train.set_index('Date')\n",
    "test = test.set_index('Date')"
   ]
  },
  {
   "cell_type": "code",
   "execution_count": 102,
   "metadata": {
    "colab": {},
    "colab_type": "code",
    "id": "_quiulyHAWl4"
   },
   "outputs": [],
   "source": [
    "import matplotlib.pyplot as plt"
   ]
  },
  {
   "cell_type": "code",
   "execution_count": 103,
   "metadata": {
    "colab": {},
    "colab_type": "code",
    "id": "EF6FLOzvHQIe"
   },
   "outputs": [],
   "source": [
    "train.index = pd.to_datetime(train.index)\n",
    "test.index = pd.to_datetime(test.index)"
   ]
  },
  {
   "cell_type": "code",
   "execution_count": 104,
   "metadata": {
    "colab": {},
    "colab_type": "code",
    "id": "sW18-pODGmHJ"
   },
   "outputs": [],
   "source": [
    "train = train['Sales'].resample('MS').sum()\n",
    "test = test['Sales'].resample('MS').sum()"
   ]
  },
  {
   "cell_type": "code",
   "execution_count": 105,
   "metadata": {
    "colab": {
     "base_uri": "https://localhost:8080/",
     "height": 136
    },
    "colab_type": "code",
    "id": "9hIypa7YoT3o",
    "outputId": "917c8755-f133-4ae3-f2df-523322437928"
   },
   "outputs": [
    {
     "data": {
      "text/plain": [
       "Date\n",
       "2013-01-01    198562.603856\n",
       "2013-02-01    189830.319099\n",
       "2013-03-01    231466.767924\n",
       "2013-04-01    197156.315282\n",
       "2013-05-01    223986.238683\n",
       "Freq: MS, Name: Sales, dtype: float64"
      ]
     },
     "execution_count": 105,
     "metadata": {},
     "output_type": "execute_result"
    }
   ],
   "source": [
    "train.head()"
   ]
  },
  {
   "cell_type": "code",
   "execution_count": 106,
   "metadata": {
    "colab": {
     "base_uri": "https://localhost:8080/",
     "height": 308
    },
    "colab_type": "code",
    "id": "8DTPARu8Eho7",
    "outputId": "c6d97241-5e03-4a7d-861d-e5c02d0af221"
   },
   "outputs": [
    {
     "data": {
      "text/plain": [
       "<matplotlib.axes._subplots.AxesSubplot at 0x22e1250b348>"
      ]
     },
     "execution_count": 106,
     "metadata": {},
     "output_type": "execute_result"
    },
    {
     "data": {
      "image/png": "[encoded data removed]",
      "text/plain": [
       "<Figure size 1296x576 with 1 Axes>"
      ]
     },
     "metadata": {
      "needs_background": "light"
     },
     "output_type": "display_data"
    }
   ],
   "source": [
    "train.plot()"
   ]
  },
  {
   "cell_type": "markdown",
   "metadata": {
    "colab_type": "text",
    "id": "8hfOAPvRH6eu"
   },
   "source": [
    "### Seasonality Pattern: Sales Generally start rising during october peak at November and fall at January"
   ]
  },
  {
   "cell_type": "code",
   "execution_count": 107,
   "metadata": {
    "colab": {
     "base_uri": "https://localhost:8080/",
     "height": 605
    },
    "colab_type": "code",
    "id": "u_7Ht92oAho6",
    "outputId": "cf77512e-2510-4d07-d978-3d6b318896c6"
   },
   "outputs": [
    {
     "data": {
      "image/png": "[encoded data removed]",
      "text/plain": [
       "<Figure size 1296x576 with 4 Axes>"
      ]
     },
     "metadata": {
      "needs_background": "light"
     },
     "output_type": "display_data"
    }
   ],
   "source": [
    "from pylab import rcParams\n",
    "import statsmodels.api as sm\n",
    "rcParams['figure.figsize'] = 18, 8\n",
    "decomposition = sm.tsa.seasonal_decompose(train, model='additive')\n",
    "fig = decomposition.plot()\n",
    "plt.show()"
   ]
  },
  {
   "cell_type": "markdown",
   "metadata": {
    "colab_type": "text",
    "id": "TmH8UFaXJnB1"
   },
   "source": [
    "### Above shows the seasonality and the trend pattern\n",
    "\n",
    "## **Time series forecasting**\n",
    "\n",
    "### We need to check if time series is stationary or not\n",
    "**Use a Dickey-Fuller Test**"
   ]
  },
  {
   "cell_type": "code",
   "execution_count": 108,
   "metadata": {
    "colab": {},
    "colab_type": "code",
    "id": "z4tGH6XxA9kY"
   },
   "outputs": [],
   "source": [
    "from statsmodels.tsa.stattools import adfuller\n",
    "def test_stationarity(timeseries):\n",
    "    \n",
    "    #Determing rolling statistics\n",
    "    rolmean = timeseries.rolling(window=12).mean()\n",
    "    rolstd = timeseries.rolling(window=12).std()\n",
    "    #Plot rolling statistics:\n",
    "    orig = plt.plot(timeseries, color='blue',label='Original')\n",
    "    mean = plt.plot(rolmean, color='red', label='Rolling Mean')\n",
    "    std = plt.plot(rolstd, color='black', label = 'Rolling Std')\n",
    "    plt.legend(loc='best')\n",
    "    plt.xlabel('Month')\n",
    "    plt.ylabel('Sales')\n",
    "    plt.title('Rolling Mean & Standard Deviation')\n",
    "    plt.show(block=False)\n",
    "    #Perform Dickey-Fuller test:\n",
    "    print('Results of Dickey-Fuller Test:')\n",
    "    dftest = adfuller(timeseries, autolag='AIC')\n",
    "    dfoutput = pd.Series(dftest[0:4], index=['Test Statistic','p-value','#Lags Used','Number of Observations Used'])\n",
    "    for key,value in dftest[4].items():\n",
    "        dfoutput['Critical Value (%s)'%key] = value\n",
    "    print(dfoutput)"
   ]
  },
  {
   "cell_type": "code",
   "execution_count": 109,
   "metadata": {
    "colab": {
     "base_uri": "https://localhost:8080/",
     "height": 652
    },
    "colab_type": "code",
    "id": "kJDEAAjnJkqy",
    "outputId": "842fbc23-8bc4-402f-f494-e3abeb10418e"
   },
   "outputs": [
    {
     "data": {
      "image/png": "[encoded data removed]",
      "text/plain": [
       "<Figure size 1296x576 with 1 Axes>"
      ]
     },
     "metadata": {
      "needs_background": "light"
     },
     "output_type": "display_data"
    },
    {
     "name": "stdout",
     "output_type": "stream",
     "text": [
      "Results of Dickey-Fuller Test:\n",
      "Test Statistic                 -4.054360\n",
      "p-value                         0.001151\n",
      "#Lags Used                      1.000000\n",
      "Number of Observations Used    28.000000\n",
      "Critical Value (1%)            -3.688926\n",
      "Critical Value (5%)            -2.971989\n",
      "Critical Value (10%)           -2.625296\n",
      "dtype: float64\n"
     ]
    }
   ],
   "source": [
    "test_stationarity(train)"
   ]
  },
  {
   "cell_type": "markdown",
   "metadata": {
    "colab_type": "text",
    "id": "yQknldVPVzQk"
   },
   "source": [
    "### For a Time Series to be stationary following should NOT be present:\n",
    "#### ***1. Trend.***\n",
    "#### ***2. Seasonality.***\n",
    "\n",
    "### It can be concluded that the timeseries data is not stationary since:\n",
    "#### ***1. Mean is constant and not increasing as shown in the plot(i.e No trend).***\n",
    "#### ***2. There is a constant seasonality pattern.(i.e present seasonality).***\n",
    "\n",
    "### Although trend is absent, seasonality is there hence we need to make the time series stationary."
   ]
  },
  {
   "cell_type": "code",
   "execution_count": 110,
   "metadata": {
    "colab": {},
    "colab_type": "code",
    "id": "VNTCTiF8APcE"
   },
   "outputs": [],
   "source": [
    "train_log = np.log(train)"
   ]
  },
  {
   "cell_type": "markdown",
   "metadata": {
    "colab_type": "text",
    "id": "Hg8dZnOmd-8B"
   },
   "source": [
    "### Perform Differencing to eliminate any remaining trend"
   ]
  },
  {
   "cell_type": "code",
   "execution_count": 111,
   "metadata": {
    "colab": {
     "base_uri": "https://localhost:8080/",
     "height": 652
    },
    "colab_type": "code",
    "id": "DduA-_8fY5VK",
    "outputId": "256e0a26-6cd7-4b21-af61-befb43fd6300"
   },
   "outputs": [
    {
     "data": {
      "image/png": "[encoded data removed]",
      "text/plain": [
       "<Figure size 1296x576 with 1 Axes>"
      ]
     },
     "metadata": {
      "needs_background": "light"
     },
     "output_type": "display_data"
    },
    {
     "name": "stdout",
     "output_type": "stream",
     "text": [
      "Results of Dickey-Fuller Test:\n",
      "Test Statistic                 -2.244370\n",
      "p-value                         0.190537\n",
      "#Lags Used                      9.000000\n",
      "Number of Observations Used    19.000000\n",
      "Critical Value (1%)            -3.832603\n",
      "Critical Value (5%)            -3.031227\n",
      "Critical Value (10%)           -2.655520\n",
      "dtype: float64\n"
     ]
    }
   ],
   "source": [
    "train_log_diff = train_log - train_log.shift()\n",
    "train_log_diff.dropna(inplace=True)\n",
    "test_stationarity(train_log_diff)"
   ]
  },
  {
   "cell_type": "markdown",
   "metadata": {
    "colab_type": "text",
    "id": "29018mRpeMDW"
   },
   "source": [
    "### Perform Decomposition to remove seasonality"
   ]
  },
  {
   "cell_type": "code",
   "execution_count": 112,
   "metadata": {
    "colab": {},
    "colab_type": "code",
    "id": "OQA1kaUETawV"
   },
   "outputs": [],
   "source": [
    "from statsmodels.tsa.seasonal import seasonal_decompose\n",
    "decomposition = seasonal_decompose(train_log)\n",
    "\n",
    "trend = decomposition.trend\n",
    "seasonal = decomposition.seasonal\n",
    "residual = decomposition.resid"
   ]
  },
  {
   "cell_type": "code",
   "execution_count": 113,
   "metadata": {
    "colab": {
     "base_uri": "https://localhost:8080/",
     "height": 652
    },
    "colab_type": "code",
    "id": "M2YnvDDKRrK3",
    "outputId": "013ebcd0-8ec7-4b04-872a-1cabd4783f56"
   },
   "outputs": [
    {
     "data": {
      "image/png": "[encoded data removed]",
      "text/plain": [
       "<Figure size 1296x576 with 1 Axes>"
      ]
     },
     "metadata": {
      "needs_background": "light"
     },
     "output_type": "display_data"
    },
    {
     "name": "stdout",
     "output_type": "stream",
     "text": [
      "Results of Dickey-Fuller Test:\n",
      "Test Statistic                 -2.662559\n",
      "p-value                         0.080744\n",
      "#Lags Used                      7.000000\n",
      "Number of Observations Used    10.000000\n",
      "Critical Value (1%)            -4.331573\n",
      "Critical Value (5%)            -3.232950\n",
      "Critical Value (10%)           -2.748700\n",
      "dtype: float64\n"
     ]
    }
   ],
   "source": [
    "train_log_decompose = residual\n",
    "train_log_decompose.dropna(inplace=True)\n",
    "test_stationarity(train_log_decompose)"
   ]
  },
  {
   "cell_type": "markdown",
   "metadata": {
    "colab_type": "text",
    "id": "aTpXapj4jfZ3"
   },
   "source": [
    "### TAKE DIFFERENCE OF DECOMPOSITION ALSO[OTHERWISE YOU WILL NOT GET A STATIONARY MODEL]\n",
    "\n",
    "### This is because we need to Decompose to remove seasonality and take the difference to remove trend. Even a slightest amount of trend will create errors while running the ARIMA model."
   ]
  },
  {
   "cell_type": "code",
   "execution_count": 114,
   "metadata": {
    "colab": {},
    "colab_type": "code",
    "id": "yEFypzM0dWHJ"
   },
   "outputs": [],
   "source": [
    "train_log_decompose_diff = train_log_decompose - train_log_decompose.shift()\n",
    "train_log.dropna(inplace=True)"
   ]
  },
  {
   "cell_type": "code",
   "execution_count": 115,
   "metadata": {
    "colab": {
     "base_uri": "https://localhost:8080/",
     "height": 652
    },
    "colab_type": "code",
    "id": "k-PwjGy1wXy6",
    "outputId": "be6dac96-cd34-4f08-d223-53604406a858"
   },
   "outputs": [
    {
     "data": {
      "image/png": "[encoded data removed]",
      "text/plain": [
       "<Figure size 1296x576 with 1 Axes>"
      ]
     },
     "metadata": {
      "needs_background": "light"
     },
     "output_type": "display_data"
    },
    {
     "name": "stdout",
     "output_type": "stream",
     "text": [
      "Results of Dickey-Fuller Test:\n",
      "Test Statistic                -7.565892e+00\n",
      "p-value                        2.926556e-11\n",
      "#Lags Used                     0.000000e+00\n",
      "Number of Observations Used    1.600000e+01\n",
      "Critical Value (1%)           -3.924019e+00\n",
      "Critical Value (5%)           -3.068498e+00\n",
      "Critical Value (10%)          -2.673893e+00\n",
      "dtype: float64\n"
     ]
    }
   ],
   "source": [
    "train_log_decompose_diff.dropna(inplace = True)\n",
    "test_stationarity(train_log_decompose_diff)"
   ]
  },
  {
   "cell_type": "code",
   "execution_count": 116,
   "metadata": {
    "colab": {},
    "colab_type": "code",
    "id": "tB4ALvIkekp_"
   },
   "outputs": [],
   "source": [
    "# Compute Models\n",
    "from statsmodels.tsa.arima_model import ARIMA"
   ]
  },
  {
   "cell_type": "markdown",
   "metadata": {
    "colab_type": "text",
    "id": "QVpR1qfqeoDO"
   },
   "source": [
    "### AR Model"
   ]
  },
  {
   "cell_type": "code",
   "execution_count": 117,
   "metadata": {
    "colab": {
     "base_uri": "https://localhost:8080/",
     "height": 516
    },
    "colab_type": "code",
    "id": "-baomW5x1xLe",
    "outputId": "1cf6b196-412c-47f7-9029-e57d9e45f239"
   },
   "outputs": [
    {
     "data": {
      "text/plain": [
       "Text(0.5, 1.0, 'AR Model')"
      ]
     },
     "execution_count": 117,
     "metadata": {},
     "output_type": "execute_result"
    },
    {
     "data": {
      "image/png": "[encoded data removed]",
      "text/plain": [
       "<Figure size 1296x576 with 1 Axes>"
      ]
     },
     "metadata": {
      "needs_background": "light"
     },
     "output_type": "display_data"
    }
   ],
   "source": [
    "model = ARIMA(train_log_decompose, order=(2, 1, 0)) #Order for AR Model \n",
    "results_AR = model.fit(disp=-1) # fit the AR Model \n",
    "plt.plot(train_log_decompose_diff)\n",
    "plt.xlabel('Month')\n",
    "plt.ylabel('Sales')\n",
    "plt.plot(results_AR.fittedvalues, color='red')\n",
    "plt.title('AR Model')"
   ]
  },
  {
   "cell_type": "markdown",
   "metadata": {
    "colab_type": "text",
    "id": "l0P5ro9WevJQ"
   },
   "source": [
    "### MA Model"
   ]
  },
  {
   "cell_type": "code",
   "execution_count": 118,
   "metadata": {
    "colab": {
     "base_uri": "https://localhost:8080/",
     "height": 550
    },
    "colab_type": "code",
    "id": "kCMWogEbYZwx",
    "outputId": "7d5ff50f-b470-4ffb-8413-d294e01dbbd6"
   },
   "outputs": [
    {
     "data": {
      "text/plain": [
       "Text(0.5, 1.0, 'MA Model')"
      ]
     },
     "execution_count": 118,
     "metadata": {},
     "output_type": "execute_result"
    },
    {
     "data": {
      "image/png": "[encoded data removed]",
      "text/plain": [
       "<Figure size 1296x576 with 1 Axes>"
      ]
     },
     "metadata": {
      "needs_background": "light"
     },
     "output_type": "display_data"
    }
   ],
   "source": [
    "model = ARIMA(train_log, order=(0, 1, 2))  \n",
    "results_MA = model.fit(disp=-1)  \n",
    "plt.plot(train_log_diff)\n",
    "plt.xlabel('Month')\n",
    "plt.ylabel('Sales')\n",
    "plt.plot(results_MA.fittedvalues, color='red')\n",
    "plt.title('MA Model')"
   ]
  },
  {
   "cell_type": "markdown",
   "metadata": {
    "colab_type": "text",
    "id": "MUyM3_hle4EG"
   },
   "source": [
    "### ARIMA Model"
   ]
  },
  {
   "cell_type": "code",
   "execution_count": 0,
   "metadata": {
    "colab": {
     "base_uri": "https://localhost:8080/",
     "height": 550
    },
    "colab_type": "code",
    "id": "D6QF4rFBYh4E",
    "outputId": "14ffe28a-349f-4749-e48a-49efa76480d5"
   },
   "outputs": [
    {
     "name": "stderr",
     "output_type": "stream",
     "text": [
      "/usr/local/lib/python3.6/dist-packages/statsmodels/base/model.py:492: HessianInversionWarning: Inverting hessian failed, no bse or cov_params available\n",
      "  'available', HessianInversionWarning)\n"
     ]
    },
    {
     "data": {
      "text/plain": [
       "Text(0.5, 1.0, 'ARIMA MODEL')"
      ]
     },
     "execution_count": 30,
     "metadata": {
      "tags": []
     },
     "output_type": "execute_result"
    },
    {
     "data": {
      "image/png": "[encoded data removed]",
      "text/plain": [
       "<Figure size 1296x576 with 1 Axes>"
      ]
     },
     "metadata": {
      "tags": []
     },
     "output_type": "display_data"
    }
   ],
   "source": [
    "model = ARIMA(train_log_decompose, order=(2, 1, 2))  \n",
    "results_ARIMA = model.fit(disp=-1)  \n",
    "plt.plot(train_log_decompose_diff)\n",
    "plt.plot(results_ARIMA.fittedvalues, color='red')\n",
    "plt.title('ARIMA MODEL')"
   ]
  },
  {
   "cell_type": "markdown",
   "metadata": {
    "colab_type": "text",
    "id": "CF9JdmP7gMR5"
   },
   "source": [
    "### Rescaling & Forecasting"
   ]
  },
  {
   "cell_type": "code",
   "execution_count": 0,
   "metadata": {
    "colab": {
     "base_uri": "https://localhost:8080/",
     "height": 136
    },
    "colab_type": "code",
    "id": "YZFDQ3Mgb0f1",
    "outputId": "fcd68ba3-4deb-4c99-ca43-406a54b06695"
   },
   "outputs": [
    {
     "name": "stdout",
     "output_type": "stream",
     "text": [
      "Date\n",
      "2013-08-01    0.000111\n",
      "2013-09-01    0.011613\n",
      "2013-10-01    0.018336\n",
      "2013-11-01    0.002928\n",
      "2013-12-01    0.043572\n",
      "Freq: MS, dtype: float64\n"
     ]
    }
   ],
   "source": [
    "predictions_ARIMA_diff = pd.Series(results_ARIMA.fittedvalues, copy=True)\n",
    "print(predictions_ARIMA_diff.head())"
   ]
  },
  {
   "cell_type": "code",
   "execution_count": 0,
   "metadata": {
    "colab": {
     "base_uri": "https://localhost:8080/",
     "height": 136
    },
    "colab_type": "code",
    "id": "fixLc8Kjd37O",
    "outputId": "892a8b23-5c10-41dc-92bc-656c7956a1fa"
   },
   "outputs": [
    {
     "name": "stdout",
     "output_type": "stream",
     "text": [
      "Date\n",
      "2013-08-01    0.000111\n",
      "2013-09-01    0.011724\n",
      "2013-10-01    0.030059\n",
      "2013-11-01    0.032988\n",
      "2013-12-01    0.076560\n",
      "Freq: MS, dtype: float64\n"
     ]
    }
   ],
   "source": [
    "# Perform Cumulative summation\n",
    "predictions_ARIMA_diff_cumsum = predictions_ARIMA_diff.cumsum()\n",
    "print(predictions_ARIMA_diff_cumsum.head())"
   ]
  },
  {
   "cell_type": "code",
   "execution_count": 0,
   "metadata": {
    "colab": {
     "base_uri": "https://localhost:8080/",
     "height": 136
    },
    "colab_type": "code",
    "id": "UDpFBMtfgkwo",
    "outputId": "58383dc2-2d55-4b03-a79d-632365c37a67"
   },
   "outputs": [
    {
     "data": {
      "text/plain": [
       "Date\n",
       "2013-01-01    12.19886\n",
       "2013-02-01    12.19886\n",
       "2013-03-01    12.19886\n",
       "2013-04-01    12.19886\n",
       "2013-05-01    12.19886\n",
       "Freq: MS, dtype: float64"
      ]
     },
     "execution_count": 33,
     "metadata": {
      "tags": []
     },
     "output_type": "execute_result"
    }
   ],
   "source": [
    "predictions_ARIMA_log = pd.Series(train_log.ix[0], index=train_log.index)\n",
    "predictions_ARIMA_log = predictions_ARIMA_log.add(predictions_ARIMA_diff_cumsum,fill_value=0)\n",
    "predictions_ARIMA_log.head()"
   ]
  },
  {
   "cell_type": "code",
   "execution_count": 0,
   "metadata": {
    "colab": {
     "base_uri": "https://localhost:8080/",
     "height": 516
    },
    "colab_type": "code",
    "id": "-n-U3kopg1I8",
    "outputId": "46daa0e2-d8b0-4c38-fe4b-c073bd0406c1",
    "scrolled": false
   },
   "outputs": [
    {
     "data": {
      "text/plain": [
       "Text(0.5, 1.0, 'RMSE: 25811.3098')"
      ]
     },
     "execution_count": 34,
     "metadata": {
      "tags": []
     },
     "output_type": "execute_result"
    },
    {
     "data": {
      "image/png": "[encoded data removed]",
      "text/plain": [
       "<Figure size 1296x576 with 1 Axes>"
      ]
     },
     "metadata": {
      "tags": []
     },
     "output_type": "display_data"
    }
   ],
   "source": [
    "predictions_ARIMA = np.exp(predictions_ARIMA_log)\n",
    "plt.plot(train,label='Actual')\n",
    "plt.plot(predictions_ARIMA,label='Predicted')\n",
    "plt.legend(loc='best')\n",
    "plt.title('RMSE: %.4f'% np.sqrt(sum((predictions_ARIMA-train)**2)/len(train)))"
   ]
  },
  {
   "cell_type": "markdown",
   "metadata": {
    "colab_type": "text",
    "id": "G1Q9HO8coT4f"
   },
   "source": [
    "### Testing our model on test data"
   ]
  },
  {
   "cell_type": "code",
   "execution_count": 0,
   "metadata": {
    "colab": {},
    "colab_type": "code",
    "id": "axzIuwARhLrz"
   },
   "outputs": [],
   "source": [
    "forecast = results_ARIMA.forecast()[0]"
   ]
  },
  {
   "cell_type": "code",
   "execution_count": 0,
   "metadata": {
    "colab": {},
    "colab_type": "code",
    "id": "m79j-qqfoT4i"
   },
   "outputs": [],
   "source": [
    "predict = results_ARIMA.predict(start = 1,end = 24)"
   ]
  },
  {
   "cell_type": "code",
   "execution_count": 0,
   "metadata": {
    "colab": {
     "base_uri": "https://localhost:8080/",
     "height": 68
    },
    "colab_type": "code",
    "id": "GBabwWvRoT4j",
    "outputId": "0e8cf0f9-7814-4462-91c2-a335ba4b903d"
   },
   "outputs": [
    {
     "data": {
      "text/plain": [
       "Date\n",
       "2015-07-01    224777.868109\n",
       "Freq: MS, Name: Sales, dtype: float64"
      ]
     },
     "execution_count": 37,
     "metadata": {
      "tags": []
     },
     "output_type": "execute_result"
    }
   ],
   "source": [
    "test"
   ]
  },
  {
   "cell_type": "code",
   "execution_count": 0,
   "metadata": {
    "colab": {},
    "colab_type": "code",
    "id": "NZsmOyeeoT4l"
   },
   "outputs": [],
   "source": [
    "test_log = np.log(test)"
   ]
  },
  {
   "cell_type": "code",
   "execution_count": 0,
   "metadata": {
    "colab": {
     "base_uri": "https://localhost:8080/",
     "height": 442
    },
    "colab_type": "code",
    "id": "rMFQB8zWoT4o",
    "outputId": "286ca0b1-6527-405f-ab16-fc3d577d536c"
   },
   "outputs": [
    {
     "name": "stdout",
     "output_type": "stream",
     "text": [
      "2013-08-01    0.000111\n",
      "2013-09-01    0.011724\n",
      "2013-10-01    0.030059\n",
      "2013-11-01    0.032988\n",
      "2013-12-01    0.076560\n",
      "2014-01-01    0.047493\n",
      "2014-02-01    0.043024\n",
      "2014-03-01    0.047916\n",
      "2014-04-01    0.044384\n",
      "2014-05-01    0.048800\n",
      "2014-06-01    0.045991\n",
      "2014-07-01    0.050101\n",
      "2014-08-01    0.073868\n",
      "2014-09-01    0.081900\n",
      "2014-10-01    0.068337\n",
      "2014-11-01    0.072587\n",
      "2014-12-01    0.026737\n",
      "2015-01-01    0.052851\n",
      "2015-02-01    0.052284\n",
      "2015-03-01    0.040722\n",
      "2015-04-01    0.056499\n",
      "2015-05-01    0.041666\n",
      "2015-06-01    0.053844\n",
      "2015-07-01    0.045320\n",
      "Freq: MS, dtype: float64\n"
     ]
    }
   ],
   "source": [
    "# Perform Cumulative summation\n",
    "predictions_ARIMA_diff_cumsum_ = predict.cumsum()\n",
    "print(predictions_ARIMA_diff_cumsum_)"
   ]
  },
  {
   "cell_type": "code",
   "execution_count": 0,
   "metadata": {
    "colab": {},
    "colab_type": "code",
    "id": "EWquHKzWoT4p"
   },
   "outputs": [],
   "source": [
    "log = test_log + predictions_ARIMA_diff_cumsum_['2015-07-01']"
   ]
  },
  {
   "cell_type": "code",
   "execution_count": 0,
   "metadata": {
    "colab": {
     "base_uri": "https://localhost:8080/",
     "height": 34
    },
    "colab_type": "code",
    "id": "s39g-tAAoT4r",
    "outputId": "d7a83c65-4176-4985-acc4-01a2a9a826ea"
   },
   "outputs": [
    {
     "name": "stdout",
     "output_type": "stream",
     "text": [
      "Actual = 224777.86810928007 Forcasted = 235199.22773934022\n"
     ]
    }
   ],
   "source": [
    "forcasted = np.exp(log)\n",
    "print('Actual = {} Forcasted = {}'.format(test[0],forcasted[0]))"
   ]
  },
  {
   "cell_type": "code",
   "execution_count": 0,
   "metadata": {
    "colab": {},
    "colab_type": "code",
    "id": "xXqgSHh_oT4s"
   },
   "outputs": [],
   "source": [
    "predictions_ARIMA = predictions_ARIMA.append(forcasted)"
   ]
  },
  {
   "cell_type": "code",
   "execution_count": 0,
   "metadata": {
    "colab": {},
    "colab_type": "code",
    "id": "eqBohQpooT4t"
   },
   "outputs": [],
   "source": [
    "data = train.append(test)"
   ]
  },
  {
   "cell_type": "code",
   "execution_count": 0,
   "metadata": {
    "colab": {
     "base_uri": "https://localhost:8080/",
     "height": 516
    },
    "colab_type": "code",
    "id": "BQ8fvgwyoT4v",
    "outputId": "87f42b09-00d5-40cd-f684-da8bfff31249"
   },
   "outputs": [
    {
     "data": {
      "text/plain": [
       "Text(0.5, 1.0, 'RMSE: 25460.4793')"
      ]
     },
     "execution_count": 44,
     "metadata": {
      "tags": []
     },
     "output_type": "execute_result"
    },
    {
     "data": {
      "image/png": "[encoded data removed]",
      "text/plain": [
       "<Figure size 1296x576 with 1 Axes>"
      ]
     },
     "metadata": {
      "tags": []
     },
     "output_type": "display_data"
    }
   ],
   "source": [
    "plt.plot(data,label='Actual')\n",
    "plt.plot(predictions_ARIMA,label='Predicted')\n",
    "plt.legend(loc='best')\n",
    "plt.title('RMSE: %.4f'% np.sqrt(sum((predictions_ARIMA-data)**2)/len(data)))"
   ]
  },
  {
   "cell_type": "markdown",
   "metadata": {
    "colab_type": "text",
    "id": "iJlK2-qLoT4y"
   },
   "source": [
    "### So, this is our ARIMA Model plot which shows how the data has been fit. The model has a good fit while not overfitting too much nor underfitting. The RMSE is 25460.47"
   ]
  },
  {
   "cell_type": "code",
   "execution_count": 0,
   "metadata": {
    "colab": {
     "base_uri": "https://localhost:8080/",
     "height": 34
    },
    "colab_type": "code",
    "id": "P3rw5ckEuW7O",
    "outputId": "2d81a2fa-8d1d-4b6c-b84e-a10fdf4af7d4"
   },
   "outputs": [
    {
     "data": {
      "text/plain": [
       "18051.207798500072"
      ]
     },
     "execution_count": 61,
     "metadata": {
      "tags": []
     },
     "output_type": "execute_result"
    }
   ],
   "source": [
    "from sklearn.metrics import mean_absolute_error\n",
    "mean_absolute_error(predictions_ARIMA,data)"
   ]
  },
  {
   "cell_type": "markdown",
   "metadata": {
    "colab_type": "text",
    "id": "-Uek1oy1yhUH"
   },
   "source": [
    "### ARIMA MODEL\n",
    "\n",
    "| Model | RMSE | MAE |\n",
    "| --- | --- | -- |\n",
    "| ARIMA| 25460.47 | 18051.20|"
   ]
  },
  {
   "cell_type": "markdown",
   "metadata": {
    "colab_type": "text",
    "id": "vjUZeRT8oT4z"
   },
   "source": [
    "## End of Week 2"
   ]
  },
  {
   "cell_type": "code",
   "execution_count": 0,
   "metadata": {
    "colab": {},
    "colab_type": "code",
    "id": "hPqPNz-HoT44"
   },
   "outputs": [],
   "source": []
  },
  {
   "cell_type": "code",
   "execution_count": 0,
   "metadata": {
    "colab": {},
    "colab_type": "code",
    "id": "e8PMHd9coT46"
   },
   "outputs": [],
   "source": []
  }
 ],
 "metadata": {
  "accelerator": "GPU",
  "colab": {
   "collapsed_sections": [],
   "name": "Week 2.ipynb",
   "provenance": []
  },
  "kernelspec": {
   "display_name": "Python 3",
   "language": "python",
   "name": "python3"
  },
  "language_info": {
   "codemirror_mode": {
    "name": "ipython",
    "version": 3
   },
   "file_extension": ".py",
   "mimetype": "text/x-python",
   "name": "python",
   "nbconvert_exporter": "python",
   "pygments_lexer": "ipython3",
   "version": "3.7.4"
  }
 },
 "nbformat": 4,
 "nbformat_minor": 1
}
