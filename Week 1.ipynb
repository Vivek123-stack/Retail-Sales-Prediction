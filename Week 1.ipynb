{
 "cells": [
  {
   "cell_type": "markdown",
   "metadata": {
    "colab_type": "text",
    "id": "BoR_FycyHRig"
   },
   "source": [
    "***Project Owner : Sujay Torvi , Email me at sujay.torvi@gmail.com\n",
    "Copyright © 2019***"
   ]
  },
  {
   "cell_type": "markdown",
   "metadata": {
    "colab_type": "text",
    "id": "gJEOLEY-HRii"
   },
   "source": [
    "# AI Capstone Project\n",
    "## Domain: Retail\n",
    "## Problem Statement\n",
    "\n",
    "***Demand Forecast is one of the key tasks in Supply Chain and Retail Domain in general. It is key in effective operation and optimization of retail supply chain. Effectively solving this problem requires knowledge about a wide range of tricks in Data Sciences and good understanding of ensemble techniques.***\n",
    "***You are required to predict sales for each Store-Day level for one month. All the features will be provided and actual sales that happened during that month will also be provided for model evaluation.***"
   ]
  },
  {
   "cell_type": "markdown",
   "metadata": {},
   "source": [
    "## Agenda For Week 1\n",
    "### Exploratory Data Analysis (EDA) and Linear Regression:\n",
    "\n",
    "### 1.      Transform the variables by using data manipulation techniques like, One-Hot Encoding \n",
    "### 2.      Perform an EDA (Exploratory Data Analysis) to see the impact of variables over Sales.\n",
    "### 3.      Apply Linear Regression to predict the forecast and evaluate different accuracy metrices like RMSE (Root Mean Squared Error) and MAE(Mean Absolute Error) and determine which metric makes more sense. Can there be a better accuracy metric?\n",
    "####   a) Train a single model for all stores, using storeId as a feature.***\n",
    "####   b) Train separate model for each store.\n",
    "####   c) Which performs better and Why? [In the first case, parameters are shared and not very free but not in second case]\n",
    "####   d) Try Ensemble of b) and c). What are the findings?\n",
    "####   e) Use Regularized Regression. It should perform better in an unseen test set. Any insights??\n",
    "####   f) Open-ended modeling to get possible predictions."
   ]
  },
  {
   "cell_type": "code",
   "execution_count": 1,
   "metadata": {
    "colab": {},
    "colab_type": "code",
    "id": "HnM9_tWMHRil"
   },
   "outputs": [],
   "source": [
    "#Import libraries"
   ]
  },
  {
   "cell_type": "code",
   "execution_count": 2,
   "metadata": {
    "colab": {},
    "colab_type": "code",
    "id": "gZBMvMPXHRit"
   },
   "outputs": [],
   "source": [
    "import numpy as np\n",
    "import pandas as pd"
   ]
  },
  {
   "cell_type": "code",
   "execution_count": 3,
   "metadata": {
    "colab": {
     "base_uri": "https://localhost:8080/",
     "height": 71
    },
    "colab_type": "code",
    "id": "4BYyId72HRiz",
    "outputId": "84712daa-4030-419e-f6c8-127389c35109"
   },
   "outputs": [
    {
     "name": "stderr",
     "output_type": "stream",
     "text": [
      "C:\\Users\\sujay\\Anaconda3\\lib\\site-packages\\IPython\\core\\interactiveshell.py:3058: DtypeWarning: Columns (7) have mixed types. Specify dtype option on import or set low_memory=False.\n",
      "  interactivity=interactivity, compiler=compiler, result=result)\n"
     ]
    }
   ],
   "source": [
    "#loading data\n",
    "data = pd.read_csv('train_data.csv')"
   ]
  },
  {
   "cell_type": "code",
   "execution_count": 4,
   "metadata": {
    "colab": {
     "base_uri": "https://localhost:8080/",
     "height": 204
    },
    "colab_type": "code",
    "id": "bOBamu1EHRi7",
    "outputId": "15fb3396-9b7f-4d7c-a5c7-2784f3cee266"
   },
   "outputs": [
    {
     "data": {
      "text/html": [
       "<div>\n",
       "<style scoped>\n",
       "    .dataframe tbody tr th:only-of-type {\n",
       "        vertical-align: middle;\n",
       "    }\n",
       "\n",
       "    .dataframe tbody tr th {\n",
       "        vertical-align: top;\n",
       "    }\n",
       "\n",
       "    .dataframe thead th {\n",
       "        text-align: right;\n",
       "    }\n",
       "</style>\n",
       "<table border=\"1\" class=\"dataframe\">\n",
       "  <thead>\n",
       "    <tr style=\"text-align: right;\">\n",
       "      <th></th>\n",
       "      <th>Store</th>\n",
       "      <th>DayOfWeek</th>\n",
       "      <th>Date</th>\n",
       "      <th>Sales</th>\n",
       "      <th>Customers</th>\n",
       "      <th>Open</th>\n",
       "      <th>Promo</th>\n",
       "      <th>StateHoliday</th>\n",
       "      <th>SchoolHoliday</th>\n",
       "    </tr>\n",
       "  </thead>\n",
       "  <tbody>\n",
       "    <tr>\n",
       "      <td>0</td>\n",
       "      <td>1</td>\n",
       "      <td>2</td>\n",
       "      <td>2015-06-30</td>\n",
       "      <td>5735</td>\n",
       "      <td>568</td>\n",
       "      <td>1</td>\n",
       "      <td>1</td>\n",
       "      <td>0</td>\n",
       "      <td>0</td>\n",
       "    </tr>\n",
       "    <tr>\n",
       "      <td>1</td>\n",
       "      <td>2</td>\n",
       "      <td>2</td>\n",
       "      <td>2015-06-30</td>\n",
       "      <td>9863</td>\n",
       "      <td>877</td>\n",
       "      <td>1</td>\n",
       "      <td>1</td>\n",
       "      <td>0</td>\n",
       "      <td>0</td>\n",
       "    </tr>\n",
       "    <tr>\n",
       "      <td>2</td>\n",
       "      <td>3</td>\n",
       "      <td>2</td>\n",
       "      <td>2015-06-30</td>\n",
       "      <td>13261</td>\n",
       "      <td>1072</td>\n",
       "      <td>1</td>\n",
       "      <td>1</td>\n",
       "      <td>0</td>\n",
       "      <td>1</td>\n",
       "    </tr>\n",
       "    <tr>\n",
       "      <td>3</td>\n",
       "      <td>4</td>\n",
       "      <td>2</td>\n",
       "      <td>2015-06-30</td>\n",
       "      <td>13106</td>\n",
       "      <td>1488</td>\n",
       "      <td>1</td>\n",
       "      <td>1</td>\n",
       "      <td>0</td>\n",
       "      <td>0</td>\n",
       "    </tr>\n",
       "    <tr>\n",
       "      <td>4</td>\n",
       "      <td>5</td>\n",
       "      <td>2</td>\n",
       "      <td>2015-06-30</td>\n",
       "      <td>6635</td>\n",
       "      <td>645</td>\n",
       "      <td>1</td>\n",
       "      <td>1</td>\n",
       "      <td>0</td>\n",
       "      <td>0</td>\n",
       "    </tr>\n",
       "  </tbody>\n",
       "</table>\n",
       "</div>"
      ],
      "text/plain": [
       "   Store  DayOfWeek        Date  Sales  Customers  Open  Promo StateHoliday  \\\n",
       "0      1          2  2015-06-30   5735        568     1      1            0   \n",
       "1      2          2  2015-06-30   9863        877     1      1            0   \n",
       "2      3          2  2015-06-30  13261       1072     1      1            0   \n",
       "3      4          2  2015-06-30  13106       1488     1      1            0   \n",
       "4      5          2  2015-06-30   6635        645     1      1            0   \n",
       "\n",
       "   SchoolHoliday  \n",
       "0              0  \n",
       "1              0  \n",
       "2              1  \n",
       "3              0  \n",
       "4              0  "
      ]
     },
     "execution_count": 4,
     "metadata": {},
     "output_type": "execute_result"
    }
   ],
   "source": [
    "data.head(5)"
   ]
  },
  {
   "cell_type": "markdown",
   "metadata": {
    "colab_type": "text",
    "id": "CcnyjLTYHRi_"
   },
   "source": [
    "### 1.Transform the variables by using data manipulation techniques like, One-Hot Encoding "
   ]
  },
  {
   "cell_type": "code",
   "execution_count": 5,
   "metadata": {
    "colab": {
     "base_uri": "https://localhost:8080/",
     "height": 187
    },
    "colab_type": "code",
    "id": "tHlI-ov4HRjA",
    "outputId": "76b8cb86-863e-4694-f243-371de19a887c"
   },
   "outputs": [
    {
     "data": {
      "text/plain": [
       "Store            982644\n",
       "DayOfWeek        982644\n",
       "Date             982644\n",
       "Sales            982644\n",
       "Customers        982644\n",
       "Open             982644\n",
       "Promo            982644\n",
       "StateHoliday     982644\n",
       "SchoolHoliday    982644\n",
       "dtype: int64"
      ]
     },
     "execution_count": 5,
     "metadata": {},
     "output_type": "execute_result"
    }
   ],
   "source": [
    "data.isnull().count() #Data seems to be clean with no null values"
   ]
  },
  {
   "cell_type": "code",
   "execution_count": 6,
   "metadata": {
    "colab": {
     "base_uri": "https://localhost:8080/",
     "height": 34
    },
    "colab_type": "code",
    "id": "9pU7pOSMHRjD",
    "outputId": "d5625c2d-5a28-4d35-e546-30bec7dcdf4a"
   },
   "outputs": [
    {
     "data": {
      "text/plain": [
       "array([2, 1, 7, 6, 5, 4, 3], dtype=int64)"
      ]
     },
     "execution_count": 6,
     "metadata": {},
     "output_type": "execute_result"
    }
   ],
   "source": [
    "data.DayOfWeek.unique() \n",
    "#We find some categories in the week variable\n",
    "#This pertains to which day of week for eg Monday - 1,Tuesday - 2 and so on"
   ]
  },
  {
   "cell_type": "code",
   "execution_count": 7,
   "metadata": {
    "colab": {
     "base_uri": "https://localhost:8080/",
     "height": 34
    },
    "colab_type": "code",
    "id": "ZeqQWkzSHRjG",
    "outputId": "b734a164-7780-46f2-99be-23738e315d8d"
   },
   "outputs": [
    {
     "data": {
      "text/plain": [
       "array([1, 0], dtype=int64)"
      ]
     },
     "execution_count": 7,
     "metadata": {},
     "output_type": "execute_result"
    }
   ],
   "source": [
    "data.Open.unique()"
   ]
  },
  {
   "cell_type": "code",
   "execution_count": 8,
   "metadata": {
    "colab": {
     "base_uri": "https://localhost:8080/",
     "height": 34
    },
    "colab_type": "code",
    "id": "RIo1soZ4HRjO",
    "outputId": "2c8f76a3-772e-4739-df94-2a09b720deba"
   },
   "outputs": [
    {
     "data": {
      "text/plain": [
       "array([1, 0], dtype=int64)"
      ]
     },
     "execution_count": 8,
     "metadata": {},
     "output_type": "execute_result"
    }
   ],
   "source": [
    "data.Promo.unique()"
   ]
  },
  {
   "cell_type": "code",
   "execution_count": 9,
   "metadata": {
    "colab": {
     "base_uri": "https://localhost:8080/",
     "height": 34
    },
    "colab_type": "code",
    "id": "nWxU1jAfHRjV",
    "outputId": "a20102e5-7ca5-4c46-fc0e-97064e34ed2e"
   },
   "outputs": [
    {
     "data": {
      "text/plain": [
       "array(['0', 'a', 'b', 'c', 0], dtype=object)"
      ]
     },
     "execution_count": 9,
     "metadata": {},
     "output_type": "execute_result"
    }
   ],
   "source": [
    "data.StateHoliday.unique() #Here we find duplicate 0 and '0', lets clean it!"
   ]
  },
  {
   "cell_type": "code",
   "execution_count": 10,
   "metadata": {
    "colab": {},
    "colab_type": "code",
    "id": "lgg4rS9fHRjZ"
   },
   "outputs": [],
   "source": [
    "def cleanHoliday(x):\n",
    "    if(x == 0):\n",
    "        x = '0'\n",
    "    return x"
   ]
  },
  {
   "cell_type": "code",
   "execution_count": 11,
   "metadata": {
    "colab": {},
    "colab_type": "code",
    "id": "vyIAifMJHRjc"
   },
   "outputs": [],
   "source": [
    "data.StateHoliday = data.StateHoliday.map(cleanHoliday)"
   ]
  },
  {
   "cell_type": "code",
   "execution_count": 12,
   "metadata": {
    "colab": {
     "base_uri": "https://localhost:8080/",
     "height": 34
    },
    "colab_type": "code",
    "id": "aNhLIvu5HRjg",
    "outputId": "34837cd8-434d-4a02-c052-e4ea8216985d"
   },
   "outputs": [
    {
     "data": {
      "text/plain": [
       "array(['0', 'a', 'b', 'c'], dtype=object)"
      ]
     },
     "execution_count": 12,
     "metadata": {},
     "output_type": "execute_result"
    }
   ],
   "source": [
    "data.StateHoliday.unique() #So now we have no duplicates"
   ]
  },
  {
   "cell_type": "code",
   "execution_count": 13,
   "metadata": {
    "colab": {
     "base_uri": "https://localhost:8080/",
     "height": 34
    },
    "colab_type": "code",
    "id": "7-MYpy--HRjj",
    "outputId": "87689f06-0a6a-4115-8579-14ac5d6e6202"
   },
   "outputs": [
    {
     "data": {
      "text/plain": [
       "array([0, 1], dtype=int64)"
      ]
     },
     "execution_count": 13,
     "metadata": {},
     "output_type": "execute_result"
    }
   ],
   "source": [
    "data.SchoolHoliday.unique()"
   ]
  },
  {
   "cell_type": "code",
   "execution_count": 14,
   "metadata": {
    "colab": {},
    "colab_type": "code",
    "id": "i9vU8dD9HRjm"
   },
   "outputs": [],
   "source": [
    "olddata = data #creation of old dataframe because we are adding onehot encoding to orignal dataframe\n",
    "olddata.Promo = olddata.Promo.astype(str) "
   ]
  },
  {
   "cell_type": "code",
   "execution_count": 15,
   "metadata": {
    "colab": {},
    "colab_type": "code",
    "id": "2L0JQJaCHRjq"
   },
   "outputs": [],
   "source": [
    "#we can onehot encode 2 attributes - DayOfWeek and StateHoliday"
   ]
  },
  {
   "cell_type": "code",
   "execution_count": 16,
   "metadata": {
    "colab": {
     "base_uri": "https://localhost:8080/",
     "height": 204
    },
    "colab_type": "code",
    "id": "_yjZDtWYHRjt",
    "outputId": "cc1766a5-5cb9-41a8-aeba-fc77c03b002a"
   },
   "outputs": [
    {
     "data": {
      "text/html": [
       "<div>\n",
       "<style scoped>\n",
       "    .dataframe tbody tr th:only-of-type {\n",
       "        vertical-align: middle;\n",
       "    }\n",
       "\n",
       "    .dataframe tbody tr th {\n",
       "        vertical-align: top;\n",
       "    }\n",
       "\n",
       "    .dataframe thead th {\n",
       "        text-align: right;\n",
       "    }\n",
       "</style>\n",
       "<table border=\"1\" class=\"dataframe\">\n",
       "  <thead>\n",
       "    <tr style=\"text-align: right;\">\n",
       "      <th></th>\n",
       "      <th>1</th>\n",
       "      <th>2</th>\n",
       "      <th>3</th>\n",
       "      <th>4</th>\n",
       "      <th>5</th>\n",
       "      <th>6</th>\n",
       "      <th>7</th>\n",
       "    </tr>\n",
       "  </thead>\n",
       "  <tbody>\n",
       "    <tr>\n",
       "      <td>0</td>\n",
       "      <td>0</td>\n",
       "      <td>1</td>\n",
       "      <td>0</td>\n",
       "      <td>0</td>\n",
       "      <td>0</td>\n",
       "      <td>0</td>\n",
       "      <td>0</td>\n",
       "    </tr>\n",
       "    <tr>\n",
       "      <td>1</td>\n",
       "      <td>0</td>\n",
       "      <td>1</td>\n",
       "      <td>0</td>\n",
       "      <td>0</td>\n",
       "      <td>0</td>\n",
       "      <td>0</td>\n",
       "      <td>0</td>\n",
       "    </tr>\n",
       "    <tr>\n",
       "      <td>2</td>\n",
       "      <td>0</td>\n",
       "      <td>1</td>\n",
       "      <td>0</td>\n",
       "      <td>0</td>\n",
       "      <td>0</td>\n",
       "      <td>0</td>\n",
       "      <td>0</td>\n",
       "    </tr>\n",
       "    <tr>\n",
       "      <td>3</td>\n",
       "      <td>0</td>\n",
       "      <td>1</td>\n",
       "      <td>0</td>\n",
       "      <td>0</td>\n",
       "      <td>0</td>\n",
       "      <td>0</td>\n",
       "      <td>0</td>\n",
       "    </tr>\n",
       "    <tr>\n",
       "      <td>4</td>\n",
       "      <td>0</td>\n",
       "      <td>1</td>\n",
       "      <td>0</td>\n",
       "      <td>0</td>\n",
       "      <td>0</td>\n",
       "      <td>0</td>\n",
       "      <td>0</td>\n",
       "    </tr>\n",
       "  </tbody>\n",
       "</table>\n",
       "</div>"
      ],
      "text/plain": [
       "   1  2  3  4  5  6  7\n",
       "0  0  1  0  0  0  0  0\n",
       "1  0  1  0  0  0  0  0\n",
       "2  0  1  0  0  0  0  0\n",
       "3  0  1  0  0  0  0  0\n",
       "4  0  1  0  0  0  0  0"
      ]
     },
     "execution_count": 16,
     "metadata": {},
     "output_type": "execute_result"
    }
   ],
   "source": [
    "#onehot encode for DayOfWeek Attribute\n",
    "dummy_1 = pd.get_dummies(data.DayOfWeek)\n",
    "dummy_1.head()\n",
    "#onehot encoded matrix"
   ]
  },
  {
   "cell_type": "code",
   "execution_count": 17,
   "metadata": {
    "colab": {
     "base_uri": "https://localhost:8080/",
     "height": 204
    },
    "colab_type": "code",
    "id": "kuvYeVNrHRjx",
    "outputId": "d08c1647-76bd-48f9-9ebc-48975c5a13a6"
   },
   "outputs": [
    {
     "data": {
      "text/html": [
       "<div>\n",
       "<style scoped>\n",
       "    .dataframe tbody tr th:only-of-type {\n",
       "        vertical-align: middle;\n",
       "    }\n",
       "\n",
       "    .dataframe tbody tr th {\n",
       "        vertical-align: top;\n",
       "    }\n",
       "\n",
       "    .dataframe thead th {\n",
       "        text-align: right;\n",
       "    }\n",
       "</style>\n",
       "<table border=\"1\" class=\"dataframe\">\n",
       "  <thead>\n",
       "    <tr style=\"text-align: right;\">\n",
       "      <th></th>\n",
       "      <th>0</th>\n",
       "      <th>a</th>\n",
       "      <th>b</th>\n",
       "      <th>c</th>\n",
       "    </tr>\n",
       "  </thead>\n",
       "  <tbody>\n",
       "    <tr>\n",
       "      <td>0</td>\n",
       "      <td>1</td>\n",
       "      <td>0</td>\n",
       "      <td>0</td>\n",
       "      <td>0</td>\n",
       "    </tr>\n",
       "    <tr>\n",
       "      <td>1</td>\n",
       "      <td>1</td>\n",
       "      <td>0</td>\n",
       "      <td>0</td>\n",
       "      <td>0</td>\n",
       "    </tr>\n",
       "    <tr>\n",
       "      <td>2</td>\n",
       "      <td>1</td>\n",
       "      <td>0</td>\n",
       "      <td>0</td>\n",
       "      <td>0</td>\n",
       "    </tr>\n",
       "    <tr>\n",
       "      <td>3</td>\n",
       "      <td>1</td>\n",
       "      <td>0</td>\n",
       "      <td>0</td>\n",
       "      <td>0</td>\n",
       "    </tr>\n",
       "    <tr>\n",
       "      <td>4</td>\n",
       "      <td>1</td>\n",
       "      <td>0</td>\n",
       "      <td>0</td>\n",
       "      <td>0</td>\n",
       "    </tr>\n",
       "  </tbody>\n",
       "</table>\n",
       "</div>"
      ],
      "text/plain": [
       "   0  a  b  c\n",
       "0  1  0  0  0\n",
       "1  1  0  0  0\n",
       "2  1  0  0  0\n",
       "3  1  0  0  0\n",
       "4  1  0  0  0"
      ]
     },
     "execution_count": 17,
     "metadata": {},
     "output_type": "execute_result"
    }
   ],
   "source": [
    "#onehot encode for StateHoliday\n",
    "dummy_2 = pd.get_dummies(data.StateHoliday)\n",
    "dummy_2.head()\n",
    "#onehot encoded matrix"
   ]
  },
  {
   "cell_type": "code",
   "execution_count": 18,
   "metadata": {
    "colab": {},
    "colab_type": "code",
    "id": "FhJzRURNHRj0"
   },
   "outputs": [],
   "source": [
    "#merge all onehot encoded dataframes"
   ]
  },
  {
   "cell_type": "code",
   "execution_count": 19,
   "metadata": {
    "colab": {},
    "colab_type": "code",
    "id": "ZjOuvG_-HRj4"
   },
   "outputs": [],
   "source": [
    "data = data.join(dummy_1)"
   ]
  },
  {
   "cell_type": "code",
   "execution_count": 20,
   "metadata": {
    "colab": {},
    "colab_type": "code",
    "id": "J7qInBnGHRj-"
   },
   "outputs": [],
   "source": [
    "data = data.join(dummy_2)"
   ]
  },
  {
   "cell_type": "code",
   "execution_count": 21,
   "metadata": {
    "colab": {
     "base_uri": "https://localhost:8080/",
     "height": 204
    },
    "colab_type": "code",
    "id": "prm3ZD8FHRkF",
    "outputId": "f9e03dd9-73be-4910-9e68-4fff9d2c3570"
   },
   "outputs": [
    {
     "data": {
      "text/html": [
       "<div>\n",
       "<style scoped>\n",
       "    .dataframe tbody tr th:only-of-type {\n",
       "        vertical-align: middle;\n",
       "    }\n",
       "\n",
       "    .dataframe tbody tr th {\n",
       "        vertical-align: top;\n",
       "    }\n",
       "\n",
       "    .dataframe thead th {\n",
       "        text-align: right;\n",
       "    }\n",
       "</style>\n",
       "<table border=\"1\" class=\"dataframe\">\n",
       "  <thead>\n",
       "    <tr style=\"text-align: right;\">\n",
       "      <th></th>\n",
       "      <th>Store</th>\n",
       "      <th>DayOfWeek</th>\n",
       "      <th>Date</th>\n",
       "      <th>Sales</th>\n",
       "      <th>Customers</th>\n",
       "      <th>Open</th>\n",
       "      <th>Promo</th>\n",
       "      <th>StateHoliday</th>\n",
       "      <th>SchoolHoliday</th>\n",
       "      <th>1</th>\n",
       "      <th>2</th>\n",
       "      <th>3</th>\n",
       "      <th>4</th>\n",
       "      <th>5</th>\n",
       "      <th>6</th>\n",
       "      <th>7</th>\n",
       "      <th>0</th>\n",
       "      <th>a</th>\n",
       "      <th>b</th>\n",
       "      <th>c</th>\n",
       "    </tr>\n",
       "  </thead>\n",
       "  <tbody>\n",
       "    <tr>\n",
       "      <td>0</td>\n",
       "      <td>1</td>\n",
       "      <td>2</td>\n",
       "      <td>2015-06-30</td>\n",
       "      <td>5735</td>\n",
       "      <td>568</td>\n",
       "      <td>1</td>\n",
       "      <td>1</td>\n",
       "      <td>0</td>\n",
       "      <td>0</td>\n",
       "      <td>0</td>\n",
       "      <td>1</td>\n",
       "      <td>0</td>\n",
       "      <td>0</td>\n",
       "      <td>0</td>\n",
       "      <td>0</td>\n",
       "      <td>0</td>\n",
       "      <td>1</td>\n",
       "      <td>0</td>\n",
       "      <td>0</td>\n",
       "      <td>0</td>\n",
       "    </tr>\n",
       "    <tr>\n",
       "      <td>1</td>\n",
       "      <td>2</td>\n",
       "      <td>2</td>\n",
       "      <td>2015-06-30</td>\n",
       "      <td>9863</td>\n",
       "      <td>877</td>\n",
       "      <td>1</td>\n",
       "      <td>1</td>\n",
       "      <td>0</td>\n",
       "      <td>0</td>\n",
       "      <td>0</td>\n",
       "      <td>1</td>\n",
       "      <td>0</td>\n",
       "      <td>0</td>\n",
       "      <td>0</td>\n",
       "      <td>0</td>\n",
       "      <td>0</td>\n",
       "      <td>1</td>\n",
       "      <td>0</td>\n",
       "      <td>0</td>\n",
       "      <td>0</td>\n",
       "    </tr>\n",
       "    <tr>\n",
       "      <td>2</td>\n",
       "      <td>3</td>\n",
       "      <td>2</td>\n",
       "      <td>2015-06-30</td>\n",
       "      <td>13261</td>\n",
       "      <td>1072</td>\n",
       "      <td>1</td>\n",
       "      <td>1</td>\n",
       "      <td>0</td>\n",
       "      <td>1</td>\n",
       "      <td>0</td>\n",
       "      <td>1</td>\n",
       "      <td>0</td>\n",
       "      <td>0</td>\n",
       "      <td>0</td>\n",
       "      <td>0</td>\n",
       "      <td>0</td>\n",
       "      <td>1</td>\n",
       "      <td>0</td>\n",
       "      <td>0</td>\n",
       "      <td>0</td>\n",
       "    </tr>\n",
       "    <tr>\n",
       "      <td>3</td>\n",
       "      <td>4</td>\n",
       "      <td>2</td>\n",
       "      <td>2015-06-30</td>\n",
       "      <td>13106</td>\n",
       "      <td>1488</td>\n",
       "      <td>1</td>\n",
       "      <td>1</td>\n",
       "      <td>0</td>\n",
       "      <td>0</td>\n",
       "      <td>0</td>\n",
       "      <td>1</td>\n",
       "      <td>0</td>\n",
       "      <td>0</td>\n",
       "      <td>0</td>\n",
       "      <td>0</td>\n",
       "      <td>0</td>\n",
       "      <td>1</td>\n",
       "      <td>0</td>\n",
       "      <td>0</td>\n",
       "      <td>0</td>\n",
       "    </tr>\n",
       "    <tr>\n",
       "      <td>4</td>\n",
       "      <td>5</td>\n",
       "      <td>2</td>\n",
       "      <td>2015-06-30</td>\n",
       "      <td>6635</td>\n",
       "      <td>645</td>\n",
       "      <td>1</td>\n",
       "      <td>1</td>\n",
       "      <td>0</td>\n",
       "      <td>0</td>\n",
       "      <td>0</td>\n",
       "      <td>1</td>\n",
       "      <td>0</td>\n",
       "      <td>0</td>\n",
       "      <td>0</td>\n",
       "      <td>0</td>\n",
       "      <td>0</td>\n",
       "      <td>1</td>\n",
       "      <td>0</td>\n",
       "      <td>0</td>\n",
       "      <td>0</td>\n",
       "    </tr>\n",
       "  </tbody>\n",
       "</table>\n",
       "</div>"
      ],
      "text/plain": [
       "   Store  DayOfWeek        Date  Sales  Customers  Open Promo StateHoliday  \\\n",
       "0      1          2  2015-06-30   5735        568     1     1            0   \n",
       "1      2          2  2015-06-30   9863        877     1     1            0   \n",
       "2      3          2  2015-06-30  13261       1072     1     1            0   \n",
       "3      4          2  2015-06-30  13106       1488     1     1            0   \n",
       "4      5          2  2015-06-30   6635        645     1     1            0   \n",
       "\n",
       "   SchoolHoliday  1  2  3  4  5  6  7  0  a  b  c  \n",
       "0              0  0  1  0  0  0  0  0  1  0  0  0  \n",
       "1              0  0  1  0  0  0  0  0  1  0  0  0  \n",
       "2              1  0  1  0  0  0  0  0  1  0  0  0  \n",
       "3              0  0  1  0  0  0  0  0  1  0  0  0  \n",
       "4              0  0  1  0  0  0  0  0  1  0  0  0  "
      ]
     },
     "execution_count": 21,
     "metadata": {},
     "output_type": "execute_result"
    }
   ],
   "source": [
    "data.head(5)"
   ]
  },
  {
   "cell_type": "code",
   "execution_count": 22,
   "metadata": {
    "colab": {},
    "colab_type": "code",
    "id": "5b3I-j08HRkL"
   },
   "outputs": [],
   "source": [
    "#Now Drop DayOfWeek and StateHoliday"
   ]
  },
  {
   "cell_type": "code",
   "execution_count": 23,
   "metadata": {
    "colab": {},
    "colab_type": "code",
    "id": "gmDb1sZSHRkP"
   },
   "outputs": [],
   "source": [
    "data = data.drop(['DayOfWeek','StateHoliday'],axis = 1)"
   ]
  },
  {
   "cell_type": "code",
   "execution_count": 24,
   "metadata": {
    "colab": {
     "base_uri": "https://localhost:8080/",
     "height": 204
    },
    "colab_type": "code",
    "id": "tMbMfMMBHRkS",
    "outputId": "30137133-4a2c-4115-8339-935b7fec49cf"
   },
   "outputs": [
    {
     "data": {
      "text/html": [
       "<div>\n",
       "<style scoped>\n",
       "    .dataframe tbody tr th:only-of-type {\n",
       "        vertical-align: middle;\n",
       "    }\n",
       "\n",
       "    .dataframe tbody tr th {\n",
       "        vertical-align: top;\n",
       "    }\n",
       "\n",
       "    .dataframe thead th {\n",
       "        text-align: right;\n",
       "    }\n",
       "</style>\n",
       "<table border=\"1\" class=\"dataframe\">\n",
       "  <thead>\n",
       "    <tr style=\"text-align: right;\">\n",
       "      <th></th>\n",
       "      <th>Store</th>\n",
       "      <th>Date</th>\n",
       "      <th>Sales</th>\n",
       "      <th>Customers</th>\n",
       "      <th>Open</th>\n",
       "      <th>Promo</th>\n",
       "      <th>SchoolHoliday</th>\n",
       "      <th>1</th>\n",
       "      <th>2</th>\n",
       "      <th>3</th>\n",
       "      <th>4</th>\n",
       "      <th>5</th>\n",
       "      <th>6</th>\n",
       "      <th>7</th>\n",
       "      <th>0</th>\n",
       "      <th>a</th>\n",
       "      <th>b</th>\n",
       "      <th>c</th>\n",
       "    </tr>\n",
       "  </thead>\n",
       "  <tbody>\n",
       "    <tr>\n",
       "      <td>0</td>\n",
       "      <td>1</td>\n",
       "      <td>2015-06-30</td>\n",
       "      <td>5735</td>\n",
       "      <td>568</td>\n",
       "      <td>1</td>\n",
       "      <td>1</td>\n",
       "      <td>0</td>\n",
       "      <td>0</td>\n",
       "      <td>1</td>\n",
       "      <td>0</td>\n",
       "      <td>0</td>\n",
       "      <td>0</td>\n",
       "      <td>0</td>\n",
       "      <td>0</td>\n",
       "      <td>1</td>\n",
       "      <td>0</td>\n",
       "      <td>0</td>\n",
       "      <td>0</td>\n",
       "    </tr>\n",
       "    <tr>\n",
       "      <td>1</td>\n",
       "      <td>2</td>\n",
       "      <td>2015-06-30</td>\n",
       "      <td>9863</td>\n",
       "      <td>877</td>\n",
       "      <td>1</td>\n",
       "      <td>1</td>\n",
       "      <td>0</td>\n",
       "      <td>0</td>\n",
       "      <td>1</td>\n",
       "      <td>0</td>\n",
       "      <td>0</td>\n",
       "      <td>0</td>\n",
       "      <td>0</td>\n",
       "      <td>0</td>\n",
       "      <td>1</td>\n",
       "      <td>0</td>\n",
       "      <td>0</td>\n",
       "      <td>0</td>\n",
       "    </tr>\n",
       "    <tr>\n",
       "      <td>2</td>\n",
       "      <td>3</td>\n",
       "      <td>2015-06-30</td>\n",
       "      <td>13261</td>\n",
       "      <td>1072</td>\n",
       "      <td>1</td>\n",
       "      <td>1</td>\n",
       "      <td>1</td>\n",
       "      <td>0</td>\n",
       "      <td>1</td>\n",
       "      <td>0</td>\n",
       "      <td>0</td>\n",
       "      <td>0</td>\n",
       "      <td>0</td>\n",
       "      <td>0</td>\n",
       "      <td>1</td>\n",
       "      <td>0</td>\n",
       "      <td>0</td>\n",
       "      <td>0</td>\n",
       "    </tr>\n",
       "    <tr>\n",
       "      <td>3</td>\n",
       "      <td>4</td>\n",
       "      <td>2015-06-30</td>\n",
       "      <td>13106</td>\n",
       "      <td>1488</td>\n",
       "      <td>1</td>\n",
       "      <td>1</td>\n",
       "      <td>0</td>\n",
       "      <td>0</td>\n",
       "      <td>1</td>\n",
       "      <td>0</td>\n",
       "      <td>0</td>\n",
       "      <td>0</td>\n",
       "      <td>0</td>\n",
       "      <td>0</td>\n",
       "      <td>1</td>\n",
       "      <td>0</td>\n",
       "      <td>0</td>\n",
       "      <td>0</td>\n",
       "    </tr>\n",
       "    <tr>\n",
       "      <td>4</td>\n",
       "      <td>5</td>\n",
       "      <td>2015-06-30</td>\n",
       "      <td>6635</td>\n",
       "      <td>645</td>\n",
       "      <td>1</td>\n",
       "      <td>1</td>\n",
       "      <td>0</td>\n",
       "      <td>0</td>\n",
       "      <td>1</td>\n",
       "      <td>0</td>\n",
       "      <td>0</td>\n",
       "      <td>0</td>\n",
       "      <td>0</td>\n",
       "      <td>0</td>\n",
       "      <td>1</td>\n",
       "      <td>0</td>\n",
       "      <td>0</td>\n",
       "      <td>0</td>\n",
       "    </tr>\n",
       "  </tbody>\n",
       "</table>\n",
       "</div>"
      ],
      "text/plain": [
       "   Store        Date  Sales  Customers  Open Promo  SchoolHoliday  1  2  3  4  \\\n",
       "0      1  2015-06-30   5735        568     1     1              0  0  1  0  0   \n",
       "1      2  2015-06-30   9863        877     1     1              0  0  1  0  0   \n",
       "2      3  2015-06-30  13261       1072     1     1              1  0  1  0  0   \n",
       "3      4  2015-06-30  13106       1488     1     1              0  0  1  0  0   \n",
       "4      5  2015-06-30   6635        645     1     1              0  0  1  0  0   \n",
       "\n",
       "   5  6  7  0  a  b  c  \n",
       "0  0  0  0  1  0  0  0  \n",
       "1  0  0  0  1  0  0  0  \n",
       "2  0  0  0  1  0  0  0  \n",
       "3  0  0  0  1  0  0  0  \n",
       "4  0  0  0  1  0  0  0  "
      ]
     },
     "execution_count": 24,
     "metadata": {},
     "output_type": "execute_result"
    }
   ],
   "source": [
    "data.head(5)"
   ]
  },
  {
   "cell_type": "markdown",
   "metadata": {
    "colab_type": "text",
    "id": "r9gcfsA4HRkW"
   },
   "source": [
    "### 2.Perform an EDA (Exploratory Data Analysis) to see the impact of variables over Sales."
   ]
  },
  {
   "cell_type": "code",
   "execution_count": 25,
   "metadata": {
    "colab": {},
    "colab_type": "code",
    "id": "V9-HFTrnHRkX"
   },
   "outputs": [],
   "source": [
    "import matplotlib.pyplot as plt\n",
    "%matplotlib inline\n",
    "plt.style.use('ggplot')"
   ]
  },
  {
   "cell_type": "code",
   "execution_count": 26,
   "metadata": {
    "colab": {},
    "colab_type": "code",
    "id": "aexgAdRCHRka"
   },
   "outputs": [],
   "source": [
    "df = data.sample(20000)"
   ]
  },
  {
   "cell_type": "code",
   "execution_count": 0,
   "metadata": {
    "colab": {},
    "colab_type": "code",
    "id": "jYJP8zMAHRkc"
   },
   "outputs": [],
   "source": [
    "x = list(df.Customers)\n",
    "y = list(df.Sales)"
   ]
  },
  {
   "cell_type": "code",
   "execution_count": 136,
   "metadata": {
    "colab": {
     "base_uri": "https://localhost:8080/",
     "height": 316
    },
    "colab_type": "code",
    "id": "IXL5Fo6UHRkf",
    "outputId": "6dd0f85c-ea03-493d-ee18-0dacd4cd5abf"
   },
   "outputs": [
    {
     "data": {
      "text/plain": [
       "Text(0.5, 1.0, 'Amount Sales vs. No. of Customers')"
      ]
     },
     "execution_count": 136,
     "metadata": {
      "tags": []
     },
     "output_type": "execute_result"
    },
    {
     "data": {
      "image/png": "[encoded data removed]",
      "text/plain": [
       "<Figure size 432x288 with 1 Axes>"
      ]
     },
     "metadata": {
      "tags": []
     },
     "output_type": "display_data"
    }
   ],
   "source": [
    "plt.bar(x,y)\n",
    "plt.xlabel(\"No. of Customers\")\n",
    "plt.ylabel(\"Sales\")\n",
    "plt.title('Amount Sales vs. No. of Customers')"
   ]
  },
  {
   "cell_type": "markdown",
   "metadata": {
    "colab_type": "text",
    "id": "Hr3Ubq4DHRki"
   },
   "source": [
    "### Analysis: Amount. of sales is directly proportional to the no. of customers"
   ]
  },
  {
   "cell_type": "code",
   "execution_count": 0,
   "metadata": {
    "colab": {},
    "colab_type": "code",
    "id": "ibfwU3wnHRkj"
   },
   "outputs": [],
   "source": [
    "df = olddata.head(50000)\n",
    "x = list(df.DayOfWeek)\n",
    "y = list(df.Sales)"
   ]
  },
  {
   "cell_type": "code",
   "execution_count": 138,
   "metadata": {
    "colab": {
     "base_uri": "https://localhost:8080/",
     "height": 316
    },
    "colab_type": "code",
    "id": "9SgSt-75HRkn",
    "outputId": "0b522f60-98b3-42c2-9bc3-774c06692d8c"
   },
   "outputs": [
    {
     "data": {
      "text/plain": [
       "Text(0.5, 1.0, 'Amount Sales vs. Day of the Week')"
      ]
     },
     "execution_count": 138,
     "metadata": {
      "tags": []
     },
     "output_type": "execute_result"
    },
    {
     "data": {
      "image/png": "[encoded data removed]",
      "text/plain": [
       "<Figure size 432x288 with 1 Axes>"
      ]
     },
     "metadata": {
      "tags": []
     },
     "output_type": "display_data"
    }
   ],
   "source": [
    "plt.bar(x,y)\n",
    "plt.xlabel(\"Day of the Week\")\n",
    "plt.ylabel(\"Sales\")\n",
    "plt.title('Amount Sales vs. Day of the Week')"
   ]
  },
  {
   "cell_type": "markdown",
   "metadata": {
    "colab_type": "text",
    "id": "JXXnKUc7HRkr"
   },
   "source": [
    "### Analysis: Day 1 Records highest sale followed by Day 7"
   ]
  },
  {
   "cell_type": "code",
   "execution_count": 27,
   "metadata": {
    "colab": {},
    "colab_type": "code",
    "id": "5BM2XN27HRks"
   },
   "outputs": [],
   "source": [
    "df = olddata.sample(1000)\n",
    "x = list(df.Promo)\n",
    "y = list(df.Sales)"
   ]
  },
  {
   "cell_type": "code",
   "execution_count": 28,
   "metadata": {
    "colab": {
     "base_uri": "https://localhost:8080/",
     "height": 316
    },
    "colab_type": "code",
    "id": "4Hy7l1yrHRkv",
    "outputId": "4dfe327a-40d1-447c-bfdc-9e13e9b4c558"
   },
   "outputs": [
    {
     "data": {
      "text/plain": [
       "Text(0.5, 1.0, 'Amount Sales vs. Offers')"
      ]
     },
     "execution_count": 28,
     "metadata": {},
     "output_type": "execute_result"
    },
    {
     "data": {
      "image/png": "[encoded data removed]",
      "text/plain": [
       "<Figure size 432x288 with 1 Axes>"
      ]
     },
     "metadata": {
      "needs_background": "light"
     },
     "output_type": "display_data"
    }
   ],
   "source": [
    "plt.bar(x,y)\n",
    "plt.xlabel(\"Promotional Offer(1-offer given, 0-offer not given)\")\n",
    "plt.ylabel(\"Sales\")\n",
    "plt.title('Amount Sales vs. Offers')"
   ]
  },
  {
   "cell_type": "markdown",
   "metadata": {
    "colab_type": "text",
    "id": "CkOH3JJbHRky"
   },
   "source": [
    "### Analysis: More Sales Occured when Promotional Offer was Given then when it wasn't"
   ]
  },
  {
   "cell_type": "code",
   "execution_count": 29,
   "metadata": {
    "colab": {},
    "colab_type": "code",
    "id": "i-tqd5MvHRkz"
   },
   "outputs": [],
   "source": [
    "df = olddata.sample(10000)\n",
    "x = list(df.StateHoliday)\n",
    "y = list(df.Sales)"
   ]
  },
  {
   "cell_type": "code",
   "execution_count": 30,
   "metadata": {
    "colab": {
     "base_uri": "https://localhost:8080/",
     "height": 316
    },
    "colab_type": "code",
    "id": "ytbhdCRQHRk2",
    "outputId": "d466b2a6-a2c1-4c27-c1c9-5482426eaa23"
   },
   "outputs": [
    {
     "data": {
      "text/plain": [
       "Text(0.5, 1.0, 'Amount Sales vs. State Holiday')"
      ]
     },
     "execution_count": 30,
     "metadata": {},
     "output_type": "execute_result"
    },
    {
     "data": {
      "image/png": "[encoded data removed]",
      "text/plain": [
       "<Figure size 432x288 with 1 Axes>"
      ]
     },
     "metadata": {
      "needs_background": "light"
     },
     "output_type": "display_data"
    }
   ],
   "source": [
    "plt.bar(x,y)\n",
    "plt.xlabel(\"Holiday\")\n",
    "plt.ylabel(\"Sales\")\n",
    "plt.title('Amount Sales vs. State Holiday')"
   ]
  },
  {
   "cell_type": "markdown",
   "metadata": {
    "colab_type": "text",
    "id": "bRkqiB9nHRk5"
   },
   "source": [
    "### Analysis: People shopped more on \"0\" holiday"
   ]
  },
  {
   "cell_type": "code",
   "execution_count": 0,
   "metadata": {
    "colab": {},
    "colab_type": "code",
    "id": "ejyRO4n9HRk6"
   },
   "outputs": [],
   "source": [
    "df.SchoolHoliday = df.SchoolHoliday.astype(str)"
   ]
  },
  {
   "cell_type": "code",
   "execution_count": 0,
   "metadata": {
    "colab": {},
    "colab_type": "code",
    "id": "03Jv9ehRHRk9"
   },
   "outputs": [],
   "source": [
    "x = list(df.SchoolHoliday)\n",
    "y = list(df.Sales)"
   ]
  },
  {
   "cell_type": "code",
   "execution_count": 38,
   "metadata": {
    "colab": {
     "base_uri": "https://localhost:8080/",
     "height": 316
    },
    "colab_type": "code",
    "id": "WWgtszLtHRlC",
    "outputId": "4b3c663c-5534-4541-e254-8dd3bf8e5c5c"
   },
   "outputs": [
    {
     "data": {
      "text/plain": [
       "Text(0.5, 1.0, 'Amount Sales vs. School Holiday')"
      ]
     },
     "execution_count": 38,
     "metadata": {
      "tags": []
     },
     "output_type": "execute_result"
    },
    {
     "data": {
      "image/png": "[encoded data removed]",
      "text/plain": [
       "<Figure size 432x288 with 1 Axes>"
      ]
     },
     "metadata": {
      "tags": []
     },
     "output_type": "display_data"
    }
   ],
   "source": [
    "plt.bar(x,y)\n",
    "plt.xlabel(\"Holiday\")\n",
    "plt.ylabel(\"Sales\")\n",
    "plt.title('Amount Sales vs. School Holiday')"
   ]
  },
  {
   "cell_type": "markdown",
   "metadata": {
    "colab_type": "text",
    "id": "NgfudlSPHRlF"
   },
   "source": [
    "### Analysis: People shopped less during school holiday than normal"
   ]
  },
  {
   "cell_type": "markdown",
   "metadata": {
    "colab_type": "text",
    "id": "umVYAk34HRlG"
   },
   "source": [
    "### 3.Apply Linear Regression to predict the forecast and evaluate different accuracy metrices like RMSE (Root Mean Squared Error) and MAE(Mean Absolute Error) and determine which metric makes more sense.   \n",
    "\n",
    "### a.Train a single model for all stores, using storeId as a feature."
   ]
  },
  {
   "cell_type": "code",
   "execution_count": 0,
   "metadata": {
    "colab": {},
    "colab_type": "code",
    "id": "sLR1gru5HRlH"
   },
   "outputs": [],
   "source": [
    "import sklearn"
   ]
  },
  {
   "cell_type": "code",
   "execution_count": 40,
   "metadata": {
    "colab": {
     "base_uri": "https://localhost:8080/",
     "height": 71
    },
    "colab_type": "code",
    "id": "GFkZuH5NHRlM",
    "outputId": "fd20ac44-78d7-4332-d863-20b72bdb4fbe"
   },
   "outputs": [
    {
     "name": "stderr",
     "output_type": "stream",
     "text": [
      "/usr/local/lib/python3.6/dist-packages/IPython/core/interactiveshell.py:2718: DtypeWarning: Columns (7) have mixed types. Specify dtype option on import or set low_memory=False.\n",
      "  interactivity=interactivity, compiler=compiler, result=result)\n"
     ]
    }
   ],
   "source": [
    "train = pd.read_csv('train_data.csv')"
   ]
  },
  {
   "cell_type": "code",
   "execution_count": 41,
   "metadata": {
    "colab": {
     "base_uri": "https://localhost:8080/",
     "height": 204
    },
    "colab_type": "code",
    "id": "vFNiA3F-HRlS",
    "outputId": "2e40a314-4bcd-420f-c988-dbc830f697d0"
   },
   "outputs": [
    {
     "data": {
      "text/html": [
       "<div>\n",
       "<style scoped>\n",
       "    .dataframe tbody tr th:only-of-type {\n",
       "        vertical-align: middle;\n",
       "    }\n",
       "\n",
       "    .dataframe tbody tr th {\n",
       "        vertical-align: top;\n",
       "    }\n",
       "\n",
       "    .dataframe thead th {\n",
       "        text-align: right;\n",
       "    }\n",
       "</style>\n",
       "<table border=\"1\" class=\"dataframe\">\n",
       "  <thead>\n",
       "    <tr style=\"text-align: right;\">\n",
       "      <th></th>\n",
       "      <th>Store</th>\n",
       "      <th>DayOfWeek</th>\n",
       "      <th>Date</th>\n",
       "      <th>Sales</th>\n",
       "      <th>Customers</th>\n",
       "      <th>Open</th>\n",
       "      <th>Promo</th>\n",
       "      <th>StateHoliday</th>\n",
       "      <th>SchoolHoliday</th>\n",
       "    </tr>\n",
       "  </thead>\n",
       "  <tbody>\n",
       "    <tr>\n",
       "      <th>0</th>\n",
       "      <td>1</td>\n",
       "      <td>2</td>\n",
       "      <td>2015-06-30</td>\n",
       "      <td>5735</td>\n",
       "      <td>568</td>\n",
       "      <td>1</td>\n",
       "      <td>1</td>\n",
       "      <td>0</td>\n",
       "      <td>0</td>\n",
       "    </tr>\n",
       "    <tr>\n",
       "      <th>1</th>\n",
       "      <td>2</td>\n",
       "      <td>2</td>\n",
       "      <td>2015-06-30</td>\n",
       "      <td>9863</td>\n",
       "      <td>877</td>\n",
       "      <td>1</td>\n",
       "      <td>1</td>\n",
       "      <td>0</td>\n",
       "      <td>0</td>\n",
       "    </tr>\n",
       "    <tr>\n",
       "      <th>2</th>\n",
       "      <td>3</td>\n",
       "      <td>2</td>\n",
       "      <td>2015-06-30</td>\n",
       "      <td>13261</td>\n",
       "      <td>1072</td>\n",
       "      <td>1</td>\n",
       "      <td>1</td>\n",
       "      <td>0</td>\n",
       "      <td>1</td>\n",
       "    </tr>\n",
       "    <tr>\n",
       "      <th>3</th>\n",
       "      <td>4</td>\n",
       "      <td>2</td>\n",
       "      <td>2015-06-30</td>\n",
       "      <td>13106</td>\n",
       "      <td>1488</td>\n",
       "      <td>1</td>\n",
       "      <td>1</td>\n",
       "      <td>0</td>\n",
       "      <td>0</td>\n",
       "    </tr>\n",
       "    <tr>\n",
       "      <th>4</th>\n",
       "      <td>5</td>\n",
       "      <td>2</td>\n",
       "      <td>2015-06-30</td>\n",
       "      <td>6635</td>\n",
       "      <td>645</td>\n",
       "      <td>1</td>\n",
       "      <td>1</td>\n",
       "      <td>0</td>\n",
       "      <td>0</td>\n",
       "    </tr>\n",
       "  </tbody>\n",
       "</table>\n",
       "</div>"
      ],
      "text/plain": [
       "   Store  DayOfWeek        Date  Sales  ...  Open  Promo  StateHoliday SchoolHoliday\n",
       "0      1          2  2015-06-30   5735  ...     1      1             0             0\n",
       "1      2          2  2015-06-30   9863  ...     1      1             0             0\n",
       "2      3          2  2015-06-30  13261  ...     1      1             0             1\n",
       "3      4          2  2015-06-30  13106  ...     1      1             0             0\n",
       "4      5          2  2015-06-30   6635  ...     1      1             0             0\n",
       "\n",
       "[5 rows x 9 columns]"
      ]
     },
     "execution_count": 41,
     "metadata": {
      "tags": []
     },
     "output_type": "execute_result"
    }
   ],
   "source": [
    "train.head()"
   ]
  },
  {
   "cell_type": "code",
   "execution_count": 42,
   "metadata": {
    "colab": {
     "base_uri": "https://localhost:8080/",
     "height": 119
    },
    "colab_type": "code",
    "id": "NOAcwSWvHRlV",
    "outputId": "fa563b81-2858-462e-8deb-065873299828"
   },
   "outputs": [
    {
     "data": {
      "text/plain": [
       "0    1\n",
       "1    2\n",
       "2    3\n",
       "3    4\n",
       "4    5\n",
       "Name: Store, dtype: int64"
      ]
     },
     "execution_count": 42,
     "metadata": {
      "tags": []
     },
     "output_type": "execute_result"
    }
   ],
   "source": [
    "X_train = (train.Store)\n",
    "X_train.head()"
   ]
  },
  {
   "cell_type": "code",
   "execution_count": 43,
   "metadata": {
    "colab": {
     "base_uri": "https://localhost:8080/",
     "height": 204
    },
    "colab_type": "code",
    "id": "5E8FQ-FmHRlZ",
    "outputId": "4889e2bd-4460-4561-ce23-c2d346702f2d"
   },
   "outputs": [
    {
     "data": {
      "text/html": [
       "<div>\n",
       "<style scoped>\n",
       "    .dataframe tbody tr th:only-of-type {\n",
       "        vertical-align: middle;\n",
       "    }\n",
       "\n",
       "    .dataframe tbody tr th {\n",
       "        vertical-align: top;\n",
       "    }\n",
       "\n",
       "    .dataframe thead th {\n",
       "        text-align: right;\n",
       "    }\n",
       "</style>\n",
       "<table border=\"1\" class=\"dataframe\">\n",
       "  <thead>\n",
       "    <tr style=\"text-align: right;\">\n",
       "      <th></th>\n",
       "      <th>Store</th>\n",
       "      <th>DayOfWeek</th>\n",
       "      <th>Date</th>\n",
       "      <th>Sales</th>\n",
       "      <th>Customers</th>\n",
       "      <th>Open</th>\n",
       "      <th>Promo</th>\n",
       "      <th>StateHoliday</th>\n",
       "      <th>SchoolHoliday</th>\n",
       "    </tr>\n",
       "  </thead>\n",
       "  <tbody>\n",
       "    <tr>\n",
       "      <th>0</th>\n",
       "      <td>1</td>\n",
       "      <td>5</td>\n",
       "      <td>2015-07-31</td>\n",
       "      <td>5263</td>\n",
       "      <td>555</td>\n",
       "      <td>1</td>\n",
       "      <td>1</td>\n",
       "      <td>0</td>\n",
       "      <td>1</td>\n",
       "    </tr>\n",
       "    <tr>\n",
       "      <th>1</th>\n",
       "      <td>2</td>\n",
       "      <td>5</td>\n",
       "      <td>2015-07-31</td>\n",
       "      <td>6064</td>\n",
       "      <td>625</td>\n",
       "      <td>1</td>\n",
       "      <td>1</td>\n",
       "      <td>0</td>\n",
       "      <td>1</td>\n",
       "    </tr>\n",
       "    <tr>\n",
       "      <th>2</th>\n",
       "      <td>3</td>\n",
       "      <td>5</td>\n",
       "      <td>2015-07-31</td>\n",
       "      <td>8314</td>\n",
       "      <td>821</td>\n",
       "      <td>1</td>\n",
       "      <td>1</td>\n",
       "      <td>0</td>\n",
       "      <td>1</td>\n",
       "    </tr>\n",
       "    <tr>\n",
       "      <th>3</th>\n",
       "      <td>4</td>\n",
       "      <td>5</td>\n",
       "      <td>2015-07-31</td>\n",
       "      <td>13995</td>\n",
       "      <td>1498</td>\n",
       "      <td>1</td>\n",
       "      <td>1</td>\n",
       "      <td>0</td>\n",
       "      <td>1</td>\n",
       "    </tr>\n",
       "    <tr>\n",
       "      <th>4</th>\n",
       "      <td>5</td>\n",
       "      <td>5</td>\n",
       "      <td>2015-07-31</td>\n",
       "      <td>4822</td>\n",
       "      <td>559</td>\n",
       "      <td>1</td>\n",
       "      <td>1</td>\n",
       "      <td>0</td>\n",
       "      <td>1</td>\n",
       "    </tr>\n",
       "  </tbody>\n",
       "</table>\n",
       "</div>"
      ],
      "text/plain": [
       "   Store  DayOfWeek        Date  ...  Promo  StateHoliday  SchoolHoliday\n",
       "0      1          5  2015-07-31  ...      1             0              1\n",
       "1      2          5  2015-07-31  ...      1             0              1\n",
       "2      3          5  2015-07-31  ...      1             0              1\n",
       "3      4          5  2015-07-31  ...      1             0              1\n",
       "4      5          5  2015-07-31  ...      1             0              1\n",
       "\n",
       "[5 rows x 9 columns]"
      ]
     },
     "execution_count": 43,
     "metadata": {
      "tags": []
     },
     "output_type": "execute_result"
    }
   ],
   "source": [
    "test = pd.read_csv('test_data_hidden.csv')\n",
    "test.head()"
   ]
  },
  {
   "cell_type": "code",
   "execution_count": 44,
   "metadata": {
    "colab": {
     "base_uri": "https://localhost:8080/",
     "height": 204
    },
    "colab_type": "code",
    "id": "bbJ-0YR-HRlf",
    "outputId": "45452acd-1580-4835-ef41-e9ce73b89c7e"
   },
   "outputs": [
    {
     "data": {
      "text/html": [
       "<div>\n",
       "<style scoped>\n",
       "    .dataframe tbody tr th:only-of-type {\n",
       "        vertical-align: middle;\n",
       "    }\n",
       "\n",
       "    .dataframe tbody tr th {\n",
       "        vertical-align: top;\n",
       "    }\n",
       "\n",
       "    .dataframe thead th {\n",
       "        text-align: right;\n",
       "    }\n",
       "</style>\n",
       "<table border=\"1\" class=\"dataframe\">\n",
       "  <thead>\n",
       "    <tr style=\"text-align: right;\">\n",
       "      <th></th>\n",
       "      <th>Store</th>\n",
       "    </tr>\n",
       "  </thead>\n",
       "  <tbody>\n",
       "    <tr>\n",
       "      <th>0</th>\n",
       "      <td>1</td>\n",
       "    </tr>\n",
       "    <tr>\n",
       "      <th>1</th>\n",
       "      <td>2</td>\n",
       "    </tr>\n",
       "    <tr>\n",
       "      <th>2</th>\n",
       "      <td>3</td>\n",
       "    </tr>\n",
       "    <tr>\n",
       "      <th>3</th>\n",
       "      <td>4</td>\n",
       "    </tr>\n",
       "    <tr>\n",
       "      <th>4</th>\n",
       "      <td>5</td>\n",
       "    </tr>\n",
       "  </tbody>\n",
       "</table>\n",
       "</div>"
      ],
      "text/plain": [
       "   Store\n",
       "0      1\n",
       "1      2\n",
       "2      3\n",
       "3      4\n",
       "4      5"
      ]
     },
     "execution_count": 44,
     "metadata": {
      "tags": []
     },
     "output_type": "execute_result"
    }
   ],
   "source": [
    "X_test = pd.DataFrame(test.Store)\n",
    "X_test.head()"
   ]
  },
  {
   "cell_type": "code",
   "execution_count": 45,
   "metadata": {
    "colab": {
     "base_uri": "https://localhost:8080/",
     "height": 119
    },
    "colab_type": "code",
    "id": "QFOAGNPhHRlh",
    "outputId": "22ef1c9a-8189-4571-a176-a6a6a154f3db"
   },
   "outputs": [
    {
     "data": {
      "text/plain": [
       "0     5735\n",
       "1     9863\n",
       "2    13261\n",
       "3    13106\n",
       "4     6635\n",
       "Name: Sales, dtype: int64"
      ]
     },
     "execution_count": 45,
     "metadata": {
      "tags": []
     },
     "output_type": "execute_result"
    }
   ],
   "source": [
    "y_train = (train.Sales)\n",
    "y_train.head()"
   ]
  },
  {
   "cell_type": "code",
   "execution_count": 46,
   "metadata": {
    "colab": {
     "base_uri": "https://localhost:8080/",
     "height": 204
    },
    "colab_type": "code",
    "id": "C0kwZ03dHRlk",
    "outputId": "ff31c5bd-71ae-4add-8ffb-1b794248f86a"
   },
   "outputs": [
    {
     "data": {
      "text/html": [
       "<div>\n",
       "<style scoped>\n",
       "    .dataframe tbody tr th:only-of-type {\n",
       "        vertical-align: middle;\n",
       "    }\n",
       "\n",
       "    .dataframe tbody tr th {\n",
       "        vertical-align: top;\n",
       "    }\n",
       "\n",
       "    .dataframe thead th {\n",
       "        text-align: right;\n",
       "    }\n",
       "</style>\n",
       "<table border=\"1\" class=\"dataframe\">\n",
       "  <thead>\n",
       "    <tr style=\"text-align: right;\">\n",
       "      <th></th>\n",
       "      <th>Sales</th>\n",
       "    </tr>\n",
       "  </thead>\n",
       "  <tbody>\n",
       "    <tr>\n",
       "      <th>0</th>\n",
       "      <td>5263</td>\n",
       "    </tr>\n",
       "    <tr>\n",
       "      <th>1</th>\n",
       "      <td>6064</td>\n",
       "    </tr>\n",
       "    <tr>\n",
       "      <th>2</th>\n",
       "      <td>8314</td>\n",
       "    </tr>\n",
       "    <tr>\n",
       "      <th>3</th>\n",
       "      <td>13995</td>\n",
       "    </tr>\n",
       "    <tr>\n",
       "      <th>4</th>\n",
       "      <td>4822</td>\n",
       "    </tr>\n",
       "  </tbody>\n",
       "</table>\n",
       "</div>"
      ],
      "text/plain": [
       "   Sales\n",
       "0   5263\n",
       "1   6064\n",
       "2   8314\n",
       "3  13995\n",
       "4   4822"
      ]
     },
     "execution_count": 46,
     "metadata": {
      "tags": []
     },
     "output_type": "execute_result"
    }
   ],
   "source": [
    "y_test = pd.DataFrame(test.Sales)\n",
    "y_test.head()"
   ]
  },
  {
   "cell_type": "code",
   "execution_count": 0,
   "metadata": {
    "colab": {},
    "colab_type": "code",
    "id": "V0b17kubHRlr"
   },
   "outputs": [],
   "source": [
    "from sklearn.linear_model import LinearRegression"
   ]
  },
  {
   "cell_type": "code",
   "execution_count": 0,
   "metadata": {
    "colab": {},
    "colab_type": "code",
    "id": "7Lze_9IdHRlu"
   },
   "outputs": [],
   "source": [
    "reg = LinearRegression()"
   ]
  },
  {
   "cell_type": "code",
   "execution_count": 0,
   "metadata": {
    "colab": {},
    "colab_type": "code",
    "id": "9oK7i6IUHRlx"
   },
   "outputs": [],
   "source": [
    "X_train = np.asarray(X_train)\n",
    "y_train = np.asarray(y_train)"
   ]
  },
  {
   "cell_type": "code",
   "execution_count": 0,
   "metadata": {
    "colab": {},
    "colab_type": "code",
    "id": "7pn17SIJHRl0"
   },
   "outputs": [],
   "source": [
    "X_train = X_train.reshape(-1,1)\n",
    "y_train = y_train.reshape(-1,1)"
   ]
  },
  {
   "cell_type": "code",
   "execution_count": 51,
   "metadata": {
    "colab": {
     "base_uri": "https://localhost:8080/",
     "height": 34
    },
    "colab_type": "code",
    "id": "LjP5UreUHRl2",
    "outputId": "eb5c56b2-0bc2-4a25-d6fe-b43e0c98ff66"
   },
   "outputs": [
    {
     "data": {
      "text/plain": [
       "LinearRegression(copy_X=True, fit_intercept=True, n_jobs=None, normalize=False)"
      ]
     },
     "execution_count": 51,
     "metadata": {
      "tags": []
     },
     "output_type": "execute_result"
    }
   ],
   "source": [
    "reg.fit(X_train,y_train)"
   ]
  },
  {
   "cell_type": "code",
   "execution_count": 0,
   "metadata": {
    "colab": {},
    "colab_type": "code",
    "id": "lZoKvFmoLv-k"
   },
   "outputs": [],
   "source": [
    "y_pred_1 = reg.predict(y_test)"
   ]
  },
  {
   "cell_type": "code",
   "execution_count": 0,
   "metadata": {
    "colab": {},
    "colab_type": "code",
    "id": "FAfN7_NIY_EJ"
   },
   "outputs": [],
   "source": [
    "from sklearn.metrics import mean_squared_error\n",
    "from math import sqrt"
   ]
  },
  {
   "cell_type": "code",
   "execution_count": 0,
   "metadata": {
    "colab": {},
    "colab_type": "code",
    "id": "23-BC1KzZKHP"
   },
   "outputs": [],
   "source": [
    "rms = sqrt(mean_squared_error(y_test, y_pred_1))"
   ]
  },
  {
   "cell_type": "code",
   "execution_count": 55,
   "metadata": {
    "colab": {
     "base_uri": "https://localhost:8080/",
     "height": 34
    },
    "colab_type": "code",
    "id": "Uswg76C4Z0GU",
    "outputId": "e095892e-4a4c-404a-a383-95e41786b205"
   },
   "outputs": [
    {
     "name": "stdout",
     "output_type": "stream",
     "text": [
      "Root Mean Squared(RMS) Error is 3375.713432399391\n"
     ]
    }
   ],
   "source": [
    "print('Root Mean Squared(RMS) Error is {}'.format(rms))"
   ]
  },
  {
   "cell_type": "code",
   "execution_count": 0,
   "metadata": {
    "colab": {},
    "colab_type": "code",
    "id": "fCnQ8z3QZ0zw"
   },
   "outputs": [],
   "source": [
    "from sklearn.metrics import mean_absolute_error"
   ]
  },
  {
   "cell_type": "code",
   "execution_count": 0,
   "metadata": {
    "colab": {},
    "colab_type": "code",
    "id": "GMmNMrduaYh8"
   },
   "outputs": [],
   "source": [
    "mae = mean_absolute_error(y_test,y_pred_1)"
   ]
  },
  {
   "cell_type": "code",
   "execution_count": 58,
   "metadata": {
    "colab": {
     "base_uri": "https://localhost:8080/",
     "height": 34
    },
    "colab_type": "code",
    "id": "tFpeYXGYae4n",
    "outputId": "f3a61246-377a-45dd-910f-37aec97f5e4a"
   },
   "outputs": [
    {
     "name": "stdout",
     "output_type": "stream",
     "text": [
      "Mean Absolute Error is 2492.872154584168\n"
     ]
    }
   ],
   "source": [
    "print(\"Mean Absolute Error is {}\".format(mae))"
   ]
  },
  {
   "cell_type": "markdown",
   "metadata": {
    "colab_type": "text",
    "id": "2km9sEN0cvAJ"
   },
   "source": [
    "### Now the Question Arises, Which metric is better?\n",
    "### I would say RMSE - The Root Mean Squared Error. Why? Because RMSE Actually penalizes smaller errors less and much bigger errors more. This will show that model has predicted WRONGLY and CONFIDENTLY, and requires more fine tuning. Also observe that MAE is less than RMSE, As RMSE is more harsher towards the model. Other accuracy metric that might be useful is the score of the model which gives how accurate our model is in terms of percentage. This is more easier to interpret how our model is performing overall."
   ]
  },
  {
   "cell_type": "markdown",
   "metadata": {
    "colab_type": "text",
    "id": "8sYMn-qwdPUA"
   },
   "source": [
    "### As an experiment My approach is to first select attributes for the model which are No. of Customers and Promo. Adding other features to the model such as Open and Holiday does not improve the model, instead the accuracy drops. Then I would use a for loop to train seperate model for every store. I believe doing so would allow the model to learn the data local to only that store. This is helpful in some usecases where we need to model data of particular store and don't want noisy data from other stores to hamper our model."
   ]
  },
  {
   "cell_type": "markdown",
   "metadata": {
    "colab": {},
    "colab_type": "code",
    "id": "5OLLmQeYhYOO"
   },
   "source": [
    "##### store = max(train.Store.unique())"
   ]
  },
  {
   "cell_type": "code",
   "execution_count": 60,
   "metadata": {
    "colab": {
     "base_uri": "https://localhost:8080/",
     "height": 204
    },
    "colab_type": "code",
    "id": "URBz6BKgdb6G",
    "outputId": "61eb7b41-ab48-4004-fedc-100a63cf5f24"
   },
   "outputs": [
    {
     "data": {
      "text/html": [
       "<div>\n",
       "<style scoped>\n",
       "    .dataframe tbody tr th:only-of-type {\n",
       "        vertical-align: middle;\n",
       "    }\n",
       "\n",
       "    .dataframe tbody tr th {\n",
       "        vertical-align: top;\n",
       "    }\n",
       "\n",
       "    .dataframe thead th {\n",
       "        text-align: right;\n",
       "    }\n",
       "</style>\n",
       "<table border=\"1\" class=\"dataframe\">\n",
       "  <thead>\n",
       "    <tr style=\"text-align: right;\">\n",
       "      <th></th>\n",
       "      <th>Store</th>\n",
       "      <th>Customers</th>\n",
       "      <th>Promo</th>\n",
       "      <th>Sales</th>\n",
       "    </tr>\n",
       "  </thead>\n",
       "  <tbody>\n",
       "    <tr>\n",
       "      <th>0</th>\n",
       "      <td>1</td>\n",
       "      <td>568</td>\n",
       "      <td>1</td>\n",
       "      <td>5735</td>\n",
       "    </tr>\n",
       "    <tr>\n",
       "      <th>1</th>\n",
       "      <td>2</td>\n",
       "      <td>877</td>\n",
       "      <td>1</td>\n",
       "      <td>9863</td>\n",
       "    </tr>\n",
       "    <tr>\n",
       "      <th>2</th>\n",
       "      <td>3</td>\n",
       "      <td>1072</td>\n",
       "      <td>1</td>\n",
       "      <td>13261</td>\n",
       "    </tr>\n",
       "    <tr>\n",
       "      <th>3</th>\n",
       "      <td>4</td>\n",
       "      <td>1488</td>\n",
       "      <td>1</td>\n",
       "      <td>13106</td>\n",
       "    </tr>\n",
       "    <tr>\n",
       "      <th>4</th>\n",
       "      <td>5</td>\n",
       "      <td>645</td>\n",
       "      <td>1</td>\n",
       "      <td>6635</td>\n",
       "    </tr>\n",
       "  </tbody>\n",
       "</table>\n",
       "</div>"
      ],
      "text/plain": [
       "   Store  Customers  Promo  Sales\n",
       "0      1        568      1   5735\n",
       "1      2        877      1   9863\n",
       "2      3       1072      1  13261\n",
       "3      4       1488      1  13106\n",
       "4      5        645      1   6635"
      ]
     },
     "execution_count": 60,
     "metadata": {
      "tags": []
     },
     "output_type": "execute_result"
    }
   ],
   "source": [
    "train = train[['Store','Customers','Promo','Sales']]\n",
    "train.head()"
   ]
  },
  {
   "cell_type": "code",
   "execution_count": 61,
   "metadata": {
    "colab": {
     "base_uri": "https://localhost:8080/",
     "height": 204
    },
    "colab_type": "code",
    "id": "7-mkYhXPh-fd",
    "outputId": "db70fcfe-5361-418e-b903-1d5d87231368"
   },
   "outputs": [
    {
     "data": {
      "text/html": [
       "<div>\n",
       "<style scoped>\n",
       "    .dataframe tbody tr th:only-of-type {\n",
       "        vertical-align: middle;\n",
       "    }\n",
       "\n",
       "    .dataframe tbody tr th {\n",
       "        vertical-align: top;\n",
       "    }\n",
       "\n",
       "    .dataframe thead th {\n",
       "        text-align: right;\n",
       "    }\n",
       "</style>\n",
       "<table border=\"1\" class=\"dataframe\">\n",
       "  <thead>\n",
       "    <tr style=\"text-align: right;\">\n",
       "      <th></th>\n",
       "      <th>Store</th>\n",
       "      <th>Customers</th>\n",
       "      <th>Promo</th>\n",
       "      <th>Sales</th>\n",
       "    </tr>\n",
       "  </thead>\n",
       "  <tbody>\n",
       "    <tr>\n",
       "      <th>0</th>\n",
       "      <td>1</td>\n",
       "      <td>555</td>\n",
       "      <td>1</td>\n",
       "      <td>5263</td>\n",
       "    </tr>\n",
       "    <tr>\n",
       "      <th>1</th>\n",
       "      <td>2</td>\n",
       "      <td>625</td>\n",
       "      <td>1</td>\n",
       "      <td>6064</td>\n",
       "    </tr>\n",
       "    <tr>\n",
       "      <th>2</th>\n",
       "      <td>3</td>\n",
       "      <td>821</td>\n",
       "      <td>1</td>\n",
       "      <td>8314</td>\n",
       "    </tr>\n",
       "    <tr>\n",
       "      <th>3</th>\n",
       "      <td>4</td>\n",
       "      <td>1498</td>\n",
       "      <td>1</td>\n",
       "      <td>13995</td>\n",
       "    </tr>\n",
       "    <tr>\n",
       "      <th>4</th>\n",
       "      <td>5</td>\n",
       "      <td>559</td>\n",
       "      <td>1</td>\n",
       "      <td>4822</td>\n",
       "    </tr>\n",
       "  </tbody>\n",
       "</table>\n",
       "</div>"
      ],
      "text/plain": [
       "   Store  Customers  Promo  Sales\n",
       "0      1        555      1   5263\n",
       "1      2        625      1   6064\n",
       "2      3        821      1   8314\n",
       "3      4       1498      1  13995\n",
       "4      5        559      1   4822"
      ]
     },
     "execution_count": 61,
     "metadata": {
      "tags": []
     },
     "output_type": "execute_result"
    }
   ],
   "source": [
    "test = test[['Store','Customers','Promo','Sales']]\n",
    "test.head()"
   ]
  },
  {
   "cell_type": "code",
   "execution_count": 62,
   "metadata": {
    "colab": {
     "base_uri": "https://localhost:8080/",
     "height": 1000
    },
    "colab_type": "code",
    "id": "biXQt7cDlTzp",
    "outputId": "7e58863a-030b-4a3b-9fdf-2019bf1b3658"
   },
   "outputs": [
    {
     "name": "stdout",
     "output_type": "stream",
     "text": [
      "For Store 1 RMSE = 2568.6054706488485 , MAE = 2063.538372210965\n",
      "For Store 2 RMSE = 2516.692030835235 , MAE = 1821.194248599226\n",
      "For Store 3 RMSE = 2566.334467756801 , MAE = 1947.7714467085575\n",
      "For Store 4 RMSE = 4377.576187455388 , MAE = 4114.281851268062\n",
      "For Store 5 RMSE = 2760.7973651757975 , MAE = 2133.6014930650026\n",
      "For Store 6 RMSE = 2655.3491618644234 , MAE = 2125.445735005855\n",
      "For Store 7 RMSE = 4631.349177448729 , MAE = 4145.20116305161\n",
      "For Store 8 RMSE = 2606.1625725586478 , MAE = 1989.950154218913\n",
      "For Store 9 RMSE = 2591.9411689838653 , MAE = 1864.4123944735254\n",
      "For Store 10 RMSE = 2179.3632770838017 , MAE = 1260.628809668354\n",
      "For Store 11 RMSE = 2703.8457056177876 , MAE = 2022.122206501329\n",
      "For Store 12 RMSE = 2793.4442997496662 , MAE = 2030.5902005636144\n",
      "For Store 13 RMSE = 2781.222277833078 , MAE = 2269.549319301557\n",
      "For Store 14 RMSE = 2408.6003746609686 , MAE = 1633.9656333413438\n",
      "For Store 15 RMSE = 2485.3956875615627 , MAE = 1795.587253876446\n",
      "For Store 16 RMSE = 3168.8003412618355 , MAE = 2641.504865305901\n",
      "For Store 17 RMSE = 2673.294575098357 , MAE = 1985.7280493605072\n",
      "For Store 18 RMSE = 2552.802979836612 , MAE = 1867.5005977426856\n",
      "For Store 19 RMSE = 2533.585690751885 , MAE = 1926.9724842630746\n",
      "For Store 20 RMSE = 3359.9342166980596 , MAE = 2897.9864909261537\n",
      "For Store 21 RMSE = 2563.3442016028257 , MAE = 1955.774966070197\n",
      "For Store 22 RMSE = 2507.035918849631 , MAE = 1918.327201662369\n",
      "For Store 23 RMSE = 2430.1021182521667 , MAE = 1764.406479928179\n",
      "For Store 24 RMSE = 4118.125633084458 , MAE = 3571.7663970095955\n",
      "For Store 25 RMSE = 4479.203436309783 , MAE = 4122.494793460567\n",
      "For Store 26 RMSE = 2563.6804437275 , MAE = 1812.0465380493388\n",
      "For Store 27 RMSE = 3898.2681424460106 , MAE = 3311.117911012263\n",
      "For Store 28 RMSE = 2787.7455972311245 , MAE = 2153.3487878955093\n",
      "For Store 29 RMSE = 2851.8469000786254 , MAE = 2065.995019022318\n",
      "For Store 30 RMSE = 2889.1434570014385 , MAE = 2500.877543961826\n",
      "For Store 31 RMSE = 2227.356343247271 , MAE = 1417.2753989867406\n",
      "For Store 32 RMSE = 2741.290905638179 , MAE = 2141.1334532744654\n",
      "For Store 33 RMSE = 2796.95234745176 , MAE = 2198.8681367361846\n",
      "For Store 34 RMSE = 3147.3482618874377 , MAE = 2644.376561292664\n",
      "For Store 35 RMSE = 4870.467652399828 , MAE = 4376.7336657432415\n",
      "For Store 36 RMSE = 4294.193036606199 , MAE = 4095.591368852033\n",
      "For Store 37 RMSE = 2432.7582533370564 , MAE = 1748.426430697843\n",
      "For Store 38 RMSE = 2461.7726516122502 , MAE = 1686.559552142368\n",
      "For Store 39 RMSE = 2704.4993094838087 , MAE = 2089.253916244367\n",
      "For Store 40 RMSE = 2583.1786690745953 , MAE = 2090.4417968195\n",
      "For Store 41 RMSE = 2234.990387992017 , MAE = 1380.835612807003\n",
      "For Store 42 RMSE = 4104.021910326977 , MAE = 3666.3360107850503\n",
      "For Store 43 RMSE = 2403.0949887389306 , MAE = 1712.0001392645768\n",
      "For Store 44 RMSE = 2543.390149160354 , MAE = 1900.1397385343687\n",
      "For Store 45 RMSE = 2310.4308505429094 , MAE = 1571.4460277912099\n",
      "For Store 46 RMSE = 2532.6237123540664 , MAE = 1958.0498537002197\n",
      "For Store 47 RMSE = 2576.053985478482 , MAE = 1888.9689870767684\n",
      "For Store 48 RMSE = 3198.7701210267874 , MAE = 2955.910774995068\n",
      "For Store 49 RMSE = 2857.8657223304895 , MAE = 2250.621750405128\n",
      "For Store 50 RMSE = 2623.786823142669 , MAE = 2131.885543360927\n",
      "For Store 51 RMSE = 2467.633362810302 , MAE = 1817.9762426648495\n",
      "For Store 52 RMSE = 2365.9081726493832 , MAE = 1537.0035585216808\n",
      "For Store 53 RMSE = 2439.408583158063 , MAE = 1740.0644549553012\n",
      "For Store 54 RMSE = 2965.51078132461 , MAE = 2390.4364302666568\n",
      "For Store 55 RMSE = 2504.8349195532237 , MAE = 1767.6039066645526\n",
      "For Store 56 RMSE = 3074.113470647877 , MAE = 2655.4194497370786\n",
      "For Store 57 RMSE = 3794.934401134171 , MAE = 3127.1856563589663\n",
      "For Store 58 RMSE = 2544.7418438845625 , MAE = 1848.5133137220198\n",
      "For Store 59 RMSE = 2555.3008582114176 , MAE = 1821.6253235119877\n",
      "For Store 60 RMSE = 3886.062498508402 , MAE = 3268.397639626493\n",
      "For Store 61 RMSE = 2407.838263041966 , MAE = 1690.706507478035\n",
      "For Store 62 RMSE = 2447.3475672205213 , MAE = 1753.9873893334498\n",
      "For Store 63 RMSE = 2910.607220820251 , MAE = 2279.1004411146714\n",
      "For Store 64 RMSE = 5237.863687412613 , MAE = 4872.891997019832\n",
      "For Store 65 RMSE = 2511.8286415175507 , MAE = 1875.755963826636\n",
      "For Store 66 RMSE = 2265.691495201715 , MAE = 1405.4891996264273\n",
      "For Store 67 RMSE = 3437.509367912787 , MAE = 2787.2929391698253\n",
      "For Store 68 RMSE = 3114.033686020014 , MAE = 2719.953746247954\n",
      "For Store 69 RMSE = 3763.113752091807 , MAE = 3370.7690257231025\n",
      "For Store 70 RMSE = 2440.8348359211377 , MAE = 1674.682768860814\n",
      "For Store 71 RMSE = 3631.559843193416 , MAE = 2921.6674389574023\n",
      "For Store 72 RMSE = 2877.556041626612 , MAE = 2406.997262116383\n",
      "For Store 73 RMSE = 2623.7136459079034 , MAE = 2031.578947906884\n",
      "For Store 74 RMSE = 2359.1805427399077 , MAE = 1659.8154506828723\n",
      "For Store 75 RMSE = 2202.3888761225244 , MAE = 1337.4471800280714\n",
      "For Store 76 RMSE = 3813.9120612431275 , MAE = 3427.14241937533\n",
      "For Store 77 RMSE = 2903.8534308033622 , MAE = 2237.0643568594123\n",
      "For Store 78 RMSE = 3037.5353634785115 , MAE = 2628.963208596399\n",
      "For Store 79 RMSE = 2426.719850029658 , MAE = 1755.4335269258331\n",
      "For Store 80 RMSE = 2967.692611817153 , MAE = 2501.1383319699557\n",
      "For Store 81 RMSE = 2590.0303216453053 , MAE = 1923.4544715765926\n",
      "For Store 82 RMSE = 3747.0878200426027 , MAE = 3276.316985361832\n",
      "For Store 83 RMSE = 3091.087621560098 , MAE = 2802.189860649332\n",
      "For Store 84 RMSE = 6585.064119446935 , MAE = 6293.97255344641\n",
      "For Store 85 RMSE = 2440.3201783444015 , MAE = 1690.2966031021253\n",
      "For Store 86 RMSE = 2729.8242852691733 , MAE = 2223.117046796942\n",
      "For Store 87 RMSE = 2283.0544622639754 , MAE = 1454.4617012298477\n",
      "For Store 88 RMSE = 2743.71573042318 , MAE = 2088.36798207337\n",
      "For Store 89 RMSE = 2275.3359378326945 , MAE = 1438.2805791156181\n",
      "For Store 90 RMSE = 3091.123657745927 , MAE = 2530.5864563202053\n",
      "For Store 91 RMSE = 2600.796668610059 , MAE = 2007.6596478997965\n",
      "For Store 92 RMSE = 2490.0918979189287 , MAE = 1848.1175782491725\n",
      "For Store 93 RMSE = 2521.3023555497457 , MAE = 1779.408071414247\n",
      "For Store 94 RMSE = 2797.0978492119307 , MAE = 2099.732721963332\n",
      "For Store 95 RMSE = 2737.122409651926 , MAE = 2025.9755653798309\n",
      "For Store 96 RMSE = 2726.5203533593476 , MAE = 2081.1347631205736\n",
      "For Store 97 RMSE = 2611.269711010473 , MAE = 1952.63278381515\n",
      "For Store 98 RMSE = 2297.6556171517636 , MAE = 1550.0765723253387\n",
      "For Store 99 RMSE = 2302.7556702596016 , MAE = 1548.454411689974\n",
      "For Store 100 RMSE = 3057.925733586073 , MAE = 2545.670281780544\n",
      "For Store 101 RMSE = 3034.7939798966063 , MAE = 2380.9855078171936\n",
      "For Store 102 RMSE = 2794.0918915134835 , MAE = 2117.755717142792\n",
      "For Store 103 RMSE = 2426.717284507215 , MAE = 1857.7702477391206\n",
      "For Store 104 RMSE = 4529.834465939433 , MAE = 4395.846873125063\n",
      "For Store 105 RMSE = 2474.1914931542133 , MAE = 1791.4994223261665\n",
      "For Store 106 RMSE = 3649.4893964604303 , MAE = 3219.5375666377563\n",
      "For Store 107 RMSE = 2611.458011484551 , MAE = 2087.949727750489\n",
      "For Store 108 RMSE = 6183.017222202353 , MAE = 5969.802893965794\n",
      "For Store 109 RMSE = 2351.193253002715 , MAE = 1585.2597387021456\n",
      "For Store 110 RMSE = 2502.7167466396204 , MAE = 1823.5160307636045\n",
      "For Store 111 RMSE = 2449.387360944282 , MAE = 1706.8484108482892\n",
      "For Store 112 RMSE = 2172.249932796848 , MAE = 1230.3249457875213\n",
      "For Store 113 RMSE = 2223.919539428725 , MAE = 1359.892087454392\n",
      "For Store 114 RMSE = 2363.885417170073 , MAE = 1685.965948933097\n",
      "For Store 115 RMSE = 3041.015384884543 , MAE = 2501.2070711977535\n",
      "For Store 116 RMSE = 2390.2307566346003 , MAE = 1617.5358696522737\n",
      "For Store 117 RMSE = 3101.1324839994422 , MAE = 2794.6412005459274\n",
      "For Store 118 RMSE = 3545.046955960336 , MAE = 2865.859393526063\n",
      "For Store 119 RMSE = 2278.729621052421 , MAE = 1514.2689339422566\n",
      "For Store 120 RMSE = 2552.9074895382937 , MAE = 1735.9207047671036\n",
      "For Store 121 RMSE = 2860.325429015023 , MAE = 2383.7390390509254\n",
      "For Store 122 RMSE = 3337.609810218201 , MAE = 2887.1112755777494\n",
      "For Store 123 RMSE = 3623.4108145732116 , MAE = 3174.983772133726\n",
      "For Store 124 RMSE = 2759.174737662467 , MAE = 2280.555602810617\n",
      "For Store 125 RMSE = 6247.973750213229 , MAE = 5764.509533793595\n",
      "For Store 126 RMSE = 2518.2684918230098 , MAE = 1912.7527482802905\n",
      "For Store 127 RMSE = 2482.196767247503 , MAE = 1882.9422882450776\n",
      "For Store 128 RMSE = 3271.0146685226887 , MAE = 2740.085221456867\n",
      "For Store 129 RMSE = 3029.445510854395 , MAE = 2421.1173900743634\n",
      "For Store 130 RMSE = 2308.014260868102 , MAE = 1570.7566958611978\n",
      "For Store 131 RMSE = 2467.9060927410233 , MAE = 1868.0749700671356\n",
      "For Store 132 RMSE = 2646.594179460928 , MAE = 1958.7436562731423\n",
      "For Store 133 RMSE = 2487.620419768752 , MAE = 1832.3778206467057\n",
      "For Store 134 RMSE = 2576.6863811046687 , MAE = 1996.2043240885935\n",
      "For Store 135 RMSE = 2208.2976676490885 , MAE = 1325.4483526894237\n",
      "For Store 136 RMSE = 2491.536902154848 , MAE = 1883.8648273514277\n",
      "For Store 137 RMSE = 2712.376561730782 , MAE = 2153.9822011876045\n",
      "For Store 138 RMSE = 3288.747678534014 , MAE = 2777.5619150096695\n",
      "For Store 139 RMSE = 2449.8845066999115 , MAE = 1655.6485903057928\n",
      "For Store 140 RMSE = 2635.7378848330827 , MAE = 1961.7027310336769\n",
      "For Store 141 RMSE = 2382.087555459311 , MAE = 1711.7335323003551\n",
      "For Store 142 RMSE = 2666.363128583002 , MAE = 2174.3828971693606\n",
      "For Store 143 RMSE = 2526.820427147513 , MAE = 1815.3261987599824\n",
      "For Store 144 RMSE = 2723.2673143507122 , MAE = 2089.9226689763764\n",
      "For Store 145 RMSE = 3127.2111613070833 , MAE = 2419.00056009794\n",
      "For Store 146 RMSE = 2963.417087136522 , MAE = 2316.2347040239224\n",
      "For Store 147 RMSE = 3042.579304707209 , MAE = 2417.0244137245836\n",
      "For Store 148 RMSE = 3356.868383608011 , MAE = 2921.684138851344\n",
      "For Store 149 RMSE = 2466.48404879288 , MAE = 1818.8474165939347\n",
      "For Store 150 RMSE = 3683.826895516414 , MAE = 3183.0489462716323\n",
      "For Store 151 RMSE = 2586.844430413605 , MAE = 1847.8053422460353\n",
      "For Store 152 RMSE = 2525.2327960963476 , MAE = 1861.7103112348022\n",
      "For Store 153 RMSE = 2629.3596953608844 , MAE = 2082.0958468143085\n",
      "For Store 154 RMSE = 3591.2206572734985 , MAE = 3119.9119531667543\n",
      "For Store 155 RMSE = 2344.0141247438173 , MAE = 1537.859298052264\n",
      "For Store 156 RMSE = 2894.823685763228 , MAE = 2271.600615197652\n",
      "For Store 157 RMSE = 4163.7910991947665 , MAE = 3687.208857257832\n",
      "For Store 158 RMSE = 3187.059157647896 , MAE = 2769.4125672454625\n",
      "For Store 159 RMSE = 2987.5385500412103 , MAE = 2207.970218247155\n",
      "For Store 160 RMSE = 2277.1961839826677 , MAE = 1527.1536954519013\n",
      "For Store 161 RMSE = 2440.914073262161 , MAE = 1673.4043043644406\n",
      "For Store 162 RMSE = 3040.5120817011584 , MAE = 2300.305428632003\n",
      "For Store 163 RMSE = 2225.974302984637 , MAE = 1368.811061470851\n",
      "For Store 164 RMSE = 2563.0818153119562 , MAE = 1869.547422995871\n",
      "For Store 165 RMSE = 2869.939955380033 , MAE = 2499.216838739077\n",
      "For Store 166 RMSE = 2260.3126147882194 , MAE = 1485.7369384034168\n",
      "For Store 167 RMSE = 4271.273685947068 , MAE = 3792.0716382668625\n",
      "For Store 168 RMSE = 3203.5732428407796 , MAE = 2533.981750793002\n",
      "For Store 169 RMSE = 2400.3427740464185 , MAE = 1736.8638230714573\n",
      "For Store 170 RMSE = 2827.602321395349 , MAE = 2390.214186845912\n",
      "For Store 171 RMSE = 3012.3899432187704 , MAE = 2319.9235949538847\n",
      "For Store 172 RMSE = 2276.521658076137 , MAE = 1471.0179796189211\n",
      "For Store 173 RMSE = 3268.1079406454032 , MAE = 2603.6709808676364\n",
      "For Store 174 RMSE = 2153.841500109992 , MAE = 1204.329300043426\n",
      "For Store 175 RMSE = 2304.970790253156 , MAE = 1571.2108809628417\n",
      "For Store 176 RMSE = 2593.177063349833 , MAE = 1974.1050524532943\n",
      "For Store 177 RMSE = 3126.2499304149205 , MAE = 2710.9416573193753\n",
      "For Store 178 RMSE = 4568.477619709077 , MAE = 4019.500875009712\n",
      "For Store 179 RMSE = 2662.794555547518 , MAE = 1916.1358135020553\n",
      "For Store 180 RMSE = 2710.950244334881 , MAE = 1958.3562707472659\n",
      "For Store 181 RMSE = 2633.4194318409236 , MAE = 2059.8642415229137\n",
      "For Store 182 RMSE = 2359.747968842599 , MAE = 1614.852425959523\n",
      "For Store 183 RMSE = 2533.8280137279053 , MAE = 1952.0192755644675\n",
      "For Store 184 RMSE = 2353.686817921426 , MAE = 1603.0578766522387\n",
      "For Store 185 RMSE = 2590.525732582831 , MAE = 1895.9844332517303\n",
      "For Store 186 RMSE = 2868.469928053324 , MAE = 2495.774649731925\n",
      "For Store 187 RMSE = 2429.2094900778447 , MAE = 1768.8900469513055\n",
      "For Store 188 RMSE = 2568.0306425761264 , MAE = 1967.5123312441242\n",
      "For Store 189 RMSE = 3284.3173938919517 , MAE = 2792.5114671618803\n",
      "For Store 190 RMSE = 2830.7679025645643 , MAE = 2188.610308942525\n",
      "For Store 191 RMSE = 2363.9176066276923 , MAE = 1653.7141936672906\n",
      "For Store 192 RMSE = 6773.822285654535 , MAE = 6423.0848358550475\n",
      "For Store 193 RMSE = 2537.9290294721054 , MAE = 1975.7991574639275\n",
      "For Store 194 RMSE = 2331.783183042163 , MAE = 1619.2357936189985\n",
      "For Store 195 RMSE = 4470.139399139788 , MAE = 4171.31952700939\n",
      "For Store 196 RMSE = 2392.250168608616 , MAE = 1722.8169049841845\n",
      "For Store 197 RMSE = 2557.4906827952877 , MAE = 1888.4743177357095\n",
      "For Store 198 RMSE = 3672.6738332949913 , MAE = 3424.682567416507\n",
      "For Store 199 RMSE = 3229.8534696447955 , MAE = 2704.032820803006\n",
      "For Store 200 RMSE = 2673.6605204960933 , MAE = 1922.0790128640374\n",
      "For Store 201 RMSE = 2237.761605698815 , MAE = 1432.9297174674666\n",
      "For Store 202 RMSE = 2230.4429733910592 , MAE = 1384.7184921693276\n",
      "For Store 203 RMSE = 2551.6390370637987 , MAE = 1798.4287552227963\n",
      "For Store 204 RMSE = 2218.650932114085 , MAE = 1398.2913201135455\n",
      "For Store 205 RMSE = 2401.0678446157954 , MAE = 1702.2035810240925\n",
      "For Store 206 RMSE = 2818.071163230882 , MAE = 2197.2042263659655\n",
      "For Store 207 RMSE = 5756.867358010075 , MAE = 5118.132866459248\n",
      "For Store 208 RMSE = 3340.372862141759 , MAE = 3158.9395371362443\n",
      "For Store 209 RMSE = 1782.4138736421824 , MAE = 1418.7395019685055\n",
      "For Store 210 RMSE = 3387.925719220214 , MAE = 3179.2907247750236\n",
      "For Store 211 RMSE = 7854.145089194886 , MAE = 7369.988759226145\n",
      "For Store 212 RMSE = 2558.728449430719 , MAE = 1987.5031228499704\n",
      "For Store 213 RMSE = 3155.8575937600217 , MAE = 2527.152617260024\n",
      "For Store 214 RMSE = 3478.79329853554 , MAE = 3077.0355637794146\n",
      "For Store 215 RMSE = 2630.2976896696923 , MAE = 1954.765048190076\n",
      "For Store 216 RMSE = 2390.735677878807 , MAE = 1619.2974483952655\n",
      "For Store 217 RMSE = 2398.1249804445474 , MAE = 1719.0811195198667\n",
      "For Store 218 RMSE = 2654.427677156945 , MAE = 1938.3931427909538\n",
      "For Store 219 RMSE = 3402.61109590307 , MAE = 3203.476631746333\n",
      "For Store 220 RMSE = 2590.28384982985 , MAE = 2029.9869819119333\n",
      "For Store 221 RMSE = 2259.6273590286855 , MAE = 1461.681425436173\n",
      "For Store 222 RMSE = 2551.0979450486598 , MAE = 1910.8504859342324\n",
      "For Store 223 RMSE = 2521.9945935298865 , MAE = 1810.6877792307257\n",
      "For Store 224 RMSE = 2743.2258069899485 , MAE = 2053.714150320946\n",
      "For Store 225 RMSE = 2446.030107659952 , MAE = 1823.5224410585447\n",
      "For Store 226 RMSE = 2379.1012578677196 , MAE = 1625.18025847642\n",
      "For Store 227 RMSE = 2320.747314451624 , MAE = 1592.1576114629224\n",
      "For Store 228 RMSE = 2930.6449578674533 , MAE = 2396.1464224523\n",
      "For Store 229 RMSE = 3697.27902733064 , MAE = 3210.6770422500945\n",
      "For Store 230 RMSE = 2854.59243848164 , MAE = 2234.6320857323817\n",
      "For Store 231 RMSE = 2519.8769170427026 , MAE = 1897.0952246520935\n",
      "For Store 232 RMSE = 2871.254120232607 , MAE = 2479.077013583193\n",
      "For Store 233 RMSE = 4196.513835964192 , MAE = 3937.462037005909\n",
      "For Store 234 RMSE = 4663.393782473229 , MAE = 3989.94032204478\n",
      "For Store 235 RMSE = 2470.6077919346103 , MAE = 1777.316291278736\n",
      "For Store 236 RMSE = 2814.9255512654404 , MAE = 2244.368254692038\n",
      "For Store 237 RMSE = 2488.5515987184517 , MAE = 1921.0196694586818\n",
      "For Store 238 RMSE = 2647.684559251227 , MAE = 1947.8183412429128\n",
      "For Store 239 RMSE = 2427.0738542887325 , MAE = 1785.7373908066659\n",
      "For Store 240 RMSE = 2487.9533662264625 , MAE = 1882.417424263605\n",
      "For Store 241 RMSE = 2230.639256163923 , MAE = 1389.4558455667957\n",
      "For Store 242 RMSE = 2883.712382948045 , MAE = 2484.8306951557224\n",
      "For Store 243 RMSE = 2910.1087760141254 , MAE = 2221.8668372889515\n",
      "For Store 244 RMSE = 2706.7197416090457 , MAE = 2160.142581988574\n",
      "For Store 245 RMSE = 3908.5974567164744 , MAE = 3742.9179688209606\n",
      "For Store 246 RMSE = 2617.1927404762578 , MAE = 1920.6213201772125\n",
      "For Store 247 RMSE = 3310.1720575995 , MAE = 2634.8703943618757\n",
      "For Store 248 RMSE = 2890.2063167735228 , MAE = 2314.560504054702\n",
      "For Store 249 RMSE = 2297.3086336752312 , MAE = 1552.4047647846576\n",
      "For Store 250 RMSE = 3914.1719790877764 , MAE = 3199.2249235863615\n",
      "For Store 251 RMSE = 10971.56506296849 , MAE = 10557.033054883654\n",
      "For Store 252 RMSE = 4808.895823510724 , MAE = 4226.002020798455\n",
      "For Store 253 RMSE = 2600.0828322620973 , MAE = 2012.4638008730324\n",
      "For Store 254 RMSE = 3368.6044070105486 , MAE = 3167.695982856194\n",
      "For Store 255 RMSE = 2336.9029634379162 , MAE = 1592.4293632266447\n",
      "For Store 256 RMSE = 3098.943689601449 , MAE = 2385.6958717217185\n",
      "For Store 257 RMSE = 2532.6941642359666 , MAE = 1853.2442568245478\n",
      "For Store 258 RMSE = 2276.880648900089 , MAE = 1467.588019862801\n",
      "For Store 259 RMSE = 6321.703476193206 , MAE = 6062.382866621421\n",
      "For Store 260 RMSE = 2122.057924272151 , MAE = 1144.206626180409\n",
      "For Store 261 RMSE = 6274.194763848724 , MAE = 5425.604889791133\n",
      "For Store 262 RMSE = 15176.850051935911 , MAE = 14614.984569138658\n",
      "For Store 263 RMSE = 2637.8195100160638 , MAE = 2193.1639635066326\n",
      "For Store 264 RMSE = 2522.991911007899 , MAE = 1857.7361737946455\n",
      "For Store 265 RMSE = 2575.7658303225367 , MAE = 1872.4596032220504\n",
      "For Store 266 RMSE = 2804.43951692133 , MAE = 2347.518965301054\n",
      "For Store 267 RMSE = 4230.885654837017 , MAE = 3845.217410542303\n",
      "For Store 268 RMSE = 2610.7800479880952 , MAE = 2025.8368214287955\n",
      "For Store 269 RMSE = 3080.390048510021 , MAE = 2346.642646572467\n",
      "For Store 270 RMSE = 4129.956310059059 , MAE = 3925.806905806252\n",
      "For Store 271 RMSE = 3769.7342149001033 , MAE = 2984.1889841595666\n",
      "For Store 272 RMSE = 2617.178936887559 , MAE = 2017.992625216195\n",
      "For Store 273 RMSE = 2847.743689545802 , MAE = 2140.550731003045\n",
      "For Store 274 RMSE = 859.6160772039127 , MAE = 708.5988385321257\n",
      "For Store 275 RMSE = 2398.789568526704 , MAE = 1637.5298664055904\n",
      "For Store 276 RMSE = 3058.3572297085298 , MAE = 2692.9154569924444\n",
      "For Store 277 RMSE = 2457.150429454782 , MAE = 1803.369121156189\n",
      "For Store 278 RMSE = 2768.6415063048203 , MAE = 2134.369179665224\n",
      "For Store 279 RMSE = 4279.503946064019 , MAE = 3474.130424658423\n",
      "For Store 280 RMSE = 2274.151841635156 , MAE = 1405.338226424359\n",
      "For Store 281 RMSE = 2232.170091476943 , MAE = 1394.9429201751036\n",
      "For Store 282 RMSE = 2639.116770808965 , MAE = 2093.5300000886596\n",
      "For Store 283 RMSE = 2842.876354888421 , MAE = 2151.0970104543685\n",
      "For Store 284 RMSE = 2450.853505880731 , MAE = 1815.2240597443001\n",
      "For Store 285 RMSE = 2241.308454360341 , MAE = 1449.5586143884\n",
      "For Store 286 RMSE = 3132.5929762063483 , MAE = 2682.476461356303\n",
      "For Store 287 RMSE = 2997.329522121455 , MAE = 2547.0290405991564\n",
      "For Store 288 RMSE = 2419.035933741803 , MAE = 1665.5190325735762\n",
      "For Store 289 RMSE = 2234.5007831366124 , MAE = 1351.2262256556835\n",
      "For Store 290 RMSE = 2656.140169577748 , MAE = 2047.5345386351548\n",
      "For Store 291 RMSE = 3187.2846967817 , MAE = 2597.5633135571143\n",
      "For Store 292 RMSE = 5290.528449973492 , MAE = 5043.071604199614\n",
      "For Store 293 RMSE = 2403.2339527649483 , MAE = 1737.0314961674678\n",
      "For Store 294 RMSE = 2471.8356198963497 , MAE = 1776.150255397046\n",
      "For Store 295 RMSE = 2324.2915187666154 , MAE = 1535.7071286359264\n",
      "For Store 296 RMSE = 2622.0439960502054 , MAE = 1985.6824203215913\n",
      "For Store 297 RMSE = 2818.651481821255 , MAE = 2114.204304668426\n",
      "For Store 298 RMSE = 3214.7946768405945 , MAE = 2781.693435946834\n",
      "For Store 299 RMSE = 3201.494196333317 , MAE = 2874.4076819105867\n",
      "For Store 300 RMSE = 2659.931369710744 , MAE = 2020.6979136023876\n",
      "For Store 301 RMSE = 2280.368803578049 , MAE = 1491.1616840788668\n",
      "For Store 302 RMSE = 2907.891572036259 , MAE = 2549.219163264031\n",
      "For Store 303 RMSE = 2379.6774420871016 , MAE = 1680.1145989877953\n",
      "For Store 304 RMSE = 2514.4701873579097 , MAE = 1806.3314010641939\n",
      "For Store 305 RMSE = 2317.1291453721356 , MAE = 1491.3377071218476\n",
      "For Store 306 RMSE = 2549.1802781863043 , MAE = 1917.459907037345\n",
      "For Store 307 RMSE = 3665.6273176957366 , MAE = 3490.839024562747\n",
      "For Store 308 RMSE = 3324.0012179682494 , MAE = 2770.7848208105465\n",
      "For Store 309 RMSE = 2578.947959039592 , MAE = 1945.95656313627\n",
      "For Store 310 RMSE = 3831.2691691184573 , MAE = 3404.5568283459424\n",
      "For Store 311 RMSE = 2444.316874205664 , MAE = 1651.7129974530203\n",
      "For Store 312 RMSE = 2361.0052940243295 , MAE = 1632.5985245757602\n",
      "For Store 313 RMSE = 2827.5649830912434 , MAE = 2159.414031314586\n",
      "For Store 314 RMSE = 2523.872981067521 , MAE = 1873.754767612366\n",
      "For Store 315 RMSE = 2640.9474943939167 , MAE = 2006.9317713823993\n",
      "For Store 316 RMSE = 4337.9473870918055 , MAE = 3828.036660146953\n",
      "For Store 317 RMSE = 2257.74085265195 , MAE = 1475.375031942045\n",
      "For Store 318 RMSE = 2840.021723341753 , MAE = 2267.8513349868626\n",
      "For Store 319 RMSE = 2736.484616549339 , MAE = 2119.280209405385\n",
      "For Store 320 RMSE = 8944.32966644271 , MAE = 8489.092716876114\n",
      "For Store 321 RMSE = 2313.620542505879 , MAE = 1539.7647655457924\n",
      "For Store 322 RMSE = 2694.391960394952 , MAE = 2044.121278772977\n",
      "For Store 323 RMSE = 2728.508157436036 , MAE = 2145.0092481852585\n",
      "For Store 324 RMSE = 2797.815110161129 , MAE = 2217.378125466324\n",
      "For Store 325 RMSE = 2494.507344271735 , MAE = 1837.4974147705495\n",
      "For Store 326 RMSE = 2291.517236835373 , MAE = 1482.578056254428\n",
      "For Store 327 RMSE = 3080.1043328409046 , MAE = 2311.6939528674384\n",
      "For Store 328 RMSE = 2724.552064856773 , MAE = 2172.2088830595803\n",
      "For Store 329 RMSE = 2610.9497533049134 , MAE = 1955.2430176371934\n",
      "For Store 330 RMSE = 2920.511589037968 , MAE = 2560.3307909362425\n",
      "For Store 331 RMSE = 2348.531066199569 , MAE = 1596.5191344289556\n",
      "For Store 332 RMSE = 3145.396734178329 , MAE = 2807.9268423279195\n",
      "For Store 333 RMSE = 4441.078487315015 , MAE = 4120.018832946652\n",
      "For Store 334 RMSE = 2378.124857232642 , MAE = 1696.758930307231\n",
      "For Store 335 RMSE = 7572.168255324112 , MAE = 6529.403369898868\n",
      "For Store 336 RMSE = 7388.246172602738 , MAE = 6941.647590318543\n",
      "For Store 337 RMSE = 2215.1688716706594 , MAE = 1356.5340720735403\n",
      "For Store 338 RMSE = 2402.328326121195 , MAE = 1588.9736794730209\n",
      "For Store 339 RMSE = 2303.029022089494 , MAE = 1566.0109925167587\n",
      "For Store 340 RMSE = 2598.1368031782804 , MAE = 1916.1409583015559\n",
      "For Store 341 RMSE = 2338.787492145819 , MAE = 1630.5838336150184\n",
      "For Store 342 RMSE = 5489.1172245036005 , MAE = 5222.968657975335\n",
      "For Store 343 RMSE = 2750.5940280647533 , MAE = 1971.1671482296113\n",
      "For Store 344 RMSE = 3966.32273067078 , MAE = 3418.748309340344\n",
      "For Store 345 RMSE = 2733.7721715176517 , MAE = 2281.0554169511774\n",
      "For Store 346 RMSE = 2591.338284620901 , MAE = 2009.8027932125724\n",
      "For Store 347 RMSE = 2261.5546375336253 , MAE = 1460.0111047710136\n",
      "For Store 348 RMSE = 3455.2852687127 , MAE = 3151.012432792782\n",
      "For Store 349 RMSE = 3120.3265189113026 , MAE = 2821.1661809144052\n",
      "For Store 350 RMSE = 2559.0939599028975 , MAE = 1793.4247948611062\n",
      "For Store 351 RMSE = 2385.8749023666537 , MAE = 1680.3645060580752\n",
      "For Store 352 RMSE = 2341.928157420764 , MAE = 1578.8616800819286\n",
      "For Store 353 RMSE = 1347.1874321654927 , MAE = 960.2203925412254\n",
      "For Store 354 RMSE = 3138.4719688668406 , MAE = 2535.1760416630755\n",
      "For Store 355 RMSE = 3914.1487610204863 , MAE = 3480.979463232813\n",
      "For Store 356 RMSE = 2253.7366805660677 , MAE = 1387.3891152721978\n",
      "For Store 357 RMSE = 3149.804513044488 , MAE = 2485.398574367489\n",
      "For Store 358 RMSE = 4151.010258075152 , MAE = 3685.4877627542564\n",
      "For Store 359 RMSE = 2290.886987647817 , MAE = 1464.0096178954916\n",
      "For Store 360 RMSE = 2635.6596689188436 , MAE = 1996.1952999850316\n",
      "For Store 361 RMSE = 2568.0578691848186 , MAE = 1965.522690124295\n",
      "For Store 362 RMSE = 3899.7079971436838 , MAE = 3478.86583840386\n",
      "For Store 363 RMSE = 2698.049649235682 , MAE = 2015.0046213106857\n",
      "For Store 364 RMSE = 2367.7961715828883 , MAE = 1623.4880931178177\n",
      "For Store 365 RMSE = 2392.28041278635 , MAE = 1704.3878847328747\n",
      "For Store 366 RMSE = 2645.902724418534 , MAE = 1994.7511020446786\n",
      "For Store 367 RMSE = 2436.2726212434186 , MAE = 1758.4883304071095\n",
      "For Store 368 RMSE = 5147.792572617747 , MAE = 4209.7187596685435\n",
      "For Store 369 RMSE = 2284.7181469376155 , MAE = 1472.938881510952\n",
      "For Store 370 RMSE = 2854.4964343902257 , MAE = 2156.073981323115\n",
      "For Store 371 RMSE = 2605.98426674355 , MAE = 1808.9197901927937\n",
      "For Store 372 RMSE = 3544.309365372848 , MAE = 2978.9935663563933\n",
      "For Store 373 RMSE = 2476.6471617940333 , MAE = 1906.8667330516653\n",
      "For Store 374 RMSE = 2649.228732351535 , MAE = 2082.0335178814503\n",
      "For Store 375 RMSE = 4413.914227525025 , MAE = 3836.4879543152965\n",
      "For Store 376 RMSE = 3263.861547418376 , MAE = 2547.8629354362965\n",
      "For Store 377 RMSE = 3452.733145623834 , MAE = 2800.3755684158937\n",
      "For Store 378 RMSE = 2381.4282671845176 , MAE = 1646.5497139422916\n",
      "For Store 379 RMSE = 2776.4381731081307 , MAE = 2339.245633827722\n",
      "For Store 380 RMSE = 7334.848777007243 , MAE = 7005.841395837898\n",
      "For Store 381 RMSE = 3816.073555299958 , MAE = 3426.4447374983465\n",
      "For Store 382 RMSE = 3182.7495896376754 , MAE = 2480.6631606220517\n",
      "For Store 383 RMSE = 10164.471552492521 , MAE = 9884.688996793597\n",
      "For Store 384 RMSE = 4004.1248913322906 , MAE = 3465.9997164401884\n",
      "For Store 385 RMSE = 2779.2319778620126 , MAE = 2106.2933088800582\n",
      "For Store 386 RMSE = 2545.824329988499 , MAE = 1778.5356319897223\n",
      "For Store 387 RMSE = 4189.024563041635 , MAE = 3506.1534433908005\n",
      "For Store 388 RMSE = 4216.222636289826 , MAE = 3764.2051903125625\n",
      "For Store 389 RMSE = 5263.737392499236 , MAE = 4858.670321385019\n",
      "For Store 390 RMSE = 5929.228323548021 , MAE = 5502.6314174862755\n",
      "For Store 391 RMSE = 2616.8032387663143 , MAE = 1935.1051321333396\n",
      "For Store 392 RMSE = 2666.9068107526214 , MAE = 1928.8008625818334\n",
      "For Store 393 RMSE = 2332.64432932516 , MAE = 1568.8222992226958\n",
      "For Store 394 RMSE = 3464.916012126154 , MAE = 2983.5529570588496\n",
      "For Store 395 RMSE = 2963.7352146456633 , MAE = 2617.821386283774\n",
      "For Store 396 RMSE = 5051.391510440258 , MAE = 4482.472091324266\n",
      "For Store 397 RMSE = 2427.469135588694 , MAE = 1762.9217977484109\n",
      "For Store 398 RMSE = 2384.1458144951316 , MAE = 1751.659196874131\n",
      "For Store 399 RMSE = 2258.4402156156875 , MAE = 1459.0262367318053\n",
      "For Store 400 RMSE = 3445.9195496965126 , MAE = 2886.1720365774577\n",
      "For Store 401 RMSE = 3008.795001570388 , MAE = 2431.3855074670255\n",
      "For Store 402 RMSE = 2404.205069138737 , MAE = 1663.2846291829683\n",
      "For Store 403 RMSE = 2799.9281008003054 , MAE = 2186.924553878863\n",
      "For Store 404 RMSE = 2465.353251192469 , MAE = 1787.1513941066055\n",
      "For Store 405 RMSE = 2852.7509845467566 , MAE = 2354.2253806203476\n",
      "For Store 406 RMSE = 2686.2196210841944 , MAE = 2003.3713348044714\n",
      "For Store 407 RMSE = 2637.9834241642793 , MAE = 2177.268087902597\n",
      "For Store 408 RMSE = 2442.7622608057095 , MAE = 1784.386981935024\n",
      "For Store 409 RMSE = 2362.589794063184 , MAE = 1648.2977979388115\n",
      "For Store 410 RMSE = 2541.696657937725 , MAE = 1982.9366476959824\n",
      "For Store 411 RMSE = 4110.978630031646 , MAE = 3689.072575016506\n",
      "For Store 412 RMSE = 3900.00061961138 , MAE = 3477.5674688660743\n",
      "For Store 413 RMSE = 2714.0937934876724 , MAE = 2044.7900315049858\n",
      "For Store 414 RMSE = 2286.366272886019 , MAE = 1520.0675703971108\n",
      "For Store 415 RMSE = 2269.854671129095 , MAE = 1428.0914905497564\n",
      "For Store 416 RMSE = 5401.414251681728 , MAE = 5133.592522351022\n",
      "For Store 417 RMSE = 2493.2913759364988 , MAE = 1808.2555081036944\n",
      "For Store 418 RMSE = 2621.624307853299 , MAE = 1980.0867964026615\n",
      "For Store 419 RMSE = 2471.4650833538867 , MAE = 1830.9773120932387\n",
      "For Store 420 RMSE = 2366.9690866030737 , MAE = 1720.9833818659245\n",
      "For Store 421 RMSE = 4731.0992605007195 , MAE = 4404.875070608735\n",
      "For Store 422 RMSE = 2588.7052425347906 , MAE = 2102.4894583445334\n",
      "For Store 423 RMSE = 5997.292431098656 , MAE = 5608.195085519759\n",
      "For Store 424 RMSE = 2395.4197508273874 , MAE = 1612.9077397220194\n",
      "For Store 425 RMSE = 3406.601438054565 , MAE = 3194.6296021051426\n",
      "For Store 426 RMSE = 2533.0204171354594 , MAE = 1930.8965220214056\n",
      "For Store 427 RMSE = 3002.014075406146 , MAE = 2184.55781683216\n",
      "For Store 428 RMSE = 2372.4034250285026 , MAE = 1529.5673270329598\n",
      "For Store 429 RMSE = 2358.0587253381746 , MAE = 1667.538868333818\n",
      "For Store 430 RMSE = 3541.686920333446 , MAE = 3193.103761529367\n",
      "For Store 431 RMSE = 4025.60017021051 , MAE = 3656.9840222038\n",
      "For Store 432 RMSE = 5748.24815838918 , MAE = 5340.719405641478\n",
      "For Store 433 RMSE = 1889.5572099651195 , MAE = 1502.013115081797\n",
      "For Store 434 RMSE = 4316.6444234120845 , MAE = 4025.268051328714\n",
      "For Store 435 RMSE = 3487.7353645012477 , MAE = 3322.83604530137\n",
      "For Store 436 RMSE = 2344.208508409121 , MAE = 1615.395929486968\n",
      "For Store 437 RMSE = 2840.190240726313 , MAE = 2059.8924965112965\n",
      "For Store 438 RMSE = 2436.6644798986945 , MAE = 1739.034632033768\n",
      "For Store 439 RMSE = 2614.898305040226 , MAE = 1856.7397506609957\n",
      "For Store 440 RMSE = 2394.6860316219354 , MAE = 1677.2512529480023\n",
      "For Store 441 RMSE = 2296.47018290757 , MAE = 1469.285330020904\n",
      "For Store 442 RMSE = 2584.4824607807936 , MAE = 2001.944510914652\n",
      "For Store 443 RMSE = 2445.992153416617 , MAE = 1760.9475910270849\n",
      "For Store 444 RMSE = 5725.302696937114 , MAE = 5469.2059505484\n",
      "For Store 445 RMSE = 3232.2151027070377 , MAE = 2812.8626548006605\n",
      "For Store 446 RMSE = 2737.680308480311 , MAE = 2147.5732616295372\n",
      "For Store 447 RMSE = 2278.5893584165146 , MAE = 1533.9359344505244\n",
      "For Store 448 RMSE = 3181.7032130694583 , MAE = 2717.7161377098755\n",
      "For Store 449 RMSE = 4753.65627703046 , MAE = 4290.730979898283\n",
      "For Store 450 RMSE = 4101.9393711287275 , MAE = 3585.0905833789725\n",
      "For Store 451 RMSE = 2241.1291100365293 , MAE = 1464.1811702955629\n",
      "For Store 452 RMSE = 2618.8688947585233 , MAE = 1984.0859836837308\n",
      "For Store 453 RMSE = 5428.693465156452 , MAE = 4845.129627733247\n",
      "For Store 454 RMSE = 2740.979772730538 , MAE = 2079.4168737644673\n",
      "For Store 455 RMSE = 3107.770753566568 , MAE = 2609.9681659676107\n",
      "For Store 456 RMSE = 2379.0263540069514 , MAE = 1729.5483701443902\n",
      "For Store 457 RMSE = 2316.3521456916383 , MAE = 1584.6879801863172\n",
      "For Store 458 RMSE = 2883.045772577983 , MAE = 2322.8691749679474\n",
      "For Store 459 RMSE = 4221.482395553644 , MAE = 3549.435857849989\n",
      "For Store 460 RMSE = 3008.5617135413468 , MAE = 2584.3220353185984\n",
      "For Store 461 RMSE = 2515.441158566014 , MAE = 1938.5576107394934\n",
      "For Store 462 RMSE = 2696.064002903703 , MAE = 2054.1343442958573\n",
      "For Store 463 RMSE = 2415.3175836077403 , MAE = 1716.9270104514978\n",
      "For Store 464 RMSE = 4769.306842822862 , MAE = 4599.358749512856\n",
      "For Store 465 RMSE = 3160.1491321871486 , MAE = 2555.2336328446895\n",
      "For Store 466 RMSE = 2983.902761479288 , MAE = 2464.349704851726\n",
      "For Store 467 RMSE = 6823.788723420985 , MAE = 6572.276554138739\n",
      "For Store 468 RMSE = 2455.456075035318 , MAE = 1737.8499566061055\n",
      "For Store 469 RMSE = 5759.022310830046 , MAE = 5277.228426798609\n",
      "For Store 470 RMSE = 5594.0490736543115 , MAE = 5287.313436696758\n",
      "For Store 471 RMSE = 2564.1964266614373 , MAE = 1832.4831648098582\n",
      "For Store 472 RMSE = 2343.1156217551647 , MAE = 1620.2874612339742\n",
      "For Store 473 RMSE = 3300.713468107938 , MAE = 3043.565816115805\n",
      "For Store 474 RMSE = 2912.0570126744565 , MAE = 2332.9946691055115\n",
      "For Store 475 RMSE = 2271.870685767928 , MAE = 1522.7452779515124\n",
      "For Store 476 RMSE = 2568.371841102773 , MAE = 1843.9205232316795\n",
      "For Store 477 RMSE = 2351.538151061873 , MAE = 1515.8422603912347\n",
      "For Store 478 RMSE = 2623.0935728742693 , MAE = 2009.0884114416474\n",
      "For Store 479 RMSE = 5782.955019384622 , MAE = 5238.389769279723\n",
      "For Store 480 RMSE = 2632.72210373211 , MAE = 1971.9393882904849\n",
      "For Store 481 RMSE = 2329.2545101065416 , MAE = 1581.2322964326934\n",
      "For Store 482 RMSE = 2856.2547091676297 , MAE = 2234.278099994389\n",
      "For Store 483 RMSE = 2797.8322678539384 , MAE = 2132.613419878324\n",
      "For Store 484 RMSE = 2821.9995084082616 , MAE = 2274.6785288678116\n",
      "For Store 485 RMSE = 2325.806054078265 , MAE = 1580.2410180985444\n",
      "For Store 486 RMSE = 2801.644981169555 , MAE = 2296.3037103600545\n",
      "For Store 487 RMSE = 2576.311481320677 , MAE = 1852.5189112980297\n",
      "For Store 488 RMSE = 2972.5898601242366 , MAE = 2648.710503426906\n",
      "For Store 489 RMSE = 3266.6802126061825 , MAE = 2578.6833133516307\n",
      "For Store 490 RMSE = 2800.047702053499 , MAE = 2336.7535647587115\n",
      "For Store 491 RMSE = 2623.7698529197246 , MAE = 1887.6153730576566\n",
      "For Store 492 RMSE = 2867.340764406141 , MAE = 2235.62336406653\n",
      "For Store 493 RMSE = 3215.7422529008854 , MAE = 2733.60172371491\n",
      "For Store 494 RMSE = 2006.029102941931 , MAE = 1686.0423639512746\n",
      "For Store 495 RMSE = 2434.9759733237324 , MAE = 1805.0131264849963\n",
      "For Store 496 RMSE = 2861.9377719950776 , MAE = 2117.1415347355187\n",
      "For Store 497 RMSE = 3417.0631994247933 , MAE = 2974.003100741175\n",
      "For Store 498 RMSE = 2245.733070972358 , MAE = 1430.776873894538\n",
      "For Store 499 RMSE = 2300.311234752036 , MAE = 1556.4341467061408\n",
      "For Store 500 RMSE = 2225.4471151673433 , MAE = 1348.4431739381296\n",
      "For Store 501 RMSE = 2596.0850557992276 , MAE = 1957.6438286283717\n",
      "For Store 502 RMSE = 4536.301376592686 , MAE = 4135.1765424342875\n",
      "For Store 503 RMSE = 2634.0838001673346 , MAE = 1848.8505995660705\n",
      "For Store 504 RMSE = 2445.117442173742 , MAE = 1605.671315621752\n",
      "For Store 505 RMSE = 2587.3605591026603 , MAE = 2003.3938536545054\n",
      "For Store 506 RMSE = 2836.5124442895894 , MAE = 2125.8510859211124\n",
      "For Store 507 RMSE = 3033.865167608417 , MAE = 2439.4673814988737\n",
      "For Store 508 RMSE = 2702.6607366324365 , MAE = 1980.140101231957\n",
      "For Store 509 RMSE = 2467.056640348887 , MAE = 1758.4009516333388\n",
      "For Store 510 RMSE = 3206.873420407724 , MAE = 2730.5790545260775\n",
      "For Store 511 RMSE = 2131.889456631002 , MAE = 1170.8402386772518\n",
      "For Store 512 RMSE = 1167.3290521300269 , MAE = 863.8994896217803\n",
      "For Store 513 RMSE = 10177.707858318949 , MAE = 9812.191665160495\n",
      "For Store 514 RMSE = 2384.117609119751 , MAE = 1743.6190725771376\n",
      "For Store 515 RMSE = 3495.7067507929937 , MAE = 3044.046316553801\n",
      "For Store 516 RMSE = 2481.7146473374164 , MAE = 1868.5124552748375\n",
      "For Store 517 RMSE = 2602.9110158730823 , MAE = 1942.2811669527798\n",
      "For Store 518 RMSE = 2453.956069485809 , MAE = 1791.7878739838304\n",
      "For Store 519 RMSE = 2361.117558468172 , MAE = 1659.6092329994779\n",
      "For Store 520 RMSE = 2594.0423316016695 , MAE = 2088.1470041480648\n",
      "For Store 521 RMSE = 2326.16054650028 , MAE = 1612.9418136664942\n",
      "For Store 522 RMSE = 3339.9409021176534 , MAE = 2826.631410829271\n",
      "For Store 523 RMSE = 6940.044201973081 , MAE = 6769.447556039672\n",
      "For Store 524 RMSE = 3031.100450038088 , MAE = 2647.5771931765084\n",
      "For Store 525 RMSE = 3782.950868700872 , MAE = 3548.9475988038707\n",
      "For Store 526 RMSE = 4989.174228262089 , MAE = 4386.335561394773\n",
      "For Store 527 RMSE = 4645.5668209717105 , MAE = 4355.869169217431\n",
      "For Store 528 RMSE = 4716.048899257282 , MAE = 4322.473896919969\n",
      "For Store 529 RMSE = 3132.6273974664814 , MAE = 2571.275336851293\n",
      "For Store 530 RMSE = 1734.3803083530981 , MAE = 1474.0926881416096\n",
      "For Store 531 RMSE = 2332.689207754816 , MAE = 1592.5874208802445\n",
      "For Store 532 RMSE = 4535.889193211108 , MAE = 4389.747555761512\n",
      "For Store 533 RMSE = 5226.707705420904 , MAE = 4706.7610854641\n",
      "For Store 534 RMSE = 3338.692144776783 , MAE = 2710.7816600137453\n",
      "For Store 535 RMSE = 3070.232945672403 , MAE = 2594.401226260655\n",
      "For Store 536 RMSE = 3254.2179150260554 , MAE = 2674.0765323652254\n",
      "For Store 537 RMSE = 2324.220503880526 , MAE = 1560.3157605730262\n",
      "For Store 538 RMSE = 2937.588610170581 , MAE = 2535.972066069423\n",
      "For Store 539 RMSE = 5489.984786405794 , MAE = 5348.578362095989\n",
      "For Store 540 RMSE = 2606.122927494419 , MAE = 1841.115626820683\n",
      "For Store 541 RMSE = 2657.5271577001345 , MAE = 2010.853195332109\n",
      "For Store 542 RMSE = 2277.2025781507286 , MAE = 1445.7791395371974\n",
      "For Store 543 RMSE = 3773.8410533767496 , MAE = 3603.042308339756\n",
      "For Store 544 RMSE = 7015.299414262809 , MAE = 6401.314500116827\n",
      "For Store 545 RMSE = 5311.603170641182 , MAE = 4686.409897825321\n",
      "For Store 546 RMSE = 8128.090247920083 , MAE = 7955.855367171597\n",
      "For Store 547 RMSE = 2282.6004899701093 , MAE = 1429.6063673699382\n",
      "For Store 548 RMSE = 2495.2898294276197 , MAE = 1929.106688290031\n",
      "For Store 549 RMSE = 2462.2741734771744 , MAE = 1801.3968540868932\n",
      "For Store 550 RMSE = 2348.44316707271 , MAE = 1644.396279030514\n",
      "For Store 551 RMSE = 2613.279715716873 , MAE = 1847.245138824648\n",
      "For Store 552 RMSE = 3190.6377131933214 , MAE = 2468.54675986922\n",
      "For Store 553 RMSE = 2771.262165420819 , MAE = 2061.833303444739\n",
      "For Store 554 RMSE = 2211.271672141954 , MAE = 1340.9838322605267\n",
      "For Store 555 RMSE = 2434.786614408417 , MAE = 1761.9793536006484\n",
      "For Store 556 RMSE = 2655.5756984551736 , MAE = 1979.989128029889\n",
      "For Store 557 RMSE = 2915.320264063934 , MAE = 2488.1656003476924\n",
      "For Store 558 RMSE = 3197.14865922812 , MAE = 2972.970746828763\n",
      "For Store 559 RMSE = 2744.2573225979545 , MAE = 2056.732348866868\n",
      "For Store 560 RMSE = 8148.0518339340915 , MAE = 7801.983479623796\n",
      "For Store 561 RMSE = 2589.0873123327647 , MAE = 1887.9642139961488\n",
      "For Store 562 RMSE = 10946.219272629387 , MAE = 10680.170003637866\n",
      "For Store 563 RMSE = 2719.8729075207057 , MAE = 2273.9648212534776\n",
      "For Store 564 RMSE = 2199.0363600573282 , MAE = 1331.5444649055044\n",
      "For Store 565 RMSE = 2393.1072648878376 , MAE = 1704.1276880635937\n",
      "For Store 566 RMSE = 2378.9454972467574 , MAE = 1664.8464005375051\n",
      "For Store 567 RMSE = 2597.2346693943896 , MAE = 1935.0113430646288\n",
      "For Store 568 RMSE = 2270.2294489574397 , MAE = 1486.1680133161785\n",
      "For Store 569 RMSE = 2576.3843522863845 , MAE = 2074.9519462873122\n",
      "For Store 570 RMSE = 2969.2067267460557 , MAE = 2551.8460969800153\n",
      "For Store 571 RMSE = 3072.6769991910037 , MAE = 2589.0432801609722\n",
      "For Store 572 RMSE = 2387.7977747322825 , MAE = 1643.3021875240927\n",
      "For Store 573 RMSE = 2982.0648907343198 , MAE = 2582.7654087635615\n",
      "For Store 574 RMSE = 4027.6286724814277 , MAE = 3552.9332913384683\n",
      "For Store 575 RMSE = 2923.6899466037225 , MAE = 2473.2642082252755\n",
      "For Store 576 RMSE = 2576.8287086312394 , MAE = 1883.228800250711\n",
      "For Store 577 RMSE = 2403.859848695724 , MAE = 1737.5216948656164\n",
      "For Store 578 RMSE = 5013.9574655142205 , MAE = 4545.939285821663\n",
      "For Store 579 RMSE = 2846.2009397830484 , MAE = 2139.7823702462324\n",
      "For Store 580 RMSE = 4022.341271692436 , MAE = 3724.831379213202\n",
      "For Store 581 RMSE = 2728.6231039771687 , MAE = 2121.3456742045432\n",
      "For Store 582 RMSE = 2439.6133865788684 , MAE = 1778.131546569904\n",
      "For Store 583 RMSE = 2780.438046855156 , MAE = 2282.1340740590967\n",
      "For Store 584 RMSE = 2401.4753604194343 , MAE = 1730.1927471920787\n",
      "For Store 585 RMSE = 2517.4935351501517 , MAE = 1903.5568777006079\n",
      "For Store 586 RMSE = 8267.912238711451 , MAE = 7970.499767772204\n",
      "For Store 587 RMSE = 4849.357703204203 , MAE = 4502.85667875093\n",
      "For Store 588 RMSE = 2321.6834350265894 , MAE = 1593.481030841621\n",
      "For Store 589 RMSE = 2511.109161763616 , MAE = 1790.9205793588071\n",
      "For Store 590 RMSE = 2304.011766440035 , MAE = 1579.0165325880578\n",
      "For Store 591 RMSE = 2302.701478497359 , MAE = 1508.548652157611\n",
      "For Store 592 RMSE = 2812.3200970761623 , MAE = 2291.477712693377\n",
      "For Store 593 RMSE = 4324.02723428362 , MAE = 3930.2371680000833\n",
      "For Store 594 RMSE = 2709.528641967518 , MAE = 2162.8870891187426\n",
      "For Store 595 RMSE = 7893.258960733951 , MAE = 7550.280957135865\n",
      "For Store 596 RMSE = 2327.4451623486425 , MAE = 1614.3963012058482\n",
      "For Store 597 RMSE = 2301.521173705391 , MAE = 1567.0074156504081\n",
      "For Store 598 RMSE = 2192.073589006685 , MAE = 1346.556345990574\n",
      "For Store 599 RMSE = 4117.156837422575 , MAE = 3777.611610656209\n",
      "For Store 600 RMSE = 2907.0068704537634 , MAE = 2176.0294334890473\n",
      "For Store 601 RMSE = 2464.137380471803 , MAE = 1846.5847360396097\n",
      "For Store 602 RMSE = 2334.3502374451973 , MAE = 1551.8644664046826\n",
      "For Store 603 RMSE = 2578.5858307971303 , MAE = 1804.722735175301\n",
      "For Store 604 RMSE = 2605.379888439576 , MAE = 1852.878041835523\n",
      "For Store 605 RMSE = 2827.56568706949 , MAE = 2031.7459468463026\n",
      "For Store 606 RMSE = 2330.1208649128203 , MAE = 1624.5918000666502\n",
      "For Store 607 RMSE = 3230.3142231617103 , MAE = 2775.05322886446\n",
      "For Store 608 RMSE = 4333.43060717915 , MAE = 3772.2941487959415\n",
      "For Store 609 RMSE = 2516.3975115663566 , MAE = 1869.5024681135467\n",
      "For Store 610 RMSE = 2906.1402114793063 , MAE = 2489.041244919688\n",
      "For Store 611 RMSE = 2201.759698493812 , MAE = 1321.4761549012974\n",
      "For Store 612 RMSE = 2566.13478278712 , MAE = 1948.160771886464\n",
      "For Store 613 RMSE = 2202.5547345925843 , MAE = 1331.2727131417817\n",
      "For Store 614 RMSE = 2273.8421159434415 , MAE = 1516.6555760303718\n",
      "For Store 615 RMSE = 3761.237747814029 , MAE = 3332.78416808277\n",
      "For Store 616 RMSE = 3040.9918737336457 , MAE = 2472.0910878920545\n",
      "For Store 617 RMSE = 2599.8802230935835 , MAE = 1978.6085245178335\n",
      "For Store 618 RMSE = 2687.7266545455486 , MAE = 2073.9445593980704\n",
      "For Store 619 RMSE = 2769.9437697446538 , MAE = 2222.585098363938\n",
      "For Store 620 RMSE = 3327.6501050931015 , MAE = 2991.524342128046\n",
      "For Store 621 RMSE = 2282.282384830556 , MAE = 1566.0392475051417\n",
      "For Store 622 RMSE = 2630.103285939445 , MAE = 2004.4037715346267\n",
      "For Store 623 RMSE = 2442.9967846294217 , MAE = 1746.3397953618332\n",
      "For Store 624 RMSE = 2562.6784236715503 , MAE = 1855.5570148853642\n",
      "For Store 625 RMSE = 2415.503378172708 , MAE = 1703.4852506679367\n",
      "For Store 626 RMSE = 4312.8292520079785 , MAE = 3593.2951756245056\n",
      "For Store 627 RMSE = 2452.5782790206035 , MAE = 1695.4213420254696\n",
      "For Store 628 RMSE = 2633.735751897483 , MAE = 1954.5453357602094\n",
      "For Store 629 RMSE = 2288.486602968516 , MAE = 1476.4986439322888\n",
      "For Store 630 RMSE = 2579.5072937984214 , MAE = 1817.8323539143125\n",
      "For Store 631 RMSE = 2317.4323447105985 , MAE = 1589.096397686706\n",
      "For Store 632 RMSE = 2618.2672575671695 , MAE = 2004.4968864467462\n",
      "For Store 633 RMSE = 2393.411026399098 , MAE = 1638.6117286609804\n",
      "For Store 634 RMSE = 2817.3720855918314 , MAE = 2161.8732919345607\n",
      "For Store 635 RMSE = 2791.4952095833637 , MAE = 2201.6447781587976\n",
      "For Store 636 RMSE = 2956.6433706857333 , MAE = 2279.0002417510204\n",
      "For Store 637 RMSE = 3955.17544397096 , MAE = 3538.3190853782758\n",
      "For Store 638 RMSE = 2210.6374858451345 , MAE = 1363.8340906021044\n",
      "For Store 639 RMSE = 2790.6980024026984 , MAE = 2262.205611386107\n",
      "For Store 640 RMSE = 5717.526597211988 , MAE = 5380.826238057737\n",
      "For Store 641 RMSE = 2573.3500812395723 , MAE = 1910.5954340644516\n",
      "For Store 642 RMSE = 3313.856713761214 , MAE = 3126.631271893671\n",
      "For Store 643 RMSE = 3051.9802927928336 , MAE = 2346.442839184014\n",
      "For Store 644 RMSE = 3531.3080156152937 , MAE = 3123.2552083056958\n",
      "For Store 645 RMSE = 5421.588301109644 , MAE = 4651.8974238325545\n",
      "For Store 646 RMSE = 2342.7478202509024 , MAE = 1601.516684495705\n",
      "For Store 647 RMSE = 2488.916020798536 , MAE = 1812.2161507973792\n",
      "For Store 648 RMSE = 2352.5420380123587 , MAE = 1582.9649460307105\n",
      "For Store 649 RMSE = 3224.095823072228 , MAE = 2796.008309311511\n",
      "For Store 650 RMSE = 2233.0891141426173 , MAE = 1423.5070500063873\n",
      "For Store 651 RMSE = 2440.0735544560594 , MAE = 1689.231440740678\n",
      "For Store 652 RMSE = 2748.0782116886944 , MAE = 2016.0768681236648\n",
      "For Store 653 RMSE = 2343.9615570052656 , MAE = 1660.6005113336262\n",
      "For Store 654 RMSE = 2818.931023709011 , MAE = 2237.8732018556407\n",
      "For Store 655 RMSE = 3462.7232347741497 , MAE = 2745.693074626829\n",
      "For Store 656 RMSE = 3304.6179725269885 , MAE = 3092.3603550242137\n",
      "For Store 657 RMSE = 2503.150475122653 , MAE = 1831.3261530317302\n",
      "For Store 658 RMSE = 2431.0148355023794 , MAE = 1729.940900469768\n",
      "For Store 659 RMSE = 2401.377279352871 , MAE = 1691.4041893550186\n",
      "For Store 660 RMSE = 2572.7803004403813 , MAE = 1910.0737752304492\n",
      "For Store 661 RMSE = 2452.8866922119855 , MAE = 1717.3844007006119\n",
      "For Store 662 RMSE = 3106.641600723452 , MAE = 2450.6329881569727\n",
      "For Store 663 RMSE = 2278.2930339257678 , MAE = 1485.1561557840262\n",
      "For Store 664 RMSE = 2482.7162550455078 , MAE = 1826.4179213907817\n",
      "For Store 665 RMSE = 3045.975922401579 , MAE = 2537.2729665980874\n",
      "For Store 666 RMSE = 3059.5343359700328 , MAE = 2417.539662263646\n",
      "For Store 667 RMSE = 3584.0146258721356 , MAE = 2954.950282640182\n",
      "For Store 668 RMSE = 3596.863189883434 , MAE = 3100.9413690400306\n",
      "For Store 669 RMSE = 2324.1798092855174 , MAE = 1588.8651301623984\n",
      "For Store 670 RMSE = 2536.448738261301 , MAE = 1828.757668944542\n",
      "For Store 671 RMSE = 2537.8359408624046 , MAE = 1788.7497703964962\n",
      "For Store 672 RMSE = 3076.722626247003 , MAE = 2612.6117995775376\n",
      "For Store 673 RMSE = 3269.2734687787533 , MAE = 2630.025757149224\n",
      "For Store 674 RMSE = 3078.8251331125066 , MAE = 2513.3806560839434\n",
      "For Store 675 RMSE = 3208.0184259936636 , MAE = 2812.697595513272\n",
      "For Store 676 RMSE = 3625.0229454433024 , MAE = 3102.6958633314907\n",
      "For Store 677 RMSE = 2631.8226810985097 , MAE = 1945.0924736587162\n",
      "For Store 678 RMSE = 2692.0799770541744 , MAE = 1917.7965187248042\n",
      "For Store 679 RMSE = 4166.160555206131 , MAE = 3761.7292297986446\n",
      "For Store 680 RMSE = 2252.291313422499 , MAE = 1490.4556522549121\n",
      "For Store 681 RMSE = 2727.836303937364 , MAE = 2302.1364207593842\n",
      "For Store 682 RMSE = 5554.498731940144 , MAE = 4888.9587508673485\n",
      "For Store 683 RMSE = 3106.3282363612293 , MAE = 2525.5189015302185\n",
      "For Store 684 RMSE = 3734.745971379718 , MAE = 3214.0806866698617\n",
      "For Store 685 RMSE = 2592.3636120283772 , MAE = 1948.481357836573\n",
      "For Store 686 RMSE = 2725.844504525783 , MAE = 2040.5865661925525\n",
      "For Store 687 RMSE = 3420.6964898004653 , MAE = 2981.5903054319647\n",
      "For Store 688 RMSE = 3180.628682890663 , MAE = 2804.9073782865585\n",
      "For Store 689 RMSE = 2493.3339840433628 , MAE = 1748.9615842783173\n",
      "For Store 690 RMSE = 2332.498250854923 , MAE = 1626.6199857738632\n",
      "For Store 691 RMSE = 2968.7501496003147 , MAE = 2212.085039290379\n",
      "For Store 692 RMSE = 2668.0097875610777 , MAE = 2055.321550714399\n",
      "For Store 693 RMSE = 2891.3077094996816 , MAE = 2260.8783127033475\n",
      "For Store 694 RMSE = 3102.4399863037793 , MAE = 2627.610185916135\n",
      "For Store 695 RMSE = 2799.8922745255445 , MAE = 2291.3113050928064\n",
      "For Store 696 RMSE = 3726.4941187561258 , MAE = 3263.1167827015793\n",
      "For Store 697 RMSE = 4608.624363331915 , MAE = 4253.2979757323665\n",
      "For Store 698 RMSE = 9887.497116892133 , MAE = 9550.977830942276\n",
      "For Store 699 RMSE = 2825.6714546329063 , MAE = 2149.379121098262\n",
      "For Store 700 RMSE = 2628.5073630769416 , MAE = 1992.8694188966238\n",
      "For Store 701 RMSE = 2552.1118568978163 , MAE = 1961.8106890054505\n",
      "For Store 702 RMSE = 2721.2269134898042 , MAE = 2243.001820083046\n",
      "For Store 703 RMSE = 3427.323656432253 , MAE = 3228.0550690430186\n",
      "For Store 704 RMSE = 4988.50840667515 , MAE = 4691.059872449018\n",
      "For Store 705 RMSE = 3200.0802122211257 , MAE = 2593.4182978734775\n",
      "For Store 706 RMSE = 2291.731192779904 , MAE = 1515.268562223376\n",
      "For Store 707 RMSE = 3410.922800786546 , MAE = 2894.837898376166\n",
      "For Store 708 RMSE = 2232.501857702568 , MAE = 1408.1045782479712\n",
      "For Store 709 RMSE = 4717.295708036504 , MAE = 4312.959380042208\n",
      "For Store 710 RMSE = 2715.953352576573 , MAE = 2193.490959751681\n",
      "For Store 711 RMSE = 2298.640991687258 , MAE = 1582.8461071210866\n",
      "For Store 712 RMSE = 2292.5640201113024 , MAE = 1528.498959524042\n",
      "For Store 713 RMSE = 3534.3920960753712 , MAE = 2959.169182351118\n",
      "For Store 714 RMSE = 2329.5289946263915 , MAE = 1569.3407529092278\n",
      "For Store 715 RMSE = 2827.9351745977774 , MAE = 2211.9109558994282\n",
      "For Store 716 RMSE = 2281.8931527652694 , MAE = 1543.1099603367636\n",
      "For Store 717 RMSE = 2608.403642824665 , MAE = 2026.3584802627977\n",
      "For Store 718 RMSE = 2668.482878549898 , MAE = 2021.3589905440172\n",
      "For Store 719 RMSE = 2357.736325820497 , MAE = 1649.7574302776668\n",
      "For Store 720 RMSE = 2713.4009818117634 , MAE = 1930.3908889247539\n",
      "For Store 721 RMSE = 2729.3976882180227 , MAE = 2169.9198265264945\n",
      "For Store 722 RMSE = 2608.1246522193023 , MAE = 1997.8926101431348\n",
      "For Store 723 RMSE = 3185.3449816233765 , MAE = 2562.7219036672673\n",
      "For Store 724 RMSE = 2304.121766253968 , MAE = 1527.0695218256003\n",
      "For Store 725 RMSE = 2249.8337560860673 , MAE = 1485.9245165408388\n",
      "For Store 726 RMSE = 5443.007615491896 , MAE = 4800.11456367604\n",
      "For Store 727 RMSE = 2513.9855058582925 , MAE = 1874.3939998605526\n",
      "For Store 728 RMSE = 2222.7890207065543 , MAE = 1392.5511332874871\n",
      "For Store 729 RMSE = 4820.451356727957 , MAE = 4344.365011219842\n",
      "For Store 730 RMSE = 2543.2274222339593 , MAE = 1867.8847781210916\n",
      "For Store 731 RMSE = 3560.681872012581 , MAE = 2976.690423737987\n",
      "For Store 732 RMSE = 3219.5398144521187 , MAE = 2855.4152530904207\n",
      "For Store 733 RMSE = 8020.493618770717 , MAE = 7916.635734421779\n",
      "For Store 734 RMSE = 2585.276988934325 , MAE = 1973.0514451862882\n",
      "For Store 735 RMSE = 2548.8883986509504 , MAE = 1931.1496342391556\n",
      "For Store 736 RMSE = 2547.4902619661943 , MAE = 2000.1026378494207\n",
      "For Store 737 RMSE = 2526.3840583741626 , MAE = 1807.7004494818082\n",
      "For Store 738 RMSE = 3132.454318467028 , MAE = 2694.4090804580314\n",
      "For Store 739 RMSE = 4707.779947749216 , MAE = 4282.647166214405\n",
      "For Store 740 RMSE = 2912.6641325597143 , MAE = 2281.84300859281\n",
      "For Store 741 RMSE = 3094.830562955084 , MAE = 2599.597909559267\n",
      "For Store 742 RMSE = 3040.95868542746 , MAE = 2351.59262794827\n",
      "For Store 743 RMSE = 3062.584029783559 , MAE = 2676.3854939397233\n",
      "For Store 744 RMSE = 2665.41417878433 , MAE = 2073.6124183535208\n",
      "For Store 745 RMSE = 3273.6944881436734 , MAE = 2576.630077803505\n",
      "For Store 746 RMSE = 2518.1405338012614 , MAE = 1775.1486874638958\n",
      "For Store 747 RMSE = 3124.346767310794 , MAE = 2482.7497959580614\n",
      "For Store 748 RMSE = 2369.3255251139108 , MAE = 1674.4399462420654\n",
      "For Store 749 RMSE = 2677.982578079704 , MAE = 2040.623845284498\n",
      "For Store 750 RMSE = 2506.793945865302 , MAE = 1895.22830174595\n",
      "For Store 751 RMSE = 2917.882147629634 , MAE = 2555.046728863859\n",
      "For Store 752 RMSE = 2697.971995418172 , MAE = 2129.761628932972\n",
      "For Store 753 RMSE = 3021.1924952631534 , MAE = 2302.8469232262473\n",
      "For Store 754 RMSE = 2768.932332168896 , MAE = 2151.4946855792464\n",
      "For Store 755 RMSE = 4875.31800876067 , MAE = 4611.859330644095\n",
      "For Store 756 RMSE = 9688.601386497148 , MAE = 9260.716752646154\n",
      "For Store 757 RMSE = 2581.623683982238 , MAE = 1855.3154577620546\n",
      "For Store 758 RMSE = 2458.1591032682163 , MAE = 1752.9074667300908\n",
      "For Store 759 RMSE = 2901.667043540249 , MAE = 2239.179921340397\n",
      "For Store 760 RMSE = 2881.563350593268 , MAE = 2507.0513366915243\n",
      "For Store 761 RMSE = 3776.8799227266336 , MAE = 3159.7605285657605\n",
      "For Store 762 RMSE = 2677.592636234924 , MAE = 2156.9169002638173\n",
      "For Store 763 RMSE = 2308.0616458810455 , MAE = 1512.1501643138022\n",
      "For Store 764 RMSE = 2838.030825372326 , MAE = 2343.201131721906\n",
      "For Store 765 RMSE = 3547.6452877802294 , MAE = 2979.740082419763\n",
      "For Store 766 RMSE = 2372.5874694212384 , MAE = 1580.9920048048234\n",
      "For Store 767 RMSE = 2465.8743988787473 , MAE = 1731.0092679786858\n",
      "For Store 768 RMSE = 7361.843349899104 , MAE = 6848.4971246425275\n",
      "For Store 769 RMSE = 5801.998046112719 , MAE = 5612.059999492702\n",
      "For Store 770 RMSE = 2653.746802126819 , MAE = 2074.557476309905\n",
      "For Store 771 RMSE = 2518.3974562072212 , MAE = 1747.6497199940598\n",
      "For Store 772 RMSE = 2784.3554998190375 , MAE = 2398.3969343980025\n",
      "For Store 773 RMSE = 2336.9240329766963 , MAE = 1578.7364308773638\n",
      "For Store 774 RMSE = 2316.795416267832 , MAE = 1568.715015407513\n",
      "For Store 775 RMSE = 3197.544127405931 , MAE = 2715.726496590047\n",
      "For Store 776 RMSE = 2646.2558104895425 , MAE = 2114.4413911488255\n",
      "For Store 777 RMSE = 2583.3314701875424 , MAE = 2019.2897292585408\n",
      "For Store 778 RMSE = 2349.312557682777 , MAE = 1673.5071175367134\n",
      "For Store 779 RMSE = 3011.195115998012 , MAE = 2414.523403369754\n",
      "For Store 780 RMSE = 2744.5329016828396 , MAE = 2096.0541206323715\n",
      "For Store 781 RMSE = 2724.1621192314497 , MAE = 2137.238344661109\n",
      "For Store 782 RMSE = 2240.6352485948028 , MAE = 1454.886365847669\n",
      "For Store 783 RMSE = 2446.2773804956582 , MAE = 1670.8429047287834\n",
      "For Store 784 RMSE = 2439.4900748380664 , MAE = 1773.7950734447843\n",
      "For Store 785 RMSE = 2884.4244227305876 , MAE = 2108.868203262187\n",
      "For Store 786 RMSE = 3446.0601923278423 , MAE = 3135.840637219825\n",
      "For Store 787 RMSE = 4636.542189604071 , MAE = 4246.926906605093\n",
      "For Store 788 RMSE = 10671.248261022367 , MAE = 10258.46845047379\n",
      "For Store 789 RMSE = 2832.618681175236 , MAE = 2517.605374750971\n",
      "For Store 790 RMSE = 2699.506997136871 , MAE = 2098.544841388199\n",
      "For Store 791 RMSE = 3369.5485452203193 , MAE = 2728.8663099694727\n",
      "For Store 792 RMSE = 2796.795662812253 , MAE = 2197.145776737168\n",
      "For Store 793 RMSE = 2689.7846950971275 , MAE = 2111.7489233525134\n",
      "For Store 794 RMSE = 3224.2908341255543 , MAE = 3026.7172067650054\n",
      "For Store 795 RMSE = 2820.1221203576465 , MAE = 2294.4920319352377\n",
      "For Store 796 RMSE = 2914.908201085345 , MAE = 2310.865202829799\n",
      "For Store 797 RMSE = 2395.2695032054526 , MAE = 1729.8824508409712\n",
      "For Store 798 RMSE = 3100.3679216815826 , MAE = 2560.898670148009\n",
      "For Store 799 RMSE = 3979.838921256616 , MAE = 3654.8703973748466\n",
      "For Store 800 RMSE = 2534.017241560138 , MAE = 1923.7622369368203\n",
      "For Store 801 RMSE = 2408.3406003704827 , MAE = 1704.0120543014398\n",
      "For Store 802 RMSE = 2625.0750108372945 , MAE = 1897.6785382623632\n",
      "For Store 803 RMSE = 2338.1940222985727 , MAE = 1617.9354844291825\n",
      "For Store 804 RMSE = 2334.0044851593857 , MAE = 1630.9815087398965\n",
      "For Store 805 RMSE = 2425.777316480553 , MAE = 1760.6051603835333\n",
      "For Store 806 RMSE = 2789.7727153230903 , MAE = 2104.862605686177\n",
      "For Store 807 RMSE = 4148.5968788034215 , MAE = 3955.095707007463\n",
      "For Store 808 RMSE = 3014.007147484378 , MAE = 2507.212599492594\n",
      "For Store 809 RMSE = 4173.2575881600305 , MAE = 3424.378007203749\n",
      "For Store 810 RMSE = 2183.462039742027 , MAE = 1294.4384569846363\n",
      "For Store 811 RMSE = 2677.4252810067815 , MAE = 2230.695901540761\n",
      "For Store 812 RMSE = 2553.005716034468 , MAE = 1814.8160950204208\n",
      "For Store 813 RMSE = 2248.822552936761 , MAE = 1398.2861753140442\n",
      "For Store 814 RMSE = 3541.660456001874 , MAE = 3001.0022540704513\n",
      "For Store 815 RMSE = 2284.9015941985217 , MAE = 1471.1541925790784\n",
      "For Store 816 RMSE = 2598.274558769386 , MAE = 2026.4375090895976\n",
      "For Store 817 RMSE = 13476.032240040138 , MAE = 12769.21319014706\n",
      "For Store 818 RMSE = 2379.615565290898 , MAE = 1724.2508133255358\n",
      "For Store 819 RMSE = 2262.3599246270915 , MAE = 1498.4417975660192\n",
      "For Store 820 RMSE = 5705.59606914902 , MAE = 5432.549657086265\n",
      "For Store 821 RMSE = 2644.881722279255 , MAE = 1956.1739066905143\n",
      "For Store 822 RMSE = 2979.859264408649 , MAE = 2223.948327825461\n",
      "For Store 823 RMSE = 2386.5641058105743 , MAE = 1723.2325454984436\n",
      "For Store 824 RMSE = 2728.5078545618253 , MAE = 2121.791509359216\n",
      "For Store 825 RMSE = 2389.5198065358495 , MAE = 1719.3528712835894\n",
      "For Store 826 RMSE = 3309.31242644641 , MAE = 2795.7994778194948\n",
      "For Store 827 RMSE = 9147.41334686031 , MAE = 8966.228424692126\n",
      "For Store 828 RMSE = 2537.8279864960787 , MAE = 1831.421881752472\n",
      "For Store 829 RMSE = 2342.3834832553184 , MAE = 1678.157092160411\n",
      "For Store 830 RMSE = 2522.108076934184 , MAE = 1826.8856012388976\n",
      "For Store 831 RMSE = 6135.722556645823 , MAE = 5562.65836262855\n",
      "For Store 832 RMSE = 2468.760175822234 , MAE = 1699.1924669297018\n",
      "For Store 833 RMSE = 2361.958274556631 , MAE = 1662.762970348966\n",
      "For Store 834 RMSE = 2406.1181418987676 , MAE = 1726.381138048431\n",
      "For Store 835 RMSE = 2440.6334633358583 , MAE = 1782.1609284913873\n",
      "For Store 836 RMSE = 2678.6827555966847 , MAE = 1975.9096464265801\n",
      "For Store 837 RMSE = 2861.8370425874214 , MAE = 2424.57568763661\n",
      "For Store 838 RMSE = 3187.033822567222 , MAE = 2594.939584988599\n",
      "For Store 839 RMSE = 3064.806216619341 , MAE = 2636.278661523466\n",
      "For Store 840 RMSE = 2520.011511496165 , MAE = 1838.8728734831043\n",
      "For Store 841 RMSE = 3755.4041688701536 , MAE = 3613.368875361213\n",
      "For Store 842 RMSE = 13293.494915737567 , MAE = 12749.647063159033\n",
      "For Store 843 RMSE = 4148.178171286015 , MAE = 3736.365731851204\n",
      "For Store 844 RMSE = 2978.7485758381326 , MAE = 2494.4711353946377\n",
      "For Store 845 RMSE = 2331.125269080071 , MAE = 1633.923883606489\n",
      "For Store 846 RMSE = 3684.088133213909 , MAE = 3089.925470088561\n",
      "For Store 847 RMSE = 2376.5947208054977 , MAE = 1549.9153095242693\n",
      "For Store 848 RMSE = 2741.734880360328 , MAE = 1972.5747412346104\n",
      "For Store 849 RMSE = 3196.538798484471 , MAE = 2706.0038223768615\n",
      "For Store 850 RMSE = 2437.996038247563 , MAE = 1745.1506492912608\n",
      "For Store 851 RMSE = 2291.865995907216 , MAE = 1515.5859430260148\n",
      "For Store 852 RMSE = 2778.8022447425055 , MAE = 2217.1635578359587\n",
      "For Store 853 RMSE = 4328.64567910916 , MAE = 3939.213326149899\n",
      "For Store 854 RMSE = 2307.3187157979523 , MAE = 1514.3698074624986\n",
      "For Store 855 RMSE = 2531.072762975806 , MAE = 1888.7512142989333\n",
      "For Store 856 RMSE = 2585.676761817617 , MAE = 1851.7338506472756\n",
      "For Store 857 RMSE = 3193.7967134875685 , MAE = 2702.2815316590154\n",
      "For Store 858 RMSE = 2320.012660980203 , MAE = 1636.2790655587514\n",
      "For Store 859 RMSE = 2838.550670294215 , MAE = 2325.081733665113\n",
      "For Store 860 RMSE = 2357.350939085643 , MAE = 1580.1131550853584\n",
      "For Store 861 RMSE = 2809.6674036993963 , MAE = 2441.243129144928\n",
      "For Store 862 RMSE = 3249.6280590682445 , MAE = 2739.3438501929977\n",
      "For Store 863 RMSE = 3343.724046542537 , MAE = 2969.3833207578914\n",
      "For Store 864 RMSE = 2668.695484768734 , MAE = 2083.008770478248\n",
      "For Store 865 RMSE = 2741.2854747145284 , MAE = 2188.9039053996903\n",
      "For Store 866 RMSE = 2547.7084467958425 , MAE = 1850.6301436984434\n",
      "For Store 867 RMSE = 1665.0264155526168 , MAE = 1328.4916010762588\n",
      "For Store 868 RMSE = 4039.874801380813 , MAE = 3755.4185499521986\n",
      "For Store 869 RMSE = 2651.7293119796973 , MAE = 2103.4100577988534\n",
      "For Store 870 RMSE = 2459.2391104473068 , MAE = 1863.11723008321\n",
      "For Store 871 RMSE = 2481.1834619577858 , MAE = 1775.1570374108674\n",
      "For Store 872 RMSE = 2593.297205748599 , MAE = 1871.0552153645215\n",
      "For Store 873 RMSE = 3037.63825242907 , MAE = 2735.0973696502715\n",
      "For Store 874 RMSE = 2378.9020776245266 , MAE = 1731.7378186526737\n",
      "For Store 875 RMSE = 2505.5306608845485 , MAE = 1876.1317942580708\n",
      "For Store 876 RMSE = 7429.936071768967 , MAE = 6435.05928750937\n",
      "For Store 877 RMSE = 2296.9562751604008 , MAE = 1604.4802298991492\n",
      "For Store 878 RMSE = 3386.9483482792784 , MAE = 2746.853965709018\n",
      "For Store 879 RMSE = 2743.2145852518665 , MAE = 2238.7662204781686\n",
      "For Store 880 RMSE = 3193.047598434302 , MAE = 2570.2403691302584\n",
      "For Store 881 RMSE = 2966.9495764206845 , MAE = 2513.17511255714\n",
      "For Store 882 RMSE = 2200.0710239025047 , MAE = 1336.120555501903\n",
      "For Store 883 RMSE = 2683.7121123176757 , MAE = 2116.8621071814164\n",
      "For Store 884 RMSE = 2351.3235743203472 , MAE = 1541.8013011999763\n",
      "For Store 885 RMSE = 2202.0752585817836 , MAE = 1387.8491193299335\n",
      "For Store 886 RMSE = 2467.640719064861 , MAE = 1837.1382842330563\n",
      "For Store 887 RMSE = 2606.7491153820456 , MAE = 1845.433460399831\n",
      "For Store 888 RMSE = 3564.186833414088 , MAE = 3121.8964494870825\n",
      "For Store 889 RMSE = 2829.306360713037 , MAE = 2309.965182573482\n",
      "For Store 890 RMSE = 2364.566388317653 , MAE = 1533.0583502264988\n",
      "For Store 891 RMSE = 2653.011634367199 , MAE = 1931.7412977963957\n",
      "For Store 892 RMSE = 3066.1759735088626 , MAE = 2560.407205954419\n",
      "For Store 893 RMSE = 2230.0900679684423 , MAE = 1421.7776055558395\n",
      "For Store 894 RMSE = 3456.7447983192633 , MAE = 2787.638574960847\n",
      "For Store 895 RMSE = 4560.144515408171 , MAE = 4279.506923611388\n",
      "For Store 896 RMSE = 2461.5106256942213 , MAE = 1802.1542510881127\n",
      "For Store 897 RMSE = 3251.1298969624036 , MAE = 3034.4168400704784\n",
      "For Store 898 RMSE = 2991.7222967519006 , MAE = 2411.983848427539\n",
      "For Store 899 RMSE = 2698.6888848466388 , MAE = 2041.408905935252\n",
      "For Store 900 RMSE = 2272.9146980211694 , MAE = 1433.2213742726015\n",
      "For Store 901 RMSE = 2655.5878678206395 , MAE = 1966.258916588663\n",
      "For Store 902 RMSE = 2813.4686867313317 , MAE = 2477.0237780350667\n",
      "For Store 903 RMSE = 6017.684501718267 , MAE = 5824.86861998042\n",
      "For Store 904 RMSE = 2265.538297324048 , MAE = 1464.0770916278502\n",
      "For Store 905 RMSE = 2327.331668244709 , MAE = 1595.9402914615955\n",
      "For Store 906 RMSE = 4824.921085431116 , MAE = 4525.230907297421\n",
      "For Store 907 RMSE = 2239.8886176889355 , MAE = 1420.262728735658\n",
      "For Store 908 RMSE = 2999.5429321950473 , MAE = 2557.841335675854\n",
      "For Store 909 RMSE = 7176.465073019651 , MAE = 6814.100958568503\n",
      "For Store 910 RMSE = 2388.938383508781 , MAE = 1701.8078455512457\n",
      "For Store 911 RMSE = 4315.738772347049 , MAE = 3897.574917019518\n",
      "For Store 912 RMSE = 2190.55579543875 , MAE = 1333.7518788031687\n",
      "For Store 913 RMSE = 3676.3978831136096 , MAE = 2985.688426581246\n",
      "For Store 914 RMSE = 3992.224136957999 , MAE = 3505.148670310181\n",
      "For Store 915 RMSE = 2503.4905149639335 , MAE = 1836.4354575565721\n",
      "For Store 916 RMSE = 2337.2254278768623 , MAE = 1594.5012383207436\n",
      "For Store 917 RMSE = 2463.126119962424 , MAE = 1781.244799679977\n",
      "For Store 918 RMSE = 2485.9229217513616 , MAE = 1725.7489902517757\n",
      "For Store 919 RMSE = 2528.590992189047 , MAE = 1906.0443933089662\n",
      "For Store 920 RMSE = 2257.420044963312 , MAE = 1454.7886974748967\n",
      "For Store 921 RMSE = 3360.555359643837 , MAE = 3002.813932495269\n",
      "For Store 922 RMSE = 2524.5916027404196 , MAE = 1783.8781436909026\n",
      "For Store 923 RMSE = 2250.2282419110857 , MAE = 1457.8839851955881\n",
      "For Store 924 RMSE = 2775.3260317752283 , MAE = 2228.909272956856\n",
      "For Store 925 RMSE = 2496.7760679131025 , MAE = 1807.4987024413235\n",
      "For Store 926 RMSE = 2646.2793950939335 , MAE = 1814.81095022092\n",
      "For Store 927 RMSE = 2406.3843279143243 , MAE = 1703.8475863529002\n",
      "For Store 928 RMSE = 3258.928812966375 , MAE = 2362.041913183414\n",
      "For Store 929 RMSE = 2273.616084971225 , MAE = 1525.9709596762693\n",
      "For Store 930 RMSE = 2319.909599667738 , MAE = 1537.9832817613885\n",
      "For Store 931 RMSE = 1548.3013338069638 , MAE = 1276.8420660750285\n",
      "For Store 932 RMSE = 2794.231316572719 , MAE = 2147.995312438737\n",
      "For Store 933 RMSE = 2940.3449731255664 , MAE = 2451.080762963676\n",
      "For Store 934 RMSE = 2359.53722365757 , MAE = 1602.2156318681277\n",
      "For Store 935 RMSE = 2441.96467439659 , MAE = 1775.0247037547717\n",
      "For Store 936 RMSE = 2249.1057785542994 , MAE = 1395.3438004474513\n",
      "For Store 937 RMSE = 2722.9074382209974 , MAE = 2025.676824123165\n",
      "For Store 938 RMSE = 3993.4732259827324 , MAE = 3677.5465723254747\n",
      "For Store 939 RMSE = 2298.1802429114264 , MAE = 1585.5032354774853\n",
      "For Store 940 RMSE = 2890.105986400123 , MAE = 2252.3094451208203\n",
      "For Store 941 RMSE = 2417.9073525691474 , MAE = 1798.2765165252886\n",
      "For Store 942 RMSE = 2370.609253373126 , MAE = 1608.3888332589777\n",
      "For Store 943 RMSE = 2443.059485681829 , MAE = 1702.3172751342156\n",
      "For Store 944 RMSE = 2589.740632417294 , MAE = 1790.4303806606574\n",
      "For Store 945 RMSE = 2660.0928880730785 , MAE = 2143.523974666642\n",
      "For Store 946 RMSE = 2733.4625068740966 , MAE = 2218.2036703564936\n",
      "For Store 947 RMSE = 2724.0695253951476 , MAE = 2109.958415464547\n",
      "For Store 948 RMSE = 2653.3885867863146 , MAE = 2271.3551787702827\n",
      "For Store 949 RMSE = 2558.483586234669 , MAE = 1908.6848217714228\n",
      "For Store 950 RMSE = 2489.7446253396392 , MAE = 1833.3658938333842\n",
      "For Store 951 RMSE = 2766.4604312472134 , MAE = 2068.242917159397\n",
      "For Store 952 RMSE = 2159.6514685785196 , MAE = 1243.728160983698\n",
      "For Store 953 RMSE = 2582.432369604929 , MAE = 1825.8474283703933\n",
      "For Store 954 RMSE = 2404.2326413655705 , MAE = 1718.349363698408\n",
      "For Store 955 RMSE = 2455.989227191413 , MAE = 1851.5148123740005\n",
      "For Store 956 RMSE = 3497.9814475490275 , MAE = 3270.840874509117\n",
      "For Store 957 RMSE = 3261.683226091059 , MAE = 2628.7845717447963\n",
      "For Store 958 RMSE = 2948.6927388973836 , MAE = 2654.840015430871\n",
      "For Store 959 RMSE = 2796.9652104524594 , MAE = 2213.078257276558\n",
      "For Store 960 RMSE = 2707.127199914936 , MAE = 1944.9196557632056\n",
      "For Store 961 RMSE = 2336.4506606073246 , MAE = 1581.8310444414649\n",
      "For Store 962 RMSE = 2527.260152800033 , MAE = 1898.2490312827517\n",
      "For Store 963 RMSE = 6052.993127163698 , MAE = 5315.8441667401585\n",
      "For Store 964 RMSE = 3663.9267103005445 , MAE = 3107.9850702033755\n",
      "For Store 965 RMSE = 3189.5454271294893 , MAE = 2542.4227553623446\n",
      "For Store 966 RMSE = 2561.8245065822753 , MAE = 1994.4093455577188\n",
      "For Store 967 RMSE = 2941.2224981009754 , MAE = 2420.3644637160537\n",
      "For Store 968 RMSE = 2605.0513506834695 , MAE = 1996.892981862015\n",
      "For Store 969 RMSE = 2819.055541017983 , MAE = 2414.0981474130845\n",
      "For Store 970 RMSE = 3683.290282682374 , MAE = 3508.80483560885\n",
      "For Store 971 RMSE = 3723.1308456635807 , MAE = 3091.468601897125\n",
      "For Store 972 RMSE = 3317.69407734818 , MAE = 2997.609573406276\n",
      "For Store 973 RMSE = 2470.623839467973 , MAE = 1724.495575596315\n",
      "For Store 974 RMSE = 5918.912098935656 , MAE = 5660.730554691986\n",
      "For Store 975 RMSE = 2624.661866865863 , MAE = 1956.626826296719\n",
      "For Store 976 RMSE = 2576.34507759266 , MAE = 1898.2271865893088\n",
      "For Store 977 RMSE = 2866.2827194667007 , MAE = 2423.8156768267686\n",
      "For Store 978 RMSE = 2734.6169374637093 , MAE = 2059.681134028401\n",
      "For Store 979 RMSE = 2425.265531691192 , MAE = 1677.65533836782\n",
      "For Store 980 RMSE = 2414.0315226370853 , MAE = 1714.5499838057929\n",
      "For Store 981 RMSE = 2672.786794199191 , MAE = 1988.5342112669437\n",
      "For Store 982 RMSE = 3392.7306037334315 , MAE = 2705.6601262378713\n",
      "For Store 983 RMSE = 3154.811868826107 , MAE = 2518.069175295025\n",
      "For Store 984 RMSE = 2535.8166802648643 , MAE = 1923.5405848549233\n",
      "For Store 985 RMSE = 3359.8112564047824 , MAE = 2788.9401496461032\n",
      "For Store 986 RMSE = 2536.2547688614973 , MAE = 1926.9712187676348\n",
      "For Store 987 RMSE = 2676.7702427927256 , MAE = 1987.348270343841\n",
      "For Store 988 RMSE = 2409.8910628078856 , MAE = 1708.6170740428122\n",
      "For Store 989 RMSE = 2407.627602432168 , MAE = 1652.0740676425446\n",
      "For Store 990 RMSE = 2391.7580637690307 , MAE = 1705.1241111972427\n",
      "For Store 991 RMSE = 2219.8782944839354 , MAE = 1391.7609278372322\n",
      "For Store 992 RMSE = 2557.2331694700797 , MAE = 1919.8921781643762\n",
      "For Store 993 RMSE = 2922.1379535794913 , MAE = 2232.8339020540357\n",
      "For Store 994 RMSE = 2837.275765170773 , MAE = 2324.569098934672\n",
      "For Store 995 RMSE = 3902.1148706352433 , MAE = 3508.06405568383\n",
      "For Store 996 RMSE = 2810.285765673845 , MAE = 2004.5508654326334\n",
      "For Store 997 RMSE = 2537.9466603496767 , MAE = 1951.972381030112\n",
      "For Store 998 RMSE = 2513.233856451681 , MAE = 1941.016871359469\n",
      "For Store 999 RMSE = 4062.0086448133356 , MAE = 3325.2104581384524\n",
      "For Store 1000 RMSE = 2385.8479706257713 , MAE = 1618.9466678047431\n",
      "For Store 1001 RMSE = 2465.2940114748917 , MAE = 1798.7107965855205\n",
      "For Store 1002 RMSE = 2412.9675579364393 , MAE = 1609.9840044013988\n",
      "For Store 1003 RMSE = 2661.6487851176407 , MAE = 1968.3609863231757\n",
      "For Store 1004 RMSE = 2468.7760098963 , MAE = 1851.392094160315\n",
      "For Store 1005 RMSE = 2236.9493223443474 , MAE = 1427.7998337446215\n",
      "For Store 1006 RMSE = 2547.184492420045 , MAE = 1745.0060863841331\n",
      "For Store 1007 RMSE = 2812.925599725344 , MAE = 2126.488378517269\n",
      "For Store 1008 RMSE = 2359.802235181023 , MAE = 1725.9333632417274\n",
      "For Store 1009 RMSE = 2453.526045298149 , MAE = 1806.1322678323306\n",
      "For Store 1010 RMSE = 4231.475713444551 , MAE = 3662.3284735570105\n",
      "For Store 1011 RMSE = 2631.0997433513157 , MAE = 1894.2196493612685\n",
      "For Store 1012 RMSE = 2271.5920354662817 , MAE = 1477.958276271144\n",
      "For Store 1013 RMSE = 3213.7923980773817 , MAE = 2869.2219623675674\n",
      "For Store 1014 RMSE = 4899.15024635933 , MAE = 4251.483092160079\n",
      "For Store 1015 RMSE = 2351.258154323681 , MAE = 1640.1234003336915\n",
      "For Store 1016 RMSE = 2526.7649278836598 , MAE = 1882.1218881544087\n",
      "For Store 1017 RMSE = 2335.2740635795103 , MAE = 1577.606999931028\n",
      "For Store 1018 RMSE = 5211.6827613064515 , MAE = 4894.662332758054\n",
      "For Store 1019 RMSE = 3350.967117276503 , MAE = 2616.874388675359\n",
      "For Store 1020 RMSE = 3155.5903644668733 , MAE = 2772.341447365584\n",
      "For Store 1021 RMSE = 3854.268232141264 , MAE = 3638.4445129898368\n",
      "For Store 1022 RMSE = 2638.1900295036544 , MAE = 1927.0662733317854\n",
      "For Store 1023 RMSE = 2350.0630926839926 , MAE = 1627.4435910120023\n",
      "For Store 1024 RMSE = 2269.1893927853403 , MAE = 1478.327022251048\n",
      "For Store 1025 RMSE = 2652.4307340799523 , MAE = 2045.5782973032103\n",
      "For Store 1026 RMSE = 3845.466387865932 , MAE = 3137.567467861751\n",
      "For Store 1027 RMSE = 6962.123649538939 , MAE = 6184.124451621663\n",
      "For Store 1028 RMSE = 2689.265917862514 , MAE = 2167.6392027581223\n",
      "For Store 1029 RMSE = 2579.0055463337685 , MAE = 1698.4311906244209\n",
      "For Store 1030 RMSE = 3136.2792414629353 , MAE = 2715.5916319430726\n",
      "For Store 1031 RMSE = 2610.6404583844314 , MAE = 2045.5372217249467\n",
      "For Store 1032 RMSE = 3867.003999887583 , MAE = 3445.4975555993415\n",
      "For Store 1033 RMSE = 7879.205340570728 , MAE = 7368.87155753084\n",
      "For Store 1034 RMSE = 2733.749036408417 , MAE = 2001.2981942149333\n",
      "For Store 1035 RMSE = 2742.4840992394497 , MAE = 2103.2860740897286\n",
      "For Store 1036 RMSE = 2378.9266602118905 , MAE = 1664.640182854111\n",
      "For Store 1037 RMSE = 2326.1454994153496 , MAE = 1566.1298314263822\n",
      "For Store 1038 RMSE = 2243.9896562899867 , MAE = 1386.0239461586448\n",
      "For Store 1039 RMSE = 2810.3655707284397 , MAE = 2211.4072624548076\n",
      "For Store 1040 RMSE = 3285.49253623022 , MAE = 2624.2502308832527\n",
      "For Store 1041 RMSE = 2216.4411972117073 , MAE = 1409.7601386712197\n",
      "For Store 1042 RMSE = 2915.1958283872777 , MAE = 2529.570802301735\n",
      "For Store 1043 RMSE = 3048.935039713441 , MAE = 2489.9830149108584\n",
      "For Store 1044 RMSE = 2395.680493177865 , MAE = 1697.563895999397\n",
      "For Store 1045 RMSE = 3976.4297498891297 , MAE = 3523.83400792671\n",
      "For Store 1046 RMSE = 3958.2108276527065 , MAE = 3340.9065263540338\n",
      "For Store 1047 RMSE = 2609.5471470977946 , MAE = 2015.1479187223745\n",
      "For Store 1048 RMSE = 2815.6601772619942 , MAE = 2044.0319603471753\n",
      "For Store 1049 RMSE = 2973.521526037573 , MAE = 2651.4280210641314\n",
      "For Store 1050 RMSE = 2574.334225170251 , MAE = 1752.544456888536\n",
      "For Store 1051 RMSE = 3123.415526926212 , MAE = 2508.294461747983\n",
      "For Store 1052 RMSE = 2599.807895362366 , MAE = 1913.9450994983333\n",
      "For Store 1053 RMSE = 3358.143622117504 , MAE = 2687.076927637024\n",
      "For Store 1054 RMSE = 2558.78707374862 , MAE = 1870.2149102324408\n",
      "For Store 1055 RMSE = 2827.2624716665164 , MAE = 2176.13671730423\n",
      "For Store 1056 RMSE = 2584.7430542961656 , MAE = 2047.8924036772091\n",
      "For Store 1057 RMSE = 2251.798182965448 , MAE = 1432.0906778308258\n",
      "For Store 1058 RMSE = 2644.6037733999046 , MAE = 1989.6430630152763\n",
      "For Store 1059 RMSE = 3523.522350617925 , MAE = 3038.5072026116372\n",
      "For Store 1060 RMSE = 2723.1264353388833 , MAE = 2017.9604909237505\n",
      "For Store 1061 RMSE = 3217.727489245437 , MAE = 2738.3641269532905\n",
      "For Store 1062 RMSE = 2460.6677720712596 , MAE = 1774.170903876219\n",
      "For Store 1063 RMSE = 2686.4017318971783 , MAE = 2198.072195147581\n",
      "For Store 1064 RMSE = 3911.211344077839 , MAE = 3556.3452857052066\n",
      "For Store 1065 RMSE = 2714.7402673553215 , MAE = 2165.5442174751415\n",
      "For Store 1066 RMSE = 3485.467230488062 , MAE = 3177.885662760903\n",
      "For Store 1067 RMSE = 2227.3933257521517 , MAE = 1375.9337914609948\n",
      "For Store 1068 RMSE = 2580.276265005333 , MAE = 2059.659963491549\n",
      "For Store 1069 RMSE = 2733.167968582255 , MAE = 2122.177629389653\n",
      "For Store 1070 RMSE = 2683.5538331639577 , MAE = 1915.5017260533693\n",
      "For Store 1071 RMSE = 2315.7873337228043 , MAE = 1588.676877868385\n",
      "For Store 1072 RMSE = 2662.403141727974 , MAE = 2014.578691197425\n",
      "For Store 1073 RMSE = 3539.4514562227096 , MAE = 3025.3860287781845\n",
      "For Store 1074 RMSE = 2512.4195432443944 , MAE = 1958.2997607704997\n",
      "For Store 1075 RMSE = 5295.81922941706 , MAE = 5217.292065577573\n",
      "For Store 1076 RMSE = 2981.101562959147 , MAE = 2627.483671216132\n",
      "For Store 1077 RMSE = 2756.249901541354 , MAE = 2264.2588469342336\n",
      "For Store 1078 RMSE = 3176.84524811091 , MAE = 2397.287408493078\n",
      "For Store 1079 RMSE = 3515.0669660499198 , MAE = 2838.097024239474\n",
      "For Store 1080 RMSE = 4833.830154345988 , MAE = 4625.628086672705\n",
      "For Store 1081 RMSE = 1841.4752304490232 , MAE = 1458.596427314483\n",
      "For Store 1082 RMSE = 2513.165107794252 , MAE = 1822.6198069936067\n",
      "For Store 1083 RMSE = 2197.557212632814 , MAE = 1370.5861349603142\n",
      "For Store 1084 RMSE = 2233.260477923952 , MAE = 1346.3044992682635\n",
      "For Store 1085 RMSE = 2677.873142259678 , MAE = 2066.9663923150547\n",
      "For Store 1086 RMSE = 2737.653590641299 , MAE = 2155.6197962214706\n",
      "For Store 1087 RMSE = 2381.5697154108366 , MAE = 1581.7269657737515\n",
      "For Store 1088 RMSE = 2598.9869882036414 , MAE = 1998.817763058107\n",
      "For Store 1089 RMSE = 4476.4474516482915 , MAE = 4170.534466358637\n",
      "For Store 1090 RMSE = 2624.875602720553 , MAE = 1953.4396891593474\n",
      "For Store 1091 RMSE = 3629.8086380638715 , MAE = 3075.918362084111\n",
      "For Store 1092 RMSE = 6177.327681228352 , MAE = 5918.4418106222265\n",
      "For Store 1093 RMSE = 3374.740811884186 , MAE = 2824.5698253341734\n",
      "For Store 1094 RMSE = 2428.336662781439 , MAE = 1749.7640189796043\n",
      "For Store 1095 RMSE = 2602.4937692086887 , MAE = 2060.022299176513\n",
      "For Store 1096 RMSE = 2325.7142889394077 , MAE = 1577.526705608789\n",
      "For Store 1097 RMSE = 4629.436991331135 , MAE = 4403.489322297179\n",
      "For Store 1098 RMSE = 2499.886107510037 , MAE = 1772.5339829989439\n",
      "For Store 1099 RMSE = 3038.362193208618 , MAE = 2675.1147052337296\n",
      "For Store 1100 RMSE = 2667.1103866102835 , MAE = 2098.048906551701\n",
      "For Store 1101 RMSE = 4707.0257770953785 , MAE = 4236.449366381567\n",
      "For Store 1102 RMSE = 2384.608020139443 , MAE = 1610.5660525162286\n",
      "For Store 1103 RMSE = 2383.5456293840107 , MAE = 1674.632669178988\n",
      "For Store 1104 RMSE = 2277.6801452471886 , MAE = 1466.8299487049906\n",
      "For Store 1105 RMSE = 2490.865885631722 , MAE = 1885.725339962631\n",
      "For Store 1106 RMSE = 2463.7632623526306 , MAE = 1761.6555625030692\n",
      "For Store 1107 RMSE = 2693.230066898176 , MAE = 2070.325081852497\n",
      "For Store 1108 RMSE = 2774.53046243062 , MAE = 2064.242464382888\n",
      "For Store 1109 RMSE = 2581.016885167815 , MAE = 2035.559495641981\n",
      "For Store 1110 RMSE = 2707.565749319391 , MAE = 2170.9137186692647\n",
      "For Store 1111 RMSE = 2810.0211074929093 , MAE = 2341.543631646627\n",
      "For Store 1112 RMSE = 3501.411250003263 , MAE = 2636.3499317421424\n",
      "For Store 1113 RMSE = 2371.515311230528 , MAE = 1608.1588312301099\n",
      "For Store 1114 RMSE = 15251.831278201827 , MAE = 14671.928455811274\n",
      "For Store 1115 RMSE = 2524.510106457479 , MAE = 1725.9616182301102\n",
      "\n",
      "Avg RMS = 3098.1630951027887 , MAE = 2492.87215458417\n"
     ]
    }
   ],
   "source": [
    "sum_rms = 0\n",
    "sum_mae = 0\n",
    "for i in range(1,store+1):\n",
    "  X_train = np.asarray(train[['Customers','Promo']].loc[train.Store == i])\n",
    "  X_test = np.asarray(test[['Customers','Promo']].loc[test.Store == i])\n",
    "  y_train = np.asarray(train['Sales'].loc[train.Store == i])\n",
    "  y_test = np.asarray(test['Sales'].loc[test.Store == i])\n",
    "  y_train = y_train.reshape(-1,1)\n",
    "  y_test = y_test.reshape(-1,1)\n",
    "  linereg = LinearRegression()\n",
    "  linereg.fit(X_train,y_train)\n",
    "  y_pred = reg.predict(y_test)\n",
    "  rms = sqrt(mean_squared_error(y_test, y_pred))\n",
    "  mae = mean_absolute_error(y_test,y_pred)\n",
    "  sum_rms = sum_rms + rms\n",
    "  sum_mae = sum_mae + mae\n",
    "  print('For Store {} RMSE = {} , MAE = {}'.format(i,rms,mae))\n",
    "print('\\nAvg RMS = {} , MAE = {}'.format((sum_rms/store),(sum_mae/store)))"
   ]
  },
  {
   "cell_type": "markdown",
   "metadata": {
    "colab_type": "text",
    "id": "hUwnVAMcv4uS"
   },
   "source": [
    "### As we can see the models for particular stores perform better than the model created for all the store with store id as a feature. The average RMSE is better than the RMSE of earlier model. \n",
    "\n",
    "### b. Train Seperate Model for each store. \n",
    "### I will use RandomForest Regression , KNN Regressor and Lasso Regression, each having its own combination of features(as a part of open ended modeling). I will also train some Linear Regression Models with different features to draw a comparision between the two."
   ]
  },
  {
   "cell_type": "code",
   "execution_count": 63,
   "metadata": {
    "colab": {
     "base_uri": "https://localhost:8080/",
     "height": 71
    },
    "colab_type": "code",
    "id": "5vTSxfn9Jy1u",
    "outputId": "8f0b4a83-a70d-45dc-f2d7-81667bce8a2c"
   },
   "outputs": [
    {
     "name": "stderr",
     "output_type": "stream",
     "text": [
      "/usr/local/lib/python3.6/dist-packages/IPython/core/interactiveshell.py:2718: DtypeWarning: Columns (7) have mixed types. Specify dtype option on import or set low_memory=False.\n",
      "  interactivity=interactivity, compiler=compiler, result=result)\n"
     ]
    }
   ],
   "source": [
    "#map a - 1, b- 2 & c - 3 in the state holiday\n",
    "def cleanHoliday(x):\n",
    "  if(x == 0):\n",
    "    x = '0'\n",
    "  elif(x == 'a'):\n",
    "    x = 1\n",
    "  elif(x == 'b'):\n",
    "    x = 2\n",
    "  elif(x == 'c'):\n",
    "    x = 3\n",
    "  return x\n",
    "train = pd.read_csv('train_data.csv')\n",
    "test = pd.read_csv('test_data_hidden.csv')\n",
    "train.StateHoliday = train.StateHoliday.map(cleanHoliday)\n",
    "test.StateHoliday = test.StateHoliday.map(cleanHoliday)"
   ]
  },
  {
   "cell_type": "code",
   "execution_count": 0,
   "metadata": {
    "colab": {},
    "colab_type": "code",
    "id": "cy5ZQvzil21x"
   },
   "outputs": [],
   "source": [
    "X_train = np.asarray(train[['Customers','Promo','StateHoliday','Open','DayOfWeek']])\n",
    "X_test = np.asarray(test[['Customers','Promo','StateHoliday','Open','DayOfWeek']])\n",
    "y_train = np.asarray(train['Sales'])\n",
    "y_test = np.asarray(test['Sales'])\n",
    "y_train = y_train.reshape(-1,1)\n",
    "y_test = y_test.reshape(-1,1)"
   ]
  },
  {
   "cell_type": "markdown",
   "metadata": {
    "colab_type": "text",
    "id": "2SFKJhCOZIYF"
   },
   "source": [
    "### Random Forest Regression"
   ]
  },
  {
   "cell_type": "code",
   "execution_count": 0,
   "metadata": {
    "colab": {},
    "colab_type": "code",
    "id": "TFnMz5XLogR8"
   },
   "outputs": [],
   "source": [
    "from sklearn.ensemble import RandomForestRegressor"
   ]
  },
  {
   "cell_type": "code",
   "execution_count": 0,
   "metadata": {
    "colab": {},
    "colab_type": "code",
    "id": "NUQJhOgSy1Xl"
   },
   "outputs": [],
   "source": [
    "rfg = RandomForestRegressor(n_estimators = 12)"
   ]
  },
  {
   "cell_type": "code",
   "execution_count": 67,
   "metadata": {
    "colab": {
     "base_uri": "https://localhost:8080/",
     "height": 190
    },
    "colab_type": "code",
    "id": "Q6V9UhfNzo82",
    "outputId": "a99e0d5e-d1a2-4e48-c4cc-7e20d2de7af2"
   },
   "outputs": [
    {
     "name": "stderr",
     "output_type": "stream",
     "text": [
      "/usr/local/lib/python3.6/dist-packages/ipykernel_launcher.py:1: DataConversionWarning: A column-vector y was passed when a 1d array was expected. Please change the shape of y to (n_samples,), for example using ravel().\n",
      "  \"\"\"Entry point for launching an IPython kernel.\n"
     ]
    },
    {
     "data": {
      "text/plain": [
       "RandomForestRegressor(bootstrap=True, criterion='mse', max_depth=None,\n",
       "                      max_features='auto', max_leaf_nodes=None,\n",
       "                      min_impurity_decrease=0.0, min_impurity_split=None,\n",
       "                      min_samples_leaf=1, min_samples_split=2,\n",
       "                      min_weight_fraction_leaf=0.0, n_estimators=12,\n",
       "                      n_jobs=None, oob_score=False, random_state=None,\n",
       "                      verbose=0, warm_start=False)"
      ]
     },
     "execution_count": 67,
     "metadata": {
      "tags": []
     },
     "output_type": "execute_result"
    }
   ],
   "source": [
    "rfg.fit(X_train,y_train)"
   ]
  },
  {
   "cell_type": "code",
   "execution_count": 0,
   "metadata": {
    "colab": {},
    "colab_type": "code",
    "id": "bQjs0wTdz3Oj"
   },
   "outputs": [],
   "source": [
    "y_pred_2 = rfg.predict(X_test)"
   ]
  },
  {
   "cell_type": "code",
   "execution_count": 0,
   "metadata": {
    "colab": {},
    "colab_type": "code",
    "id": "UL4CSTRK1bDM"
   },
   "outputs": [],
   "source": [
    "rms = sqrt(mean_squared_error(y_test, y_pred_2))\n",
    "mae = mean_absolute_error(y_test,y_pred_2)"
   ]
  },
  {
   "cell_type": "code",
   "execution_count": 70,
   "metadata": {
    "colab": {
     "base_uri": "https://localhost:8080/",
     "height": 51
    },
    "colab_type": "code",
    "id": "VkFXnjUl1hkh",
    "outputId": "eed99f95-8f5b-4e39-9e61-02b2456659d6"
   },
   "outputs": [
    {
     "name": "stdout",
     "output_type": "stream",
     "text": [
      "Random Forest\n",
      "RMSE is 1469.2066360544366 and MAE is 977.7245996467005\n"
     ]
    }
   ],
   "source": [
    "print('Random Forest\\nRMSE is {} and MAE is {}'.format(rms,mae))"
   ]
  },
  {
   "cell_type": "markdown",
   "metadata": {
    "colab_type": "text",
    "id": "6l5T1fM7ZM3O"
   },
   "source": [
    "### KNN Regressioon"
   ]
  },
  {
   "cell_type": "code",
   "execution_count": 0,
   "metadata": {
    "colab": {},
    "colab_type": "code",
    "id": "lzoeqkPh1_zc"
   },
   "outputs": [],
   "source": [
    "from sklearn.neighbors import KNeighborsRegressor"
   ]
  },
  {
   "cell_type": "code",
   "execution_count": 0,
   "metadata": {
    "colab": {},
    "colab_type": "code",
    "id": "9L0wAQ437muc"
   },
   "outputs": [],
   "source": [
    "neigh = KNeighborsRegressor(n_neighbors=21)"
   ]
  },
  {
   "cell_type": "code",
   "execution_count": 0,
   "metadata": {
    "colab": {},
    "colab_type": "code",
    "id": "jETNzV89LBQN"
   },
   "outputs": [],
   "source": [
    "X_train = np.asarray(train[['Customers','StateHoliday','Promo','DayOfWeek']])\n",
    "X_test = np.asarray(test[['Customers','StateHoliday','Promo','DayOfWeek']])\n",
    "y_train = np.asarray(train['Sales'])\n",
    "y_test = np.asarray(test['Sales'])\n",
    "y_train = y_train.reshape(-1,1)\n",
    "y_test = y_test.reshape(-1,1)"
   ]
  },
  {
   "cell_type": "code",
   "execution_count": 0,
   "metadata": {
    "colab": {},
    "colab_type": "code",
    "id": "khWTT3BzLd9v"
   },
   "outputs": [],
   "source": [
    "neigh.fit(X_train, y_train)\n",
    "y_pred_3 = neigh.predict(X_test)"
   ]
  },
  {
   "cell_type": "code",
   "execution_count": 75,
   "metadata": {
    "colab": {
     "base_uri": "https://localhost:8080/",
     "height": 51
    },
    "colab_type": "code",
    "id": "F1QdUk08Lgil",
    "outputId": "e8f6f38a-3c7f-4118-8a36-4091a4c662b1"
   },
   "outputs": [
    {
     "name": "stdout",
     "output_type": "stream",
     "text": [
      "KNN Regression\n",
      "RMSE is 1473.8260464723157 and MAE is 988.1357580266304\n"
     ]
    }
   ],
   "source": [
    "rms = sqrt(mean_squared_error(y_test, y_pred_3))\n",
    "mae = mean_absolute_error(y_test,y_pred_3)\n",
    "print('KNN Regression\\nRMSE is {} and MAE is {}'.format(rms,mae))"
   ]
  },
  {
   "cell_type": "code",
   "execution_count": 76,
   "metadata": {
    "colab": {
     "base_uri": "https://localhost:8080/",
     "height": 204
    },
    "colab_type": "code",
    "id": "F1IDLI93Limi",
    "outputId": "38fb52db-c2f7-4f8e-b532-272bdd206944"
   },
   "outputs": [
    {
     "data": {
      "text/html": [
       "<div>\n",
       "<style scoped>\n",
       "    .dataframe tbody tr th:only-of-type {\n",
       "        vertical-align: middle;\n",
       "    }\n",
       "\n",
       "    .dataframe tbody tr th {\n",
       "        vertical-align: top;\n",
       "    }\n",
       "\n",
       "    .dataframe thead th {\n",
       "        text-align: right;\n",
       "    }\n",
       "</style>\n",
       "<table border=\"1\" class=\"dataframe\">\n",
       "  <thead>\n",
       "    <tr style=\"text-align: right;\">\n",
       "      <th></th>\n",
       "      <th>Store</th>\n",
       "      <th>Date</th>\n",
       "      <th>Sales</th>\n",
       "      <th>Customers</th>\n",
       "      <th>Open</th>\n",
       "      <th>Promo</th>\n",
       "      <th>SchoolHoliday</th>\n",
       "      <th>1</th>\n",
       "      <th>2</th>\n",
       "      <th>3</th>\n",
       "      <th>4</th>\n",
       "      <th>5</th>\n",
       "      <th>6</th>\n",
       "      <th>7</th>\n",
       "      <th>0</th>\n",
       "      <th>a</th>\n",
       "      <th>b</th>\n",
       "      <th>c</th>\n",
       "    </tr>\n",
       "  </thead>\n",
       "  <tbody>\n",
       "    <tr>\n",
       "      <th>0</th>\n",
       "      <td>1</td>\n",
       "      <td>2015-06-30</td>\n",
       "      <td>5735</td>\n",
       "      <td>568</td>\n",
       "      <td>1</td>\n",
       "      <td>1</td>\n",
       "      <td>0</td>\n",
       "      <td>0</td>\n",
       "      <td>1</td>\n",
       "      <td>0</td>\n",
       "      <td>0</td>\n",
       "      <td>0</td>\n",
       "      <td>0</td>\n",
       "      <td>0</td>\n",
       "      <td>1</td>\n",
       "      <td>0</td>\n",
       "      <td>0</td>\n",
       "      <td>0</td>\n",
       "    </tr>\n",
       "    <tr>\n",
       "      <th>1</th>\n",
       "      <td>2</td>\n",
       "      <td>2015-06-30</td>\n",
       "      <td>9863</td>\n",
       "      <td>877</td>\n",
       "      <td>1</td>\n",
       "      <td>1</td>\n",
       "      <td>0</td>\n",
       "      <td>0</td>\n",
       "      <td>1</td>\n",
       "      <td>0</td>\n",
       "      <td>0</td>\n",
       "      <td>0</td>\n",
       "      <td>0</td>\n",
       "      <td>0</td>\n",
       "      <td>1</td>\n",
       "      <td>0</td>\n",
       "      <td>0</td>\n",
       "      <td>0</td>\n",
       "    </tr>\n",
       "    <tr>\n",
       "      <th>2</th>\n",
       "      <td>3</td>\n",
       "      <td>2015-06-30</td>\n",
       "      <td>13261</td>\n",
       "      <td>1072</td>\n",
       "      <td>1</td>\n",
       "      <td>1</td>\n",
       "      <td>1</td>\n",
       "      <td>0</td>\n",
       "      <td>1</td>\n",
       "      <td>0</td>\n",
       "      <td>0</td>\n",
       "      <td>0</td>\n",
       "      <td>0</td>\n",
       "      <td>0</td>\n",
       "      <td>1</td>\n",
       "      <td>0</td>\n",
       "      <td>0</td>\n",
       "      <td>0</td>\n",
       "    </tr>\n",
       "    <tr>\n",
       "      <th>3</th>\n",
       "      <td>4</td>\n",
       "      <td>2015-06-30</td>\n",
       "      <td>13106</td>\n",
       "      <td>1488</td>\n",
       "      <td>1</td>\n",
       "      <td>1</td>\n",
       "      <td>0</td>\n",
       "      <td>0</td>\n",
       "      <td>1</td>\n",
       "      <td>0</td>\n",
       "      <td>0</td>\n",
       "      <td>0</td>\n",
       "      <td>0</td>\n",
       "      <td>0</td>\n",
       "      <td>1</td>\n",
       "      <td>0</td>\n",
       "      <td>0</td>\n",
       "      <td>0</td>\n",
       "    </tr>\n",
       "    <tr>\n",
       "      <th>4</th>\n",
       "      <td>5</td>\n",
       "      <td>2015-06-30</td>\n",
       "      <td>6635</td>\n",
       "      <td>645</td>\n",
       "      <td>1</td>\n",
       "      <td>1</td>\n",
       "      <td>0</td>\n",
       "      <td>0</td>\n",
       "      <td>1</td>\n",
       "      <td>0</td>\n",
       "      <td>0</td>\n",
       "      <td>0</td>\n",
       "      <td>0</td>\n",
       "      <td>0</td>\n",
       "      <td>1</td>\n",
       "      <td>0</td>\n",
       "      <td>0</td>\n",
       "      <td>0</td>\n",
       "    </tr>\n",
       "  </tbody>\n",
       "</table>\n",
       "</div>"
      ],
      "text/plain": [
       "   Store        Date  Sales  Customers  Open Promo  ...  6  7  0  a  b  c\n",
       "0      1  2015-06-30   5735        568     1     1  ...  0  0  1  0  0  0\n",
       "1      2  2015-06-30   9863        877     1     1  ...  0  0  1  0  0  0\n",
       "2      3  2015-06-30  13261       1072     1     1  ...  0  0  1  0  0  0\n",
       "3      4  2015-06-30  13106       1488     1     1  ...  0  0  1  0  0  0\n",
       "4      5  2015-06-30   6635        645     1     1  ...  0  0  1  0  0  0\n",
       "\n",
       "[5 rows x 18 columns]"
      ]
     },
     "execution_count": 76,
     "metadata": {
      "tags": []
     },
     "output_type": "execute_result"
    }
   ],
   "source": [
    "data.head()"
   ]
  },
  {
   "cell_type": "code",
   "execution_count": 77,
   "metadata": {
    "colab": {
     "base_uri": "https://localhost:8080/",
     "height": 204
    },
    "colab_type": "code",
    "id": "6uP936-XLq8H",
    "outputId": "1eee47ba-28dc-4f82-fdad-3277b609dd47"
   },
   "outputs": [
    {
     "data": {
      "text/html": [
       "<div>\n",
       "<style scoped>\n",
       "    .dataframe tbody tr th:only-of-type {\n",
       "        vertical-align: middle;\n",
       "    }\n",
       "\n",
       "    .dataframe tbody tr th {\n",
       "        vertical-align: top;\n",
       "    }\n",
       "\n",
       "    .dataframe thead th {\n",
       "        text-align: right;\n",
       "    }\n",
       "</style>\n",
       "<table border=\"1\" class=\"dataframe\">\n",
       "  <thead>\n",
       "    <tr style=\"text-align: right;\">\n",
       "      <th></th>\n",
       "      <th>Store</th>\n",
       "      <th>DayOfWeek</th>\n",
       "      <th>Date</th>\n",
       "      <th>Sales</th>\n",
       "      <th>Customers</th>\n",
       "      <th>Open</th>\n",
       "      <th>Promo</th>\n",
       "      <th>StateHoliday</th>\n",
       "      <th>SchoolHoliday</th>\n",
       "    </tr>\n",
       "  </thead>\n",
       "  <tbody>\n",
       "    <tr>\n",
       "      <th>0</th>\n",
       "      <td>1</td>\n",
       "      <td>5</td>\n",
       "      <td>2015-07-31</td>\n",
       "      <td>5263</td>\n",
       "      <td>555</td>\n",
       "      <td>1</td>\n",
       "      <td>1</td>\n",
       "      <td>0</td>\n",
       "      <td>1</td>\n",
       "    </tr>\n",
       "    <tr>\n",
       "      <th>1</th>\n",
       "      <td>2</td>\n",
       "      <td>5</td>\n",
       "      <td>2015-07-31</td>\n",
       "      <td>6064</td>\n",
       "      <td>625</td>\n",
       "      <td>1</td>\n",
       "      <td>1</td>\n",
       "      <td>0</td>\n",
       "      <td>1</td>\n",
       "    </tr>\n",
       "    <tr>\n",
       "      <th>2</th>\n",
       "      <td>3</td>\n",
       "      <td>5</td>\n",
       "      <td>2015-07-31</td>\n",
       "      <td>8314</td>\n",
       "      <td>821</td>\n",
       "      <td>1</td>\n",
       "      <td>1</td>\n",
       "      <td>0</td>\n",
       "      <td>1</td>\n",
       "    </tr>\n",
       "    <tr>\n",
       "      <th>3</th>\n",
       "      <td>4</td>\n",
       "      <td>5</td>\n",
       "      <td>2015-07-31</td>\n",
       "      <td>13995</td>\n",
       "      <td>1498</td>\n",
       "      <td>1</td>\n",
       "      <td>1</td>\n",
       "      <td>0</td>\n",
       "      <td>1</td>\n",
       "    </tr>\n",
       "    <tr>\n",
       "      <th>4</th>\n",
       "      <td>5</td>\n",
       "      <td>5</td>\n",
       "      <td>2015-07-31</td>\n",
       "      <td>4822</td>\n",
       "      <td>559</td>\n",
       "      <td>1</td>\n",
       "      <td>1</td>\n",
       "      <td>0</td>\n",
       "      <td>1</td>\n",
       "    </tr>\n",
       "  </tbody>\n",
       "</table>\n",
       "</div>"
      ],
      "text/plain": [
       "   Store  DayOfWeek        Date  Sales  ...  Open  Promo  StateHoliday SchoolHoliday\n",
       "0      1          5  2015-07-31   5263  ...     1      1             0             1\n",
       "1      2          5  2015-07-31   6064  ...     1      1             0             1\n",
       "2      3          5  2015-07-31   8314  ...     1      1             0             1\n",
       "3      4          5  2015-07-31  13995  ...     1      1             0             1\n",
       "4      5          5  2015-07-31   4822  ...     1      1             0             1\n",
       "\n",
       "[5 rows x 9 columns]"
      ]
     },
     "execution_count": 77,
     "metadata": {
      "tags": []
     },
     "output_type": "execute_result"
    }
   ],
   "source": [
    "test.head()"
   ]
  },
  {
   "cell_type": "markdown",
   "metadata": {
    "colab_type": "text",
    "id": "RLz8oiz7Pd82"
   },
   "source": [
    "### As we can see we cannot proceed to polynomial regression if we want to utilize one hot encoding in our model as the test set needs to be also onehot encoded"
   ]
  },
  {
   "cell_type": "code",
   "execution_count": 0,
   "metadata": {
    "colab": {},
    "colab_type": "code",
    "id": "jhl9Ax96PbsR"
   },
   "outputs": [],
   "source": [
    "## Onehot Encode for Testing data\n",
    "#onehot encode for DayOfWeek Attribute\n",
    "dummy_1 = pd.get_dummies(test.DayOfWeek)\n",
    "dummy_1.head()\n",
    "#onehot encoded matrix\n",
    "test = test.join(dummy_1)"
   ]
  },
  {
   "cell_type": "code",
   "execution_count": 0,
   "metadata": {
    "colab": {},
    "colab_type": "code",
    "id": "-WbrbUsmPzEb"
   },
   "outputs": [],
   "source": [
    "data.columns = ['Store','Date','Sales','Customers','Open','Promo','SchoolHoliday','1','2','3','4','5','6','7','0','a','b','c']"
   ]
  },
  {
   "cell_type": "code",
   "execution_count": 0,
   "metadata": {
    "colab": {},
    "colab_type": "code",
    "id": "EIV66BXlWdg4"
   },
   "outputs": [],
   "source": [
    "#test.head()"
   ]
  },
  {
   "cell_type": "code",
   "execution_count": 0,
   "metadata": {
    "colab": {},
    "colab_type": "code",
    "id": "d640ziuSUQ-_"
   },
   "outputs": [],
   "source": [
    "test.columns = ['Store','DayOfWeek','Date','Sales','Customers','Open','Promo','StateHoliday','SchoolHoliday','1','2','3','4','5','6','7']"
   ]
  },
  {
   "cell_type": "code",
   "execution_count": 0,
   "metadata": {
    "colab": {},
    "colab_type": "code",
    "id": "unRXwIEMQ4vX"
   },
   "outputs": [],
   "source": [
    "X_train = np.asarray(data[['Customers','Promo','Open','1','2','3','4','5','6','7']])\n",
    "X_test = np.asarray(test[['Customers','Promo','Open','1','2','3','4','5','6','7']])\n",
    "y_train = np.asarray(data['Sales'])\n",
    "y_test = np.asarray(test['Sales'])\n",
    "y_train = y_train.reshape(-1,1)\n",
    "y_test = y_test.reshape(-1,1)"
   ]
  },
  {
   "cell_type": "markdown",
   "metadata": {
    "colab_type": "text",
    "id": "bpiHJSKIZSjh"
   },
   "source": [
    "### Lasso Regression"
   ]
  },
  {
   "cell_type": "code",
   "execution_count": 0,
   "metadata": {
    "colab": {},
    "colab_type": "code",
    "id": "6CTt-LnMS4q5"
   },
   "outputs": [],
   "source": [
    "from sklearn.linear_model import Lasso"
   ]
  },
  {
   "cell_type": "code",
   "execution_count": 84,
   "metadata": {
    "colab": {
     "base_uri": "https://localhost:8080/",
     "height": 68
    },
    "colab_type": "code",
    "id": "ZF1Snh2-Ux7j",
    "outputId": "75963d77-1150-43e5-ba46-9a470bf3ca81"
   },
   "outputs": [
    {
     "data": {
      "text/plain": [
       "Lasso(alpha=1.0, copy_X=True, fit_intercept=True, max_iter=1000,\n",
       "      normalize=False, positive=False, precompute=False, random_state=None,\n",
       "      selection='cyclic', tol=0.0001, warm_start=False)"
      ]
     },
     "execution_count": 84,
     "metadata": {
      "tags": []
     },
     "output_type": "execute_result"
    }
   ],
   "source": [
    "lasso = Lasso()\n",
    "lasso.fit(X_train,y_train)"
   ]
  },
  {
   "cell_type": "code",
   "execution_count": 0,
   "metadata": {
    "colab": {},
    "colab_type": "code",
    "id": "De5UgVsfVDhb"
   },
   "outputs": [],
   "source": [
    "\n",
    "y_pred_4 = lasso.predict(X_test)"
   ]
  },
  {
   "cell_type": "code",
   "execution_count": 86,
   "metadata": {
    "colab": {
     "base_uri": "https://localhost:8080/",
     "height": 51
    },
    "colab_type": "code",
    "id": "Fe6YLuSaWYhn",
    "outputId": "abe8fa32-96c9-49cf-9d22-4d3e71422c29"
   },
   "outputs": [
    {
     "name": "stdout",
     "output_type": "stream",
     "text": [
      "Lasso Regression\n",
      "RMSE is 1522.7030390267337 and MAE is 1015.4739522541969\n"
     ]
    }
   ],
   "source": [
    "\n",
    "\n",
    "rms = sqrt(mean_squared_error(y_test, y_pred_4))\n",
    "mae = mean_absolute_error(y_test,y_pred_4)\n",
    "print('Lasso Regression\\nRMSE is {} and MAE is {}'.format(rms,mae))"
   ]
  },
  {
   "cell_type": "code",
   "execution_count": 0,
   "metadata": {
    "colab": {},
    "colab_type": "code",
    "id": "V-nXkHKZWxzW"
   },
   "outputs": [],
   "source": [
    "### Time to see how every model performed"
   ]
  },
  {
   "cell_type": "markdown",
   "metadata": {
    "colab_type": "text",
    "id": "w-30ADm8bSXT"
   },
   "source": [
    "**Model Summary**\n",
    "\n",
    "\n",
    "\n",
    "| Model | RMSE| MAE|\n",
    "| --- | --- | --- |\n",
    "| Linear Regression | 3375.713 | 2492.872 |\n",
    "| Random Forest Regression | 1471.019 | 978.179 |\n",
    "| KNN Regression | 1473.826 | 988.135 |\n",
    "| Lasso Regression | 1522.703 | 1015.473 |\n"
   ]
  },
  {
   "cell_type": "markdown",
   "metadata": {
    "colab_type": "text",
    "id": "kHRl1jNwbyVX"
   },
   "source": [
    "### c.Which performs better and Why? [In the first case, parameters shared and not very free but not in second case]\n",
    "\n",
    "### As we can see Random Forest Regressor is the model that performs best. After the analysis of data, we can see that the sales figure is based on many conditions such as whether Promo offer was given or not, which holiday was it(as sales largely depended upon the type of holiday as we saw in the eda) hence due to many conditions affecting the sales it was easier for Random Forest , similarly for KNN regression is very close to the Random Forest model as it also made calculations and decisions based on the neighbours ,(for eg-> given particular factor such as promotional offer given or not , number of customers, the data points were clustered for each combination of factor, hence it was easy for knn model to find the sales figure using the distance to the nearest cluster or neighbour), apparently the dataset provided is vast and has lot of variety in it, hence it helps knn., also there was less linearity in the data hence the linear regression model had suffered more error(here storeid was a bad feature to use with in my opinion), contrasting with lasso regression it has high flexibility(more flexible than polynomial regression), hence it helps to capture the non - linearities in the dataset. "
   ]
  },
  {
   "cell_type": "markdown",
   "metadata": {
    "colab_type": "text",
    "id": "Q6Heclbei6xy"
   },
   "source": [
    "### d.Try Ensemble of b) and c). What are the findings?\n",
    "### I have captured the prediction of every prediction of each model in the y_pred variable. The predictions will be averaged and rmse and mae for the same will be calculated. "
   ]
  },
  {
   "cell_type": "markdown",
   "metadata": {
    "colab_type": "text",
    "id": "xYau48tEBEWV"
   },
   "source": [
    "### Ensemble of Random Forest & KNN Model"
   ]
  },
  {
   "cell_type": "code",
   "execution_count": 0,
   "metadata": {
    "colab": {},
    "colab_type": "code",
    "id": "Si9c4XKSkkox"
   },
   "outputs": [],
   "source": [
    "y_pred_2 = y_pred_2.reshape(34565,1)"
   ]
  },
  {
   "cell_type": "code",
   "execution_count": 0,
   "metadata": {
    "colab": {},
    "colab_type": "code",
    "id": "KJcDr6mA4Mws"
   },
   "outputs": [],
   "source": [
    "y_pred_4 = y_pred_4.reshape(34565,1)"
   ]
  },
  {
   "cell_type": "code",
   "execution_count": 0,
   "metadata": {
    "colab": {},
    "colab_type": "code",
    "id": "5Kz-_jBT5Qdk"
   },
   "outputs": [],
   "source": [
    "ensemble_1 = np.add(y_pred_2,y_pred_3)"
   ]
  },
  {
   "cell_type": "code",
   "execution_count": 0,
   "metadata": {
    "colab": {},
    "colab_type": "code",
    "id": "JPydlA3R7ow5"
   },
   "outputs": [],
   "source": [
    "ensemble_1 = ensemble_1/2"
   ]
  },
  {
   "cell_type": "code",
   "execution_count": 92,
   "metadata": {
    "colab": {
     "base_uri": "https://localhost:8080/",
     "height": 34
    },
    "colab_type": "code",
    "id": "p3t0IWlz8PQJ",
    "outputId": "2ea4dba2-d83c-4dcf-9d74-908ef0d97d4b"
   },
   "outputs": [
    {
     "data": {
      "text/plain": [
       "(34565, 1)"
      ]
     },
     "execution_count": 92,
     "metadata": {
      "tags": []
     },
     "output_type": "execute_result"
    }
   ],
   "source": [
    "ensemble_1.shape"
   ]
  },
  {
   "cell_type": "code",
   "execution_count": 93,
   "metadata": {
    "colab": {
     "base_uri": "https://localhost:8080/",
     "height": 51
    },
    "colab_type": "code",
    "id": "HFhERM4zAsfy",
    "outputId": "da1842a6-8c9c-4a40-cd57-b9c59b81ada3"
   },
   "outputs": [
    {
     "name": "stdout",
     "output_type": "stream",
     "text": [
      "Ensembles of KNN & RandomForest models\n",
      "RMSE is 1455.2686425733561 and MAE is 975.0133257990553\n"
     ]
    }
   ],
   "source": [
    "rms = sqrt(mean_squared_error(y_test, ensemble_1))\n",
    "mae = mean_absolute_error(y_test,ensemble_1)\n",
    "print('Ensembles of KNN & RandomForest models\\nRMSE is {} and MAE is {}'.format(rms,mae))"
   ]
  },
  {
   "cell_type": "markdown",
   "metadata": {
    "colab_type": "text",
    "id": "dgvJVRaZBza1"
   },
   "source": [
    "### Ensemble of Linear & Lasso Regression"
   ]
  },
  {
   "cell_type": "code",
   "execution_count": 0,
   "metadata": {
    "colab": {},
    "colab_type": "code",
    "id": "g0dBznmEBwzf"
   },
   "outputs": [],
   "source": [
    "ensemble_2 = np.add(y_pred_1,y_pred_4)"
   ]
  },
  {
   "cell_type": "code",
   "execution_count": 0,
   "metadata": {
    "colab": {},
    "colab_type": "code",
    "id": "oNstKS-dBwvZ"
   },
   "outputs": [],
   "source": [
    "ensemble_2 = ensemble_2/2"
   ]
  },
  {
   "cell_type": "code",
   "execution_count": 96,
   "metadata": {
    "colab": {
     "base_uri": "https://localhost:8080/",
     "height": 34
    },
    "colab_type": "code",
    "id": "u7YqyKKyBwsQ",
    "outputId": "3bb24d86-7eca-49a9-f3a4-866b4456fcd8"
   },
   "outputs": [
    {
     "data": {
      "text/plain": [
       "(34565, 1)"
      ]
     },
     "execution_count": 96,
     "metadata": {
      "tags": []
     },
     "output_type": "execute_result"
    }
   ],
   "source": [
    "ensemble_2.shape"
   ]
  },
  {
   "cell_type": "code",
   "execution_count": 97,
   "metadata": {
    "colab": {
     "base_uri": "https://localhost:8080/",
     "height": 51
    },
    "colab_type": "code",
    "id": "BXDmreSbBwpB",
    "outputId": "4cef3fd7-2fc6-4b14-8597-9f17a7729b57"
   },
   "outputs": [
    {
     "name": "stdout",
     "output_type": "stream",
     "text": [
      "Ensembles of Linear & Lasso Regression models\n",
      "RMSE is 2113.460721024383 and MAE is 1604.0570394516499\n"
     ]
    }
   ],
   "source": [
    "rms = sqrt(mean_squared_error(y_test, ensemble_2))\n",
    "mae = mean_absolute_error(y_test,ensemble_2)\n",
    "print('Ensembles of Linear & Lasso Regression models\\nRMSE is {} and MAE is {}'.format(rms,mae))"
   ]
  },
  {
   "cell_type": "markdown",
   "metadata": {
    "colab_type": "text",
    "id": "DAypDAabZlAu"
   },
   "source": [
    "### Linear Regression Models:\n",
    "#### With OneHotEncoding"
   ]
  },
  {
   "cell_type": "code",
   "execution_count": 0,
   "metadata": {
    "colab": {},
    "colab_type": "code",
    "id": "h19TCYm0EycQ"
   },
   "outputs": [],
   "source": [
    "X_train = np.asarray(data[['Customers','Promo','Open','1','2','3','4','5','6','7']])\n",
    "X_test = np.asarray(test[['Customers','Promo','Open','1','2','3','4','5','6','7']])\n",
    "y_train = np.asarray(data['Sales'])\n",
    "y_test = np.asarray(test['Sales'])\n",
    "y_train = y_train.reshape(-1,1)\n",
    "y_test = y_test.reshape(-1,1)"
   ]
  },
  {
   "cell_type": "code",
   "execution_count": 99,
   "metadata": {
    "colab": {
     "base_uri": "https://localhost:8080/",
     "height": 51
    },
    "colab_type": "code",
    "id": "hdR78VySEyW9",
    "outputId": "737e832b-a051-45cf-d7e0-ede9dab2f30c"
   },
   "outputs": [
    {
     "name": "stdout",
     "output_type": "stream",
     "text": [
      "Linear Regression Model 1\n",
      "RMSE is 1522.5963291146716 and MAE is 1015.2718965521616\n"
     ]
    }
   ],
   "source": [
    "linereg1 = LinearRegression()\n",
    "linereg1.fit(X_train,y_train)\n",
    "y_pred_5 = linereg1.predict(X_test)\n",
    "rms = sqrt(mean_squared_error(y_test, y_pred_5))\n",
    "mae = mean_absolute_error(y_test,y_pred_5)\n",
    "print('Linear Regression Model 1\\nRMSE is {} and MAE is {}'.format(rms,mae))"
   ]
  },
  {
   "cell_type": "markdown",
   "metadata": {
    "colab_type": "text",
    "id": "Fu6el0pUZwFg"
   },
   "source": [
    "#### Without OneHotEncoding"
   ]
  },
  {
   "cell_type": "code",
   "execution_count": 0,
   "metadata": {
    "colab": {},
    "colab_type": "code",
    "id": "hEEX1FvyEyTE"
   },
   "outputs": [],
   "source": [
    "X_train = np.asarray(train[['Customers','Promo','StateHoliday','Open','DayOfWeek']])\n",
    "X_test = np.asarray(test[['Customers','Promo','StateHoliday','Open','DayOfWeek']])\n",
    "y_train = np.asarray(train['Sales'])\n",
    "y_test = np.asarray(test['Sales'])\n",
    "y_train = y_train.reshape(-1,1)\n",
    "y_test = y_test.reshape(-1,1)"
   ]
  },
  {
   "cell_type": "code",
   "execution_count": 101,
   "metadata": {
    "colab": {
     "base_uri": "https://localhost:8080/",
     "height": 51
    },
    "colab_type": "code",
    "id": "JzYve4XAEyPf",
    "outputId": "a232929d-0ebc-4128-b72a-22bdbdfa317d"
   },
   "outputs": [
    {
     "name": "stdout",
     "output_type": "stream",
     "text": [
      "Linear Regression Model 1\n",
      "RMSE is 1531.3477019062761 and MAE is 1012.4424263105883\n"
     ]
    }
   ],
   "source": [
    "linereg2 = LinearRegression()\n",
    "linereg2.fit(X_train,y_train)\n",
    "y_pred_6 = linereg2.predict(X_test)\n",
    "rms = sqrt(mean_squared_error(y_test, y_pred_6))\n",
    "mae = mean_absolute_error(y_test,y_pred_6)\n",
    "print('Linear Regression Model 1\\nRMSE is {} and MAE is {}'.format(rms,mae))"
   ]
  },
  {
   "cell_type": "code",
   "execution_count": 102,
   "metadata": {
    "colab": {
     "base_uri": "https://localhost:8080/",
     "height": 51
    },
    "colab_type": "code",
    "id": "CSO1UBNLEyLM",
    "outputId": "24ef435e-3dca-49c5-825b-ffb4968c1f98"
   },
   "outputs": [
    {
     "name": "stdout",
     "output_type": "stream",
     "text": [
      "Linear Regression Ensemble\n",
      "RMSE is 1522.799442397278 and MAE is 1010.0116939602459\n"
     ]
    }
   ],
   "source": [
    "linearensemble = np.add(y_pred_5,y_pred_6)\n",
    "linearensemble = linearensemble/2\n",
    "rms = sqrt(mean_squared_error(y_test, linearensemble))\n",
    "mae = mean_absolute_error(y_test,linearensemble)\n",
    "print('Linear Regression Ensemble\\nRMSE is {} and MAE is {}'.format(rms,mae))"
   ]
  },
  {
   "cell_type": "markdown",
   "metadata": {
    "colab_type": "text",
    "id": "qEqQ-UtMBaec"
   },
   "source": [
    "**Lets Draw A Comparision**\n",
    "\n",
    "***Individual Models:***\n",
    "\n",
    "| Model | RMSE| MAE|\n",
    "| --- | --- | --- |\n",
    "| Linear Regression(StoreID Feature only)| 3375.713 | 2492.872 |\n",
    "| Linear Regression(OneHot Encoding)| 1522.596 | 1015.27 |\n",
    "| Linear Regression(Independent Features)| 1531.347 | 1012.442 |\n",
    "| Random Forest Regression | 1471.019 | 978.179 |\n",
    "| KNN Regression | 1473.826 | 988.135 |\n",
    "| Lasso Regression | 1522.703 | 1015.473 |\n",
    "\n",
    "***Ensembling of Linear Regression Models***\n",
    "\n",
    "| Ensemble Model | RMSE| MAE|\n",
    "| --- | --- | --- |\n",
    "| Linear Regression Ensemble | 1522.799 | 1010.011 |\n",
    "\n",
    "***Ensembling of KNN & Random Forest Model***\n",
    "\n",
    "| Ensemble Model | RMSE| MAE|\n",
    "| --- | --- | --- |\n",
    "| KNN & Random Forest | 1455.942 | 975.264 |\n",
    "\n",
    "***Ensembling of Linear & Lasso Regression***\n",
    "\n",
    "| Ensemble Model | RMSE| MAE|\n",
    "| --- | --- | --- |\n",
    "| Linear & Lasso | 2113.460 | 1604.057 |"
   ]
  },
  {
   "cell_type": "markdown",
   "metadata": {
    "colab_type": "text",
    "id": "RS-5JyBIIvTQ"
   },
   "source": [
    "### Insights:\n",
    "### Here I have approached the problem with 2 view points\n",
    "### * Training Linear Models with different features and ensembling them\n",
    "### * Training Non Linear Models with different features and ensembling them\n",
    "### For the linear regression models I have trained using different features , one onehot encoded and other that it isn't. These models had far lower error than the one trained using only storeid feature. For Ensembling I did not use the linear regression model with the storeid feature, since it wasnt enough, rather I ensembled that one with the lasso regression to demonstrate how an ensemble of a good and bad model can affect the ensemble model.\n",
    "\n",
    "### For the non-linear models I have already trained KNN and RandomForest Models , these models are better than the linear regression models and better even than the ensemble of linear regression models. When KNN & Random Forest are ensembled they perform slightly better than the individual models themselves ever so slightly better. I actually trained these models in week 1 itself to demonstrate how they fare against the linear regression models and their ensembles."
   ]
  },
  {
   "cell_type": "markdown",
   "metadata": {
    "colab_type": "text",
    "id": "7DdX6LoKLMsi"
   },
   "source": [
    "### e. Use Regularized Regression. It should perform better in an unseen test set. Any insights??"
   ]
  },
  {
   "cell_type": "code",
   "execution_count": 0,
   "metadata": {
    "colab": {},
    "colab_type": "code",
    "id": "gOyp8dImLSG1"
   },
   "outputs": [],
   "source": [
    "## Regularized Regression"
   ]
  },
  {
   "cell_type": "code",
   "execution_count": 0,
   "metadata": {
    "colab": {},
    "colab_type": "code",
    "id": "rrQjpS-7LUko"
   },
   "outputs": [],
   "source": [
    "from sklearn.linear_model import Ridge\n",
    "from sklearn.pipeline import Pipeline\n",
    "from sklearn.preprocessing import StandardScaler\n",
    "from sklearn.preprocessing import PolynomialFeatures"
   ]
  },
  {
   "cell_type": "code",
   "execution_count": 0,
   "metadata": {
    "colab": {},
    "colab_type": "code",
    "id": "Z42EB6dtL52E"
   },
   "outputs": [],
   "source": [
    "X_train = np.asarray(train[['Customers','Promo','Open']])\n",
    "X_test = np.asarray(test[['Customers','Promo','Open']])\n",
    "y_train = np.asarray(train['Sales'])\n",
    "y_test = np.asarray(test['Sales'])\n",
    "y_train = y_train.reshape(-1,1)\n",
    "y_test = y_test.reshape(-1,1)"
   ]
  },
  {
   "cell_type": "code",
   "execution_count": 0,
   "metadata": {
    "colab": {},
    "colab_type": "code",
    "id": "8Kid9K4rP8uY"
   },
   "outputs": [],
   "source": [
    "steps = [\n",
    "    ('scalar', StandardScaler()),\n",
    "    ('poly', PolynomialFeatures(degree=3)),\n",
    "    ('model', Ridge(alpha=10, fit_intercept=True))\n",
    "]"
   ]
  },
  {
   "cell_type": "code",
   "execution_count": 0,
   "metadata": {
    "colab": {},
    "colab_type": "code",
    "id": "RHkz-MBePt6m"
   },
   "outputs": [],
   "source": [
    "from sklearn.pipeline import Pipeline"
   ]
  },
  {
   "cell_type": "code",
   "execution_count": 0,
   "metadata": {
    "colab": {},
    "colab_type": "code",
    "id": "6lJaAlN6QMLn"
   },
   "outputs": [],
   "source": [
    "pipeline = Pipeline(steps)"
   ]
  },
  {
   "cell_type": "code",
   "execution_count": 125,
   "metadata": {
    "colab": {
     "base_uri": "https://localhost:8080/",
     "height": 204
    },
    "colab_type": "code",
    "id": "5VcFf5jFQj6y",
    "outputId": "54ece001-6306-4a7b-9ff1-55918ad6df6f"
   },
   "outputs": [
    {
     "data": {
      "text/plain": [
       "Pipeline(memory=None,\n",
       "         steps=[('scalar',\n",
       "                 StandardScaler(copy=True, with_mean=True, with_std=True)),\n",
       "                ('poly',\n",
       "                 PolynomialFeatures(degree=3, include_bias=True,\n",
       "                                    interaction_only=False, order='C')),\n",
       "                ('model',\n",
       "                 Ridge(alpha=10, copy_X=True, fit_intercept=True, max_iter=None,\n",
       "                       normalize=False, random_state=None, solver='auto',\n",
       "                       tol=0.001))],\n",
       "         verbose=False)"
      ]
     },
     "execution_count": 125,
     "metadata": {
      "tags": []
     },
     "output_type": "execute_result"
    }
   ],
   "source": [
    "pipeline.fit(X_train, y_train)"
   ]
  },
  {
   "cell_type": "code",
   "execution_count": 0,
   "metadata": {
    "colab": {},
    "colab_type": "code",
    "id": "yEFcZLuMMoaO"
   },
   "outputs": [],
   "source": [
    "ridge_pred = pipeline.predict(X_test)"
   ]
  },
  {
   "cell_type": "code",
   "execution_count": 127,
   "metadata": {
    "colab": {
     "base_uri": "https://localhost:8080/",
     "height": 51
    },
    "colab_type": "code",
    "id": "ocXJI0usM85p",
    "outputId": "c677f9b3-7b7c-4e4b-b8de-692144cca692"
   },
   "outputs": [
    {
     "name": "stdout",
     "output_type": "stream",
     "text": [
      "Regularised Linear Regression\n",
      "RMSE is 1453.0473053284052 and MAE is 980.5854870040679\n"
     ]
    }
   ],
   "source": [
    "rms = sqrt(mean_squared_error(y_test, ridge_pred))\n",
    "mae = mean_absolute_error(y_test,ridge_pred)\n",
    "print('Regularised Linear Regression\\nRMSE is {} and MAE is {}'.format(rms,mae))"
   ]
  },
  {
   "cell_type": "markdown",
   "metadata": {
    "colab_type": "text",
    "id": "IjuRhCuWT9tN"
   },
   "source": [
    "**Comparision Between Regularization & Ensemble Models**\n",
    "\n",
    "**Regularized Regression**\n",
    "\n",
    "| Model | RMSE| MAE|\n",
    "| --- | --- | --- |\n",
    "| Regularized Regression(Ridge) | 1453.047 | 980.585 |\n",
    "\n",
    "***Ensembling of Linear Regression Models***\n",
    "\n",
    "| Ensemble Model | RMSE| MAE|\n",
    "| --- | --- | --- |\n",
    "| Linear Regression Ensemble | 1522.799 | 1010.011 |\n",
    "\n",
    "***Ensembling of KNN & Random Forest Model***\n",
    "\n",
    "| Ensemble Model | RMSE| MAE|\n",
    "| --- | --- | --- |\n",
    "| KNN & Random Forest | 1455.942 | 975.264 |\n",
    "\n"
   ]
  },
  {
   "cell_type": "markdown",
   "metadata": {
    "colab_type": "text",
    "id": "a2goGcXDUeZ3"
   },
   "source": [
    "### A while ago the Linear Regression Models, not even the Linear Ensemble Model touched the low error of KNN/Random Forest Models let alone getting the lower error rate of their ensembles. But now after using Regularized Regression(Ridge) it performs better than the best ensembles we have encountered so far.\n",
    "\n",
    "### The reason for this is the Regularized Model is controlling overfitting to the noise of the model. To improve the model even further I cut down the number of features and kept the alpha value relatively low so that it lowers the error rate."
   ]
  },
  {
   "cell_type": "markdown",
   "metadata": {
    "colab_type": "text",
    "id": "5XsGrmP1Woi0"
   },
   "source": [
    "### f. Open-ended modeling to get possible predictions.\n",
    "### I used Random Forest, KNN and Lasso Regression Model earlier in the code. I presented the model earlier so that a comparision could be drawn between Linear Models and their ensembles and the Non Linear Models."
   ]
  },
  {
   "cell_type": "code",
   "execution_count": 0,
   "metadata": {
    "colab": {},
    "colab_type": "code",
    "id": "7q7bPxkWU1g8"
   },
   "outputs": [],
   "source": []
  },
  {
   "cell_type": "markdown",
   "metadata": {
    "colab_type": "text",
    "id": "r5bRxdRnXahi"
   },
   "source": [
    "## End of Week 1"
   ]
  },
  {
   "cell_type": "code",
   "execution_count": 0,
   "metadata": {
    "colab": {},
    "colab_type": "code",
    "id": "GL5vqCO4XYtM"
   },
   "outputs": [],
   "source": []
  },
  {
   "cell_type": "code",
   "execution_count": 0,
   "metadata": {
    "colab": {},
    "colab_type": "code",
    "id": "0lFXELfCU2Lj"
   },
   "outputs": [],
   "source": []
  }
 ],
 "metadata": {
  "accelerator": "GPU",
  "colab": {
   "collapsed_sections": [],
   "machine_shape": "hm",
   "name": "Week 1.ipynb",
   "provenance": []
  },
  "kernelspec": {
   "display_name": "Python 3",
   "language": "python",
   "name": "python3"
  },
  "language_info": {
   "codemirror_mode": {
    "name": "ipython",
    "version": 3
   },
   "file_extension": ".py",
   "mimetype": "text/x-python",
   "name": "python",
   "nbconvert_exporter": "python",
   "pygments_lexer": "ipython3",
   "version": "3.7.4"
  }
 },
 "nbformat": 4,
 "nbformat_minor": 1
}
