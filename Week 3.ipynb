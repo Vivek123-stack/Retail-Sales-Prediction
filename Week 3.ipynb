{
 "cells": [
  {
   "cell_type": "markdown",
   "metadata": {
    "colab_type": "text",
    "id": "y2I0-vWyBzId"
   },
   "source": [
    "***Project Owner : Sujay Torvi , Email me at sujay.torvi@gmail.com\n",
    "Copyright © 2019***"
   ]
  },
  {
   "cell_type": "markdown",
   "metadata": {
    "colab_type": "text",
    "id": "rwcSKbWUBzNg"
   },
   "source": [
    "# AI Capstone Project\n",
    "## Domain: Retail\n",
    "## Problem Statement\n",
    "\n",
    "***Demand Forecast is one of the key tasks in Supply Chain and Retail Domain in general. It is key in effective operation and optimization of retail supply chain. Effectively solving this problem requires knowledge about a wide range of tricks in Data Sciences and good understanding of ensemble techniques.***\n",
    "***You are required to predict sales for each Store-Day level for one month. All the features will be provided and actual sales that happened during that month will also be provided for model evaluation.***"
   ]
  },
  {
   "cell_type": "markdown",
   "metadata": {
    "colab_type": "text",
    "id": "dJxaODvXBzEn"
   },
   "source": [
    "## Agenda for Week 3\n",
    "### Implementing Neural Networks & Unsupervised Learning\n",
    "### 1.Train a LSTM on the same set of features and compare the result with traditional time-series model.\n",
    "### 2. Comment on the behavior of all the models you have built so far\n",
    "### 3 Cluster stores using sales and customer visits as features. Find out how many clusters or groups are possible. Also visualize the results.\n",
    "### 4. Is it possible to have separate prediction models for each cluster? Compare results with the previous models."
   ]
  },
  {
   "cell_type": "code",
   "execution_count": 0,
   "metadata": {
    "colab": {},
    "colab_type": "code",
    "id": "yumwRI7NBwbQ"
   },
   "outputs": [],
   "source": [
    "#Import libraries"
   ]
  },
  {
   "cell_type": "code",
   "execution_count": 0,
   "metadata": {
    "colab": {},
    "colab_type": "code",
    "id": "SR44S4jlDVBy"
   },
   "outputs": [],
   "source": [
    "#from google.colab import files\n",
    "#w = files.upload()"
   ]
  },
  {
   "cell_type": "code",
   "execution_count": 0,
   "metadata": {
    "colab": {},
    "colab_type": "code",
    "id": "vCzzpJt9KI3t"
   },
   "outputs": [],
   "source": [
    "import numpy as np\n",
    "import pandas as pd\n",
    "import matplotlib.pyplot as plt\n",
    "%matplotlib inline\n",
    "import warnings \n",
    "warnings.filterwarnings('ignore')"
   ]
  },
  {
   "cell_type": "markdown",
   "metadata": {
    "colab_type": "text",
    "id": "METOhMTCE9ND"
   },
   "source": [
    "### ***Time Series using LSTM***"
   ]
  },
  {
   "cell_type": "markdown",
   "metadata": {
    "colab_type": "text",
    "id": "gkGYF7EGnVd_"
   },
   "source": [
    "### Here we will first average sales for all the store for all days and then we will use LSTM on the averaged data. Data will be standardized to reduce computation costs."
   ]
  },
  {
   "cell_type": "code",
   "execution_count": 0,
   "metadata": {
    "colab": {},
    "colab_type": "code",
    "id": "JvjLFEybDdYN"
   },
   "outputs": [],
   "source": [
    "train = pd.read_csv('train_data.csv')"
   ]
  },
  {
   "cell_type": "code",
   "execution_count": 0,
   "metadata": {
    "colab": {},
    "colab_type": "code",
    "id": "M59SM0-RKHkf"
   },
   "outputs": [],
   "source": [
    "test  = pd.read_csv('test_data_hidden.csv')"
   ]
  },
  {
   "cell_type": "code",
   "execution_count": 0,
   "metadata": {
    "colab": {},
    "colab_type": "code",
    "id": "Rin6Lkes0kj7"
   },
   "outputs": [],
   "source": [
    "train = train[['Date','Sales']]\n",
    "test = test[['Date','Sales']]"
   ]
  },
  {
   "cell_type": "code",
   "execution_count": 0,
   "metadata": {
    "colab": {},
    "colab_type": "code",
    "id": "wSnWrwm31S92"
   },
   "outputs": [],
   "source": [
    "train = train.groupby('Date').mean().reset_index()\n",
    "test = test.groupby('Date').mean().reset_index()"
   ]
  },
  {
   "cell_type": "code",
   "execution_count": 0,
   "metadata": {
    "colab": {},
    "colab_type": "code",
    "id": "IC_ko-1v1TD1"
   },
   "outputs": [],
   "source": [
    "train = train.set_index('Date')\n",
    "test = test.set_index('Date')"
   ]
  },
  {
   "cell_type": "code",
   "execution_count": 0,
   "metadata": {
    "colab": {},
    "colab_type": "code",
    "id": "4YreN0KR1jyR"
   },
   "outputs": [],
   "source": [
    "train.index = pd.to_datetime(train.index)\n",
    "test.index = pd.to_datetime(test.index)"
   ]
  },
  {
   "cell_type": "code",
   "execution_count": 0,
   "metadata": {
    "colab": {},
    "colab_type": "code",
    "id": "QKapG2lcZ9BY"
   },
   "outputs": [],
   "source": [
    "newtrain = train\n",
    "newtest = test"
   ]
  },
  {
   "cell_type": "code",
   "execution_count": 0,
   "metadata": {
    "colab": {},
    "colab_type": "code",
    "id": "SHi_GWG_vYTu"
   },
   "outputs": [],
   "source": [
    "from sklearn.preprocessing import MinMaxScaler\n",
    "sc = MinMaxScaler(feature_range = (0, 1))\n",
    "train = sc.fit_transform(np.asarray(train).reshape(-1,1))\n",
    "test = sc.fit_transform(np.asarray(test).reshape(-1,1))"
   ]
  },
  {
   "cell_type": "markdown",
   "metadata": {
    "colab_type": "text",
    "id": "PEIMyJz3oC8r"
   },
   "source": [
    "### Data Will be fed to the LSTMs in groups of 30 Timesteps. According to the given data the trend is varying monthly hence the LSTMs will calculate the sales given the window of previous 30 days.[Also beyond 30 days the LSTMs will forget the sales data].We will be later averaging the sales i.e summing all the sales in a given month and grouping the monthly sales which will be displayed in the plot."
   ]
  },
  {
   "cell_type": "code",
   "execution_count": 0,
   "metadata": {
    "colab": {},
    "colab_type": "code",
    "id": "hha6Dj_qwP89"
   },
   "outputs": [],
   "source": [
    "X_train = []\n",
    "y_train = []\n",
    "for i in range(30, 911):\n",
    "    X_train.append(train[i-30:i, 0])\n",
    "    y_train.append(train[i, 0])"
   ]
  },
  {
   "cell_type": "code",
   "execution_count": 0,
   "metadata": {
    "colab": {},
    "colab_type": "code",
    "id": "kLgQAHpLjlru"
   },
   "outputs": [],
   "source": [
    "X_train, y_train = np.array(X_train), np.array(y_train)\n",
    "X_train = np.reshape(X_train, (X_train.shape[0], X_train.shape[1], 1))"
   ]
  },
  {
   "cell_type": "code",
   "execution_count": 0,
   "metadata": {
    "colab": {},
    "colab_type": "code",
    "id": "1AXGTd3LwNnm"
   },
   "outputs": [],
   "source": [
    "from tensorflow import keras"
   ]
  },
  {
   "cell_type": "code",
   "execution_count": 0,
   "metadata": {
    "colab": {
     "base_uri": "https://localhost:8080/",
     "height": 34
    },
    "colab_type": "code",
    "id": "EzrmkZJOwONC",
    "outputId": "0c6f4b9e-4191-4bda-ca54-22cb36c3cc9d"
   },
   "outputs": [
    {
     "name": "stderr",
     "output_type": "stream",
     "text": [
      "Using TensorFlow backend.\n"
     ]
    }
   ],
   "source": [
    "from keras.models import Sequential\n",
    "from keras.layers import Dense\n",
    "from keras.layers import LSTM\n",
    "from keras.layers import Dropout"
   ]
  },
  {
   "cell_type": "code",
   "execution_count": 0,
   "metadata": {
    "colab": {},
    "colab_type": "code",
    "id": "Uu4pn7H7wOQR"
   },
   "outputs": [],
   "source": [
    "regressor = Sequential()"
   ]
  },
  {
   "cell_type": "code",
   "execution_count": 0,
   "metadata": {
    "colab": {},
    "colab_type": "code",
    "id": "EXJO7JL2541K"
   },
   "outputs": [],
   "source": [
    "regressor.add(LSTM(units = 100, return_sequences = True, input_shape = (X_train.shape[1], 1)))\n",
    "regressor.add(Dropout(0.2))"
   ]
  },
  {
   "cell_type": "code",
   "execution_count": 0,
   "metadata": {
    "colab": {},
    "colab_type": "code",
    "id": "40K6vFozDww3"
   },
   "outputs": [],
   "source": [
    "regressor.add(LSTM(units = 100, return_sequences = True, input_shape = (X_train.shape[1], 1)))\n",
    "regressor.add(Dropout(0.2))"
   ]
  },
  {
   "cell_type": "code",
   "execution_count": 0,
   "metadata": {
    "colab": {},
    "colab_type": "code",
    "id": "tTYw02zB54-A"
   },
   "outputs": [],
   "source": [
    "regressor.add(LSTM(units = 100, return_sequences = True))\n",
    "regressor.add(Dropout(0.2))"
   ]
  },
  {
   "cell_type": "code",
   "execution_count": 0,
   "metadata": {
    "colab": {},
    "colab_type": "code",
    "id": "3DBnE2gF548X"
   },
   "outputs": [],
   "source": [
    "regressor.add(LSTM(units = 100, return_sequences = True))\n",
    "regressor.add(Dropout(0.2))"
   ]
  },
  {
   "cell_type": "code",
   "execution_count": 0,
   "metadata": {
    "colab": {},
    "colab_type": "code",
    "id": "h8blJlOe546Y"
   },
   "outputs": [],
   "source": [
    "regressor.add(LSTM(units = 100))\n",
    "regressor.add(Dropout(0.2))"
   ]
  },
  {
   "cell_type": "code",
   "execution_count": 0,
   "metadata": {
    "colab": {},
    "colab_type": "code",
    "id": "cexUKieIwNj9"
   },
   "outputs": [],
   "source": [
    "regressor.add(Dense(units = 1))"
   ]
  },
  {
   "cell_type": "code",
   "execution_count": 0,
   "metadata": {
    "colab": {},
    "colab_type": "code",
    "id": "m-X8TvZnvd0Z"
   },
   "outputs": [],
   "source": [
    "regressor.compile(optimizer = 'adagrad', loss = 'mean_squared_error')"
   ]
  },
  {
   "cell_type": "code",
   "execution_count": 0,
   "metadata": {
    "colab": {
     "base_uri": "https://localhost:8080/",
     "height": 1000
    },
    "colab_type": "code",
    "id": "a_F4_lYG6GJp",
    "outputId": "f0f2e795-ac26-43e0-d560-44201d44802f"
   },
   "outputs": [
    {
     "name": "stdout",
     "output_type": "stream",
     "text": [
      "Train on 881 samples\n",
      "Epoch 1/100\n",
      "881/881 [==============================] - 11s 12ms/sample - loss: 0.2077\n",
      "Epoch 2/100\n",
      "881/881 [==============================] - 0s 407us/sample - loss: 0.1180\n",
      "Epoch 3/100\n",
      "881/881 [==============================] - 0s 428us/sample - loss: 0.0534\n",
      "Epoch 4/100\n",
      "881/881 [==============================] - 0s 459us/sample - loss: 0.0448\n",
      "Epoch 5/100\n",
      "881/881 [==============================] - 0s 403us/sample - loss: 0.0488\n",
      "Epoch 6/100\n",
      "881/881 [==============================] - 0s 403us/sample - loss: 0.0456\n",
      "Epoch 7/100\n",
      "881/881 [==============================] - 0s 446us/sample - loss: 0.0447\n",
      "Epoch 8/100\n",
      "881/881 [==============================] - 0s 471us/sample - loss: 0.0456\n",
      "Epoch 9/100\n",
      "881/881 [==============================] - 0s 459us/sample - loss: 0.0473\n",
      "Epoch 10/100\n",
      "881/881 [==============================] - 0s 422us/sample - loss: 0.0452\n",
      "Epoch 11/100\n",
      "881/881 [==============================] - 0s 405us/sample - loss: 0.0458\n",
      "Epoch 12/100\n",
      "881/881 [==============================] - 0s 423us/sample - loss: 0.0453\n",
      "Epoch 13/100\n",
      "881/881 [==============================] - 0s 393us/sample - loss: 0.0442\n",
      "Epoch 14/100\n",
      "881/881 [==============================] - 0s 421us/sample - loss: 0.0443\n",
      "Epoch 15/100\n",
      "881/881 [==============================] - 0s 433us/sample - loss: 0.0456\n",
      "Epoch 16/100\n",
      "881/881 [==============================] - 0s 406us/sample - loss: 0.0462\n",
      "Epoch 17/100\n",
      "881/881 [==============================] - 0s 408us/sample - loss: 0.0447\n",
      "Epoch 18/100\n",
      "881/881 [==============================] - 0s 455us/sample - loss: 0.0454\n",
      "Epoch 19/100\n",
      "881/881 [==============================] - 0s 411us/sample - loss: 0.0459\n",
      "Epoch 20/100\n",
      "881/881 [==============================] - 0s 409us/sample - loss: 0.0450\n",
      "Epoch 21/100\n",
      "881/881 [==============================] - 0s 409us/sample - loss: 0.0450\n",
      "Epoch 22/100\n",
      "881/881 [==============================] - 0s 402us/sample - loss: 0.0457\n",
      "Epoch 23/100\n",
      "881/881 [==============================] - 0s 406us/sample - loss: 0.0447\n",
      "Epoch 24/100\n",
      "881/881 [==============================] - 0s 454us/sample - loss: 0.0449\n",
      "Epoch 25/100\n",
      "881/881 [==============================] - 0s 454us/sample - loss: 0.0442\n",
      "Epoch 26/100\n",
      "881/881 [==============================] - 0s 413us/sample - loss: 0.0452\n",
      "Epoch 27/100\n",
      "881/881 [==============================] - 0s 412us/sample - loss: 0.0451\n",
      "Epoch 28/100\n",
      "881/881 [==============================] - 0s 407us/sample - loss: 0.0444\n",
      "Epoch 29/100\n",
      "881/881 [==============================] - 0s 406us/sample - loss: 0.0451\n",
      "Epoch 30/100\n",
      "881/881 [==============================] - 0s 418us/sample - loss: 0.0454\n",
      "Epoch 31/100\n",
      "881/881 [==============================] - 0s 422us/sample - loss: 0.0450\n",
      "Epoch 32/100\n",
      "881/881 [==============================] - 0s 396us/sample - loss: 0.0444\n",
      "Epoch 33/100\n",
      "881/881 [==============================] - 0s 438us/sample - loss: 0.0447\n",
      "Epoch 34/100\n",
      "881/881 [==============================] - 0s 432us/sample - loss: 0.0457\n",
      "Epoch 35/100\n",
      "881/881 [==============================] - 0s 419us/sample - loss: 0.0444\n",
      "Epoch 36/100\n",
      "881/881 [==============================] - 0s 423us/sample - loss: 0.0458\n",
      "Epoch 37/100\n",
      "881/881 [==============================] - 0s 454us/sample - loss: 0.0447\n",
      "Epoch 38/100\n",
      "881/881 [==============================] - 0s 436us/sample - loss: 0.0440\n",
      "Epoch 39/100\n",
      "881/881 [==============================] - 0s 411us/sample - loss: 0.0453\n",
      "Epoch 40/100\n",
      "881/881 [==============================] - 0s 409us/sample - loss: 0.0441\n",
      "Epoch 41/100\n",
      "881/881 [==============================] - 0s 429us/sample - loss: 0.0448\n",
      "Epoch 42/100\n",
      "881/881 [==============================] - 0s 417us/sample - loss: 0.0448\n",
      "Epoch 43/100\n",
      "881/881 [==============================] - 0s 446us/sample - loss: 0.0451\n",
      "Epoch 44/100\n",
      "881/881 [==============================] - 0s 427us/sample - loss: 0.0457\n",
      "Epoch 45/100\n",
      "881/881 [==============================] - 0s 420us/sample - loss: 0.0445\n",
      "Epoch 46/100\n",
      "881/881 [==============================] - 0s 452us/sample - loss: 0.0458\n",
      "Epoch 47/100\n",
      "881/881 [==============================] - 0s 400us/sample - loss: 0.0450\n",
      "Epoch 48/100\n",
      "881/881 [==============================] - 0s 433us/sample - loss: 0.0446\n",
      "Epoch 49/100\n",
      "881/881 [==============================] - 0s 409us/sample - loss: 0.0442\n",
      "Epoch 50/100\n",
      "881/881 [==============================] - 0s 419us/sample - loss: 0.0456\n",
      "Epoch 51/100\n",
      "881/881 [==============================] - 0s 403us/sample - loss: 0.0452\n",
      "Epoch 52/100\n",
      "881/881 [==============================] - 0s 426us/sample - loss: 0.0452\n",
      "Epoch 53/100\n",
      "881/881 [==============================] - 0s 442us/sample - loss: 0.0448\n",
      "Epoch 54/100\n",
      "881/881 [==============================] - 0s 398us/sample - loss: 0.0450\n",
      "Epoch 55/100\n",
      "881/881 [==============================] - 0s 408us/sample - loss: 0.0446\n",
      "Epoch 56/100\n",
      "881/881 [==============================] - 0s 417us/sample - loss: 0.0458\n",
      "Epoch 57/100\n",
      "881/881 [==============================] - 0s 404us/sample - loss: 0.0449\n",
      "Epoch 58/100\n",
      "881/881 [==============================] - 0s 416us/sample - loss: 0.0441\n",
      "Epoch 59/100\n",
      "881/881 [==============================] - 0s 437us/sample - loss: 0.0441\n",
      "Epoch 60/100\n",
      "881/881 [==============================] - 0s 395us/sample - loss: 0.0444\n",
      "Epoch 61/100\n",
      "881/881 [==============================] - 0s 404us/sample - loss: 0.0451\n",
      "Epoch 62/100\n",
      "881/881 [==============================] - 0s 416us/sample - loss: 0.0450\n",
      "Epoch 63/100\n",
      "881/881 [==============================] - 0s 408us/sample - loss: 0.0450\n",
      "Epoch 64/100\n",
      "881/881 [==============================] - 0s 432us/sample - loss: 0.0451\n",
      "Epoch 65/100\n",
      "881/881 [==============================] - 0s 502us/sample - loss: 0.0444\n",
      "Epoch 66/100\n",
      "881/881 [==============================] - 0s 401us/sample - loss: 0.0443\n",
      "Epoch 67/100\n",
      "881/881 [==============================] - 0s 407us/sample - loss: 0.0445\n",
      "Epoch 68/100\n",
      "881/881 [==============================] - 0s 429us/sample - loss: 0.0449\n",
      "Epoch 69/100\n",
      "881/881 [==============================] - 0s 416us/sample - loss: 0.0447\n",
      "Epoch 70/100\n",
      "881/881 [==============================] - 0s 432us/sample - loss: 0.0452\n",
      "Epoch 71/100\n",
      "881/881 [==============================] - 0s 399us/sample - loss: 0.0446\n",
      "Epoch 72/100\n",
      "881/881 [==============================] - 0s 427us/sample - loss: 0.0443\n",
      "Epoch 73/100\n",
      "881/881 [==============================] - 0s 426us/sample - loss: 0.0444\n",
      "Epoch 74/100\n",
      "881/881 [==============================] - 0s 424us/sample - loss: 0.0449\n",
      "Epoch 75/100\n",
      "881/881 [==============================] - 0s 423us/sample - loss: 0.0447\n",
      "Epoch 76/100\n",
      "881/881 [==============================] - 0s 423us/sample - loss: 0.0443\n",
      "Epoch 77/100\n",
      "881/881 [==============================] - 0s 406us/sample - loss: 0.0452\n",
      "Epoch 78/100\n",
      "881/881 [==============================] - 0s 406us/sample - loss: 0.0448\n",
      "Epoch 79/100\n",
      "881/881 [==============================] - 0s 434us/sample - loss: 0.0453\n",
      "Epoch 80/100\n",
      "881/881 [==============================] - 0s 394us/sample - loss: 0.0448\n",
      "Epoch 81/100\n",
      "881/881 [==============================] - 0s 432us/sample - loss: 0.0441\n",
      "Epoch 82/100\n",
      "881/881 [==============================] - 0s 445us/sample - loss: 0.0440\n",
      "Epoch 83/100\n",
      "881/881 [==============================] - 0s 407us/sample - loss: 0.0443\n",
      "Epoch 84/100\n",
      "881/881 [==============================] - 0s 429us/sample - loss: 0.0456\n",
      "Epoch 85/100\n",
      "881/881 [==============================] - 0s 422us/sample - loss: 0.0449\n",
      "Epoch 86/100\n",
      "881/881 [==============================] - 0s 416us/sample - loss: 0.0446\n",
      "Epoch 87/100\n",
      "881/881 [==============================] - 0s 437us/sample - loss: 0.0447\n",
      "Epoch 88/100\n",
      "881/881 [==============================] - 0s 435us/sample - loss: 0.0445\n",
      "Epoch 89/100\n",
      "881/881 [==============================] - 0s 430us/sample - loss: 0.0452\n",
      "Epoch 90/100\n",
      "881/881 [==============================] - 0s 460us/sample - loss: 0.0447\n",
      "Epoch 91/100\n",
      "881/881 [==============================] - 0s 403us/sample - loss: 0.0453\n",
      "Epoch 92/100\n",
      "881/881 [==============================] - 0s 433us/sample - loss: 0.0452\n",
      "Epoch 93/100\n",
      "881/881 [==============================] - 0s 435us/sample - loss: 0.0443\n",
      "Epoch 94/100\n",
      "881/881 [==============================] - 0s 396us/sample - loss: 0.0442\n",
      "Epoch 95/100\n",
      "881/881 [==============================] - 0s 422us/sample - loss: 0.0443\n",
      "Epoch 96/100\n",
      "881/881 [==============================] - 0s 435us/sample - loss: 0.0453\n",
      "Epoch 97/100\n",
      "881/881 [==============================] - 0s 428us/sample - loss: 0.0447\n",
      "Epoch 98/100\n",
      "881/881 [==============================] - 0s 429us/sample - loss: 0.0454\n",
      "Epoch 99/100\n",
      "881/881 [==============================] - 0s 400us/sample - loss: 0.0446\n",
      "Epoch 100/100\n",
      "881/881 [==============================] - 0s 445us/sample - loss: 0.0450\n"
     ]
    }
   ],
   "source": [
    "with tf.device('/GPU:0'):\n",
    "  regressor.fit(X_train, y_train, epochs = 100, batch_size = 720)"
   ]
  },
  {
   "cell_type": "code",
   "execution_count": 0,
   "metadata": {
    "colab": {},
    "colab_type": "code",
    "id": "UCcdJ1m66GVA"
   },
   "outputs": [],
   "source": [
    "data = pd.concat((newtrain, newtest), axis = 0)"
   ]
  },
  {
   "cell_type": "code",
   "execution_count": 0,
   "metadata": {
    "colab": {},
    "colab_type": "code",
    "id": "K7yUm0lw6o3_"
   },
   "outputs": [],
   "source": [
    "inputs = data.values"
   ]
  },
  {
   "cell_type": "code",
   "execution_count": 0,
   "metadata": {
    "colab": {},
    "colab_type": "code",
    "id": "3XFVy04g9cVW"
   },
   "outputs": [],
   "source": [
    "inputs = inputs.reshape(-1,1)"
   ]
  },
  {
   "cell_type": "code",
   "execution_count": 0,
   "metadata": {
    "colab": {},
    "colab_type": "code",
    "id": "lO0xcFZse48b"
   },
   "outputs": [],
   "source": [
    "inputs = sc.transform(inputs) # Transform input back to orignal values"
   ]
  },
  {
   "cell_type": "code",
   "execution_count": 0,
   "metadata": {
    "colab": {},
    "colab_type": "code",
    "id": "kTY6iVjvgk5N"
   },
   "outputs": [],
   "source": [
    "X_test = []"
   ]
  },
  {
   "cell_type": "code",
   "execution_count": 0,
   "metadata": {
    "colab": {},
    "colab_type": "code",
    "id": "SUXxq8BJglDS"
   },
   "outputs": [],
   "source": [
    "for i in range(30, 942):\n",
    "    X_test.append(inputs[i-30:i, 0])"
   ]
  },
  {
   "cell_type": "code",
   "execution_count": 0,
   "metadata": {
    "colab": {},
    "colab_type": "code",
    "id": "fqx4erDnglIA"
   },
   "outputs": [],
   "source": [
    "X_test = np.asarray(X_test)"
   ]
  },
  {
   "cell_type": "code",
   "execution_count": 0,
   "metadata": {
    "colab": {
     "base_uri": "https://localhost:8080/",
     "height": 34
    },
    "colab_type": "code",
    "id": "9qQOZqQrx6te",
    "outputId": "8165241d-f0fa-432c-f43e-4d71241c8290"
   },
   "outputs": [
    {
     "data": {
      "text/plain": [
       "(912, 30)"
      ]
     },
     "execution_count": 617,
     "metadata": {
      "tags": []
     },
     "output_type": "execute_result"
    }
   ],
   "source": [
    "X_test.shape"
   ]
  },
  {
   "cell_type": "code",
   "execution_count": 0,
   "metadata": {
    "colab": {},
    "colab_type": "code",
    "id": "qoV_swtShoBO"
   },
   "outputs": [],
   "source": [
    "X_test = np.reshape(X_test, (X_test.shape[0], X_test.shape[1], 1))"
   ]
  },
  {
   "cell_type": "code",
   "execution_count": 0,
   "metadata": {
    "colab": {},
    "colab_type": "code",
    "id": "XRyQMegVip6W"
   },
   "outputs": [],
   "source": [
    "sales_prediction = regressor.predict(X_test)"
   ]
  },
  {
   "cell_type": "code",
   "execution_count": 0,
   "metadata": {
    "colab": {},
    "colab_type": "code",
    "id": "XeNvD1lCnUJV"
   },
   "outputs": [],
   "source": [
    "sales_prediction = sc.inverse_transform(sales_prediction)"
   ]
  },
  {
   "cell_type": "code",
   "execution_count": 0,
   "metadata": {
    "colab": {},
    "colab_type": "code",
    "id": "Eujf8MGu08Yj"
   },
   "outputs": [],
   "source": [
    "from sklearn.metrics import mean_squared_error\n",
    "from sklearn.metrics import mean_absolute_error\n",
    "from math import sqrt"
   ]
  },
  {
   "cell_type": "code",
   "execution_count": 0,
   "metadata": {
    "colab": {},
    "colab_type": "code",
    "id": "SwNbxp8Q1HN7"
   },
   "outputs": [],
   "source": [
    "newdata = data.tail(912)\n",
    "pred = pd.DataFrame(sales_prediction,index = newdata.index)"
   ]
  },
  {
   "cell_type": "code",
   "execution_count": 0,
   "metadata": {
    "colab": {
     "base_uri": "https://localhost:8080/",
     "height": 34
    },
    "colab_type": "code",
    "id": "gtNpSNHasY7u",
    "outputId": "4246b863-c979-41d0-fc9f-3c4dd3679ac4"
   },
   "outputs": [
    {
     "data": {
      "text/plain": [
       "2926.0218040675086"
      ]
     },
     "execution_count": 623,
     "metadata": {
      "tags": []
     },
     "output_type": "execute_result"
    }
   ],
   "source": [
    "sqrt(mean_squared_error(pred.values, newdata.values))"
   ]
  },
  {
   "cell_type": "code",
   "execution_count": 0,
   "metadata": {
    "colab": {},
    "colab_type": "code",
    "id": "lrU9Skupvg__"
   },
   "outputs": [],
   "source": [
    "monthdata = data.resample('MS').sum()"
   ]
  },
  {
   "cell_type": "code",
   "execution_count": 0,
   "metadata": {
    "colab": {},
    "colab_type": "code",
    "id": "V7rG8ejNf2v1"
   },
   "outputs": [],
   "source": [
    "monthpred = pred.tail(911).resample('MS').sum()"
   ]
  },
  {
   "cell_type": "code",
   "execution_count": 0,
   "metadata": {
    "colab": {
     "base_uri": "https://localhost:8080/",
     "height": 350
    },
    "colab_type": "code",
    "id": "eLyENbZUlwIj",
    "outputId": "95619aab-c9f6-4726-cc15-f62b45aa1e1b"
   },
   "outputs": [
    {
     "data": {
      "image/png": "[encoded data removed]",
      "text/plain": [
       "<Figure size 1080x360 with 1 Axes>"
      ]
     },
     "metadata": {
      "tags": []
     },
     "output_type": "display_data"
    }
   ],
   "source": [
    "plt.figure(figsize=(15,5))\n",
    "plt.plot(monthdata, color = 'red', label = 'Actual Sales')\n",
    "plt.plot(monthpred, color = 'yellow', label = 'Predicted Sales')\n",
    "plt.title('Sales Prediction with LSTM')\n",
    "plt.xlabel('Time')\n",
    "plt.ylabel('Sales')\n",
    "#plt.ylim(1500,11000)\n",
    "plt.legend()\n",
    "plt.show()"
   ]
  },
  {
   "cell_type": "markdown",
   "metadata": {},
   "source": [
    "### From above graph we can see the LSTM has neatly fit the data while not overfitting it."
   ]
  },
  {
   "cell_type": "code",
   "execution_count": 0,
   "metadata": {
    "colab": {
     "base_uri": "https://localhost:8080/",
     "height": 34
    },
    "colab_type": "code",
    "id": "W0iQ-QLznE6J",
    "outputId": "5d459a6f-6041-4c31-b72a-2d9861814c19"
   },
   "outputs": [
    {
     "name": "stdout",
     "output_type": "stream",
     "text": [
      "RMSE = 15412.975519965148\n"
     ]
    }
   ],
   "source": [
    "print('RMSE = {}'.format(sqrt(mean_squared_error(monthpred.values, monthdata.tail(30).values))))"
   ]
  },
  {
   "cell_type": "code",
   "execution_count": 0,
   "metadata": {
    "colab": {
     "base_uri": "https://localhost:8080/",
     "height": 34
    },
    "colab_type": "code",
    "id": "FGTqxfIRsMG-",
    "outputId": "22f12480-2335-4df1-d736-bac1cf48da47"
   },
   "outputs": [
    {
     "name": "stdout",
     "output_type": "stream",
     "text": [
      "MAE = 13381.805757900487\n"
     ]
    }
   ],
   "source": [
    "print('MAE = {}'.format(mean_absolute_error(monthpred.values, monthdata.tail(30).values)))"
   ]
  },
  {
   "cell_type": "code",
   "execution_count": 0,
   "metadata": {
    "colab": {
     "base_uri": "https://localhost:8080/",
     "height": 51
    },
    "colab_type": "code",
    "id": "XwcMFB-asV9q",
    "outputId": "95682a82-9ef9-45f3-876e-7a10cc61aeaf"
   },
   "outputs": [
    {
     "name": "stdout",
     "output_type": "stream",
     "text": [
      "For [2015-07]:\n",
      "Actual = [190423.87085202] & Predicted = [170939.02]\n"
     ]
    }
   ],
   "source": [
    "#For the test data:\n",
    "print('For [2015-07]:\\nActual = {} & Predicted = {}'.format(monthdata.tail(1).values[0],monthpred.tail(1).values[0]))"
   ]
  },
  {
   "cell_type": "markdown",
   "metadata": {
    "colab_type": "text",
    "id": "FDJvaO9b1Spg"
   },
   "source": [
    "**Lets Draw A Comparision**\n",
    "\n",
    "***Week 2 Results:***\n",
    "\n",
    "| Model | RMSE | MAE |\n",
    "| --- | --- | -- |\n",
    "| ARIMA| 25460.47 | 18051.20|\n",
    "\n",
    "***Week 3 Results:***\n",
    "\n",
    "| Model | RMSE| MAE|\n",
    "| --- | --- | --- |\n",
    "| LSTM[30 day timestep]| 190423 | 170939 \n",
    "\n",
    "### As we can see the LSTMs are performing better than the standard ARIMA Time series model, the ARIMA model was trained on monthly data wheras LSTMs were train on day wise data. This was necessary as If Monthly data was given(which has only handful of records) instead of day wise data(which has 800+ records) the neural net would have performed even worse than the ARIMA model. After training on day wise data, the predictions are aggregated monthly to show the results and calculating RMSE/MAE. "
   ]
  },
  {
   "cell_type": "markdown",
   "metadata": {
    "colab_type": "text",
    "id": "D7Fo_TLV5APy"
   },
   "source": [
    "### Comment on the models built so far.\n",
    "\n",
    "### **Week 1**\n",
    "### The Linear Regression Model did not perform very good when it was given the Store ID feature, but improved drastically when other features were given and more so when onehot encoded features were given. It performed best when it was Regularized and was better than the non linear Models.\n",
    "\n",
    "### The KNN and Random Forest models also performed well and worked comparatively better than the Linear Model.\n",
    "\n",
    "### **Week 2**\n",
    "### The Linear Model did not improve much despite removing the records in which the stores were closed.\n",
    "\n",
    "### The Random Forest Model was overfitting but the overfitting was controlled using the KFold Cross Validation & Hyperparameter Tuning\n",
    "\n",
    "### Timeseries Models should not be compared with the other linear/non linear model as it would be unfair comparision, the comparision between ARIMA and LSTM is given above.\n",
    "\n"
   ]
  },
  {
   "cell_type": "markdown",
   "metadata": {
    "colab_type": "text",
    "id": "KV3F2A1IE1Bp"
   },
   "source": [
    "### Cluster stores using sales and customer visits as features. Find out how many clusters or groups are possible. Also visualize the results.\n",
    "\n",
    "### 1.First visualize the spread of sales over customer visit\n",
    "### 2.Second calculate optimal number of clusters using the elbow technique\n",
    "### 3.Third calculate the the clusters using K Means Clustering and Visualize it"
   ]
  },
  {
   "cell_type": "code",
   "execution_count": 0,
   "metadata": {
    "colab": {},
    "colab_type": "code",
    "id": "ibJDDgT3vt0F"
   },
   "outputs": [],
   "source": [
    "train = pd.read_csv('train_data.csv')"
   ]
  },
  {
   "cell_type": "code",
   "execution_count": 0,
   "metadata": {
    "colab": {},
    "colab_type": "code",
    "id": "e2iO8frxGIRG"
   },
   "outputs": [],
   "source": [
    "train = train[train.Open == 1]"
   ]
  },
  {
   "cell_type": "code",
   "execution_count": 0,
   "metadata": {
    "colab": {},
    "colab_type": "code",
    "id": "l-C_4T3aGR_N"
   },
   "outputs": [],
   "source": [
    "train = train[['Customers','Sales']]"
   ]
  },
  {
   "cell_type": "code",
   "execution_count": 0,
   "metadata": {
    "colab": {},
    "colab_type": "code",
    "id": "r9DD_pkjWW8k"
   },
   "outputs": [],
   "source": [
    "data = train"
   ]
  },
  {
   "cell_type": "code",
   "execution_count": 0,
   "metadata": {
    "colab": {
     "base_uri": "https://localhost:8080/",
     "height": 204
    },
    "colab_type": "code",
    "id": "NcRByzjcGnH3",
    "outputId": "29e766d0-7294-4a7a-a5dc-9742c3251fd8"
   },
   "outputs": [
    {
     "data": {
      "text/html": [
       "<div>\n",
       "<style scoped>\n",
       "    .dataframe tbody tr th:only-of-type {\n",
       "        vertical-align: middle;\n",
       "    }\n",
       "\n",
       "    .dataframe tbody tr th {\n",
       "        vertical-align: top;\n",
       "    }\n",
       "\n",
       "    .dataframe thead th {\n",
       "        text-align: right;\n",
       "    }\n",
       "</style>\n",
       "<table border=\"1\" class=\"dataframe\">\n",
       "  <thead>\n",
       "    <tr style=\"text-align: right;\">\n",
       "      <th></th>\n",
       "      <th>Customers</th>\n",
       "      <th>Sales</th>\n",
       "    </tr>\n",
       "  </thead>\n",
       "  <tbody>\n",
       "    <tr>\n",
       "      <th>0</th>\n",
       "      <td>568</td>\n",
       "      <td>5735</td>\n",
       "    </tr>\n",
       "    <tr>\n",
       "      <th>1</th>\n",
       "      <td>877</td>\n",
       "      <td>9863</td>\n",
       "    </tr>\n",
       "    <tr>\n",
       "      <th>2</th>\n",
       "      <td>1072</td>\n",
       "      <td>13261</td>\n",
       "    </tr>\n",
       "    <tr>\n",
       "      <th>3</th>\n",
       "      <td>1488</td>\n",
       "      <td>13106</td>\n",
       "    </tr>\n",
       "    <tr>\n",
       "      <th>4</th>\n",
       "      <td>645</td>\n",
       "      <td>6635</td>\n",
       "    </tr>\n",
       "  </tbody>\n",
       "</table>\n",
       "</div>"
      ],
      "text/plain": [
       "   Customers  Sales\n",
       "0        568   5735\n",
       "1        877   9863\n",
       "2       1072  13261\n",
       "3       1488  13106\n",
       "4        645   6635"
      ]
     },
     "execution_count": 666,
     "metadata": {
      "tags": []
     },
     "output_type": "execute_result"
    }
   ],
   "source": [
    "train.head()"
   ]
  },
  {
   "cell_type": "code",
   "execution_count": 0,
   "metadata": {
    "colab": {
     "base_uri": "https://localhost:8080/",
     "height": 279
    },
    "colab_type": "code",
    "id": "VSFt__f-JjT5",
    "outputId": "5cb3f75d-a01b-4e48-9c9f-e8925321185e"
   },
   "outputs": [
    {
     "data": {
      "text/plain": [
       "<matplotlib.collections.PathCollection at 0x7f4aaec84f60>"
      ]
     },
     "execution_count": 669,
     "metadata": {
      "tags": []
     },
     "output_type": "execute_result"
    },
    {
     "data": {
      "image/png": "[encoded data removed]",
      "text/plain": [
       "<Figure size 432x288 with 1 Axes>"
      ]
     },
     "metadata": {
      "tags": []
     },
     "output_type": "display_data"
    }
   ],
   "source": [
    "plt.scatter(train.Customers,train.Sales)"
   ]
  },
  {
   "cell_type": "code",
   "execution_count": 0,
   "metadata": {
    "colab": {},
    "colab_type": "code",
    "id": "Tyo6yYUrJqbb"
   },
   "outputs": [],
   "source": [
    "from sklearn.datasets.samples_generator import make_blobs\n",
    "from sklearn.cluster import KMeans"
   ]
  },
  {
   "cell_type": "code",
   "execution_count": 0,
   "metadata": {
    "colab": {},
    "colab_type": "code",
    "id": "nwLci8I8LNOY"
   },
   "outputs": [],
   "source": [
    "from sklearn.preprocessing import MinMaxScaler\n",
    "sc = MinMaxScaler(feature_range = (0, 1))\n",
    "train = pd.DataFrame(sc.fit_transform(np.asarray(train)))"
   ]
  },
  {
   "cell_type": "code",
   "execution_count": 0,
   "metadata": {
    "colab": {},
    "colab_type": "code",
    "id": "OUsX8L4WM9vk"
   },
   "outputs": [],
   "source": [
    "train.columns = ['Customers','Sales']"
   ]
  },
  {
   "cell_type": "code",
   "execution_count": 0,
   "metadata": {
    "colab": {
     "base_uri": "https://localhost:8080/",
     "height": 34
    },
    "colab_type": "code",
    "id": "o6meOd8sOYv7",
    "outputId": "5dfec3a9-9567-4763-8e96-6d5846142a29"
   },
   "outputs": [
    {
     "data": {
      "text/plain": [
       "(814204, 2)"
      ]
     },
     "execution_count": 684,
     "metadata": {
      "tags": []
     },
     "output_type": "execute_result"
    }
   ],
   "source": [
    "X = np.asarray(train)\n",
    "X.shape"
   ]
  },
  {
   "cell_type": "markdown",
   "metadata": {},
   "source": [
    "### The elbow technique calculates sum of squares for each number of cluster and it can be visualized using a plot."
   ]
  },
  {
   "cell_type": "code",
   "execution_count": 0,
   "metadata": {
    "colab": {
     "base_uri": "https://localhost:8080/",
     "height": 550
    },
    "colab_type": "code",
    "id": "fpr3l9aRKw-b",
    "outputId": "1751dc5a-cb58-4ad9-c335-53b97ae21116"
   },
   "outputs": [
    {
     "name": "stdout",
     "output_type": "stream",
     "text": [
      "Epoch [1]\n",
      "Epoch [2]\n",
      "Epoch [3]\n",
      "Epoch [4]\n",
      "Epoch [5]\n",
      "Epoch [6]\n",
      "Epoch [7]\n",
      "Epoch [8]\n",
      "Epoch [9]\n",
      "Epoch [10]\n"
     ]
    },
    {
     "data": {
      "image/png": "[encoded data removed]",
      "text/plain": [
       "<Figure size 1080x360 with 1 Axes>"
      ]
     },
     "metadata": {
      "tags": []
     },
     "output_type": "display_data"
    }
   ],
   "source": [
    "wcss = []\n",
    "for i in range(1, 11):\n",
    "    kmeans = KMeans(n_clusters=i, init='k-means++', max_iter=300, n_init=10, random_state=0)\n",
    "    kmeans.fit(X)\n",
    "    print('Epoch [{}]'.format(i))\n",
    "    wcss.append(kmeans.inertia_)\n",
    "plt.figure(figsize=(15,5))\n",
    "plt.plot(range(1, 11), wcss)\n",
    "plt.title('Elbow Method')\n",
    "plt.xlabel('Number of clusters')\n",
    "plt.ylabel('WCSS')\n",
    "plt.show()"
   ]
  },
  {
   "cell_type": "markdown",
   "metadata": {
    "colab_type": "text",
    "id": "mwFqzLf3AC3n"
   },
   "source": [
    "### Optimal Number of Clusters = 3\n",
    "### Sum of Squares ~ 2000"
   ]
  },
  {
   "cell_type": "code",
   "execution_count": 0,
   "metadata": {
    "colab": {},
    "colab_type": "code",
    "id": "NuDcD23sTIhq"
   },
   "outputs": [],
   "source": [
    "Y = np.asarray(data.sample(5000))"
   ]
  },
  {
   "cell_type": "code",
   "execution_count": 0,
   "metadata": {
    "colab": {
     "base_uri": "https://localhost:8080/",
     "height": 496
    },
    "colab_type": "code",
    "id": "mMYXNH2aO8sH",
    "outputId": "4648edc9-a304-40a2-ff88-1e393ff2f269"
   },
   "outputs": [
    {
     "data": {
      "image/png": "[encoded data removed]",
      "text/plain": [
       "<Figure size 1512x504 with 1 Axes>"
      ]
     },
     "metadata": {
      "tags": []
     },
     "output_type": "display_data"
    }
   ],
   "source": [
    "plt.style.use('bmh')\n",
    "kmeans = KMeans(n_clusters=3, init='k-means++', max_iter=500, n_init=10, random_state=0)\n",
    "pred_y = kmeans.fit_predict(Y)\n",
    "plt.figure(figsize=(21,7))\n",
    "plt.xlabel('Customers')\n",
    "plt.ylabel('Sales')\n",
    "plt.scatter(Y[:,0], Y[:,1])\n",
    "plt.scatter(kmeans.cluster_centers_[:, 0], kmeans.cluster_centers_[:, 1], s=300, c='red')\n",
    "plt.show()"
   ]
  },
  {
   "cell_type": "markdown",
   "metadata": {
    "colab_type": "text",
    "id": "X8PcPxkMWDMd"
   },
   "source": [
    "### From above plot, it can be inferred that there are 3 clusters\n",
    "### 1. Low Sales and Low Customers\n",
    "### 2. Low Sales and High Customers\n",
    "### 3. High Sales and High Customers\n",
    "\n",
    "### Keeping these clusters in mind , we can filter the complete dataset into 3 seperate datasets and train regression models to get a better fit on the data"
   ]
  },
  {
   "cell_type": "markdown",
   "metadata": {
    "colab_type": "text",
    "id": "marayVGxb0QJ"
   },
   "source": [
    "## End of Week 3"
   ]
  },
  {
   "cell_type": "code",
   "execution_count": 0,
   "metadata": {
    "colab": {},
    "colab_type": "code",
    "id": "jC24SnS1R53l"
   },
   "outputs": [],
   "source": []
  }
 ],
 "metadata": {
  "accelerator": "GPU",
  "colab": {
   "collapsed_sections": [],
   "name": "Week 3.ipynb",
   "provenance": []
  },
  "kernelspec": {
   "display_name": "Python 3",
   "language": "python",
   "name": "python3"
  },
  "language_info": {
   "codemirror_mode": {
    "name": "ipython",
    "version": 3
   },
   "file_extension": ".py",
   "mimetype": "text/x-python",
   "name": "python",
   "nbconvert_exporter": "python",
   "pygments_lexer": "ipython3",
   "version": "3.7.4"
  }
 },
 "nbformat": 4,
 "nbformat_minor": 1
}
