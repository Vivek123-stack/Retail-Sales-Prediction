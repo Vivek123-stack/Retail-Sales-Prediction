{
 "cells": [
  {
   "cell_type": "markdown",
   "metadata": {
    "colab_type": "text",
    "id": "Hbj_p704vmaq"
   },
   "source": [
    "***Project Owner : Sujay Torvi , Email me at sujay.torvi@gmail.com\n",
    "Copyright © 2019***"
   ]
  },
  {
   "cell_type": "markdown",
   "metadata": {
    "colab_type": "text",
    "id": "lrR7wpk7vmk7"
   },
   "source": [
    "# AI Capstone Project\n",
    "## Domain: Retail\n",
    "## Problem Statement\n",
    "\n",
    "***Demand Forecast is one of the key tasks in Supply Chain and Retail Domain in general. It is key in effective operation and optimization of retail supply chain. Effectively solving this problem requires knowledge about a wide range of tricks in Data Sciences and good understanding of ensemble techniques.***\n",
    "***You are required to predict sales for each Store-Day level for one month. All the features will be provided and actual sales that happened during that month will also be provided for model evaluation.***"
   ]
  },
  {
   "cell_type": "markdown",
   "metadata": {
    "colab_type": "text",
    "id": "gi_7V5DCvmwm"
   },
   "source": [
    "## Agenda for Week 4\n",
    "### Implementing Artificial Neural Networks\n",
    "### 1. Use ANN (Artificial Neural Network) to predict Store Sales.\n",
    "#### a)    Fine-tune number of layers,\n",
    "#### b)    Number of Neurons in each layers .\n",
    "#### c)    Experiment in batch-size.\n",
    "#### d)    Experiment with number of epochs. Carefully observe the loss and accuracy? What are the observations?\n",
    "#### e)    Play with different  Learning Rate  variants of Gradient Descent like Adam, SGD, RMS-prop.\n",
    "#### f)    Which activation performs best for this use case and why?\n",
    "#### g)    Check how it performed in the dataset, calculate RMSE.\n",
    "### 2. Use Dropout for ANN and find the optimum number of clusters (clusters formed considering the features: sales and customer visits). Compare model performance with traditional ML based prediction models. \n",
    "### 3. Find the best setting of neural net that minimizes the loss and can predict the sales best. Use techniques like Grid search, cross-validation and Random search."
   ]
  },
  {
   "cell_type": "code",
   "execution_count": 0,
   "metadata": {
    "colab": {},
    "colab_type": "code",
    "id": "i0F8t7FwwdlT"
   },
   "outputs": [],
   "source": [
    "#Import libraries"
   ]
  },
  {
   "cell_type": "code",
   "execution_count": 0,
   "metadata": {
    "colab": {},
    "colab_type": "code",
    "id": "W-AmpQxsVcbj"
   },
   "outputs": [],
   "source": [
    "import numpy as np\n",
    "import pandas as pd"
   ]
  },
  {
   "cell_type": "markdown",
   "metadata": {
    "colab_type": "text",
    "id": "pWnpUJ6ECkPR"
   },
   "source": [
    "### Data Preprocessing"
   ]
  },
  {
   "cell_type": "code",
   "execution_count": 5,
   "metadata": {
    "colab": {
     "base_uri": "https://localhost:8080/",
     "height": 258
    },
    "colab_type": "code",
    "id": "2STkk8DHVgJQ",
    "outputId": "c20bccba-6869-4d59-987e-4c294ebcaa80"
   },
   "outputs": [
    {
     "name": "stderr",
     "output_type": "stream",
     "text": [
      "/usr/local/lib/python3.6/dist-packages/IPython/core/interactiveshell.py:2718: DtypeWarning: Columns (7) have mixed types. Specify dtype option on import or set low_memory=False.\n",
      "  interactivity=interactivity, compiler=compiler, result=result)\n"
     ]
    },
    {
     "data": {
      "text/html": [
       "<div>\n",
       "<style scoped>\n",
       "    .dataframe tbody tr th:only-of-type {\n",
       "        vertical-align: middle;\n",
       "    }\n",
       "\n",
       "    .dataframe tbody tr th {\n",
       "        vertical-align: top;\n",
       "    }\n",
       "\n",
       "    .dataframe thead th {\n",
       "        text-align: right;\n",
       "    }\n",
       "</style>\n",
       "<table border=\"1\" class=\"dataframe\">\n",
       "  <thead>\n",
       "    <tr style=\"text-align: right;\">\n",
       "      <th></th>\n",
       "      <th>Store</th>\n",
       "      <th>DayOfWeek</th>\n",
       "      <th>Date</th>\n",
       "      <th>Sales</th>\n",
       "      <th>Customers</th>\n",
       "      <th>Open</th>\n",
       "      <th>Promo</th>\n",
       "      <th>StateHoliday</th>\n",
       "      <th>SchoolHoliday</th>\n",
       "    </tr>\n",
       "  </thead>\n",
       "  <tbody>\n",
       "    <tr>\n",
       "      <th>0</th>\n",
       "      <td>1</td>\n",
       "      <td>2</td>\n",
       "      <td>2015-06-30</td>\n",
       "      <td>5735</td>\n",
       "      <td>568</td>\n",
       "      <td>1</td>\n",
       "      <td>1</td>\n",
       "      <td>0</td>\n",
       "      <td>0</td>\n",
       "    </tr>\n",
       "    <tr>\n",
       "      <th>1</th>\n",
       "      <td>2</td>\n",
       "      <td>2</td>\n",
       "      <td>2015-06-30</td>\n",
       "      <td>9863</td>\n",
       "      <td>877</td>\n",
       "      <td>1</td>\n",
       "      <td>1</td>\n",
       "      <td>0</td>\n",
       "      <td>0</td>\n",
       "    </tr>\n",
       "    <tr>\n",
       "      <th>2</th>\n",
       "      <td>3</td>\n",
       "      <td>2</td>\n",
       "      <td>2015-06-30</td>\n",
       "      <td>13261</td>\n",
       "      <td>1072</td>\n",
       "      <td>1</td>\n",
       "      <td>1</td>\n",
       "      <td>0</td>\n",
       "      <td>1</td>\n",
       "    </tr>\n",
       "    <tr>\n",
       "      <th>3</th>\n",
       "      <td>4</td>\n",
       "      <td>2</td>\n",
       "      <td>2015-06-30</td>\n",
       "      <td>13106</td>\n",
       "      <td>1488</td>\n",
       "      <td>1</td>\n",
       "      <td>1</td>\n",
       "      <td>0</td>\n",
       "      <td>0</td>\n",
       "    </tr>\n",
       "    <tr>\n",
       "      <th>4</th>\n",
       "      <td>5</td>\n",
       "      <td>2</td>\n",
       "      <td>2015-06-30</td>\n",
       "      <td>6635</td>\n",
       "      <td>645</td>\n",
       "      <td>1</td>\n",
       "      <td>1</td>\n",
       "      <td>0</td>\n",
       "      <td>0</td>\n",
       "    </tr>\n",
       "  </tbody>\n",
       "</table>\n",
       "</div>"
      ],
      "text/plain": [
       "   Store  DayOfWeek        Date  Sales  ...  Open  Promo  StateHoliday SchoolHoliday\n",
       "0      1          2  2015-06-30   5735  ...     1      1             0             0\n",
       "1      2          2  2015-06-30   9863  ...     1      1             0             0\n",
       "2      3          2  2015-06-30  13261  ...     1      1             0             1\n",
       "3      4          2  2015-06-30  13106  ...     1      1             0             0\n",
       "4      5          2  2015-06-30   6635  ...     1      1             0             0\n",
       "\n",
       "[5 rows x 9 columns]"
      ]
     },
     "execution_count": 5,
     "metadata": {
      "tags": []
     },
     "output_type": "execute_result"
    }
   ],
   "source": [
    "train = pd.read_csv('train_data.csv')\n",
    "train.head()"
   ]
  },
  {
   "cell_type": "code",
   "execution_count": 6,
   "metadata": {
    "colab": {
     "base_uri": "https://localhost:8080/",
     "height": 204
    },
    "colab_type": "code",
    "id": "hKITlXGQVmWq",
    "outputId": "709ea524-8bb2-4b06-f1f5-5774e1a4354d"
   },
   "outputs": [
    {
     "data": {
      "text/html": [
       "<div>\n",
       "<style scoped>\n",
       "    .dataframe tbody tr th:only-of-type {\n",
       "        vertical-align: middle;\n",
       "    }\n",
       "\n",
       "    .dataframe tbody tr th {\n",
       "        vertical-align: top;\n",
       "    }\n",
       "\n",
       "    .dataframe thead th {\n",
       "        text-align: right;\n",
       "    }\n",
       "</style>\n",
       "<table border=\"1\" class=\"dataframe\">\n",
       "  <thead>\n",
       "    <tr style=\"text-align: right;\">\n",
       "      <th></th>\n",
       "      <th>Store</th>\n",
       "      <th>DayOfWeek</th>\n",
       "      <th>Date</th>\n",
       "      <th>Sales</th>\n",
       "      <th>Customers</th>\n",
       "      <th>Open</th>\n",
       "      <th>Promo</th>\n",
       "      <th>StateHoliday</th>\n",
       "      <th>SchoolHoliday</th>\n",
       "    </tr>\n",
       "  </thead>\n",
       "  <tbody>\n",
       "    <tr>\n",
       "      <th>0</th>\n",
       "      <td>1</td>\n",
       "      <td>5</td>\n",
       "      <td>2015-07-31</td>\n",
       "      <td>5263</td>\n",
       "      <td>555</td>\n",
       "      <td>1</td>\n",
       "      <td>1</td>\n",
       "      <td>0</td>\n",
       "      <td>1</td>\n",
       "    </tr>\n",
       "    <tr>\n",
       "      <th>1</th>\n",
       "      <td>2</td>\n",
       "      <td>5</td>\n",
       "      <td>2015-07-31</td>\n",
       "      <td>6064</td>\n",
       "      <td>625</td>\n",
       "      <td>1</td>\n",
       "      <td>1</td>\n",
       "      <td>0</td>\n",
       "      <td>1</td>\n",
       "    </tr>\n",
       "    <tr>\n",
       "      <th>2</th>\n",
       "      <td>3</td>\n",
       "      <td>5</td>\n",
       "      <td>2015-07-31</td>\n",
       "      <td>8314</td>\n",
       "      <td>821</td>\n",
       "      <td>1</td>\n",
       "      <td>1</td>\n",
       "      <td>0</td>\n",
       "      <td>1</td>\n",
       "    </tr>\n",
       "    <tr>\n",
       "      <th>3</th>\n",
       "      <td>4</td>\n",
       "      <td>5</td>\n",
       "      <td>2015-07-31</td>\n",
       "      <td>13995</td>\n",
       "      <td>1498</td>\n",
       "      <td>1</td>\n",
       "      <td>1</td>\n",
       "      <td>0</td>\n",
       "      <td>1</td>\n",
       "    </tr>\n",
       "    <tr>\n",
       "      <th>4</th>\n",
       "      <td>5</td>\n",
       "      <td>5</td>\n",
       "      <td>2015-07-31</td>\n",
       "      <td>4822</td>\n",
       "      <td>559</td>\n",
       "      <td>1</td>\n",
       "      <td>1</td>\n",
       "      <td>0</td>\n",
       "      <td>1</td>\n",
       "    </tr>\n",
       "  </tbody>\n",
       "</table>\n",
       "</div>"
      ],
      "text/plain": [
       "   Store  DayOfWeek        Date  ...  Promo  StateHoliday  SchoolHoliday\n",
       "0      1          5  2015-07-31  ...      1             0              1\n",
       "1      2          5  2015-07-31  ...      1             0              1\n",
       "2      3          5  2015-07-31  ...      1             0              1\n",
       "3      4          5  2015-07-31  ...      1             0              1\n",
       "4      5          5  2015-07-31  ...      1             0              1\n",
       "\n",
       "[5 rows x 9 columns]"
      ]
     },
     "execution_count": 6,
     "metadata": {
      "tags": []
     },
     "output_type": "execute_result"
    }
   ],
   "source": [
    "test = pd.read_csv('test_data_hidden.csv')\n",
    "test.head()"
   ]
  },
  {
   "cell_type": "code",
   "execution_count": 0,
   "metadata": {
    "colab": {},
    "colab_type": "code",
    "id": "c7U89SUVV7Gn"
   },
   "outputs": [],
   "source": [
    "train = train[train.Open == 1]\n",
    "train = train[['Store','DayOfWeek','Sales','Customers','Open','Promo','StateHoliday','SchoolHoliday']]"
   ]
  },
  {
   "cell_type": "code",
   "execution_count": 0,
   "metadata": {
    "colab": {},
    "colab_type": "code",
    "id": "iTIiEIK8V7LE"
   },
   "outputs": [],
   "source": [
    "test = test[test.Open == 1]\n",
    "test = test[['Store','DayOfWeek','Sales','Customers','Open','Promo','StateHoliday','SchoolHoliday']]"
   ]
  },
  {
   "cell_type": "code",
   "execution_count": 0,
   "metadata": {
    "colab": {},
    "colab_type": "code",
    "id": "p9lVpBIyYWOj"
   },
   "outputs": [],
   "source": [
    "#map a - 1, b- 2 & c - 3 in the state holiday\n",
    "def cleanHoliday(x):\n",
    "  if(x == 0):\n",
    "    x = '0'\n",
    "  elif(x == 'a'):\n",
    "    x = 1\n",
    "  elif(x == 'b'):\n",
    "    x = 2\n",
    "  elif(x == 'c'):\n",
    "    x = 3\n",
    "  return x\n",
    "train.StateHoliday = train.StateHoliday.map(cleanHoliday)\n",
    "test.StateHoliday = test.StateHoliday.map(cleanHoliday)"
   ]
  },
  {
   "cell_type": "code",
   "execution_count": 0,
   "metadata": {
    "colab": {},
    "colab_type": "code",
    "id": "w6MPUvQkV7D8"
   },
   "outputs": [],
   "source": [
    "from sklearn.preprocessing import StandardScaler"
   ]
  },
  {
   "cell_type": "code",
   "execution_count": 0,
   "metadata": {
    "colab": {},
    "colab_type": "code",
    "id": "a5AtLROuWm8-"
   },
   "outputs": [],
   "source": [
    "X_train = np.asarray(train[['DayOfWeek','Customers','Open','Promo','StateHoliday','SchoolHoliday']])\n",
    "X_test = np.asarray(test[['DayOfWeek','Customers','Open','Promo','StateHoliday','SchoolHoliday']])\n",
    "y_train = np.asarray(train.Sales)\n",
    "y_test = np.asarray(test.Sales)"
   ]
  },
  {
   "cell_type": "code",
   "execution_count": 0,
   "metadata": {
    "colab": {},
    "colab_type": "code",
    "id": "RMY_5ULjWm6T"
   },
   "outputs": [],
   "source": [
    "y_train = y_train.reshape(-1,1)\n",
    "y_test = y_test.reshape(-1,1)"
   ]
  },
  {
   "cell_type": "code",
   "execution_count": 0,
   "metadata": {
    "colab": {},
    "colab_type": "code",
    "id": "DRavO8fuWm39"
   },
   "outputs": [],
   "source": [
    "sc = StandardScaler()\n",
    "X_train = sc.fit_transform(X_train)\n",
    "X_test = sc.fit_transform(X_test)\n",
    "y_train = sc.fit_transform(y_train)\n",
    "y_test = sc.fit_transform(y_test)"
   ]
  },
  {
   "cell_type": "code",
   "execution_count": 0,
   "metadata": {
    "colab": {},
    "colab_type": "code",
    "id": "vz-HmgZ0Wm0l"
   },
   "outputs": [],
   "source": [
    "from sklearn.decomposition import PCA"
   ]
  },
  {
   "cell_type": "code",
   "execution_count": 0,
   "metadata": {
    "colab": {},
    "colab_type": "code",
    "id": "JxzV_IRlY8hO"
   },
   "outputs": [],
   "source": [
    "pca = PCA(.95) #will retain 95% variance in the data"
   ]
  },
  {
   "cell_type": "code",
   "execution_count": 16,
   "metadata": {
    "colab": {
     "base_uri": "https://localhost:8080/",
     "height": 51
    },
    "colab_type": "code",
    "id": "oYT9CjuCY8kg",
    "outputId": "2793499f-d3d5-4268-fb5f-2d05dfad8f5e"
   },
   "outputs": [
    {
     "data": {
      "text/plain": [
       "PCA(copy=True, iterated_power='auto', n_components=0.95, random_state=None,\n",
       "    svd_solver='auto', tol=0.0, whiten=False)"
      ]
     },
     "execution_count": 16,
     "metadata": {
      "tags": []
     },
     "output_type": "execute_result"
    }
   ],
   "source": [
    "pca.fit(X_train)"
   ]
  },
  {
   "cell_type": "code",
   "execution_count": 17,
   "metadata": {
    "colab": {
     "base_uri": "https://localhost:8080/",
     "height": 34
    },
    "colab_type": "code",
    "id": "CKZ9xKZoY8eB",
    "outputId": "05fb79c9-fda6-4529-b4a4-9a207e56ce07"
   },
   "outputs": [
    {
     "data": {
      "text/plain": [
       "5"
      ]
     },
     "execution_count": 17,
     "metadata": {
      "tags": []
     },
     "output_type": "execute_result"
    }
   ],
   "source": [
    "pca.n_components_ #shows how many features pca chose"
   ]
  },
  {
   "cell_type": "code",
   "execution_count": 0,
   "metadata": {
    "colab": {},
    "colab_type": "code",
    "id": "FeMU4Z_JZTq8"
   },
   "outputs": [],
   "source": [
    "X_train = pca.transform(X_train)\n",
    "X_test = pca.transform(X_test)"
   ]
  },
  {
   "cell_type": "code",
   "execution_count": 0,
   "metadata": {
    "colab": {},
    "colab_type": "code",
    "id": "M5_hgB9y2bpI"
   },
   "outputs": [],
   "source": [
    "y_test = sc.inverse_transform(y_test)"
   ]
  },
  {
   "cell_type": "code",
   "execution_count": 0,
   "metadata": {
    "colab": {},
    "colab_type": "code",
    "id": "Rw6ONiZDapA9"
   },
   "outputs": [],
   "source": [
    "import tensorflow as tf"
   ]
  },
  {
   "cell_type": "code",
   "execution_count": 0,
   "metadata": {
    "colab": {},
    "colab_type": "code",
    "id": "DN1dOUq4xTCb"
   },
   "outputs": [],
   "source": [
    "from tensorflow import keras"
   ]
  },
  {
   "cell_type": "markdown",
   "metadata": {},
   "source": [
    "### Using Keras API to train neural network on dataset"
   ]
  },
  {
   "cell_type": "code",
   "execution_count": 0,
   "metadata": {
    "colab": {},
    "colab_type": "code",
    "id": "Cu8c4sD6xlue"
   },
   "outputs": [],
   "source": [
    "from keras.models import Sequential\n",
    "from keras.layers import Dense\n",
    "from keras.layers.core import Activation,Dropout,Dense\n",
    "from keras.utils import np_utils\n",
    "from keras.wrappers.scikit_learn import KerasRegressor\n",
    "from sklearn.model_selection import cross_val_score\n",
    "from sklearn.model_selection import KFold\n",
    "from sklearn.preprocessing import StandardScaler\n",
    "from sklearn.pipeline import Pipeline"
   ]
  },
  {
   "cell_type": "code",
   "execution_count": 0,
   "metadata": {
    "colab": {},
    "colab_type": "code",
    "id": "BaUtvOwNxDrD"
   },
   "outputs": [],
   "source": [
    "from math import sqrt\n",
    "from sklearn.metrics import mean_squared_error\n",
    "from sklearn.metrics import mean_absolute_error"
   ]
  },
  {
   "cell_type": "markdown",
   "metadata": {
    "colab_type": "text",
    "id": "amjEnA5wCox0"
   },
   "source": [
    "### Train 5 Different Model with Different Parameters"
   ]
  },
  {
   "cell_type": "code",
   "execution_count": 0,
   "metadata": {
    "colab": {},
    "colab_type": "code",
    "id": "zYUPvrFuPJ1u"
   },
   "outputs": [],
   "source": [
    "def build_model_1():\n",
    "  model = Sequential()\n",
    "  model.add(Dense(5, input_dim=5, kernel_initializer='normal', activation='relu'))\n",
    "  model.add(Dense(3, kernel_initializer='normal'))\n",
    "  model.add(Dense(3, kernel_initializer='normal'))\n",
    "  model.add(Dense(1, kernel_initializer='normal'))\n",
    "  model.compile(loss='mean_squared_error', optimizer='adam')\n",
    "  return model"
   ]
  },
  {
   "cell_type": "code",
   "execution_count": 0,
   "metadata": {
    "colab": {},
    "colab_type": "code",
    "id": "UtDihLfvbnhC"
   },
   "outputs": [],
   "source": [
    "model = build_model_1()"
   ]
  },
  {
   "cell_type": "code",
   "execution_count": 0,
   "metadata": {
    "colab": {},
    "colab_type": "code",
    "id": "ceKf1TVLhn8E"
   },
   "outputs": [],
   "source": [
    "model.fit(X_train, y_train, epochs = 100, batch_size = 25000)"
   ]
  },
  {
   "cell_type": "code",
   "execution_count": 0,
   "metadata": {
    "colab": {},
    "colab_type": "code",
    "id": "LLecKYfozzNr"
   },
   "outputs": [],
   "source": [
    "y_pred = model.predict(X_test)"
   ]
  },
  {
   "cell_type": "code",
   "execution_count": 0,
   "metadata": {
    "colab": {},
    "colab_type": "code",
    "id": "bf7ng1QhzzVv"
   },
   "outputs": [],
   "source": [
    "y_pred = sc.inverse_transform(y_pred)"
   ]
  },
  {
   "cell_type": "code",
   "execution_count": 175,
   "metadata": {
    "colab": {
     "base_uri": "https://localhost:8080/",
     "height": 34
    },
    "colab_type": "code",
    "id": "M-dW0ptF0Aw7",
    "outputId": "3951ac3c-3264-402c-af60-53306e17a837"
   },
   "outputs": [
    {
     "data": {
      "text/plain": [
       "1513.7465158283935"
      ]
     },
     "execution_count": 175,
     "metadata": {
      "tags": []
     },
     "output_type": "execute_result"
    }
   ],
   "source": [
    "rmse = sqrt(mean_squared_error(y_pred,y_test))\n",
    "rmse"
   ]
  },
  {
   "cell_type": "code",
   "execution_count": 0,
   "metadata": {
    "colab": {},
    "colab_type": "code",
    "id": "0SF84gyUke6U"
   },
   "outputs": [],
   "source": [
    "def build_model_2():\n",
    "  model = Sequential()\n",
    "  model.add(Dense(5, input_dim=5, kernel_initializer='normal', activation='relu'))\n",
    "  model.add(Dense(3, kernel_initializer='normal'))\n",
    "  model.add(Dense(3, kernel_initializer='normal'))\n",
    "  model.add(Dense(1, kernel_initializer='normal'))\n",
    "  model.compile(loss='mean_squared_error', optimizer='adagrad')\n",
    "  return model"
   ]
  },
  {
   "cell_type": "code",
   "execution_count": 0,
   "metadata": {
    "colab": {},
    "colab_type": "code",
    "id": "K_ZJRXwcuPkG"
   },
   "outputs": [],
   "source": [
    "model = build_model_2()"
   ]
  },
  {
   "cell_type": "code",
   "execution_count": 0,
   "metadata": {
    "colab": {},
    "colab_type": "code",
    "id": "u0UrL0DIuWKX"
   },
   "outputs": [],
   "source": [
    "model.fit(X_train, y_train, epochs = 100, batch_size = 2500)"
   ]
  },
  {
   "cell_type": "code",
   "execution_count": 0,
   "metadata": {
    "colab": {},
    "colab_type": "code",
    "id": "GH3kEYR-uWQX"
   },
   "outputs": [],
   "source": [
    "y_pred = model.predict(X_test)"
   ]
  },
  {
   "cell_type": "code",
   "execution_count": 0,
   "metadata": {
    "colab": {},
    "colab_type": "code",
    "id": "KVcFrYUix68M"
   },
   "outputs": [],
   "source": [
    "y_pred = sc.inverse_transform(y_pred)"
   ]
  },
  {
   "cell_type": "code",
   "execution_count": 221,
   "metadata": {
    "colab": {
     "base_uri": "https://localhost:8080/",
     "height": 34
    },
    "colab_type": "code",
    "id": "Pdg0Zwyvur3w",
    "outputId": "9ffde915-53ee-451d-b3a2-2642aa6a7dbd"
   },
   "outputs": [
    {
     "data": {
      "text/plain": [
       "1517.4411870630245"
      ]
     },
     "execution_count": 221,
     "metadata": {
      "tags": []
     },
     "output_type": "execute_result"
    }
   ],
   "source": [
    "rmse = sqrt(mean_squared_error(y_pred,y_test))\n",
    "rmse"
   ]
  },
  {
   "cell_type": "code",
   "execution_count": 0,
   "metadata": {
    "colab": {},
    "colab_type": "code",
    "id": "pTtnYZGBxe88"
   },
   "outputs": [],
   "source": [
    "def build_model_3():\n",
    "  model = Sequential()\n",
    "  model.add(Dense(5, input_dim=5, kernel_initializer='random_normal', activation='relu'))\n",
    "  model.add(Dense(3, kernel_initializer='random_normal'))\n",
    "  model.add(Dense(1, kernel_initializer='random_normal'))\n",
    "  model.compile(loss='mean_squared_error', optimizer='sgd')\n",
    "  return model"
   ]
  },
  {
   "cell_type": "code",
   "execution_count": 0,
   "metadata": {
    "colab": {},
    "colab_type": "code",
    "id": "W7UANkATxjzZ"
   },
   "outputs": [],
   "source": [
    "model = build_model_3()"
   ]
  },
  {
   "cell_type": "code",
   "execution_count": 0,
   "metadata": {
    "colab": {},
    "colab_type": "code",
    "id": "AXC2DzZWA6p-"
   },
   "outputs": [],
   "source": [
    "model.fit(X_train, y_train, epochs = 150, batch_size = 2500)"
   ]
  },
  {
   "cell_type": "code",
   "execution_count": 0,
   "metadata": {
    "colab": {},
    "colab_type": "code",
    "id": "L-iqN5ILA6yp"
   },
   "outputs": [],
   "source": [
    "y_pred = model.predict(X_test)"
   ]
  },
  {
   "cell_type": "code",
   "execution_count": 0,
   "metadata": {
    "colab": {},
    "colab_type": "code",
    "id": "Rn4pGCTKCcBT"
   },
   "outputs": [],
   "source": [
    "y_pred = sc.inverse_transform(y_pred)"
   ]
  },
  {
   "cell_type": "code",
   "execution_count": 74,
   "metadata": {
    "colab": {
     "base_uri": "https://localhost:8080/",
     "height": 34
    },
    "colab_type": "code",
    "id": "FHczU1oyBP_a",
    "outputId": "e476c277-c91d-497d-c239-f7ddcb78feaa"
   },
   "outputs": [
    {
     "data": {
      "text/plain": [
       "1525.6699726566487"
      ]
     },
     "execution_count": 74,
     "metadata": {
      "tags": []
     },
     "output_type": "execute_result"
    }
   ],
   "source": [
    "rmse = sqrt(mean_squared_error(y_pred,y_test))\n",
    "rmse"
   ]
  },
  {
   "cell_type": "code",
   "execution_count": 0,
   "metadata": {
    "colab": {},
    "colab_type": "code",
    "id": "fM4ybywMBSXT"
   },
   "outputs": [],
   "source": [
    "def build_model_4():\n",
    "  model = Sequential()\n",
    "  model.add(Dense(5, input_dim=5, kernel_initializer='random_uniform', activation='relu'))\n",
    "  model.add(Dense(3, kernel_initializer='random_uniform'))\n",
    "  model.add(Dense(1, kernel_initializer='random_uniform'))\n",
    "  model.compile(loss='mean_squared_error', optimizer='rmsprop')\n",
    "  return model"
   ]
  },
  {
   "cell_type": "code",
   "execution_count": 76,
   "metadata": {
    "colab": {
     "base_uri": "https://localhost:8080/",
     "height": 71
    },
    "colab_type": "code",
    "id": "tSI0N_mvG0tO",
    "outputId": "caf030f1-4621-434e-ae72-e17a30ddc242"
   },
   "outputs": [
    {
     "name": "stdout",
     "output_type": "stream",
     "text": [
      "WARNING:tensorflow:From /usr/local/lib/python3.6/dist-packages/keras/backend/tensorflow_backend.py:4432: The name tf.random_uniform is deprecated. Please use tf.random.uniform instead.\n",
      "\n"
     ]
    }
   ],
   "source": [
    "model = build_model_4()"
   ]
  },
  {
   "cell_type": "code",
   "execution_count": 0,
   "metadata": {
    "colab": {},
    "colab_type": "code",
    "id": "3RbksETIG42K"
   },
   "outputs": [],
   "source": [
    "model.fit(X_train, y_train, epochs = 200, batch_size = 5000)"
   ]
  },
  {
   "cell_type": "code",
   "execution_count": 0,
   "metadata": {
    "colab": {},
    "colab_type": "code",
    "id": "y6MWJnloG464"
   },
   "outputs": [],
   "source": [
    "y_pred = model.predict(X_test)"
   ]
  },
  {
   "cell_type": "code",
   "execution_count": 0,
   "metadata": {
    "colab": {},
    "colab_type": "code",
    "id": "e2k4QC9oHMlD"
   },
   "outputs": [],
   "source": [
    "y_pred = sc.inverse_transform(y_pred)"
   ]
  },
  {
   "cell_type": "code",
   "execution_count": 80,
   "metadata": {
    "colab": {
     "base_uri": "https://localhost:8080/",
     "height": 34
    },
    "colab_type": "code",
    "id": "S_VFp6-GHOr9",
    "outputId": "557f9646-74d8-4083-9d2b-ade23a88619f"
   },
   "outputs": [
    {
     "data": {
      "text/plain": [
       "1532.4700943526816"
      ]
     },
     "execution_count": 80,
     "metadata": {
      "tags": []
     },
     "output_type": "execute_result"
    }
   ],
   "source": [
    "rmse = sqrt(mean_squared_error(y_pred,y_test))\n",
    "rmse"
   ]
  },
  {
   "cell_type": "code",
   "execution_count": 0,
   "metadata": {
    "colab": {},
    "colab_type": "code",
    "id": "DjLSMgZIHrW8"
   },
   "outputs": [],
   "source": [
    "def build_model_5():\n",
    "  model = Sequential()\n",
    "  model.add(Dense(5, input_dim=5, kernel_initializer='random_uniform', activation='relu'))\n",
    "  model.add(Dense(4, kernel_initializer='random_uniform'))\n",
    "  model.add(Dense(1, kernel_initializer='random_uniform'))\n",
    "  model.compile(loss='mean_squared_error', optimizer='adadelta')\n",
    "  return model"
   ]
  },
  {
   "cell_type": "code",
   "execution_count": 0,
   "metadata": {
    "colab": {},
    "colab_type": "code",
    "id": "_j65B5UzIV2I"
   },
   "outputs": [],
   "source": [
    "model = build_model_5()"
   ]
  },
  {
   "cell_type": "code",
   "execution_count": 0,
   "metadata": {
    "colab": {},
    "colab_type": "code",
    "id": "rRu4q8-zHwec"
   },
   "outputs": [],
   "source": [
    "model.fit(X_train, y_train, epochs = 100, batch_size = 10000)"
   ]
  },
  {
   "cell_type": "code",
   "execution_count": 0,
   "metadata": {
    "colab": {},
    "colab_type": "code",
    "id": "WTXLxI08I_OU"
   },
   "outputs": [],
   "source": [
    "y_pred = model.predict(X_test)"
   ]
  },
  {
   "cell_type": "code",
   "execution_count": 0,
   "metadata": {
    "colab": {},
    "colab_type": "code",
    "id": "97v-rKreI_Lf"
   },
   "outputs": [],
   "source": [
    "y_pred = sc.inverse_transform(y_pred)"
   ]
  },
  {
   "cell_type": "code",
   "execution_count": 250,
   "metadata": {
    "colab": {
     "base_uri": "https://localhost:8080/",
     "height": 34
    },
    "colab_type": "code",
    "id": "M-Cq1No6I_I1",
    "outputId": "d87f371e-ba77-4298-a1ec-6b593fef027e"
   },
   "outputs": [
    {
     "data": {
      "text/plain": [
       "1514.9820586407577"
      ]
     },
     "execution_count": 250,
     "metadata": {
      "tags": []
     },
     "output_type": "execute_result"
    }
   ],
   "source": [
    "rmse = sqrt(mean_squared_error(y_pred,y_test))\n",
    "rmse"
   ]
  },
  {
   "cell_type": "markdown",
   "metadata": {
    "colab_type": "text",
    "id": "gt3OkeAcCxiq"
   },
   "source": [
    "### **Lets Draw A Comparision**\n",
    "\n",
    "### **Neural Networks**:\n",
    "\n",
    "|Model No.| Learning Variant | Activation Function | Batch Size | Epoch | Layers | RMSE\n",
    "| --- | --- | --- | --- | --- | --- | --- |\n",
    "| Model 1| Adam | Relu | 25000 | 100 | 4 | 1513.74\n",
    "| Model 2 | Adagrad | Relu | 2500 | 100| 4 | 1517.44\n",
    "| Model 3 | SGD | Relu | 2500 | 150| 3 | 1525.66\n",
    "| Model 4 | RMSProp | Relu | 5000 | 200| 4 | 1532.47\n",
    "| Model 4 | Adadelta | Relu | 10000 | 100| 4 | 1514.98\n",
    "\n",
    "### **Model 1 has the lowest RMSE Score**\n",
    "### ***Best Activation Function***\n",
    "### The best activation function for this usecase is Relu. You can also use linear activation function for a regression problem but it is not appropriate for this usecase as you dont want to handle negative customer visits. Sigmoid is not appropriate for this usecase as it is converting the values to a probability value, same goes for softmax activation(only difference is sigmoid is suited for binary classification & softmax is used for multiclass classification). \n",
    "\n",
    "### ***Batch Size*** \n",
    "### It depends, it should not be too high and not too low. If neural network is not too complex a lesser batch size can (and is recommended) be used, otherwise stick to larger batch sizes. Also SGD does not learn at all or learns very slowly at high batch sizes : in this usecase when SGD was used with 100,000  Batch size at about 20 epochs it stopped learning and the loss was constant. Seemed like a bad activation, but it is not , actually it works good at low batch sizes.\n",
    "\n",
    "### ***No. of Layers & No. of neuron in each layer***\n",
    "### For structured data neural networks do not need to be very complex and hidden layers can be of 1 or 2 layers(total 3 or 4 including input & output layers). No. of hidden neurons can be the mean of neurons in input and output layer.\n",
    "\n",
    "### ***Epochs***\n",
    "### The number of epochs should not be too high nor too low. In this usecase 100 epochs are sufficient. As it can be seen when 150, or 200 epochs were used it started to overfit. However for SGD epochs needed were slightly high as it was learning slowly as compared to adam or adagrad.\n",
    "\n"
   ]
  },
  {
   "cell_type": "code",
   "execution_count": 0,
   "metadata": {
    "colab": {},
    "colab_type": "code",
    "id": "_zTSMceIK9rt"
   },
   "outputs": [],
   "source": [
    "# use sales and customer visits & include dropout neurons"
   ]
  },
  {
   "cell_type": "code",
   "execution_count": 154,
   "metadata": {
    "colab": {
     "base_uri": "https://localhost:8080/",
     "height": 71
    },
    "colab_type": "code",
    "id": "yVndvzVEHNMs",
    "outputId": "2f7cb52b-5992-40c1-bd50-5430be2958ed"
   },
   "outputs": [
    {
     "name": "stderr",
     "output_type": "stream",
     "text": [
      "/usr/local/lib/python3.6/dist-packages/IPython/core/interactiveshell.py:2718: DtypeWarning: Columns (7) have mixed types. Specify dtype option on import or set low_memory=False.\n",
      "  interactivity=interactivity, compiler=compiler, result=result)\n"
     ]
    }
   ],
   "source": [
    "train = pd.read_csv('train_data.csv')\n",
    "test = pd.read_csv('test_data_hidden.csv')\n",
    "train = train[train.Open == 1]\n",
    "test = test[test.Open == 1]\n",
    "train = train[['Sales','Customers']]\n",
    "test = test[['Sales','Customers']]"
   ]
  },
  {
   "cell_type": "code",
   "execution_count": 0,
   "metadata": {
    "colab": {},
    "colab_type": "code",
    "id": "b5We7BdlLGK6"
   },
   "outputs": [],
   "source": [
    "import matplotlib.pyplot as plt\n",
    "%matplotlib inline"
   ]
  },
  {
   "cell_type": "code",
   "execution_count": 0,
   "metadata": {
    "colab": {},
    "colab_type": "code",
    "id": "eZ72vh6fXtBQ"
   },
   "outputs": [],
   "source": [
    "X_train = np.asarray(train.Customers)\n",
    "X_test = np.asarray(test.Customers)\n",
    "y_train = np.asarray(train.Sales)\n",
    "y_test = np.asarray(test.Sales)"
   ]
  },
  {
   "cell_type": "code",
   "execution_count": 0,
   "metadata": {
    "colab": {},
    "colab_type": "code",
    "id": "0jqsnQEGYI2T"
   },
   "outputs": [],
   "source": [
    "X_train = X_train.reshape(-1,1)\n",
    "X_test = X_test.reshape(-1,1)\n",
    "y_train = y_train.reshape(-1,1)\n",
    "y_test = y_test.reshape(-1,1)"
   ]
  },
  {
   "cell_type": "code",
   "execution_count": 0,
   "metadata": {
    "colab": {},
    "colab_type": "code",
    "id": "TAHI3Oc1LOW2"
   },
   "outputs": [],
   "source": [
    "X_train = sc.fit_transform(X_train)\n",
    "X_test = sc.fit_transform(X_test)\n",
    "y_train = sc.fit_transform(y_train)"
   ]
  },
  {
   "cell_type": "code",
   "execution_count": 0,
   "metadata": {
    "colab": {},
    "colab_type": "code",
    "id": "0oXTj9w0LT3y"
   },
   "outputs": [],
   "source": [
    "from keras.layers import Dropout"
   ]
  },
  {
   "cell_type": "code",
   "execution_count": 0,
   "metadata": {
    "colab": {},
    "colab_type": "code",
    "id": "L5zDAtmrSooN"
   },
   "outputs": [],
   "source": [
    "def build_model():\n",
    "  model = Sequential()\n",
    "  model.add(Dense(1, input_dim=1, kernel_initializer='normal', activation='relu'))\n",
    "  model.add(Dense(4, kernel_initializer='normal'))\n",
    "  model.add(Dropout(0.25))\n",
    "  model.add(Dense(4, kernel_initializer='normal'))\n",
    "  model.add(Dropout(0.25))\n",
    "  model.add(Dense(1, kernel_initializer='normal'))\n",
    "  model.compile(loss='mean_squared_error', optimizer='adam')\n",
    "  return model"
   ]
  },
  {
   "cell_type": "code",
   "execution_count": 0,
   "metadata": {
    "colab": {},
    "colab_type": "code",
    "id": "_3jkPISIWtJH"
   },
   "outputs": [],
   "source": [
    "model = build_model()"
   ]
  },
  {
   "cell_type": "code",
   "execution_count": 182,
   "metadata": {
    "colab": {
     "base_uri": "https://localhost:8080/",
     "height": 1000
    },
    "colab_type": "code",
    "id": "vjGpkKxqWtpl",
    "outputId": "fc2e1e78-9d9a-448a-fa47-31a89abe51cb"
   },
   "outputs": [
    {
     "name": "stdout",
     "output_type": "stream",
     "text": [
      "Epoch 1/150\n",
      "814204/814204 [==============================] - 1s 2us/step - loss: 1.0000\n",
      "Epoch 2/150\n",
      "814204/814204 [==============================] - 0s 0us/step - loss: 1.0000\n",
      "Epoch 3/150\n",
      "814204/814204 [==============================] - 0s 0us/step - loss: 1.0000\n",
      "Epoch 4/150\n",
      "814204/814204 [==============================] - 0s 0us/step - loss: 1.0000\n",
      "Epoch 5/150\n",
      "814204/814204 [==============================] - 0s 0us/step - loss: 0.9999\n",
      "Epoch 6/150\n",
      "814204/814204 [==============================] - 0s 0us/step - loss: 0.9997\n",
      "Epoch 7/150\n",
      "814204/814204 [==============================] - 0s 0us/step - loss: 0.9994\n",
      "Epoch 8/150\n",
      "814204/814204 [==============================] - 0s 0us/step - loss: 0.9988\n",
      "Epoch 9/150\n",
      "814204/814204 [==============================] - 0s 0us/step - loss: 0.9977\n",
      "Epoch 10/150\n",
      "814204/814204 [==============================] - 0s 0us/step - loss: 0.9959\n",
      "Epoch 11/150\n",
      "814204/814204 [==============================] - 0s 0us/step - loss: 0.9931\n",
      "Epoch 12/150\n",
      "814204/814204 [==============================] - 0s 0us/step - loss: 0.9888\n",
      "Epoch 13/150\n",
      "814204/814204 [==============================] - 0s 0us/step - loss: 0.9826\n",
      "Epoch 14/150\n",
      "814204/814204 [==============================] - 0s 0us/step - loss: 0.9740\n",
      "Epoch 15/150\n",
      "814204/814204 [==============================] - 0s 0us/step - loss: 0.9624\n",
      "Epoch 16/150\n",
      "814204/814204 [==============================] - 0s 0us/step - loss: 0.9473\n",
      "Epoch 17/150\n",
      "814204/814204 [==============================] - 0s 0us/step - loss: 0.9280\n",
      "Epoch 18/150\n",
      "814204/814204 [==============================] - 0s 0us/step - loss: 0.9044\n",
      "Epoch 19/150\n",
      "814204/814204 [==============================] - 0s 0us/step - loss: 0.8756\n",
      "Epoch 20/150\n",
      "814204/814204 [==============================] - 0s 0us/step - loss: 0.8424\n",
      "Epoch 21/150\n",
      "814204/814204 [==============================] - 0s 0us/step - loss: 0.8040\n",
      "Epoch 22/150\n",
      "814204/814204 [==============================] - 0s 0us/step - loss: 0.7621\n",
      "Epoch 23/150\n",
      "814204/814204 [==============================] - 0s 0us/step - loss: 0.7170\n",
      "Epoch 24/150\n",
      "814204/814204 [==============================] - 0s 0us/step - loss: 0.6724\n",
      "Epoch 25/150\n",
      "814204/814204 [==============================] - 0s 0us/step - loss: 0.6275\n",
      "Epoch 26/150\n",
      "814204/814204 [==============================] - 0s 0us/step - loss: 0.5869\n",
      "Epoch 27/150\n",
      "814204/814204 [==============================] - 0s 0us/step - loss: 0.5521\n",
      "Epoch 28/150\n",
      "814204/814204 [==============================] - 0s 0us/step - loss: 0.5251\n",
      "Epoch 29/150\n",
      "814204/814204 [==============================] - 0s 0us/step - loss: 0.5053\n",
      "Epoch 30/150\n",
      "814204/814204 [==============================] - 0s 0us/step - loss: 0.4934\n",
      "Epoch 31/150\n",
      "814204/814204 [==============================] - 0s 0us/step - loss: 0.4865\n",
      "Epoch 32/150\n",
      "814204/814204 [==============================] - 0s 0us/step - loss: 0.4812\n",
      "Epoch 33/150\n",
      "814204/814204 [==============================] - 0s 0us/step - loss: 0.4789\n",
      "Epoch 34/150\n",
      "814204/814204 [==============================] - 0s 0us/step - loss: 0.4762\n",
      "Epoch 35/150\n",
      "814204/814204 [==============================] - 0s 0us/step - loss: 0.4742\n",
      "Epoch 36/150\n",
      "814204/814204 [==============================] - 0s 0us/step - loss: 0.4712\n",
      "Epoch 37/150\n",
      "814204/814204 [==============================] - 0s 0us/step - loss: 0.4676\n",
      "Epoch 38/150\n",
      "814204/814204 [==============================] - 0s 0us/step - loss: 0.4645\n",
      "Epoch 39/150\n",
      "814204/814204 [==============================] - 0s 0us/step - loss: 0.4618\n",
      "Epoch 40/150\n",
      "814204/814204 [==============================] - 0s 0us/step - loss: 0.4601\n",
      "Epoch 41/150\n",
      "814204/814204 [==============================] - 0s 0us/step - loss: 0.4575\n",
      "Epoch 42/150\n",
      "814204/814204 [==============================] - 0s 0us/step - loss: 0.4537\n",
      "Epoch 43/150\n",
      "814204/814204 [==============================] - 0s 0us/step - loss: 0.4520\n",
      "Epoch 44/150\n",
      "814204/814204 [==============================] - 0s 0us/step - loss: 0.4495\n",
      "Epoch 45/150\n",
      "814204/814204 [==============================] - 0s 0us/step - loss: 0.4478\n",
      "Epoch 46/150\n",
      "814204/814204 [==============================] - 0s 0us/step - loss: 0.4450\n",
      "Epoch 47/150\n",
      "814204/814204 [==============================] - 0s 0us/step - loss: 0.4436\n",
      "Epoch 48/150\n",
      "814204/814204 [==============================] - 0s 0us/step - loss: 0.4411\n",
      "Epoch 49/150\n",
      "814204/814204 [==============================] - 0s 0us/step - loss: 0.4384\n",
      "Epoch 50/150\n",
      "814204/814204 [==============================] - 0s 0us/step - loss: 0.4357\n",
      "Epoch 51/150\n",
      "814204/814204 [==============================] - 0s 0us/step - loss: 0.4362\n",
      "Epoch 52/150\n",
      "814204/814204 [==============================] - 0s 0us/step - loss: 0.4324\n",
      "Epoch 53/150\n",
      "814204/814204 [==============================] - 0s 0us/step - loss: 0.4314\n",
      "Epoch 54/150\n",
      "814204/814204 [==============================] - 0s 0us/step - loss: 0.4309\n",
      "Epoch 55/150\n",
      "814204/814204 [==============================] - 0s 0us/step - loss: 0.4283\n",
      "Epoch 56/150\n",
      "814204/814204 [==============================] - 0s 0us/step - loss: 0.4267\n",
      "Epoch 57/150\n",
      "814204/814204 [==============================] - 0s 0us/step - loss: 0.4250\n",
      "Epoch 58/150\n",
      "814204/814204 [==============================] - 0s 0us/step - loss: 0.4236\n",
      "Epoch 59/150\n",
      "814204/814204 [==============================] - 0s 0us/step - loss: 0.4211\n",
      "Epoch 60/150\n",
      "814204/814204 [==============================] - 0s 0us/step - loss: 0.4202\n",
      "Epoch 61/150\n",
      "814204/814204 [==============================] - 0s 0us/step - loss: 0.4195\n",
      "Epoch 62/150\n",
      "814204/814204 [==============================] - 0s 0us/step - loss: 0.4174\n",
      "Epoch 63/150\n",
      "814204/814204 [==============================] - 0s 0us/step - loss: 0.4175\n",
      "Epoch 64/150\n",
      "814204/814204 [==============================] - 0s 0us/step - loss: 0.4147\n",
      "Epoch 65/150\n",
      "814204/814204 [==============================] - 0s 0us/step - loss: 0.4148\n",
      "Epoch 66/150\n",
      "814204/814204 [==============================] - 0s 0us/step - loss: 0.4133\n",
      "Epoch 67/150\n",
      "814204/814204 [==============================] - 0s 0us/step - loss: 0.4120\n",
      "Epoch 68/150\n",
      "814204/814204 [==============================] - 0s 0us/step - loss: 0.4118\n",
      "Epoch 69/150\n",
      "814204/814204 [==============================] - 0s 0us/step - loss: 0.4108\n",
      "Epoch 70/150\n",
      "814204/814204 [==============================] - 0s 0us/step - loss: 0.4103\n",
      "Epoch 71/150\n",
      "814204/814204 [==============================] - 0s 0us/step - loss: 0.4090\n",
      "Epoch 72/150\n",
      "814204/814204 [==============================] - 0s 0us/step - loss: 0.4088\n",
      "Epoch 73/150\n",
      "814204/814204 [==============================] - 0s 0us/step - loss: 0.4079\n",
      "Epoch 74/150\n",
      "814204/814204 [==============================] - 0s 0us/step - loss: 0.4079\n",
      "Epoch 75/150\n",
      "814204/814204 [==============================] - 0s 0us/step - loss: 0.4065\n",
      "Epoch 76/150\n",
      "814204/814204 [==============================] - 0s 0us/step - loss: 0.4077\n",
      "Epoch 77/150\n",
      "814204/814204 [==============================] - 0s 0us/step - loss: 0.4071\n",
      "Epoch 78/150\n",
      "814204/814204 [==============================] - 0s 0us/step - loss: 0.4071\n",
      "Epoch 79/150\n",
      "814204/814204 [==============================] - 0s 0us/step - loss: 0.4061\n",
      "Epoch 80/150\n",
      "814204/814204 [==============================] - 0s 0us/step - loss: 0.4053\n",
      "Epoch 81/150\n",
      "814204/814204 [==============================] - 0s 0us/step - loss: 0.4045\n",
      "Epoch 82/150\n",
      "814204/814204 [==============================] - 0s 0us/step - loss: 0.4043\n",
      "Epoch 83/150\n",
      "814204/814204 [==============================] - 0s 0us/step - loss: 0.4055\n",
      "Epoch 84/150\n",
      "814204/814204 [==============================] - 0s 0us/step - loss: 0.4030\n",
      "Epoch 85/150\n",
      "814204/814204 [==============================] - 0s 0us/step - loss: 0.4039\n",
      "Epoch 86/150\n",
      "814204/814204 [==============================] - 0s 0us/step - loss: 0.4043\n",
      "Epoch 87/150\n",
      "814204/814204 [==============================] - 0s 0us/step - loss: 0.4035\n",
      "Epoch 88/150\n",
      "814204/814204 [==============================] - 0s 0us/step - loss: 0.4032\n",
      "Epoch 89/150\n",
      "814204/814204 [==============================] - 0s 0us/step - loss: 0.4044\n",
      "Epoch 90/150\n",
      "814204/814204 [==============================] - 0s 0us/step - loss: 0.4041\n",
      "Epoch 91/150\n",
      "814204/814204 [==============================] - 0s 0us/step - loss: 0.4036\n",
      "Epoch 92/150\n",
      "814204/814204 [==============================] - 0s 0us/step - loss: 0.4056\n",
      "Epoch 93/150\n",
      "814204/814204 [==============================] - 0s 0us/step - loss: 0.4030\n",
      "Epoch 94/150\n",
      "814204/814204 [==============================] - 0s 0us/step - loss: 0.4044\n",
      "Epoch 95/150\n",
      "814204/814204 [==============================] - 0s 0us/step - loss: 0.4022\n",
      "Epoch 96/150\n",
      "814204/814204 [==============================] - 0s 0us/step - loss: 0.4035\n",
      "Epoch 97/150\n",
      "814204/814204 [==============================] - 0s 0us/step - loss: 0.4031\n",
      "Epoch 98/150\n",
      "814204/814204 [==============================] - 0s 0us/step - loss: 0.4036\n",
      "Epoch 99/150\n",
      "814204/814204 [==============================] - 0s 0us/step - loss: 0.4044\n",
      "Epoch 100/150\n",
      "814204/814204 [==============================] - 0s 0us/step - loss: 0.4017\n",
      "Epoch 101/150\n",
      "814204/814204 [==============================] - 0s 0us/step - loss: 0.4036\n",
      "Epoch 102/150\n",
      "814204/814204 [==============================] - 0s 0us/step - loss: 0.4020\n",
      "Epoch 103/150\n",
      "814204/814204 [==============================] - 0s 0us/step - loss: 0.4041\n",
      "Epoch 104/150\n",
      "814204/814204 [==============================] - 0s 0us/step - loss: 0.4029\n",
      "Epoch 105/150\n",
      "814204/814204 [==============================] - 0s 0us/step - loss: 0.4033\n",
      "Epoch 106/150\n",
      "814204/814204 [==============================] - 0s 0us/step - loss: 0.4035\n",
      "Epoch 107/150\n",
      "814204/814204 [==============================] - 0s 0us/step - loss: 0.4026\n",
      "Epoch 108/150\n",
      "814204/814204 [==============================] - 0s 0us/step - loss: 0.4037\n",
      "Epoch 109/150\n",
      "814204/814204 [==============================] - 0s 0us/step - loss: 0.4028\n",
      "Epoch 110/150\n",
      "814204/814204 [==============================] - 0s 0us/step - loss: 0.4041\n",
      "Epoch 111/150\n",
      "814204/814204 [==============================] - 0s 0us/step - loss: 0.4033\n",
      "Epoch 112/150\n",
      "814204/814204 [==============================] - 0s 0us/step - loss: 0.4029\n",
      "Epoch 113/150\n",
      "814204/814204 [==============================] - 0s 0us/step - loss: 0.4034\n",
      "Epoch 114/150\n",
      "814204/814204 [==============================] - 0s 0us/step - loss: 0.4029\n",
      "Epoch 115/150\n",
      "814204/814204 [==============================] - 0s 0us/step - loss: 0.4045\n",
      "Epoch 116/150\n",
      "814204/814204 [==============================] - 0s 0us/step - loss: 0.4032\n",
      "Epoch 117/150\n",
      "814204/814204 [==============================] - 0s 0us/step - loss: 0.4027\n",
      "Epoch 118/150\n",
      "814204/814204 [==============================] - 0s 0us/step - loss: 0.4032\n",
      "Epoch 119/150\n",
      "814204/814204 [==============================] - 0s 0us/step - loss: 0.4034\n",
      "Epoch 120/150\n",
      "814204/814204 [==============================] - 0s 0us/step - loss: 0.4020\n",
      "Epoch 121/150\n",
      "814204/814204 [==============================] - 0s 0us/step - loss: 0.4028\n",
      "Epoch 122/150\n",
      "814204/814204 [==============================] - 0s 0us/step - loss: 0.4029\n",
      "Epoch 123/150\n",
      "814204/814204 [==============================] - 0s 0us/step - loss: 0.4042\n",
      "Epoch 124/150\n",
      "814204/814204 [==============================] - 0s 0us/step - loss: 0.4018\n",
      "Epoch 125/150\n",
      "814204/814204 [==============================] - 0s 0us/step - loss: 0.4037\n",
      "Epoch 126/150\n",
      "814204/814204 [==============================] - 0s 0us/step - loss: 0.4029\n",
      "Epoch 127/150\n",
      "814204/814204 [==============================] - 0s 0us/step - loss: 0.4038\n",
      "Epoch 128/150\n",
      "814204/814204 [==============================] - 0s 0us/step - loss: 0.4041\n",
      "Epoch 129/150\n",
      "814204/814204 [==============================] - 0s 0us/step - loss: 0.4037\n",
      "Epoch 130/150\n",
      "814204/814204 [==============================] - 0s 0us/step - loss: 0.4031\n",
      "Epoch 131/150\n",
      "814204/814204 [==============================] - 0s 0us/step - loss: 0.4031\n",
      "Epoch 132/150\n",
      "814204/814204 [==============================] - 0s 0us/step - loss: 0.4036\n",
      "Epoch 133/150\n",
      "814204/814204 [==============================] - 0s 0us/step - loss: 0.4015\n",
      "Epoch 134/150\n",
      "814204/814204 [==============================] - 0s 0us/step - loss: 0.4033\n",
      "Epoch 135/150\n",
      "814204/814204 [==============================] - 0s 0us/step - loss: 0.4027\n",
      "Epoch 136/150\n",
      "814204/814204 [==============================] - 0s 0us/step - loss: 0.4014\n",
      "Epoch 137/150\n",
      "814204/814204 [==============================] - 0s 0us/step - loss: 0.4029\n",
      "Epoch 138/150\n",
      "814204/814204 [==============================] - 0s 0us/step - loss: 0.4034\n",
      "Epoch 139/150\n",
      "814204/814204 [==============================] - 0s 0us/step - loss: 0.4042\n",
      "Epoch 140/150\n",
      "814204/814204 [==============================] - 0s 0us/step - loss: 0.4031\n",
      "Epoch 141/150\n",
      "814204/814204 [==============================] - 0s 0us/step - loss: 0.4032\n",
      "Epoch 142/150\n",
      "814204/814204 [==============================] - 0s 0us/step - loss: 0.4032\n",
      "Epoch 143/150\n",
      "814204/814204 [==============================] - 0s 0us/step - loss: 0.4032\n",
      "Epoch 144/150\n",
      "814204/814204 [==============================] - 0s 0us/step - loss: 0.4026\n",
      "Epoch 145/150\n",
      "814204/814204 [==============================] - 0s 0us/step - loss: 0.4032\n",
      "Epoch 146/150\n",
      "814204/814204 [==============================] - 0s 0us/step - loss: 0.4020\n",
      "Epoch 147/150\n",
      "814204/814204 [==============================] - 0s 0us/step - loss: 0.4025\n",
      "Epoch 148/150\n",
      "814204/814204 [==============================] - 0s 0us/step - loss: 0.4037\n",
      "Epoch 149/150\n",
      "814204/814204 [==============================] - 0s 0us/step - loss: 0.4037\n",
      "Epoch 150/150\n",
      "814204/814204 [==============================] - 0s 0us/step - loss: 0.4031\n"
     ]
    },
    {
     "data": {
      "text/plain": [
       "<keras.callbacks.History at 0x7fd13e0fd780>"
      ]
     },
     "execution_count": 182,
     "metadata": {
      "tags": []
     },
     "output_type": "execute_result"
    }
   ],
   "source": [
    "model.fit(X_train, y_train, epochs = 150, batch_size = 100000)"
   ]
  },
  {
   "cell_type": "code",
   "execution_count": 0,
   "metadata": {
    "colab": {},
    "colab_type": "code",
    "id": "-a5joA06Wtvk"
   },
   "outputs": [],
   "source": [
    "y_pred = model.predict(X_test)"
   ]
  },
  {
   "cell_type": "code",
   "execution_count": 0,
   "metadata": {
    "colab": {},
    "colab_type": "code",
    "id": "tV9rjGUfXY5u"
   },
   "outputs": [],
   "source": [
    "y_pred = sc.inverse_transform(y_pred)"
   ]
  },
  {
   "cell_type": "code",
   "execution_count": 189,
   "metadata": {
    "colab": {
     "base_uri": "https://localhost:8080/",
     "height": 34
    },
    "colab_type": "code",
    "id": "ttnH-0gTXg5c",
    "outputId": "85229978-a3ff-4012-9f37-40b93296e4bc"
   },
   "outputs": [
    {
     "data": {
      "text/plain": [
       "1722.1393804697086"
      ]
     },
     "execution_count": 189,
     "metadata": {
      "tags": []
     },
     "output_type": "execute_result"
    }
   ],
   "source": [
    "rmse = sqrt(mean_squared_error(y_pred,y_test))\n",
    "rmse"
   ]
  },
  {
   "cell_type": "code",
   "execution_count": 0,
   "metadata": {
    "colab": {},
    "colab_type": "code",
    "id": "FPv73f1UNdV6"
   },
   "outputs": [],
   "source": [
    "y_pred = pd.DataFrame(y_pred)\n",
    "X_test = pd.DataFrame(X_test)"
   ]
  },
  {
   "cell_type": "code",
   "execution_count": 0,
   "metadata": {
    "colab": {},
    "colab_type": "code",
    "id": "8nA_zTthNdfx"
   },
   "outputs": [],
   "source": [
    "from sklearn.cluster import KMeans"
   ]
  },
  {
   "cell_type": "code",
   "execution_count": 192,
   "metadata": {
    "colab": {
     "base_uri": "https://localhost:8080/",
     "height": 520
    },
    "colab_type": "code",
    "id": "jQx0urvSO4he",
    "outputId": "ae7503c4-d9ec-40e0-9920-0c9b9127ee0d"
   },
   "outputs": [
    {
     "name": "stdout",
     "output_type": "stream",
     "text": [
      "Epoch [1]\n",
      "Epoch [2]\n",
      "Epoch [3]\n",
      "Epoch [4]\n",
      "Epoch [5]\n",
      "Epoch [6]\n",
      "Epoch [7]\n",
      "Epoch [8]\n",
      "Epoch [9]\n",
      "Epoch [10]\n"
     ]
    },
    {
     "data": {
      "image/png": "[encoded data removed]",
      "text/plain": [
       "<Figure size 1080x360 with 1 Axes>"
      ]
     },
     "metadata": {
      "tags": []
     },
     "output_type": "display_data"
    }
   ],
   "source": [
    "wcss = []\n",
    "for i in range(1, 11):\n",
    "    kmeans = KMeans(n_clusters=i, init='k-means++', max_iter=300, n_init=10, random_state=0)\n",
    "    kmeans.fit(y_pred)\n",
    "    print('Epoch [{}]'.format(i))\n",
    "    wcss.append(kmeans.inertia_)\n",
    "plt.figure(figsize=(15,5))\n",
    "plt.plot(range(1, 11), wcss)\n",
    "plt.title('Elbow Method')\n",
    "plt.xlabel('Number of clusters')\n",
    "plt.ylabel('WCSS')\n",
    "plt.show()"
   ]
  },
  {
   "cell_type": "code",
   "execution_count": 175,
   "metadata": {
    "colab": {
     "base_uri": "https://localhost:8080/",
     "height": 520
    },
    "colab_type": "code",
    "id": "mG7kJzp3PA0x",
    "outputId": "0e3df6f2-75f0-4d40-c5bb-26ee22f266c2"
   },
   "outputs": [
    {
     "name": "stdout",
     "output_type": "stream",
     "text": [
      "Epoch [1]\n",
      "Epoch [2]\n",
      "Epoch [3]\n",
      "Epoch [4]\n",
      "Epoch [5]\n",
      "Epoch [6]\n",
      "Epoch [7]\n",
      "Epoch [8]\n",
      "Epoch [9]\n",
      "Epoch [10]\n"
     ]
    },
    {
     "data": {
      "image/png": "[encoded data removed]",
      "text/plain": [
       "<Figure size 1080x360 with 1 Axes>"
      ]
     },
     "metadata": {
      "tags": []
     },
     "output_type": "display_data"
    }
   ],
   "source": [
    "wcss = []\n",
    "for i in range(1, 11):\n",
    "    kmeans = KMeans(n_clusters=i, init='k-means++', max_iter=300, n_init=10, random_state=0)\n",
    "    kmeans.fit(y_train)\n",
    "    print('Epoch [{}]'.format(i))\n",
    "    wcss.append(kmeans.inertia_)\n",
    "plt.figure(figsize=(15,5))\n",
    "plt.plot(range(1, 11), wcss)\n",
    "plt.title('Elbow Method')\n",
    "plt.xlabel('Number of clusters')\n",
    "plt.ylabel('WCSS')\n",
    "plt.show()"
   ]
  },
  {
   "cell_type": "markdown",
   "metadata": {
    "colab_type": "text",
    "id": "I3yE2HTuQu7g"
   },
   "source": [
    "## Optimal number of clusters is 3"
   ]
  },
  {
   "cell_type": "code",
   "execution_count": 0,
   "metadata": {
    "colab": {},
    "colab_type": "code",
    "id": "qeWfsUYhQ04G"
   },
   "outputs": [],
   "source": [
    "from sklearn.linear_model import LinearRegression"
   ]
  },
  {
   "cell_type": "code",
   "execution_count": 0,
   "metadata": {
    "colab": {},
    "colab_type": "code",
    "id": "aUyggXIJRGOr"
   },
   "outputs": [],
   "source": [
    "linear = LinearRegression()"
   ]
  },
  {
   "cell_type": "code",
   "execution_count": 197,
   "metadata": {
    "colab": {
     "base_uri": "https://localhost:8080/",
     "height": 34
    },
    "colab_type": "code",
    "id": "hI9XEtCJRGdh",
    "outputId": "3b9cc16e-d76b-4d1a-c425-9f30291af5f1"
   },
   "outputs": [
    {
     "data": {
      "text/plain": [
       "LinearRegression(copy_X=True, fit_intercept=True, n_jobs=None, normalize=False)"
      ]
     },
     "execution_count": 197,
     "metadata": {
      "tags": []
     },
     "output_type": "execute_result"
    }
   ],
   "source": [
    "linear.fit(X_train,y_train)"
   ]
  },
  {
   "cell_type": "code",
   "execution_count": 0,
   "metadata": {
    "colab": {},
    "colab_type": "code",
    "id": "Qq_bw-QARGbE"
   },
   "outputs": [],
   "source": [
    "y_new_pred = linear.predict(X_test)\n",
    "y_new_pred1 = linear.predict(X_train)"
   ]
  },
  {
   "cell_type": "code",
   "execution_count": 202,
   "metadata": {
    "colab": {
     "base_uri": "https://localhost:8080/",
     "height": 34
    },
    "colab_type": "code",
    "id": "sJRa27ZzRqVM",
    "outputId": "e44a48e9-426a-4795-b6e4-fdc304176f0c"
   },
   "outputs": [
    {
     "data": {
      "text/plain": [
       "0.5655610752118618"
      ]
     },
     "execution_count": 202,
     "metadata": {
      "tags": []
     },
     "output_type": "execute_result"
    }
   ],
   "source": [
    "rmse = sqrt(mean_squared_error(y_new_pred1,y_train))\n",
    "rmse"
   ]
  },
  {
   "cell_type": "code",
   "execution_count": 199,
   "metadata": {
    "colab": {
     "base_uri": "https://localhost:8080/",
     "height": 34
    },
    "colab_type": "code",
    "id": "dSc0RKtFRGXu",
    "outputId": "899168c7-23e6-431b-ef49-137922bbfe9b"
   },
   "outputs": [
    {
     "data": {
      "text/plain": [
       "7621.747033216892"
      ]
     },
     "execution_count": 199,
     "metadata": {
      "tags": []
     },
     "output_type": "execute_result"
    }
   ],
   "source": [
    "rmse = sqrt(mean_squared_error(y_new_pred,y_test))\n",
    "rmse"
   ]
  },
  {
   "cell_type": "markdown",
   "metadata": {
    "colab_type": "text",
    "id": "UwkuO-kiRh3x"
   },
   "source": [
    "### As we can see the Linear Regression Model has highly overfitted [we can observe from the RMSE], hence neural network with dropout performs highly better than the linear regression model"
   ]
  },
  {
   "cell_type": "markdown",
   "metadata": {
    "colab": {},
    "colab_type": "code",
    "id": "pqC_YQ3DejVa"
   },
   "source": [
    "### Best setting of neural net - use Hyperparameter Tuning(GridsearchCV , Randomized Search)"
   ]
  },
  {
   "cell_type": "code",
   "execution_count": 0,
   "metadata": {
    "colab": {},
    "colab_type": "code",
    "id": "0iWBkhTxi3St"
   },
   "outputs": [],
   "source": [
    "def create_model(activation,optimizer,neurons):\n",
    "    # default values\n",
    "    activation='relu' \n",
    "    dropout_rate=0.4\n",
    "    init_mode='uniform' \n",
    "    optimizer='adam' \n",
    "    # create model\n",
    "    model = Sequential()\n",
    "    model.add(Dense(5, input_dim=5, kernel_initializer=init_mode, activation=activation))\n",
    "    model.add(Dropout(dropout_rate)) \n",
    "    model.add(Dense(neurons, kernel_initializer=init_mode, activation=activation))\n",
    "    model.add(Dropout(dropout_rate))\n",
    "    model.add(Dense(neurons, kernel_initializer=init_mode, activation=activation))\n",
    "    model.add(Dropout(dropout_rate))\n",
    "    model.add(Dense(1, kernel_initializer='normal'))\n",
    "    # Compile model\n",
    "    model.compile(loss='mean_squared_error', \n",
    "                  optimizer=optimizer)\n",
    "    return model"
   ]
  },
  {
   "cell_type": "code",
   "execution_count": 0,
   "metadata": {
    "colab": {},
    "colab_type": "code",
    "id": "vRGefZUetyFR"
   },
   "outputs": [],
   "source": [
    "model = KerasRegressor(build_fn=create_model, batch_size=1000, epochs=10,verbose = 1) "
   ]
  },
  {
   "cell_type": "code",
   "execution_count": 0,
   "metadata": {
    "colab": {},
    "colab_type": "code",
    "id": "AeNpKTJzt8iY"
   },
   "outputs": [],
   "source": [
    "#Parameter Space\n",
    "neurons = [3, 5]\n",
    "activation =  ['relu']\n",
    "optimizer = ['RMSprop', 'Adagrad', 'Adam']\n",
    "# grid search epochs, batch size\n",
    "epochs = [100] \n",
    "batch_size = [1000,2500,5000,50000]"
   ]
  },
  {
   "cell_type": "code",
   "execution_count": 0,
   "metadata": {
    "colab": {},
    "colab_type": "code",
    "id": "qXWA_AZVv-P4"
   },
   "outputs": [],
   "source": [
    "from sklearn.model_selection import GridSearchCV\n",
    "from sklearn.model_selection import RandomizedSearchCV"
   ]
  },
  {
   "cell_type": "code",
   "execution_count": 0,
   "metadata": {
    "colab": {},
    "colab_type": "code",
    "id": "MsfhT4B7uu0a"
   },
   "outputs": [],
   "source": [
    "param_grid = dict(epochs=epochs, batch_size=batch_size,activation = activation, optimizer = optimizer,neurons = neurons)\n",
    "grid = GridSearchCV(estimator=model, cv = 3, param_grid=param_grid, n_jobs= -1)"
   ]
  },
  {
   "cell_type": "code",
   "execution_count": 146,
   "metadata": {
    "colab": {
     "base_uri": "https://localhost:8080/",
     "height": 1000
    },
    "colab_type": "code",
    "id": "Kc5r9XpoyBTV",
    "outputId": "f9187fde-767e-4e19-9046-207cf6ff01f0"
   },
   "outputs": [
    {
     "name": "stdout",
     "output_type": "stream",
     "text": [
      "Epoch 1/100\n",
      "814204/814204 [==============================] - 2s 3us/step - loss: 0.7969\n",
      "Epoch 2/100\n",
      "814204/814204 [==============================] - 2s 2us/step - loss: 0.4898\n",
      "Epoch 3/100\n",
      "814204/814204 [==============================] - 2s 2us/step - loss: 0.4170\n",
      "Epoch 4/100\n",
      "814204/814204 [==============================] - 2s 2us/step - loss: 0.3716\n",
      "Epoch 5/100\n",
      "814204/814204 [==============================] - 2s 2us/step - loss: 0.3395\n",
      "Epoch 6/100\n",
      "814204/814204 [==============================] - 2s 2us/step - loss: 0.3176\n",
      "Epoch 7/100\n",
      "814204/814204 [==============================] - 2s 2us/step - loss: 0.3017\n",
      "Epoch 8/100\n",
      "814204/814204 [==============================] - 2s 2us/step - loss: 0.2896\n",
      "Epoch 9/100\n",
      "814204/814204 [==============================] - 2s 2us/step - loss: 0.2800\n",
      "Epoch 10/100\n",
      "814204/814204 [==============================] - 2s 2us/step - loss: 0.2725\n",
      "Epoch 11/100\n",
      "814204/814204 [==============================] - 2s 2us/step - loss: 0.2664\n",
      "Epoch 12/100\n",
      "814204/814204 [==============================] - 2s 2us/step - loss: 0.2616\n",
      "Epoch 13/100\n",
      "814204/814204 [==============================] - 2s 2us/step - loss: 0.2575\n",
      "Epoch 14/100\n",
      "814204/814204 [==============================] - 2s 2us/step - loss: 0.2540\n",
      "Epoch 15/100\n",
      "814204/814204 [==============================] - 2s 2us/step - loss: 0.2509\n",
      "Epoch 16/100\n",
      "814204/814204 [==============================] - 2s 2us/step - loss: 0.2482\n",
      "Epoch 17/100\n",
      "814204/814204 [==============================] - 2s 2us/step - loss: 0.2462\n",
      "Epoch 18/100\n",
      "814204/814204 [==============================] - 2s 2us/step - loss: 0.2446\n",
      "Epoch 19/100\n",
      "814204/814204 [==============================] - 2s 2us/step - loss: 0.2434\n",
      "Epoch 20/100\n",
      "814204/814204 [==============================] - 2s 2us/step - loss: 0.2424\n",
      "Epoch 21/100\n",
      "814204/814204 [==============================] - 2s 2us/step - loss: 0.2417\n",
      "Epoch 22/100\n",
      "814204/814204 [==============================] - 2s 2us/step - loss: 0.2410\n",
      "Epoch 23/100\n",
      "814204/814204 [==============================] - 2s 2us/step - loss: 0.2405\n",
      "Epoch 24/100\n",
      "814204/814204 [==============================] - 2s 2us/step - loss: 0.2401\n",
      "Epoch 25/100\n",
      "814204/814204 [==============================] - 2s 2us/step - loss: 0.2398\n",
      "Epoch 26/100\n",
      "814204/814204 [==============================] - 2s 2us/step - loss: 0.2394\n",
      "Epoch 27/100\n",
      "814204/814204 [==============================] - 2s 2us/step - loss: 0.2393\n",
      "Epoch 28/100\n",
      "814204/814204 [==============================] - 2s 2us/step - loss: 0.2390\n",
      "Epoch 29/100\n",
      "814204/814204 [==============================] - 2s 2us/step - loss: 0.2389\n",
      "Epoch 30/100\n",
      "814204/814204 [==============================] - 2s 2us/step - loss: 0.2387\n",
      "Epoch 31/100\n",
      "814204/814204 [==============================] - 2s 2us/step - loss: 0.2386\n",
      "Epoch 32/100\n",
      "814204/814204 [==============================] - 2s 2us/step - loss: 0.2385\n",
      "Epoch 33/100\n",
      "814204/814204 [==============================] - 2s 2us/step - loss: 0.2383\n",
      "Epoch 34/100\n",
      "814204/814204 [==============================] - 2s 2us/step - loss: 0.2383\n",
      "Epoch 35/100\n",
      "814204/814204 [==============================] - 2s 2us/step - loss: 0.2383\n",
      "Epoch 36/100\n",
      "814204/814204 [==============================] - 2s 2us/step - loss: 0.2381\n",
      "Epoch 37/100\n",
      "814204/814204 [==============================] - 2s 2us/step - loss: 0.2381\n",
      "Epoch 38/100\n",
      "814204/814204 [==============================] - 2s 2us/step - loss: 0.2381\n",
      "Epoch 39/100\n",
      "814204/814204 [==============================] - 2s 2us/step - loss: 0.2380\n",
      "Epoch 40/100\n",
      "814204/814204 [==============================] - 2s 2us/step - loss: 0.2380\n",
      "Epoch 41/100\n",
      "814204/814204 [==============================] - 2s 2us/step - loss: 0.2380\n",
      "Epoch 42/100\n",
      "814204/814204 [==============================] - 2s 2us/step - loss: 0.2379\n",
      "Epoch 43/100\n",
      "814204/814204 [==============================] - 2s 2us/step - loss: 0.2379\n",
      "Epoch 44/100\n",
      "814204/814204 [==============================] - 2s 2us/step - loss: 0.2379\n",
      "Epoch 45/100\n",
      "814204/814204 [==============================] - 2s 2us/step - loss: 0.2378\n",
      "Epoch 46/100\n",
      "814204/814204 [==============================] - 2s 2us/step - loss: 0.2378\n",
      "Epoch 47/100\n",
      "814204/814204 [==============================] - 2s 2us/step - loss: 0.2379\n",
      "Epoch 48/100\n",
      "814204/814204 [==============================] - 2s 2us/step - loss: 0.2378\n",
      "Epoch 49/100\n",
      "814204/814204 [==============================] - 2s 2us/step - loss: 0.2378\n",
      "Epoch 50/100\n",
      "814204/814204 [==============================] - 2s 2us/step - loss: 0.2378\n",
      "Epoch 51/100\n",
      "814204/814204 [==============================] - 2s 2us/step - loss: 0.2378\n",
      "Epoch 52/100\n",
      "814204/814204 [==============================] - 2s 2us/step - loss: 0.2377\n",
      "Epoch 53/100\n",
      "814204/814204 [==============================] - 2s 2us/step - loss: 0.2377\n",
      "Epoch 54/100\n",
      "814204/814204 [==============================] - 2s 2us/step - loss: 0.2377\n",
      "Epoch 55/100\n",
      "814204/814204 [==============================] - 2s 2us/step - loss: 0.2377\n",
      "Epoch 56/100\n",
      "814204/814204 [==============================] - 2s 2us/step - loss: 0.2377\n",
      "Epoch 57/100\n",
      "814204/814204 [==============================] - 2s 2us/step - loss: 0.2376\n",
      "Epoch 58/100\n",
      "814204/814204 [==============================] - 2s 2us/step - loss: 0.2376\n",
      "Epoch 59/100\n",
      "814204/814204 [==============================] - 2s 2us/step - loss: 0.2375\n",
      "Epoch 60/100\n",
      "814204/814204 [==============================] - 2s 2us/step - loss: 0.2375\n",
      "Epoch 61/100\n",
      "814204/814204 [==============================] - 2s 2us/step - loss: 0.2375\n",
      "Epoch 62/100\n",
      "814204/814204 [==============================] - 2s 2us/step - loss: 0.2374\n",
      "Epoch 63/100\n",
      "814204/814204 [==============================] - 1s 2us/step - loss: 0.2372\n",
      "Epoch 64/100\n",
      "814204/814204 [==============================] - 2s 2us/step - loss: 0.2372\n",
      "Epoch 65/100\n",
      "814204/814204 [==============================] - 2s 2us/step - loss: 0.2371\n",
      "Epoch 66/100\n",
      "814204/814204 [==============================] - 2s 2us/step - loss: 0.2369\n",
      "Epoch 67/100\n",
      "814204/814204 [==============================] - 2s 2us/step - loss: 0.2368\n",
      "Epoch 68/100\n",
      "814204/814204 [==============================] - 2s 2us/step - loss: 0.2367\n",
      "Epoch 69/100\n",
      "814204/814204 [==============================] - 2s 2us/step - loss: 0.2365\n",
      "Epoch 70/100\n",
      "814204/814204 [==============================] - 2s 2us/step - loss: 0.2364\n",
      "Epoch 71/100\n",
      "814204/814204 [==============================] - 2s 2us/step - loss: 0.2362\n",
      "Epoch 72/100\n",
      "814204/814204 [==============================] - 2s 2us/step - loss: 0.2360\n",
      "Epoch 73/100\n",
      "814204/814204 [==============================] - 2s 2us/step - loss: 0.2359\n",
      "Epoch 74/100\n",
      "814204/814204 [==============================] - 2s 2us/step - loss: 0.2358\n",
      "Epoch 75/100\n",
      "814204/814204 [==============================] - 2s 2us/step - loss: 0.2358\n",
      "Epoch 76/100\n",
      "814204/814204 [==============================] - 2s 2us/step - loss: 0.2357\n",
      "Epoch 77/100\n",
      "814204/814204 [==============================] - 2s 2us/step - loss: 0.2357\n",
      "Epoch 78/100\n",
      "814204/814204 [==============================] - 2s 2us/step - loss: 0.2356\n",
      "Epoch 79/100\n",
      "814204/814204 [==============================] - 2s 2us/step - loss: 0.2356\n",
      "Epoch 80/100\n",
      "814204/814204 [==============================] - 2s 2us/step - loss: 0.2356\n",
      "Epoch 81/100\n",
      "814204/814204 [==============================] - 2s 2us/step - loss: 0.2356\n",
      "Epoch 82/100\n",
      "814204/814204 [==============================] - 2s 2us/step - loss: 0.2355\n",
      "Epoch 83/100\n",
      "814204/814204 [==============================] - 2s 2us/step - loss: 0.2355\n",
      "Epoch 84/100\n",
      "814204/814204 [==============================] - 2s 2us/step - loss: 0.2355\n",
      "Epoch 85/100\n",
      "814204/814204 [==============================] - 2s 2us/step - loss: 0.2354\n",
      "Epoch 86/100\n",
      "814204/814204 [==============================] - 2s 2us/step - loss: 0.2354\n",
      "Epoch 87/100\n",
      "814204/814204 [==============================] - 2s 2us/step - loss: 0.2353\n",
      "Epoch 88/100\n",
      "814204/814204 [==============================] - 2s 2us/step - loss: 0.2353\n",
      "Epoch 89/100\n",
      "814204/814204 [==============================] - 2s 2us/step - loss: 0.2353\n",
      "Epoch 90/100\n",
      "814204/814204 [==============================] - 2s 2us/step - loss: 0.2353\n",
      "Epoch 91/100\n",
      "814204/814204 [==============================] - 2s 2us/step - loss: 0.2353\n",
      "Epoch 92/100\n",
      "814204/814204 [==============================] - 2s 2us/step - loss: 0.2352\n",
      "Epoch 93/100\n",
      "814204/814204 [==============================] - 2s 2us/step - loss: 0.2352\n",
      "Epoch 94/100\n",
      "814204/814204 [==============================] - 2s 2us/step - loss: 0.2351\n",
      "Epoch 95/100\n",
      "814204/814204 [==============================] - 2s 2us/step - loss: 0.2351\n",
      "Epoch 96/100\n",
      "814204/814204 [==============================] - 2s 2us/step - loss: 0.2351\n",
      "Epoch 97/100\n",
      "814204/814204 [==============================] - 2s 2us/step - loss: 0.2350\n",
      "Epoch 98/100\n",
      "814204/814204 [==============================] - 2s 2us/step - loss: 0.2350\n",
      "Epoch 99/100\n",
      "814204/814204 [==============================] - 2s 2us/step - loss: 0.2350\n",
      "Epoch 100/100\n",
      "814204/814204 [==============================] - 2s 2us/step - loss: 0.2350\n"
     ]
    }
   ],
   "source": [
    "with tf.device('/GPU:0'):\n",
    "  grid_search = grid.fit(X_train,y_train)"
   ]
  },
  {
   "cell_type": "code",
   "execution_count": 151,
   "metadata": {
    "colab": {
     "base_uri": "https://localhost:8080/",
     "height": 34
    },
    "colab_type": "code",
    "id": "pvjMyXabzEEp",
    "outputId": "f4edefe8-76a5-4443-978a-a80940c02fa9"
   },
   "outputs": [
    {
     "name": "stdout",
     "output_type": "stream",
     "text": [
      "30188/30188 [==============================] - 0s 1us/step\n"
     ]
    }
   ],
   "source": [
    "y_pred = grid_search.predict(X_test)"
   ]
  },
  {
   "cell_type": "code",
   "execution_count": 0,
   "metadata": {
    "colab": {},
    "colab_type": "code",
    "id": "76s2zuqw1av4"
   },
   "outputs": [],
   "source": [
    "y_pred = sc.inverse_transform(y_pred)"
   ]
  },
  {
   "cell_type": "code",
   "execution_count": 153,
   "metadata": {
    "colab": {
     "base_uri": "https://localhost:8080/",
     "height": 34
    },
    "colab_type": "code",
    "id": "3dgkyaO7AfTb",
    "outputId": "360578d4-5326-4fad-c730-806dbe2cec17"
   },
   "outputs": [
    {
     "data": {
      "text/plain": [
       "1515.1032325403005"
      ]
     },
     "execution_count": 153,
     "metadata": {
      "tags": []
     },
     "output_type": "execute_result"
    }
   ],
   "source": [
    "rmse = sqrt(mean_squared_error(y_pred,y_test))\n",
    "rmse"
   ]
  },
  {
   "cell_type": "code",
   "execution_count": 123,
   "metadata": {
    "colab": {
     "base_uri": "https://localhost:8080/",
     "height": 102
    },
    "colab_type": "code",
    "id": "XvzSVkfvE8qM",
    "outputId": "35aa1ba5-80bd-47bf-f7b3-9889f4868825"
   },
   "outputs": [
    {
     "data": {
      "text/plain": [
       "{'activation': 'relu',\n",
       " 'batch_size': 2500,\n",
       " 'epochs': 100,\n",
       " 'neurons': 3,\n",
       " 'optimizer': 'Adagrad'}"
      ]
     },
     "execution_count": 123,
     "metadata": {
      "tags": []
     },
     "output_type": "execute_result"
    }
   ],
   "source": [
    "grid_search.best_params_"
   ]
  },
  {
   "cell_type": "code",
   "execution_count": 0,
   "metadata": {
    "colab": {},
    "colab_type": "code",
    "id": "2uVTXpAZ9UOF"
   },
   "outputs": [],
   "source": [
    "model = KerasRegressor(build_fn=create_model, batch_size=1000, epochs=10,verbose = 1) "
   ]
  },
  {
   "cell_type": "code",
   "execution_count": 0,
   "metadata": {
    "colab": {},
    "colab_type": "code",
    "id": "c7E1iqZ2GFu7"
   },
   "outputs": [],
   "source": [
    "param_grid = dict(epochs=epochs, batch_size=batch_size, activation = activation, optimizer = optimizer, neurons = neurons)\n",
    "random_cv = RandomizedSearchCV(estimator = model, param_distributions = param_grid, n_iter = 4, cv = 2, verbose=1, random_state=11, n_jobs = 8)"
   ]
  },
  {
   "cell_type": "code",
   "execution_count": 107,
   "metadata": {
    "cellView": "both",
    "colab": {
     "base_uri": "https://localhost:8080/",
     "height": 1000
    },
    "colab_type": "code",
    "id": "bo8qXYgu_uQM",
    "outputId": "f0ce03b1-b33f-4be9-caef-70e01b21e192"
   },
   "outputs": [
    {
     "name": "stderr",
     "output_type": "stream",
     "text": [
      "/usr/local/lib/python3.6/dist-packages/sklearn/model_selection/_search.py:266: UserWarning: The total space of parameters 1 is smaller than n_iter=4. Running 1 iterations. For exhaustive searches, use GridSearchCV.\n",
      "  % (grid_size, self.n_iter, grid_size), UserWarning)\n",
      "[Parallel(n_jobs=8)]: Using backend LokyBackend with 8 concurrent workers.\n"
     ]
    },
    {
     "name": "stdout",
     "output_type": "stream",
     "text": [
      "Fitting 2 folds for each of 1 candidates, totalling 2 fits\n"
     ]
    },
    {
     "name": "stderr",
     "output_type": "stream",
     "text": [
      "[Parallel(n_jobs=8)]: Done   2 out of   2 | elapsed:   35.3s remaining:    0.0s\n",
      "[Parallel(n_jobs=8)]: Done   2 out of   2 | elapsed:   35.3s finished\n"
     ]
    },
    {
     "name": "stdout",
     "output_type": "stream",
     "text": [
      "Epoch 1/100\n",
      "814204/814204 [==============================] - 1s 1us/step - loss: 1.0000 - acc: 0.0000e+00\n",
      "Epoch 2/100\n",
      "814204/814204 [==============================] - 0s 0us/step - loss: 1.0000 - acc: 0.0000e+00\n",
      "Epoch 3/100\n",
      "814204/814204 [==============================] - 0s 0us/step - loss: 1.0000 - acc: 0.0000e+00\n",
      "Epoch 4/100\n",
      "814204/814204 [==============================] - 0s 0us/step - loss: 1.0000 - acc: 0.0000e+00\n",
      "Epoch 5/100\n",
      "814204/814204 [==============================] - 0s 0us/step - loss: 1.0000 - acc: 0.0000e+00\n",
      "Epoch 6/100\n",
      "814204/814204 [==============================] - 0s 0us/step - loss: 0.9999 - acc: 0.0000e+00\n",
      "Epoch 7/100\n",
      "814204/814204 [==============================] - 0s 0us/step - loss: 0.9999 - acc: 0.0000e+00\n",
      "Epoch 8/100\n",
      "814204/814204 [==============================] - 0s 0us/step - loss: 0.9999 - acc: 0.0000e+00\n",
      "Epoch 9/100\n",
      "814204/814204 [==============================] - 0s 0us/step - loss: 0.9998 - acc: 0.0000e+00\n",
      "Epoch 10/100\n",
      "814204/814204 [==============================] - 0s 0us/step - loss: 0.9997 - acc: 0.0000e+00\n",
      "Epoch 11/100\n",
      "814204/814204 [==============================] - 0s 0us/step - loss: 0.9995 - acc: 0.0000e+00\n",
      "Epoch 12/100\n",
      "814204/814204 [==============================] - 0s 0us/step - loss: 0.9993 - acc: 0.0000e+00\n",
      "Epoch 13/100\n",
      "814204/814204 [==============================] - 0s 0us/step - loss: 0.9990 - acc: 0.0000e+00\n",
      "Epoch 14/100\n",
      "814204/814204 [==============================] - 0s 0us/step - loss: 0.9987 - acc: 0.0000e+00\n",
      "Epoch 15/100\n",
      "814204/814204 [==============================] - 0s 0us/step - loss: 0.9982 - acc: 0.0000e+00\n",
      "Epoch 16/100\n",
      "814204/814204 [==============================] - 0s 0us/step - loss: 0.9975 - acc: 0.0000e+00\n",
      "Epoch 17/100\n",
      "814204/814204 [==============================] - 0s 0us/step - loss: 0.9966 - acc: 0.0000e+00\n",
      "Epoch 18/100\n",
      "814204/814204 [==============================] - 0s 0us/step - loss: 0.9955 - acc: 0.0000e+00\n",
      "Epoch 19/100\n",
      "814204/814204 [==============================] - 0s 0us/step - loss: 0.9942 - acc: 0.0000e+00\n",
      "Epoch 20/100\n",
      "814204/814204 [==============================] - 0s 0us/step - loss: 0.9924 - acc: 0.0000e+00\n",
      "Epoch 21/100\n",
      "814204/814204 [==============================] - 0s 0us/step - loss: 0.9903 - acc: 0.0000e+00\n",
      "Epoch 22/100\n",
      "814204/814204 [==============================] - 0s 0us/step - loss: 0.9877 - acc: 0.0000e+00\n",
      "Epoch 23/100\n",
      "814204/814204 [==============================] - 0s 0us/step - loss: 0.9845 - acc: 0.0000e+00\n",
      "Epoch 24/100\n",
      "814204/814204 [==============================] - 0s 0us/step - loss: 0.9807 - acc: 0.0000e+00\n",
      "Epoch 25/100\n",
      "814204/814204 [==============================] - 0s 0us/step - loss: 0.9763 - acc: 0.0000e+00\n",
      "Epoch 26/100\n",
      "814204/814204 [==============================] - 0s 0us/step - loss: 0.9711 - acc: 0.0000e+00\n",
      "Epoch 27/100\n",
      "814204/814204 [==============================] - 0s 0us/step - loss: 0.9650 - acc: 0.0000e+00\n",
      "Epoch 28/100\n",
      "814204/814204 [==============================] - 0s 0us/step - loss: 0.9581 - acc: 0.0000e+00\n",
      "Epoch 29/100\n",
      "814204/814204 [==============================] - 0s 0us/step - loss: 0.9502 - acc: 0.0000e+00\n",
      "Epoch 30/100\n",
      "814204/814204 [==============================] - 0s 0us/step - loss: 0.9413 - acc: 0.0000e+00\n",
      "Epoch 31/100\n",
      "814204/814204 [==============================] - 0s 0us/step - loss: 0.9313 - acc: 0.0000e+00\n",
      "Epoch 32/100\n",
      "814204/814204 [==============================] - 0s 0us/step - loss: 0.9202 - acc: 0.0000e+00\n",
      "Epoch 33/100\n",
      "814204/814204 [==============================] - 0s 0us/step - loss: 0.9079 - acc: 0.0000e+00\n",
      "Epoch 34/100\n",
      "814204/814204 [==============================] - 0s 0us/step - loss: 0.8945 - acc: 0.0000e+00\n",
      "Epoch 35/100\n",
      "814204/814204 [==============================] - 0s 0us/step - loss: 0.8798 - acc: 0.0000e+00\n",
      "Epoch 36/100\n",
      "814204/814204 [==============================] - 0s 0us/step - loss: 0.8639 - acc: 0.0000e+00\n",
      "Epoch 37/100\n",
      "814204/814204 [==============================] - 0s 0us/step - loss: 0.8468 - acc: 0.0000e+00\n",
      "Epoch 38/100\n",
      "814204/814204 [==============================] - 0s 0us/step - loss: 0.8285 - acc: 0.0000e+00\n",
      "Epoch 39/100\n",
      "814204/814204 [==============================] - 0s 0us/step - loss: 0.8090 - acc: 0.0000e+00\n",
      "Epoch 40/100\n",
      "814204/814204 [==============================] - 0s 0us/step - loss: 0.7884 - acc: 0.0000e+00\n",
      "Epoch 41/100\n",
      "814204/814204 [==============================] - 0s 0us/step - loss: 0.7667 - acc: 0.0000e+00\n",
      "Epoch 42/100\n",
      "814204/814204 [==============================] - 0s 0us/step - loss: 0.7441 - acc: 0.0000e+00\n",
      "Epoch 43/100\n",
      "814204/814204 [==============================] - 0s 0us/step - loss: 0.7206 - acc: 0.0000e+00\n",
      "Epoch 44/100\n",
      "814204/814204 [==============================] - 0s 0us/step - loss: 0.6963 - acc: 0.0000e+00\n",
      "Epoch 45/100\n",
      "814204/814204 [==============================] - 0s 0us/step - loss: 0.6715 - acc: 0.0000e+00\n",
      "Epoch 46/100\n",
      "814204/814204 [==============================] - 0s 0us/step - loss: 0.6464 - acc: 0.0000e+00\n",
      "Epoch 47/100\n",
      "814204/814204 [==============================] - 0s 0us/step - loss: 0.6211 - acc: 0.0000e+00\n",
      "Epoch 48/100\n",
      "814204/814204 [==============================] - 0s 0us/step - loss: 0.5959 - acc: 0.0000e+00\n",
      "Epoch 49/100\n",
      "814204/814204 [==============================] - 0s 0us/step - loss: 0.5710 - acc: 0.0000e+00\n",
      "Epoch 50/100\n",
      "814204/814204 [==============================] - 0s 0us/step - loss: 0.5468 - acc: 0.0000e+00\n",
      "Epoch 51/100\n",
      "814204/814204 [==============================] - 0s 0us/step - loss: 0.5235 - acc: 0.0000e+00\n",
      "Epoch 52/100\n",
      "814204/814204 [==============================] - 0s 0us/step - loss: 0.5013 - acc: 0.0000e+00\n",
      "Epoch 53/100\n",
      "814204/814204 [==============================] - 0s 0us/step - loss: 0.4805 - acc: 0.0000e+00\n",
      "Epoch 54/100\n",
      "814204/814204 [==============================] - 0s 0us/step - loss: 0.4613 - acc: 0.0000e+00\n",
      "Epoch 55/100\n",
      "814204/814204 [==============================] - 0s 0us/step - loss: 0.4438 - acc: 0.0000e+00\n",
      "Epoch 56/100\n",
      "814204/814204 [==============================] - 0s 0us/step - loss: 0.4282 - acc: 0.0000e+00\n",
      "Epoch 57/100\n",
      "814204/814204 [==============================] - 0s 0us/step - loss: 0.4144 - acc: 0.0000e+00\n",
      "Epoch 58/100\n",
      "814204/814204 [==============================] - 0s 0us/step - loss: 0.4025 - acc: 0.0000e+00\n",
      "Epoch 59/100\n",
      "814204/814204 [==============================] - 0s 0us/step - loss: 0.3922 - acc: 0.0000e+00\n",
      "Epoch 60/100\n",
      "814204/814204 [==============================] - 0s 0us/step - loss: 0.3834 - acc: 0.0000e+00\n",
      "Epoch 61/100\n",
      "814204/814204 [==============================] - 0s 0us/step - loss: 0.3761 - acc: 0.0000e+00\n",
      "Epoch 62/100\n",
      "814204/814204 [==============================] - 0s 0us/step - loss: 0.3700 - acc: 0.0000e+00\n",
      "Epoch 63/100\n",
      "814204/814204 [==============================] - 0s 0us/step - loss: 0.3648 - acc: 0.0000e+00\n",
      "Epoch 64/100\n",
      "814204/814204 [==============================] - 0s 0us/step - loss: 0.3603 - acc: 0.0000e+00\n",
      "Epoch 65/100\n",
      "814204/814204 [==============================] - 0s 0us/step - loss: 0.3565 - acc: 0.0000e+00\n",
      "Epoch 66/100\n",
      "814204/814204 [==============================] - 0s 0us/step - loss: 0.3531 - acc: 0.0000e+00\n",
      "Epoch 67/100\n",
      "814204/814204 [==============================] - 0s 0us/step - loss: 0.3501 - acc: 0.0000e+00\n",
      "Epoch 68/100\n",
      "814204/814204 [==============================] - 0s 0us/step - loss: 0.3473 - acc: 0.0000e+00\n",
      "Epoch 69/100\n",
      "814204/814204 [==============================] - 0s 0us/step - loss: 0.3446 - acc: 0.0000e+00\n",
      "Epoch 70/100\n",
      "814204/814204 [==============================] - 0s 0us/step - loss: 0.3422 - acc: 0.0000e+00\n",
      "Epoch 71/100\n",
      "814204/814204 [==============================] - 0s 0us/step - loss: 0.3398 - acc: 0.0000e+00\n",
      "Epoch 72/100\n",
      "814204/814204 [==============================] - 0s 0us/step - loss: 0.3375 - acc: 0.0000e+00\n",
      "Epoch 73/100\n",
      "814204/814204 [==============================] - 0s 0us/step - loss: 0.3354 - acc: 0.0000e+00\n",
      "Epoch 74/100\n",
      "814204/814204 [==============================] - 0s 0us/step - loss: 0.3333 - acc: 0.0000e+00\n",
      "Epoch 75/100\n",
      "814204/814204 [==============================] - 0s 0us/step - loss: 0.3312 - acc: 0.0000e+00\n",
      "Epoch 76/100\n",
      "814204/814204 [==============================] - 0s 0us/step - loss: 0.3292 - acc: 0.0000e+00\n",
      "Epoch 77/100\n",
      "814204/814204 [==============================] - 0s 0us/step - loss: 0.3273 - acc: 0.0000e+00\n",
      "Epoch 78/100\n",
      "814204/814204 [==============================] - 0s 0us/step - loss: 0.3255 - acc: 0.0000e+00\n",
      "Epoch 79/100\n",
      "814204/814204 [==============================] - 0s 0us/step - loss: 0.3237 - acc: 0.0000e+00\n",
      "Epoch 80/100\n",
      "814204/814204 [==============================] - 0s 0us/step - loss: 0.3219 - acc: 0.0000e+00\n",
      "Epoch 81/100\n",
      "814204/814204 [==============================] - 0s 0us/step - loss: 0.3203 - acc: 0.0000e+00\n",
      "Epoch 82/100\n",
      "814204/814204 [==============================] - 0s 0us/step - loss: 0.3186 - acc: 0.0000e+00\n",
      "Epoch 83/100\n",
      "814204/814204 [==============================] - 0s 0us/step - loss: 0.3170 - acc: 0.0000e+00\n",
      "Epoch 84/100\n",
      "814204/814204 [==============================] - 0s 0us/step - loss: 0.3155 - acc: 0.0000e+00\n",
      "Epoch 85/100\n",
      "814204/814204 [==============================] - 0s 0us/step - loss: 0.3140 - acc: 0.0000e+00\n",
      "Epoch 86/100\n",
      "814204/814204 [==============================] - 0s 0us/step - loss: 0.3126 - acc: 0.0000e+00\n",
      "Epoch 87/100\n",
      "814204/814204 [==============================] - 0s 0us/step - loss: 0.3112 - acc: 0.0000e+00\n",
      "Epoch 88/100\n",
      "814204/814204 [==============================] - 0s 0us/step - loss: 0.3098 - acc: 0.0000e+00\n",
      "Epoch 89/100\n",
      "814204/814204 [==============================] - 0s 0us/step - loss: 0.3085 - acc: 0.0000e+00\n",
      "Epoch 90/100\n",
      "814204/814204 [==============================] - 0s 0us/step - loss: 0.3072 - acc: 0.0000e+00\n",
      "Epoch 91/100\n",
      "814204/814204 [==============================] - 0s 0us/step - loss: 0.3059 - acc: 0.0000e+00\n",
      "Epoch 92/100\n",
      "814204/814204 [==============================] - 0s 0us/step - loss: 0.3047 - acc: 0.0000e+00\n",
      "Epoch 93/100\n",
      "814204/814204 [==============================] - 0s 0us/step - loss: 0.3035 - acc: 0.0000e+00\n",
      "Epoch 94/100\n",
      "814204/814204 [==============================] - 0s 0us/step - loss: 0.3023 - acc: 0.0000e+00\n",
      "Epoch 95/100\n",
      "814204/814204 [==============================] - 0s 0us/step - loss: 0.3011 - acc: 0.0000e+00\n",
      "Epoch 96/100\n",
      "814204/814204 [==============================] - 0s 0us/step - loss: 0.3000 - acc: 0.0000e+00\n",
      "Epoch 97/100\n",
      "814204/814204 [==============================] - 0s 0us/step - loss: 0.2989 - acc: 0.0000e+00\n",
      "Epoch 98/100\n",
      "814204/814204 [==============================] - 0s 0us/step - loss: 0.2979 - acc: 0.0000e+00\n",
      "Epoch 99/100\n",
      "814204/814204 [==============================] - 0s 0us/step - loss: 0.2969 - acc: 0.0000e+00\n",
      "Epoch 100/100\n",
      "814204/814204 [==============================] - 0s 0us/step - loss: 0.2959 - acc: 0.0000e+00\n"
     ]
    }
   ],
   "source": [
    "with tf.device('/GPU:0'):\n",
    "  random_cv.fit(X_train,y_train)"
   ]
  },
  {
   "cell_type": "code",
   "execution_count": 56,
   "metadata": {
    "colab": {
     "base_uri": "https://localhost:8080/",
     "height": 102
    },
    "colab_type": "code",
    "id": "1yrVjHvIGtC2",
    "outputId": "61e019ec-9e50-4919-a15a-5eca6b84e169"
   },
   "outputs": [
    {
     "data": {
      "text/plain": [
       "{'activation': 'relu',\n",
       " 'batch_size': 5000,\n",
       " 'epochs': 100,\n",
       " 'neurons': 5,\n",
       " 'optimizer': 'Adagrad'}"
      ]
     },
     "execution_count": 56,
     "metadata": {
      "tags": []
     },
     "output_type": "execute_result"
    }
   ],
   "source": [
    "random_cv.best_params_"
   ]
  },
  {
   "cell_type": "code",
   "execution_count": 57,
   "metadata": {
    "colab": {
     "base_uri": "https://localhost:8080/",
     "height": 34
    },
    "colab_type": "code",
    "id": "nLA5_E3yH2eB",
    "outputId": "bc745c60-2916-4804-8def-0493aee5f9ea"
   },
   "outputs": [
    {
     "name": "stdout",
     "output_type": "stream",
     "text": [
      "30188/30188 [==============================] - 0s 3us/step\n"
     ]
    }
   ],
   "source": [
    "y_pred = random_cv.predict(X_test)"
   ]
  },
  {
   "cell_type": "code",
   "execution_count": 0,
   "metadata": {
    "colab": {},
    "colab_type": "code",
    "id": "lvij67eaKvtH"
   },
   "outputs": [],
   "source": [
    "y_pred = sc.inverse_transform(y_pred)"
   ]
  },
  {
   "cell_type": "code",
   "execution_count": 59,
   "metadata": {
    "colab": {
     "base_uri": "https://localhost:8080/",
     "height": 34
    },
    "colab_type": "code",
    "id": "UDRAErgJJpYz",
    "outputId": "a1cc2bd8-c95c-4516-9f8f-d8a01b18b846"
   },
   "outputs": [
    {
     "data": {
      "text/plain": [
       "1622.2525457850575"
      ]
     },
     "execution_count": 59,
     "metadata": {
      "tags": []
     },
     "output_type": "execute_result"
    }
   ],
   "source": [
    "rmse = sqrt(mean_squared_error(y_pred,y_test))\n",
    "rmse"
   ]
  },
  {
   "cell_type": "markdown",
   "metadata": {
    "colab_type": "text",
    "id": "GmMx1YhML8Ck"
   },
   "source": [
    "### Here Grid Search and Randomized Search have been used. Parameter Space has been kept simple so that it does not take too long to train. When parameter space is large it takes hours to search for best parameters even on an average GPU. \n",
    "\n",
    "### Although Grid Search takes longer than Random Search , it performs better than the Random Search. Better Results can be achieved if parameter space is increased further. \n",
    "\n",
    "### Cross validation is built into Grid Search and Random Search and it can be set in the respective search's hyperparameters\n",
    "\n",
    "### **Grid Search : RMSE - 1515.1032**\n",
    "### **Best Parameters:**\n",
    "#### {'activation': 'relu',\n",
    "#### 'batch_size': 2500,\n",
    "#### 'epochs': 100,\n",
    "#### 'neurons': 3,\n",
    "#### 'optimizer': 'Adagrad'}\n",
    "\n",
    "### **Randomized Search : RMSE - 1622.25\n",
    "### **Best Parameters:**\n",
    "#### {'activation': 'relu',\n",
    "#### 'batch_size': 5000,\n",
    "#### 'epochs': 100,\n",
    "#### 'neurons': 5,\n",
    "#### 'optimizer': 'Adagrad'}\n",
    "\n",
    "### As Random Search had a less parameter space and had less chances to randomly choose from the parameters than grid search , hence it performed poorly. \n",
    "\n",
    "### Bayesian Search is a good alternative technique to above hyperparameter tuning techniques , it conserves computational cost & time as well as gives good search results."
   ]
  },
  {
   "cell_type": "code",
   "execution_count": 0,
   "metadata": {
    "colab": {},
    "colab_type": "code",
    "id": "NVLUHzWZbaVR"
   },
   "outputs": [],
   "source": []
  }
 ],
 "metadata": {
  "accelerator": "GPU",
  "colab": {
   "collapsed_sections": [],
   "name": "Week 4.ipynb",
   "provenance": []
  },
  "kernelspec": {
   "display_name": "Python 3",
   "language": "python",
   "name": "python3"
  },
  "language_info": {
   "codemirror_mode": {
    "name": "ipython",
    "version": 3
   },
   "file_extension": ".py",
   "mimetype": "text/x-python",
   "name": "python",
   "nbconvert_exporter": "python",
   "pygments_lexer": "ipython3",
   "version": "3.7.4"
  }
 },
 "nbformat": 4,
 "nbformat_minor": 1
}
